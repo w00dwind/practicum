{
 "cells": [
  {
   "cell_type": "markdown",
   "id": "c8c129a3",
   "metadata": {},
   "source": [
    "# Исследование надежности заемщиков."
   ]
  },
  {
   "cell_type": "markdown",
   "id": "41e2a7f3",
   "metadata": {},
   "source": [
    "### Цели исследования:\n",
    "- Обработать данные: найти и обработать аномалии, заменить пропуски, решить проблему с дубликатами\n",
    "- На основе очищенных данных сделать выводы о надежности различных категорий клиентов"
   ]
  },
  {
   "cell_type": "markdown",
   "id": "d41de5e2",
   "metadata": {},
   "source": [
    "### Шаг 1. Обзор данных"
   ]
  },
  {
   "cell_type": "code",
   "execution_count": 22,
   "id": "868af36a",
   "metadata": {
    "ExecuteTime": {
     "end_time": "2023-02-14T13:46:21.390278Z",
     "start_time": "2023-02-14T13:46:21.379189Z"
    }
   },
   "outputs": [],
   "source": [
    "import pandas as pd\n",
    "import matplotlib.pyplot as plt\n",
    "%matplotlib inline\n",
    "plt.rcParams['figure.figsize'] = [15, 8]\n",
    "import numpy as np\n",
    "\n",
    "import os"
   ]
  },
  {
   "cell_type": "code",
   "execution_count": 23,
   "id": "bedced84",
   "metadata": {
    "ExecuteTime": {
     "end_time": "2023-02-14T13:46:22.859633Z",
     "start_time": "2023-02-14T13:46:22.800087Z"
    }
   },
   "outputs": [
    {
     "name": "stdout",
     "output_type": "stream",
     "text": [
      "<class 'pandas.core.frame.DataFrame'>\n",
      "RangeIndex: 21525 entries, 0 to 21524\n",
      "Data columns (total 12 columns):\n",
      " #   Column            Non-Null Count  Dtype  \n",
      "---  ------            --------------  -----  \n",
      " 0   children          21525 non-null  int64  \n",
      " 1   days_employed     19351 non-null  float64\n",
      " 2   dob_years         21525 non-null  int64  \n",
      " 3   education         21525 non-null  object \n",
      " 4   education_id      21525 non-null  int64  \n",
      " 5   family_status     21525 non-null  object \n",
      " 6   family_status_id  21525 non-null  int64  \n",
      " 7   gender            21525 non-null  object \n",
      " 8   income_type       21525 non-null  object \n",
      " 9   debt              21525 non-null  int64  \n",
      " 10  total_income      19351 non-null  float64\n",
      " 11  purpose           21525 non-null  object \n",
      "dtypes: float64(2), int64(5), object(5)\n",
      "memory usage: 2.0+ MB\n"
     ]
    }
   ],
   "source": [
    "# чтение файла с данными и сохранение в df\n",
    "local_path = '../datasets/credit_scoring.csv'\n",
    "cloud_path = '/datasets/credit_scoring.csv'\n",
    "\n",
    "if os.path.exists(local_path):\n",
    "    df = pd.read_csv(local_path)\n",
    "elif os.path.exists(cloud_path):\n",
    "    df = pd_read_csv(cloud_path)\n",
    "else:\n",
    "    print('Something wrong with path.')\n",
    "\n",
    "\n",
    "df.info()"
   ]
  },
  {
   "cell_type": "code",
   "execution_count": 26,
   "id": "3d2f971a",
   "metadata": {
    "ExecuteTime": {
     "end_time": "2023-02-14T13:48:34.179836Z",
     "start_time": "2023-02-14T13:48:34.163808Z"
    }
   },
   "outputs": [
    {
     "data": {
      "text/plain": [
       "education            education_id\n",
       "среднее              1               13750\n",
       "высшее               0                4718\n",
       "СРЕДНЕЕ              1                 772\n",
       "Среднее              1                 711\n",
       "неоконченное высшее  2                 668\n",
       "ВЫСШЕЕ               0                 274\n",
       "Высшее               0                 268\n",
       "начальное            3                 250\n",
       "Неоконченное высшее  2                  47\n",
       "НЕОКОНЧЕННОЕ ВЫСШЕЕ  2                  29\n",
       "НАЧАЛЬНОЕ            3                  17\n",
       "Начальное            3                  15\n",
       "ученая степень       4                   4\n",
       "УЧЕНАЯ СТЕПЕНЬ       4                   1\n",
       "Ученая степень       4                   1\n",
       "dtype: int64"
      ]
     },
     "execution_count": 26,
     "metadata": {},
     "output_type": "execute_result"
    }
   ],
   "source": [
    "df[['education', 'education_id']].value_counts()"
   ]
  },
  {
   "cell_type": "code",
   "execution_count": 3,
   "id": "7f30c3bc",
   "metadata": {
    "ExecuteTime": {
     "end_time": "2023-02-14T09:42:02.313761Z",
     "start_time": "2023-02-14T09:42:02.306877Z"
    }
   },
   "outputs": [
    {
     "data": {
      "text/html": [
       "<div>\n",
       "<style scoped>\n",
       "    .dataframe tbody tr th:only-of-type {\n",
       "        vertical-align: middle;\n",
       "    }\n",
       "\n",
       "    .dataframe tbody tr th {\n",
       "        vertical-align: top;\n",
       "    }\n",
       "\n",
       "    .dataframe thead th {\n",
       "        text-align: right;\n",
       "    }\n",
       "</style>\n",
       "<table border=\"1\" class=\"dataframe\">\n",
       "  <thead>\n",
       "    <tr style=\"text-align: right;\">\n",
       "      <th></th>\n",
       "      <th>children</th>\n",
       "      <th>days_employed</th>\n",
       "      <th>dob_years</th>\n",
       "      <th>education</th>\n",
       "      <th>education_id</th>\n",
       "      <th>family_status</th>\n",
       "      <th>family_status_id</th>\n",
       "      <th>gender</th>\n",
       "      <th>income_type</th>\n",
       "      <th>debt</th>\n",
       "      <th>total_income</th>\n",
       "      <th>purpose</th>\n",
       "    </tr>\n",
       "  </thead>\n",
       "  <tbody>\n",
       "    <tr>\n",
       "      <th>0</th>\n",
       "      <td>1</td>\n",
       "      <td>-8437.673028</td>\n",
       "      <td>42</td>\n",
       "      <td>высшее</td>\n",
       "      <td>0</td>\n",
       "      <td>женат / замужем</td>\n",
       "      <td>0</td>\n",
       "      <td>F</td>\n",
       "      <td>сотрудник</td>\n",
       "      <td>0</td>\n",
       "      <td>253875.639453</td>\n",
       "      <td>покупка жилья</td>\n",
       "    </tr>\n",
       "    <tr>\n",
       "      <th>1</th>\n",
       "      <td>1</td>\n",
       "      <td>-4024.803754</td>\n",
       "      <td>36</td>\n",
       "      <td>среднее</td>\n",
       "      <td>1</td>\n",
       "      <td>женат / замужем</td>\n",
       "      <td>0</td>\n",
       "      <td>F</td>\n",
       "      <td>сотрудник</td>\n",
       "      <td>0</td>\n",
       "      <td>112080.014102</td>\n",
       "      <td>приобретение автомобиля</td>\n",
       "    </tr>\n",
       "    <tr>\n",
       "      <th>2</th>\n",
       "      <td>0</td>\n",
       "      <td>-5623.422610</td>\n",
       "      <td>33</td>\n",
       "      <td>Среднее</td>\n",
       "      <td>1</td>\n",
       "      <td>женат / замужем</td>\n",
       "      <td>0</td>\n",
       "      <td>M</td>\n",
       "      <td>сотрудник</td>\n",
       "      <td>0</td>\n",
       "      <td>145885.952297</td>\n",
       "      <td>покупка жилья</td>\n",
       "    </tr>\n",
       "    <tr>\n",
       "      <th>3</th>\n",
       "      <td>3</td>\n",
       "      <td>-4124.747207</td>\n",
       "      <td>32</td>\n",
       "      <td>среднее</td>\n",
       "      <td>1</td>\n",
       "      <td>женат / замужем</td>\n",
       "      <td>0</td>\n",
       "      <td>M</td>\n",
       "      <td>сотрудник</td>\n",
       "      <td>0</td>\n",
       "      <td>267628.550329</td>\n",
       "      <td>дополнительное образование</td>\n",
       "    </tr>\n",
       "    <tr>\n",
       "      <th>4</th>\n",
       "      <td>0</td>\n",
       "      <td>340266.072047</td>\n",
       "      <td>53</td>\n",
       "      <td>среднее</td>\n",
       "      <td>1</td>\n",
       "      <td>гражданский брак</td>\n",
       "      <td>1</td>\n",
       "      <td>F</td>\n",
       "      <td>пенсионер</td>\n",
       "      <td>0</td>\n",
       "      <td>158616.077870</td>\n",
       "      <td>сыграть свадьбу</td>\n",
       "    </tr>\n",
       "  </tbody>\n",
       "</table>\n",
       "</div>"
      ],
      "text/plain": [
       "   children  days_employed  dob_years education  education_id  \\\n",
       "0         1   -8437.673028         42    высшее             0   \n",
       "1         1   -4024.803754         36   среднее             1   \n",
       "2         0   -5623.422610         33   Среднее             1   \n",
       "3         3   -4124.747207         32   среднее             1   \n",
       "4         0  340266.072047         53   среднее             1   \n",
       "\n",
       "      family_status  family_status_id gender income_type  debt   total_income  \\\n",
       "0   женат / замужем                 0      F   сотрудник     0  253875.639453   \n",
       "1   женат / замужем                 0      F   сотрудник     0  112080.014102   \n",
       "2   женат / замужем                 0      M   сотрудник     0  145885.952297   \n",
       "3   женат / замужем                 0      M   сотрудник     0  267628.550329   \n",
       "4  гражданский брак                 1      F   пенсионер     0  158616.077870   \n",
       "\n",
       "                      purpose  \n",
       "0               покупка жилья  \n",
       "1     приобретение автомобиля  \n",
       "2               покупка жилья  \n",
       "3  дополнительное образование  \n",
       "4             сыграть свадьбу  "
      ]
     },
     "execution_count": 3,
     "metadata": {},
     "output_type": "execute_result"
    }
   ],
   "source": [
    "# Смотрим на данные\n",
    "df.head()"
   ]
  },
  {
   "cell_type": "code",
   "execution_count": 4,
   "id": "141f1b6e",
   "metadata": {
    "ExecuteTime": {
     "end_time": "2023-02-14T09:42:02.319336Z",
     "start_time": "2023-02-14T09:42:02.315584Z"
    }
   },
   "outputs": [
    {
     "data": {
      "text/plain": [
       "income_type\n",
       "безработный        131339.751676\n",
       "в декрете           53829.130729\n",
       "госслужащий        170898.309923\n",
       "компаньон          202417.461462\n",
       "пенсионер          137127.465690\n",
       "предприниматель    499163.144947\n",
       "сотрудник          161380.260488\n",
       "студент             98201.625314\n",
       "Name: total_income, dtype: float64"
      ]
     },
     "execution_count": 4,
     "metadata": {},
     "output_type": "execute_result"
    }
   ],
   "source": [
    "# Средний доход по категории занятости\n",
    "\n",
    "df.groupby('income_type')['total_income'].mean()"
   ]
  },
  {
   "cell_type": "code",
   "execution_count": 5,
   "id": "813a06ca",
   "metadata": {
    "ExecuteTime": {
     "end_time": "2023-02-14T09:42:02.322199Z",
     "start_time": "2023-02-14T09:42:02.320160Z"
    }
   },
   "outputs": [
    {
     "data": {
      "text/plain": [
       "(21525, 12)"
      ]
     },
     "execution_count": 5,
     "metadata": {},
     "output_type": "execute_result"
    }
   ],
   "source": [
    "df.shape"
   ]
  },
  {
   "cell_type": "markdown",
   "id": "28a75aa1",
   "metadata": {},
   "source": [
    "### Шаг 2.1 Заполнение пропусков"
   ]
  },
  {
   "cell_type": "code",
   "execution_count": 6,
   "id": "6b8478a7",
   "metadata": {
    "ExecuteTime": {
     "end_time": "2023-02-14T09:42:02.332532Z",
     "start_time": "2023-02-14T09:42:02.322972Z"
    }
   },
   "outputs": [
    {
     "data": {
      "text/plain": [
       "days_employed    2174\n",
       "total_income     2174\n",
       "dtype: int64"
      ]
     },
     "execution_count": 6,
     "metadata": {},
     "output_type": "execute_result"
    }
   ],
   "source": [
    "# Посмотрим на кол-во пропущенных значений\n",
    "\n",
    "df.isna().sum().loc[lambda x: x > 0]"
   ]
  },
  {
   "cell_type": "markdown",
   "id": "bb959e62",
   "metadata": {},
   "source": [
    "Мы видим, что пропущенные данные действительно есть - в двух столбцах:\n",
    "\n",
    "1. `days_employed — общий трудовой стаж в днях`\n",
    "\n",
    "2. `total_income — ежемесячный доход`\n",
    "\n",
    "Посмотрим на строки, содержащие пропуски:"
   ]
  },
  {
   "cell_type": "code",
   "execution_count": 7,
   "id": "3f342fca",
   "metadata": {
    "ExecuteTime": {
     "end_time": "2023-02-14T09:42:02.339794Z",
     "start_time": "2023-02-14T09:42:02.333475Z"
    },
    "scrolled": true
   },
   "outputs": [
    {
     "data": {
      "text/html": [
       "<div>\n",
       "<style scoped>\n",
       "    .dataframe tbody tr th:only-of-type {\n",
       "        vertical-align: middle;\n",
       "    }\n",
       "\n",
       "    .dataframe tbody tr th {\n",
       "        vertical-align: top;\n",
       "    }\n",
       "\n",
       "    .dataframe thead th {\n",
       "        text-align: right;\n",
       "    }\n",
       "</style>\n",
       "<table border=\"1\" class=\"dataframe\">\n",
       "  <thead>\n",
       "    <tr style=\"text-align: right;\">\n",
       "      <th></th>\n",
       "      <th>children</th>\n",
       "      <th>days_employed</th>\n",
       "      <th>dob_years</th>\n",
       "      <th>education</th>\n",
       "      <th>education_id</th>\n",
       "      <th>family_status</th>\n",
       "      <th>family_status_id</th>\n",
       "      <th>gender</th>\n",
       "      <th>income_type</th>\n",
       "      <th>debt</th>\n",
       "      <th>total_income</th>\n",
       "      <th>purpose</th>\n",
       "    </tr>\n",
       "  </thead>\n",
       "  <tbody>\n",
       "    <tr>\n",
       "      <th>14489</th>\n",
       "      <td>1</td>\n",
       "      <td>NaN</td>\n",
       "      <td>35</td>\n",
       "      <td>высшее</td>\n",
       "      <td>0</td>\n",
       "      <td>женат / замужем</td>\n",
       "      <td>0</td>\n",
       "      <td>F</td>\n",
       "      <td>компаньон</td>\n",
       "      <td>0</td>\n",
       "      <td>NaN</td>\n",
       "      <td>получение образования</td>\n",
       "    </tr>\n",
       "    <tr>\n",
       "      <th>12480</th>\n",
       "      <td>1</td>\n",
       "      <td>NaN</td>\n",
       "      <td>28</td>\n",
       "      <td>неоконченное высшее</td>\n",
       "      <td>2</td>\n",
       "      <td>женат / замужем</td>\n",
       "      <td>0</td>\n",
       "      <td>F</td>\n",
       "      <td>компаньон</td>\n",
       "      <td>0</td>\n",
       "      <td>NaN</td>\n",
       "      <td>ремонт жилью</td>\n",
       "    </tr>\n",
       "    <tr>\n",
       "      <th>8011</th>\n",
       "      <td>0</td>\n",
       "      <td>NaN</td>\n",
       "      <td>48</td>\n",
       "      <td>среднее</td>\n",
       "      <td>1</td>\n",
       "      <td>женат / замужем</td>\n",
       "      <td>0</td>\n",
       "      <td>M</td>\n",
       "      <td>пенсионер</td>\n",
       "      <td>0</td>\n",
       "      <td>NaN</td>\n",
       "      <td>покупка жилой недвижимости</td>\n",
       "    </tr>\n",
       "    <tr>\n",
       "      <th>9884</th>\n",
       "      <td>0</td>\n",
       "      <td>NaN</td>\n",
       "      <td>55</td>\n",
       "      <td>среднее</td>\n",
       "      <td>1</td>\n",
       "      <td>гражданский брак</td>\n",
       "      <td>1</td>\n",
       "      <td>F</td>\n",
       "      <td>пенсионер</td>\n",
       "      <td>1</td>\n",
       "      <td>NaN</td>\n",
       "      <td>на проведение свадьбы</td>\n",
       "    </tr>\n",
       "    <tr>\n",
       "      <th>15037</th>\n",
       "      <td>1</td>\n",
       "      <td>NaN</td>\n",
       "      <td>40</td>\n",
       "      <td>среднее</td>\n",
       "      <td>1</td>\n",
       "      <td>женат / замужем</td>\n",
       "      <td>0</td>\n",
       "      <td>M</td>\n",
       "      <td>компаньон</td>\n",
       "      <td>0</td>\n",
       "      <td>NaN</td>\n",
       "      <td>строительство собственной недвижимости</td>\n",
       "    </tr>\n",
       "  </tbody>\n",
       "</table>\n",
       "</div>"
      ],
      "text/plain": [
       "       children  days_employed  dob_years            education  education_id  \\\n",
       "14489         1            NaN         35               высшее             0   \n",
       "12480         1            NaN         28  неоконченное высшее             2   \n",
       "8011          0            NaN         48              среднее             1   \n",
       "9884          0            NaN         55              среднее             1   \n",
       "15037         1            NaN         40              среднее             1   \n",
       "\n",
       "          family_status  family_status_id gender income_type  debt  \\\n",
       "14489   женат / замужем                 0      F   компаньон     0   \n",
       "12480   женат / замужем                 0      F   компаньон     0   \n",
       "8011    женат / замужем                 0      M   пенсионер     0   \n",
       "9884   гражданский брак                 1      F   пенсионер     1   \n",
       "15037   женат / замужем                 0      M   компаньон     0   \n",
       "\n",
       "       total_income                                 purpose  \n",
       "14489           NaN                   получение образования  \n",
       "12480           NaN                            ремонт жилью  \n",
       "8011            NaN              покупка жилой недвижимости  \n",
       "9884            NaN                   на проведение свадьбы  \n",
       "15037           NaN  строительство собственной недвижимости  "
      ]
     },
     "execution_count": 7,
     "metadata": {},
     "output_type": "execute_result"
    }
   ],
   "source": [
    "# опишите, какие пропущенные значения вы обнаружили;\n",
    "\n",
    "df[df['days_employed'].isna()].sample(5) # берем  sample, для более репрезентативной выборки"
   ]
  },
  {
   "cell_type": "markdown",
   "id": "7989a14d",
   "metadata": {},
   "source": [
    "**Видим, что пустые значения пересекаются в обеих колонках**\n",
    "\n",
    "**Можно выдвинуть гипотезу, что пропуски в days_employed означают отсутвие опыта, тогда пустой total_income выглядит более логично. Проверим это**\n",
    "\n"
   ]
  },
  {
   "cell_type": "code",
   "execution_count": 8,
   "id": "bf661463",
   "metadata": {
    "ExecuteTime": {
     "end_time": "2023-02-14T09:42:02.343877Z",
     "start_time": "2023-02-14T09:42:02.340566Z"
    }
   },
   "outputs": [
    {
     "name": "stdout",
     "output_type": "stream",
     "text": [
      "Доля пропущенных значений в столбце \"стаж в днях\":       10.10%\n",
      "Доля пропущенных значений в столбце \"общий доход\":       10.10%\n"
     ]
    }
   ],
   "source": [
    "# проверьте, какую долю составляют пропущенные значения в каждом из столбцов с пропусками;\n",
    "\n",
    "print(f\"Доля пропущенных значений в столбце \\\"стаж в днях\\\": \\\n",
    "      {df['days_employed'].isna().value_counts(normalize=True)[1]:.2%}\")\n",
    "\n",
    "print(f\"Доля пропущенных значений в столбце \\\"общий доход\\\": \\\n",
    "      {df['total_income'].isna().value_counts(normalize=True)[1]:.2%}\")\n",
    "\n",
    "\n",
    "#Альтернативный метод подсчета\n",
    "# display(df['days_employed'].isna().sum() / df.shape[0] * 100)\n",
    "# df['days_employed'].isna().sum() / df.shape[0] * 100\n"
   ]
  },
  {
   "cell_type": "code",
   "execution_count": 9,
   "id": "fb285f96",
   "metadata": {
    "ExecuteTime": {
     "end_time": "2023-02-14T09:42:02.350245Z",
     "start_time": "2023-02-14T09:42:02.344553Z"
    }
   },
   "outputs": [
    {
     "data": {
      "text/html": [
       "<div>\n",
       "<style scoped>\n",
       "    .dataframe tbody tr th:only-of-type {\n",
       "        vertical-align: middle;\n",
       "    }\n",
       "\n",
       "    .dataframe tbody tr th {\n",
       "        vertical-align: top;\n",
       "    }\n",
       "\n",
       "    .dataframe thead tr th {\n",
       "        text-align: left;\n",
       "    }\n",
       "\n",
       "    .dataframe thead tr:last-of-type th {\n",
       "        text-align: right;\n",
       "    }\n",
       "</style>\n",
       "<table border=\"1\" class=\"dataframe\">\n",
       "  <thead>\n",
       "    <tr>\n",
       "      <th></th>\n",
       "      <th>income_type</th>\n",
       "    </tr>\n",
       "    <tr>\n",
       "      <th></th>\n",
       "      <th>count</th>\n",
       "    </tr>\n",
       "    <tr>\n",
       "      <th>income_type</th>\n",
       "      <th></th>\n",
       "    </tr>\n",
       "  </thead>\n",
       "  <tbody>\n",
       "    <tr>\n",
       "      <th>сотрудник</th>\n",
       "      <td>1105</td>\n",
       "    </tr>\n",
       "    <tr>\n",
       "      <th>компаньон</th>\n",
       "      <td>508</td>\n",
       "    </tr>\n",
       "    <tr>\n",
       "      <th>пенсионер</th>\n",
       "      <td>413</td>\n",
       "    </tr>\n",
       "    <tr>\n",
       "      <th>госслужащий</th>\n",
       "      <td>147</td>\n",
       "    </tr>\n",
       "    <tr>\n",
       "      <th>предприниматель</th>\n",
       "      <td>1</td>\n",
       "    </tr>\n",
       "  </tbody>\n",
       "</table>\n",
       "</div>"
      ],
      "text/plain": [
       "                income_type\n",
       "                      count\n",
       "income_type                \n",
       "сотрудник              1105\n",
       "компаньон               508\n",
       "пенсионер               413\n",
       "госслужащий             147\n",
       "предприниматель           1"
      ]
     },
     "execution_count": 9,
     "metadata": {},
     "output_type": "execute_result"
    }
   ],
   "source": [
    "df[df['days_employed'].isna()].groupby('income_type').agg({'income_type':['count']}).apply(lambda x: x.sort_values(ascending=False))"
   ]
  },
  {
   "cell_type": "markdown",
   "id": "367b643e",
   "metadata": {},
   "source": [
    "**Мы видим, что среди людей с незаполненным стажем много сотрудников, что логически противоречит друг другу. Поскольку мы работаем с данными банка, можем лишь предположить, что `сотрудники` без опыта и без дохода, это люди, которые не могут документально подтвердить свою занятость и доход**  \n",
    "\n",
    "**Что касается других категорий, самой странной категорией (в рамках гипотезы) кажется  `госслужащие`. У этих достопочтенных господ не должно быть проблем с подтверждением официального дохода и уж тем более стажа.**\n",
    "\n",
    "**Вывод: Гипотеза остаётся гипотезой, и, во всяком случае пока, не влияет на дальнейший ход исследований**"
   ]
  },
  {
   "cell_type": "markdown",
   "id": "62ad7ae7",
   "metadata": {},
   "source": [
    "**Медиана в данном случае лучше, т.к. устойчива к выбросам в данных, поэтому она, в отличие от среднего, не исказит наши выводы**"
   ]
  },
  {
   "cell_type": "code",
   "execution_count": 10,
   "id": "26cdf3ef",
   "metadata": {
    "ExecuteTime": {
     "end_time": "2023-02-14T09:42:02.363639Z",
     "start_time": "2023-02-14T09:42:02.352241Z"
    }
   },
   "outputs": [
    {
     "name": "stdout",
     "output_type": "stream",
     "text": [
      "Total nans in data : 0\n"
     ]
    }
   ],
   "source": [
    "df['days_employed'].fillna(df['days_employed'].median(), inplace=True)\n",
    "df['total_income'].fillna(df['total_income'].median(), inplace=True)\n",
    "\n",
    "total_nans = df.isna().sum().sum()\n",
    "print(f\"Total nans in data : {total_nans}\")"
   ]
  },
  {
   "cell_type": "markdown",
   "id": "34e7006e",
   "metadata": {},
   "source": [
    "### Шаг 2.2 Проверка данных на аномалии и исправления."
   ]
  },
  {
   "cell_type": "code",
   "execution_count": 11,
   "id": "d68cb4b5",
   "metadata": {
    "ExecuteTime": {
     "end_time": "2023-02-14T09:42:02.376690Z",
     "start_time": "2023-02-14T09:42:02.364368Z"
    }
   },
   "outputs": [
    {
     "data": {
      "text/html": [
       "<div>\n",
       "<style scoped>\n",
       "    .dataframe tbody tr th:only-of-type {\n",
       "        vertical-align: middle;\n",
       "    }\n",
       "\n",
       "    .dataframe tbody tr th {\n",
       "        vertical-align: top;\n",
       "    }\n",
       "\n",
       "    .dataframe thead th {\n",
       "        text-align: right;\n",
       "    }\n",
       "</style>\n",
       "<table border=\"1\" class=\"dataframe\">\n",
       "  <thead>\n",
       "    <tr style=\"text-align: right;\">\n",
       "      <th></th>\n",
       "      <th>children</th>\n",
       "      <th>days_employed</th>\n",
       "      <th>dob_years</th>\n",
       "      <th>education_id</th>\n",
       "      <th>family_status_id</th>\n",
       "      <th>debt</th>\n",
       "      <th>total_income</th>\n",
       "    </tr>\n",
       "  </thead>\n",
       "  <tbody>\n",
       "    <tr>\n",
       "      <th>count</th>\n",
       "      <td>21525.000000</td>\n",
       "      <td>21525.000000</td>\n",
       "      <td>21525.000000</td>\n",
       "      <td>21525.000000</td>\n",
       "      <td>21525.000000</td>\n",
       "      <td>21525.000000</td>\n",
       "      <td>2.152500e+04</td>\n",
       "    </tr>\n",
       "    <tr>\n",
       "      <th>mean</th>\n",
       "      <td>0.538908</td>\n",
       "      <td>56557.335698</td>\n",
       "      <td>43.293380</td>\n",
       "      <td>0.817236</td>\n",
       "      <td>0.972544</td>\n",
       "      <td>0.080883</td>\n",
       "      <td>1.651595e+05</td>\n",
       "    </tr>\n",
       "    <tr>\n",
       "      <th>std</th>\n",
       "      <td>1.381587</td>\n",
       "      <td>134922.319298</td>\n",
       "      <td>12.574584</td>\n",
       "      <td>0.548138</td>\n",
       "      <td>1.420324</td>\n",
       "      <td>0.272661</td>\n",
       "      <td>9.786607e+04</td>\n",
       "    </tr>\n",
       "    <tr>\n",
       "      <th>min</th>\n",
       "      <td>-1.000000</td>\n",
       "      <td>-18388.949901</td>\n",
       "      <td>0.000000</td>\n",
       "      <td>0.000000</td>\n",
       "      <td>0.000000</td>\n",
       "      <td>0.000000</td>\n",
       "      <td>2.066726e+04</td>\n",
       "    </tr>\n",
       "    <tr>\n",
       "      <th>25%</th>\n",
       "      <td>0.000000</td>\n",
       "      <td>-2518.168900</td>\n",
       "      <td>33.000000</td>\n",
       "      <td>1.000000</td>\n",
       "      <td>0.000000</td>\n",
       "      <td>0.000000</td>\n",
       "      <td>1.077982e+05</td>\n",
       "    </tr>\n",
       "    <tr>\n",
       "      <th>50%</th>\n",
       "      <td>0.000000</td>\n",
       "      <td>-1203.369529</td>\n",
       "      <td>42.000000</td>\n",
       "      <td>1.000000</td>\n",
       "      <td>0.000000</td>\n",
       "      <td>0.000000</td>\n",
       "      <td>1.450179e+05</td>\n",
       "    </tr>\n",
       "    <tr>\n",
       "      <th>75%</th>\n",
       "      <td>1.000000</td>\n",
       "      <td>-385.106616</td>\n",
       "      <td>53.000000</td>\n",
       "      <td>1.000000</td>\n",
       "      <td>1.000000</td>\n",
       "      <td>0.000000</td>\n",
       "      <td>1.955436e+05</td>\n",
       "    </tr>\n",
       "    <tr>\n",
       "      <th>max</th>\n",
       "      <td>20.000000</td>\n",
       "      <td>401755.400475</td>\n",
       "      <td>75.000000</td>\n",
       "      <td>4.000000</td>\n",
       "      <td>4.000000</td>\n",
       "      <td>1.000000</td>\n",
       "      <td>2.265604e+06</td>\n",
       "    </tr>\n",
       "  </tbody>\n",
       "</table>\n",
       "</div>"
      ],
      "text/plain": [
       "           children  days_employed     dob_years  education_id  \\\n",
       "count  21525.000000   21525.000000  21525.000000  21525.000000   \n",
       "mean       0.538908   56557.335698     43.293380      0.817236   \n",
       "std        1.381587  134922.319298     12.574584      0.548138   \n",
       "min       -1.000000  -18388.949901      0.000000      0.000000   \n",
       "25%        0.000000   -2518.168900     33.000000      1.000000   \n",
       "50%        0.000000   -1203.369529     42.000000      1.000000   \n",
       "75%        1.000000    -385.106616     53.000000      1.000000   \n",
       "max       20.000000  401755.400475     75.000000      4.000000   \n",
       "\n",
       "       family_status_id          debt  total_income  \n",
       "count      21525.000000  21525.000000  2.152500e+04  \n",
       "mean           0.972544      0.080883  1.651595e+05  \n",
       "std            1.420324      0.272661  9.786607e+04  \n",
       "min            0.000000      0.000000  2.066726e+04  \n",
       "25%            0.000000      0.000000  1.077982e+05  \n",
       "50%            0.000000      0.000000  1.450179e+05  \n",
       "75%            1.000000      0.000000  1.955436e+05  \n",
       "max            4.000000      1.000000  2.265604e+06  "
      ]
     },
     "execution_count": 11,
     "metadata": {},
     "output_type": "execute_result"
    }
   ],
   "source": [
    "# Посмотрим ключевые статистики по всем столбцам\n",
    "df.describe()"
   ]
  },
  {
   "cell_type": "markdown",
   "id": "190213f0",
   "metadata": {},
   "source": [
    "**Видим, что минимальное значение признаков `days employed` и `children` - отрицательные. Это странно, т.к. задолжать детей и стаж - не так легко, как может показаться. Так же есть клиенты с 20 детьми, это довольно много.\n",
    "Давайте взглянём на аномалии подронее**\n"
   ]
  },
  {
   "cell_type": "code",
   "execution_count": 12,
   "id": "4d3a8d91",
   "metadata": {
    "ExecuteTime": {
     "end_time": "2023-02-14T09:42:02.384159Z",
     "start_time": "2023-02-14T09:42:02.378925Z"
    }
   },
   "outputs": [
    {
     "data": {
      "text/plain": [
       " 0     14149\n",
       " 1      4818\n",
       " 2      2055\n",
       " 3       330\n",
       " 20       76\n",
       "-1        47\n",
       " 4        41\n",
       " 5         9\n",
       "Name: children, dtype: int64"
      ]
     },
     "execution_count": 12,
     "metadata": {},
     "output_type": "execute_result"
    }
   ],
   "source": [
    "df['children'].value_counts()"
   ]
  },
  {
   "cell_type": "markdown",
   "id": "90a7aaf1",
   "metadata": {},
   "source": [
    "**76 семей с 20 детьми - в реальности маловероятно. Давайте сложим аномальные значения(отрицательные дети и 20 детей) и посчитаем их долю**"
   ]
  },
  {
   "cell_type": "code",
   "execution_count": 13,
   "id": "b64a3c6a",
   "metadata": {
    "ExecuteTime": {
     "end_time": "2023-02-14T09:42:02.387533Z",
     "start_time": "2023-02-14T09:42:02.385021Z"
    }
   },
   "outputs": [
    {
     "name": "stdout",
     "output_type": "stream",
     "text": [
      "Доля клиентов с нереалестичными данными о детях: 0.57%\n"
     ]
    }
   ],
   "source": [
    "children_anomaly = df[(df['children'] < 0) | (df['children'] == 20)]\n",
    "print(f\"Доля клиентов с нереалестичными данными о детях: {children_anomaly.shape[0] / df.shape[0]:.2%}\")"
   ]
  },
  {
   "cell_type": "markdown",
   "id": "821d5a0f",
   "metadata": {},
   "source": [
    "**Процент аномалий небольшой, давайте посмотрим на выборку с аномалиями**"
   ]
  },
  {
   "cell_type": "code",
   "execution_count": 14,
   "id": "b32a9cb7",
   "metadata": {
    "ExecuteTime": {
     "end_time": "2023-02-14T09:42:02.394617Z",
     "start_time": "2023-02-14T09:42:02.388267Z"
    }
   },
   "outputs": [
    {
     "data": {
      "text/html": [
       "<div>\n",
       "<style scoped>\n",
       "    .dataframe tbody tr th:only-of-type {\n",
       "        vertical-align: middle;\n",
       "    }\n",
       "\n",
       "    .dataframe tbody tr th {\n",
       "        vertical-align: top;\n",
       "    }\n",
       "\n",
       "    .dataframe thead th {\n",
       "        text-align: right;\n",
       "    }\n",
       "</style>\n",
       "<table border=\"1\" class=\"dataframe\">\n",
       "  <thead>\n",
       "    <tr style=\"text-align: right;\">\n",
       "      <th></th>\n",
       "      <th>children</th>\n",
       "      <th>days_employed</th>\n",
       "      <th>dob_years</th>\n",
       "      <th>education</th>\n",
       "      <th>education_id</th>\n",
       "      <th>family_status</th>\n",
       "      <th>family_status_id</th>\n",
       "      <th>gender</th>\n",
       "      <th>income_type</th>\n",
       "      <th>debt</th>\n",
       "      <th>total_income</th>\n",
       "      <th>purpose</th>\n",
       "    </tr>\n",
       "  </thead>\n",
       "  <tbody>\n",
       "    <tr>\n",
       "      <th>291</th>\n",
       "      <td>-1</td>\n",
       "      <td>-4417.703588</td>\n",
       "      <td>46</td>\n",
       "      <td>среднее</td>\n",
       "      <td>1</td>\n",
       "      <td>гражданский брак</td>\n",
       "      <td>1</td>\n",
       "      <td>F</td>\n",
       "      <td>сотрудник</td>\n",
       "      <td>0</td>\n",
       "      <td>102816.346412</td>\n",
       "      <td>профильное образование</td>\n",
       "    </tr>\n",
       "    <tr>\n",
       "      <th>606</th>\n",
       "      <td>20</td>\n",
       "      <td>-880.221113</td>\n",
       "      <td>21</td>\n",
       "      <td>среднее</td>\n",
       "      <td>1</td>\n",
       "      <td>женат / замужем</td>\n",
       "      <td>0</td>\n",
       "      <td>M</td>\n",
       "      <td>компаньон</td>\n",
       "      <td>0</td>\n",
       "      <td>145334.865002</td>\n",
       "      <td>покупка жилья</td>\n",
       "    </tr>\n",
       "    <tr>\n",
       "      <th>705</th>\n",
       "      <td>-1</td>\n",
       "      <td>-902.084528</td>\n",
       "      <td>50</td>\n",
       "      <td>среднее</td>\n",
       "      <td>1</td>\n",
       "      <td>женат / замужем</td>\n",
       "      <td>0</td>\n",
       "      <td>F</td>\n",
       "      <td>госслужащий</td>\n",
       "      <td>0</td>\n",
       "      <td>137882.899271</td>\n",
       "      <td>приобретение автомобиля</td>\n",
       "    </tr>\n",
       "    <tr>\n",
       "      <th>720</th>\n",
       "      <td>20</td>\n",
       "      <td>-855.595512</td>\n",
       "      <td>44</td>\n",
       "      <td>среднее</td>\n",
       "      <td>1</td>\n",
       "      <td>женат / замужем</td>\n",
       "      <td>0</td>\n",
       "      <td>F</td>\n",
       "      <td>компаньон</td>\n",
       "      <td>0</td>\n",
       "      <td>112998.738649</td>\n",
       "      <td>покупка недвижимости</td>\n",
       "    </tr>\n",
       "    <tr>\n",
       "      <th>742</th>\n",
       "      <td>-1</td>\n",
       "      <td>-3174.456205</td>\n",
       "      <td>57</td>\n",
       "      <td>среднее</td>\n",
       "      <td>1</td>\n",
       "      <td>женат / замужем</td>\n",
       "      <td>0</td>\n",
       "      <td>F</td>\n",
       "      <td>сотрудник</td>\n",
       "      <td>0</td>\n",
       "      <td>64268.044444</td>\n",
       "      <td>дополнительное образование</td>\n",
       "    </tr>\n",
       "    <tr>\n",
       "      <th>...</th>\n",
       "      <td>...</td>\n",
       "      <td>...</td>\n",
       "      <td>...</td>\n",
       "      <td>...</td>\n",
       "      <td>...</td>\n",
       "      <td>...</td>\n",
       "      <td>...</td>\n",
       "      <td>...</td>\n",
       "      <td>...</td>\n",
       "      <td>...</td>\n",
       "      <td>...</td>\n",
       "      <td>...</td>\n",
       "    </tr>\n",
       "    <tr>\n",
       "      <th>21140</th>\n",
       "      <td>-1</td>\n",
       "      <td>-1422.668059</td>\n",
       "      <td>44</td>\n",
       "      <td>среднее</td>\n",
       "      <td>1</td>\n",
       "      <td>женат / замужем</td>\n",
       "      <td>0</td>\n",
       "      <td>F</td>\n",
       "      <td>компаньон</td>\n",
       "      <td>0</td>\n",
       "      <td>169562.091999</td>\n",
       "      <td>операции со своей недвижимостью</td>\n",
       "    </tr>\n",
       "    <tr>\n",
       "      <th>21325</th>\n",
       "      <td>20</td>\n",
       "      <td>-601.174883</td>\n",
       "      <td>37</td>\n",
       "      <td>среднее</td>\n",
       "      <td>1</td>\n",
       "      <td>женат / замужем</td>\n",
       "      <td>0</td>\n",
       "      <td>F</td>\n",
       "      <td>компаньон</td>\n",
       "      <td>0</td>\n",
       "      <td>102986.065978</td>\n",
       "      <td>профильное образование</td>\n",
       "    </tr>\n",
       "    <tr>\n",
       "      <th>21390</th>\n",
       "      <td>20</td>\n",
       "      <td>-1203.369529</td>\n",
       "      <td>53</td>\n",
       "      <td>среднее</td>\n",
       "      <td>1</td>\n",
       "      <td>женат / замужем</td>\n",
       "      <td>0</td>\n",
       "      <td>M</td>\n",
       "      <td>компаньон</td>\n",
       "      <td>0</td>\n",
       "      <td>145017.937533</td>\n",
       "      <td>покупка жилой недвижимости</td>\n",
       "    </tr>\n",
       "    <tr>\n",
       "      <th>21404</th>\n",
       "      <td>20</td>\n",
       "      <td>-494.788448</td>\n",
       "      <td>52</td>\n",
       "      <td>среднее</td>\n",
       "      <td>1</td>\n",
       "      <td>женат / замужем</td>\n",
       "      <td>0</td>\n",
       "      <td>M</td>\n",
       "      <td>компаньон</td>\n",
       "      <td>0</td>\n",
       "      <td>156629.683642</td>\n",
       "      <td>операции со своей недвижимостью</td>\n",
       "    </tr>\n",
       "    <tr>\n",
       "      <th>21491</th>\n",
       "      <td>20</td>\n",
       "      <td>-173.954460</td>\n",
       "      <td>27</td>\n",
       "      <td>среднее</td>\n",
       "      <td>1</td>\n",
       "      <td>женат / замужем</td>\n",
       "      <td>0</td>\n",
       "      <td>F</td>\n",
       "      <td>сотрудник</td>\n",
       "      <td>0</td>\n",
       "      <td>155520.899688</td>\n",
       "      <td>на покупку подержанного автомобиля</td>\n",
       "    </tr>\n",
       "  </tbody>\n",
       "</table>\n",
       "<p>123 rows × 12 columns</p>\n",
       "</div>"
      ],
      "text/plain": [
       "       children  days_employed  dob_years education  education_id  \\\n",
       "291          -1   -4417.703588         46   среднее             1   \n",
       "606          20    -880.221113         21   среднее             1   \n",
       "705          -1    -902.084528         50   среднее             1   \n",
       "720          20    -855.595512         44   среднее             1   \n",
       "742          -1   -3174.456205         57   среднее             1   \n",
       "...         ...            ...        ...       ...           ...   \n",
       "21140        -1   -1422.668059         44   среднее             1   \n",
       "21325        20    -601.174883         37   среднее             1   \n",
       "21390        20   -1203.369529         53   среднее             1   \n",
       "21404        20    -494.788448         52   среднее             1   \n",
       "21491        20    -173.954460         27   среднее             1   \n",
       "\n",
       "          family_status  family_status_id gender  income_type  debt  \\\n",
       "291    гражданский брак                 1      F    сотрудник     0   \n",
       "606     женат / замужем                 0      M    компаньон     0   \n",
       "705     женат / замужем                 0      F  госслужащий     0   \n",
       "720     женат / замужем                 0      F    компаньон     0   \n",
       "742     женат / замужем                 0      F    сотрудник     0   \n",
       "...                 ...               ...    ...          ...   ...   \n",
       "21140   женат / замужем                 0      F    компаньон     0   \n",
       "21325   женат / замужем                 0      F    компаньон     0   \n",
       "21390   женат / замужем                 0      M    компаньон     0   \n",
       "21404   женат / замужем                 0      M    компаньон     0   \n",
       "21491   женат / замужем                 0      F    сотрудник     0   \n",
       "\n",
       "        total_income                             purpose  \n",
       "291    102816.346412              профильное образование  \n",
       "606    145334.865002                       покупка жилья  \n",
       "705    137882.899271             приобретение автомобиля  \n",
       "720    112998.738649                покупка недвижимости  \n",
       "742     64268.044444          дополнительное образование  \n",
       "...              ...                                 ...  \n",
       "21140  169562.091999     операции со своей недвижимостью  \n",
       "21325  102986.065978              профильное образование  \n",
       "21390  145017.937533          покупка жилой недвижимости  \n",
       "21404  156629.683642     операции со своей недвижимостью  \n",
       "21491  155520.899688  на покупку подержанного автомобиля  \n",
       "\n",
       "[123 rows x 12 columns]"
      ]
     },
     "execution_count": 14,
     "metadata": {},
     "output_type": "execute_result"
    }
   ],
   "source": [
    "children_anomaly"
   ]
  },
  {
   "cell_type": "markdown",
   "id": "f8cb1fcb",
   "metadata": {},
   "source": [
    "**Видим клиентов в возрасте 21 и 27 лет, с 20 детьми. Это совсем маловероятно. Поскольку процент клиентов с аномалиями признака \"дети\" небольшой, удалим эти данные**\n",
    "\n",
    "**p.s. Можно было бы оставить токлько клиентов старше 45 лет, и с 20 детьми, или же заменить все значения на медиану, в данном случае 0, но с моей точки зрения в дальнейшем это может помешать модели сделать правильные выводы и предсказания.**"
   ]
  },
  {
   "cell_type": "code",
   "execution_count": 15,
   "id": "1fb20cf8",
   "metadata": {
    "ExecuteTime": {
     "end_time": "2023-02-14T09:42:02.399504Z",
     "start_time": "2023-02-14T09:42:02.396175Z"
    }
   },
   "outputs": [],
   "source": [
    "df = df.drop(children_anomaly.index).reset_index(drop=True)"
   ]
  },
  {
   "cell_type": "markdown",
   "id": "8a785213",
   "metadata": {},
   "source": [
    "___\n"
   ]
  },
  {
   "cell_type": "code",
   "execution_count": 16,
   "id": "27615b8f",
   "metadata": {
    "ExecuteTime": {
     "end_time": "2023-02-14T09:42:02.432623Z",
     "start_time": "2023-02-14T09:42:02.427723Z"
    }
   },
   "outputs": [
    {
     "data": {
      "text/plain": [
       "count     21402.000000\n",
       "mean      56657.941633\n",
       "std      135021.372877\n",
       "min      -18388.949901\n",
       "25%       -2516.257954\n",
       "50%       -1203.369529\n",
       "75%        -384.175915\n",
       "max      401755.400475\n",
       "Name: days_employed, dtype: float64"
      ]
     },
     "execution_count": 16,
     "metadata": {},
     "output_type": "execute_result"
    }
   ],
   "source": [
    "# Посмотрим внимательнее на признак \"стаж\"\n",
    "df['days_employed'].describe()"
   ]
  },
  {
   "cell_type": "code",
   "execution_count": 17,
   "id": "38fa3943",
   "metadata": {
    "ExecuteTime": {
     "end_time": "2023-02-14T09:42:02.444929Z",
     "start_time": "2023-02-14T09:42:02.441769Z"
    }
   },
   "outputs": [
    {
     "name": "stdout",
     "output_type": "stream",
     "text": [
      "Доля людей с отрицательным значением стажа: 83.97%\n"
     ]
    }
   ],
   "source": [
    "#  Посчитаем долю клиентов с отрицательным стажем\n",
    "print(f\"Доля людей с отрицательным значением стажа: {df[df['days_employed'] < 0].shape[0] / df.shape[0]:.2%}\")"
   ]
  },
  {
   "cell_type": "code",
   "execution_count": 20,
   "id": "a0eae79e",
   "metadata": {
    "ExecuteTime": {
     "end_time": "2023-02-14T09:42:13.450494Z",
     "start_time": "2023-02-14T09:42:13.315093Z"
    }
   },
   "outputs": [
    {
     "data": {
      "image/png": "[encoded data removed]",
      "text/plain": [
       "<Figure size 1500x800 with 1 Axes>"
      ]
     },
     "metadata": {},
     "output_type": "display_data"
    }
   ],
   "source": [
    "df['days_employed'].hist(bins=100);"
   ]
  },
  {
   "cell_type": "markdown",
   "id": "39a0e6c0",
   "metadata": {},
   "source": [
    "**Отрицательное значение стажа имеют 84 процента клиентов, значит это не аномалия.**\n",
    "\n",
    "\n",
    "1. Возможно за условный 0 банк берет величину, специально рассчитаную, как более вероятную для возврата кредита. Предположим, сотрудники, отработавшие 4 года, по статистике более надёжные, тогда 4 * 365 = 1460. Например какой-то человек отработал только 1 год, тогда значение признака days_employed = 365 - 1460 = -1095\n",
    "2. Возможно отицательный знак просто случаен. \n"
   ]
  },
  {
   "cell_type": "markdown",
   "id": "26434732",
   "metadata": {},
   "source": [
    "**Отрицательные значения заменим модулем числа** "
   ]
  },
  {
   "cell_type": "code",
   "execution_count": 20,
   "id": "cc119759",
   "metadata": {
    "ExecuteTime": {
     "end_time": "2022-07-21T18:18:39.343604Z",
     "start_time": "2022-07-21T18:18:39.324691Z"
    }
   },
   "outputs": [],
   "source": [
    "# Меняем отрицательные значения на модуль\n",
    "df['days_employed'] = df['days_employed'].agg(abs)"
   ]
  },
  {
   "cell_type": "markdown",
   "id": "ef9ce53d",
   "metadata": {},
   "source": [
    "---"
   ]
  },
  {
   "cell_type": "code",
   "execution_count": 22,
   "id": "97029d71",
   "metadata": {
    "ExecuteTime": {
     "end_time": "2022-07-21T18:21:13.254095Z",
     "start_time": "2022-07-21T18:21:13.232607Z"
    }
   },
   "outputs": [
    {
     "data": {
      "text/html": [
       "<div>\n",
       "<style scoped>\n",
       "    .dataframe tbody tr th:only-of-type {\n",
       "        vertical-align: middle;\n",
       "    }\n",
       "\n",
       "    .dataframe tbody tr th {\n",
       "        vertical-align: top;\n",
       "    }\n",
       "\n",
       "    .dataframe thead th {\n",
       "        text-align: right;\n",
       "    }\n",
       "</style>\n",
       "<table border=\"1\" class=\"dataframe\">\n",
       "  <thead>\n",
       "    <tr style=\"text-align: right;\">\n",
       "      <th></th>\n",
       "      <th>days_employed</th>\n",
       "    </tr>\n",
       "  </thead>\n",
       "  <tbody>\n",
       "    <tr>\n",
       "      <th>count</th>\n",
       "      <td>3431.000000</td>\n",
       "    </tr>\n",
       "    <tr>\n",
       "      <th>mean</th>\n",
       "      <td>1000.070963</td>\n",
       "    </tr>\n",
       "    <tr>\n",
       "      <th>std</th>\n",
       "      <td>57.773886</td>\n",
       "    </tr>\n",
       "    <tr>\n",
       "      <th>min</th>\n",
       "      <td>900.626632</td>\n",
       "    </tr>\n",
       "    <tr>\n",
       "      <th>25%</th>\n",
       "      <td>949.724236</td>\n",
       "    </tr>\n",
       "    <tr>\n",
       "      <th>50%</th>\n",
       "      <td>1000.785268</td>\n",
       "    </tr>\n",
       "    <tr>\n",
       "      <th>75%</th>\n",
       "      <td>1050.117236</td>\n",
       "    </tr>\n",
       "    <tr>\n",
       "      <th>max</th>\n",
       "      <td>1100.699727</td>\n",
       "    </tr>\n",
       "  </tbody>\n",
       "</table>\n",
       "</div>"
      ],
      "text/plain": [
       "       days_employed\n",
       "count    3431.000000\n",
       "mean     1000.070963\n",
       "std        57.773886\n",
       "min       900.626632\n",
       "25%       949.724236\n",
       "50%      1000.785268\n",
       "75%      1050.117236\n",
       "max      1100.699727"
      ]
     },
     "execution_count": 22,
     "metadata": {},
     "output_type": "execute_result"
    }
   ],
   "source": [
    "employed_anomaly = df[df['days_employed'] > 300000]['days_employed'] / 365 \n",
    "pd.DataFrame(employed_anomaly.describe())"
   ]
  },
  {
   "cell_type": "code",
   "execution_count": 23,
   "id": "b739fb2b",
   "metadata": {
    "ExecuteTime": {
     "end_time": "2022-07-21T18:21:14.161546Z",
     "start_time": "2022-07-21T18:21:14.152795Z"
    }
   },
   "outputs": [
    {
     "name": "stdout",
     "output_type": "stream",
     "text": [
      "Доля людей со стажем больше 800 лет: 16.03%\n"
     ]
    }
   ],
   "source": [
    "print(f\"Доля людей со стажем больше 800 лет: {employed_anomaly.shape[0] / df.shape[0]:.2%}\")"
   ]
  },
  {
   "cell_type": "code",
   "execution_count": 21,
   "id": "94358644",
   "metadata": {
    "ExecuteTime": {
     "end_time": "2023-02-14T09:43:00.818498Z",
     "start_time": "2023-02-14T09:43:00.670415Z"
    }
   },
   "outputs": [
    {
     "data": {
      "image/png": "[encoded data removed]",
      "text/plain": [
       "<Figure size 1500x800 with 1 Axes>"
      ]
     },
     "metadata": {},
     "output_type": "display_data"
    }
   ],
   "source": [
    "# Проще всего увидеть выбросы на графике. Давайте посмотрим на распределение стажа в выборке\n",
    "\n",
    "\n",
    "df['days_employed'].apply(lambda x: x / 365).hist(bins=100);\n",
    "plt.xlabel('years employed');\n",
    "plt.ylabel('freq');"
   ]
  },
  {
   "cell_type": "markdown",
   "id": "30f182c5",
   "metadata": {},
   "source": [
    "**3.5 тысячи, всё таки очень много, для наших данных, если данные просто удалить, это может искзить выводы. Заменим эти значения медианным по выборке.**"
   ]
  },
  {
   "cell_type": "code",
   "execution_count": 25,
   "id": "0a68afec",
   "metadata": {
    "ExecuteTime": {
     "end_time": "2022-07-21T18:21:29.493321Z",
     "start_time": "2022-07-21T18:21:29.374360Z"
    }
   },
   "outputs": [
    {
     "data": {
      "image/png": "[encoded data removed]",
      "text/plain": [
       "<Figure size 1080x576 with 1 Axes>"
      ]
     },
     "metadata": {
      "needs_background": "light"
     },
     "output_type": "display_data"
    }
   ],
   "source": [
    "# меняем на медиану\n",
    "df.loc[employed_anomaly.index, 'days_employed'] = df['days_employed'].median()\n",
    "\n",
    "# строим график и смотрим на распределение\n",
    "df['days_employed'].apply(lambda x: x / 365).hist();\n",
    "plt.xlabel('years employed');\n",
    "plt.ylabel('freq');"
   ]
  },
  {
   "cell_type": "markdown",
   "id": "9a265220",
   "metadata": {},
   "source": [
    "---"
   ]
  },
  {
   "cell_type": "code",
   "execution_count": 26,
   "id": "b101fa58",
   "metadata": {
    "ExecuteTime": {
     "end_time": "2022-07-21T18:21:38.688636Z",
     "start_time": "2022-07-21T18:21:38.670800Z"
    }
   },
   "outputs": [
    {
     "data": {
      "text/plain": [
       "F      14154\n",
       "M       7247\n",
       "XNA        1\n",
       "Name: gender, dtype: int64"
      ]
     },
     "execution_count": 26,
     "metadata": {},
     "output_type": "execute_result"
    }
   ],
   "source": [
    "# Посмотрим на значения признака Пол\n",
    "df['gender'].value_counts()"
   ]
  },
  {
   "cell_type": "markdown",
   "id": "378d11c6",
   "metadata": {},
   "source": [
    "**Всего одно значение, посмотрим на него**"
   ]
  },
  {
   "cell_type": "code",
   "execution_count": 27,
   "id": "e453acac",
   "metadata": {
    "ExecuteTime": {
     "end_time": "2022-07-21T18:21:43.529872Z",
     "start_time": "2022-07-21T18:21:43.510046Z"
    }
   },
   "outputs": [
    {
     "data": {
      "text/html": [
       "<div>\n",
       "<style scoped>\n",
       "    .dataframe tbody tr th:only-of-type {\n",
       "        vertical-align: middle;\n",
       "    }\n",
       "\n",
       "    .dataframe tbody tr th {\n",
       "        vertical-align: top;\n",
       "    }\n",
       "\n",
       "    .dataframe thead th {\n",
       "        text-align: right;\n",
       "    }\n",
       "</style>\n",
       "<table border=\"1\" class=\"dataframe\">\n",
       "  <thead>\n",
       "    <tr style=\"text-align: right;\">\n",
       "      <th></th>\n",
       "      <th>children</th>\n",
       "      <th>days_employed</th>\n",
       "      <th>dob_years</th>\n",
       "      <th>education</th>\n",
       "      <th>education_id</th>\n",
       "      <th>family_status</th>\n",
       "      <th>family_status_id</th>\n",
       "      <th>gender</th>\n",
       "      <th>income_type</th>\n",
       "      <th>debt</th>\n",
       "      <th>total_income</th>\n",
       "      <th>purpose</th>\n",
       "    </tr>\n",
       "  </thead>\n",
       "  <tbody>\n",
       "    <tr>\n",
       "      <th>10646</th>\n",
       "      <td>0</td>\n",
       "      <td>2358.600502</td>\n",
       "      <td>24</td>\n",
       "      <td>неоконченное высшее</td>\n",
       "      <td>2</td>\n",
       "      <td>гражданский брак</td>\n",
       "      <td>1</td>\n",
       "      <td>XNA</td>\n",
       "      <td>компаньон</td>\n",
       "      <td>0</td>\n",
       "      <td>203905.157261</td>\n",
       "      <td>покупка недвижимости</td>\n",
       "    </tr>\n",
       "  </tbody>\n",
       "</table>\n",
       "</div>"
      ],
      "text/plain": [
       "       children  days_employed  dob_years            education  education_id  \\\n",
       "10646         0    2358.600502         24  неоконченное высшее             2   \n",
       "\n",
       "          family_status  family_status_id gender income_type  debt  \\\n",
       "10646  гражданский брак                 1    XNA   компаньон     0   \n",
       "\n",
       "        total_income               purpose  \n",
       "10646  203905.157261  покупка недвижимости  "
      ]
     },
     "execution_count": 27,
     "metadata": {},
     "output_type": "execute_result"
    }
   ],
   "source": [
    "df[df['gender'] == 'XNA']"
   ]
  },
  {
   "cell_type": "markdown",
   "id": "ac76a6c2",
   "metadata": {},
   "source": [
    "**В других колонках не видно искажений, оставим эту строку**"
   ]
  },
  {
   "cell_type": "markdown",
   "id": "d793ce8a",
   "metadata": {},
   "source": [
    "---"
   ]
  },
  {
   "cell_type": "code",
   "execution_count": 28,
   "id": "b72b6fd7",
   "metadata": {
    "ExecuteTime": {
     "end_time": "2022-07-21T18:21:54.257151Z",
     "start_time": "2022-07-21T18:21:54.240861Z"
    }
   },
   "outputs": [
    {
     "data": {
      "text/plain": [
       "0    100\n",
       "Name: dob_years, dtype: int64"
      ]
     },
     "execution_count": 28,
     "metadata": {},
     "output_type": "execute_result"
    }
   ],
   "source": [
    "# Посмотрим есть ли заёмщики младше 18 лет\n",
    "age_anomaly = df[df['dob_years'] < 18]\n",
    "age_anomaly['dob_years'].value_counts()\n"
   ]
  },
  {
   "cell_type": "markdown",
   "id": "453a43dd",
   "metadata": {},
   "source": [
    "**100 клиентов с ошибкой в столбце \"возраст\"**"
   ]
  },
  {
   "cell_type": "code",
   "execution_count": 67,
   "id": "07b0e367",
   "metadata": {
    "ExecuteTime": {
     "end_time": "2022-07-21T08:18:16.875892Z",
     "start_time": "2022-07-21T08:18:16.860132Z"
    }
   },
   "outputs": [
    {
     "name": "stderr",
     "output_type": "stream",
     "text": [
      "/usr/local/lib/python3.9/site-packages/pandas/core/indexing.py:1817: SettingWithCopyWarning: \n",
      "A value is trying to be set on a copy of a slice from a DataFrame.\n",
      "Try using .loc[row_indexer,col_indexer] = value instead\n",
      "\n",
      "See the caveats in the documentation: https://pandas.pydata.org/pandas-docs/stable/user_guide/indexing.html#returning-a-view-versus-a-copy\n",
      "  self._setitem_single_column(loc, value, pi)\n"
     ]
    },
    {
     "data": {
      "text/plain": [
       "0"
      ]
     },
     "execution_count": 67,
     "metadata": {},
     "output_type": "execute_result"
    }
   ],
   "source": [
    "# Создаём словарь, в который записываем медианное значение по типу занятости\n",
    "median_dict = df.groupby('income_type')['dob_years'].median().to_dict()\n",
    "\n",
    "# Меняем значения с 0 на медианное, по категории\n",
    "for k,v in median_dict.items():\n",
    "    age_anomaly.loc[age_anomaly['income_type'] == k, 'dob_years'] = round(v)\n",
    "\n",
    "# Заменяем знаения в исходном датафрейме\n",
    "df.loc[age_anomaly.index] = age_anomaly.copy(deep=True)\n",
    "\n",
    "# Проверяем, все ли корректно удалили\n",
    "df[df['dob_years'] < 18]['dob_years'].sum()"
   ]
  },
  {
   "cell_type": "code",
   "execution_count": 68,
   "id": "ea9a5ccf",
   "metadata": {
    "ExecuteTime": {
     "end_time": "2022-07-21T08:18:16.965173Z",
     "start_time": "2022-07-21T08:18:16.877162Z"
    }
   },
   "outputs": [
    {
     "data": {
      "image/png": "[encoded data removed]",
      "text/plain": [
       "<Figure size 1080x576 with 1 Axes>"
      ]
     },
     "metadata": {
      "needs_background": "light"
     },
     "output_type": "display_data"
    }
   ],
   "source": [
    "# Посмотрим на распределение признака \"ежемесячный доход\"\n",
    "df['total_income'].hist();"
   ]
  },
  {
   "cell_type": "markdown",
   "id": "22a4bb28",
   "metadata": {},
   "source": [
    "**С этим признаком все ок, не видим никаких хвостов**"
   ]
  },
  {
   "cell_type": "markdown",
   "id": "5619df1d",
   "metadata": {},
   "source": [
    "### Шаг 2.3. Изменение типов данных."
   ]
  },
  {
   "cell_type": "code",
   "execution_count": 29,
   "id": "38696177",
   "metadata": {},
   "outputs": [
    {
     "data": {
      "text/plain": [
       "dtype('int64')"
      ]
     },
     "execution_count": 29,
     "metadata": {},
     "output_type": "execute_result"
    }
   ],
   "source": [
    "# Замените вещественный тип данных в столбце total_income на целочисленный, например, с помощью метода astype().\n",
    "\n",
    "df['total_income'] = df['total_income'].astype('int')\n",
    "\n",
    "df['total_income'].dtype"
   ]
  },
  {
   "cell_type": "markdown",
   "id": "9caf01f1",
   "metadata": {},
   "source": [
    "### Шаг 2.4. Удаление дубликатов."
   ]
  },
  {
   "cell_type": "code",
   "execution_count": 30,
   "id": "a30a427a",
   "metadata": {},
   "outputs": [
    {
     "data": {
      "text/html": [
       "<div>\n",
       "<style scoped>\n",
       "    .dataframe tbody tr th:only-of-type {\n",
       "        vertical-align: middle;\n",
       "    }\n",
       "\n",
       "    .dataframe tbody tr th {\n",
       "        vertical-align: top;\n",
       "    }\n",
       "\n",
       "    .dataframe thead th {\n",
       "        text-align: right;\n",
       "    }\n",
       "</style>\n",
       "<table border=\"1\" class=\"dataframe\">\n",
       "  <thead>\n",
       "    <tr style=\"text-align: right;\">\n",
       "      <th></th>\n",
       "      <th>education</th>\n",
       "    </tr>\n",
       "  </thead>\n",
       "  <tbody>\n",
       "    <tr>\n",
       "      <td>среднее</td>\n",
       "      <td>13667</td>\n",
       "    </tr>\n",
       "    <tr>\n",
       "      <td>высшее</td>\n",
       "      <td>4698</td>\n",
       "    </tr>\n",
       "    <tr>\n",
       "      <td>СРЕДНЕЕ</td>\n",
       "      <td>766</td>\n",
       "    </tr>\n",
       "    <tr>\n",
       "      <td>Среднее</td>\n",
       "      <td>703</td>\n",
       "    </tr>\n",
       "    <tr>\n",
       "      <td>неоконченное высшее</td>\n",
       "      <td>665</td>\n",
       "    </tr>\n",
       "    <tr>\n",
       "      <td>ВЫСШЕЕ</td>\n",
       "      <td>271</td>\n",
       "    </tr>\n",
       "    <tr>\n",
       "      <td>Высшее</td>\n",
       "      <td>268</td>\n",
       "    </tr>\n",
       "    <tr>\n",
       "      <td>начальное</td>\n",
       "      <td>250</td>\n",
       "    </tr>\n",
       "    <tr>\n",
       "      <td>Неоконченное высшее</td>\n",
       "      <td>47</td>\n",
       "    </tr>\n",
       "    <tr>\n",
       "      <td>НЕОКОНЧЕННОЕ ВЫСШЕЕ</td>\n",
       "      <td>29</td>\n",
       "    </tr>\n",
       "    <tr>\n",
       "      <td>НАЧАЛЬНОЕ</td>\n",
       "      <td>17</td>\n",
       "    </tr>\n",
       "    <tr>\n",
       "      <td>Начальное</td>\n",
       "      <td>15</td>\n",
       "    </tr>\n",
       "    <tr>\n",
       "      <td>ученая степень</td>\n",
       "      <td>4</td>\n",
       "    </tr>\n",
       "    <tr>\n",
       "      <td>УЧЕНАЯ СТЕПЕНЬ</td>\n",
       "      <td>1</td>\n",
       "    </tr>\n",
       "    <tr>\n",
       "      <td>Ученая степень</td>\n",
       "      <td>1</td>\n",
       "    </tr>\n",
       "  </tbody>\n",
       "</table>\n",
       "</div>"
      ],
      "text/plain": [
       "                     education\n",
       "среднее                  13667\n",
       "высшее                    4698\n",
       "СРЕДНЕЕ                    766\n",
       "Среднее                    703\n",
       "неоконченное высшее        665\n",
       "ВЫСШЕЕ                     271\n",
       "Высшее                     268\n",
       "начальное                  250\n",
       "Неоконченное высшее         47\n",
       "НЕОКОНЧЕННОЕ ВЫСШЕЕ         29\n",
       "НАЧАЛЬНОЕ                   17\n",
       "Начальное                   15\n",
       "ученая степень               4\n",
       "УЧЕНАЯ СТЕПЕНЬ               1\n",
       "Ученая степень               1"
      ]
     },
     "execution_count": 30,
     "metadata": {},
     "output_type": "execute_result"
    }
   ],
   "source": [
    "# Посмотрим сколько уникальных категорий есть в столбце education\n",
    "pd.DataFrame(df['education'].value_counts())"
   ]
  },
  {
   "cell_type": "code",
   "execution_count": 31,
   "id": "510226c5",
   "metadata": {},
   "outputs": [
    {
     "data": {
      "text/html": [
       "<div>\n",
       "<style scoped>\n",
       "    .dataframe tbody tr th:only-of-type {\n",
       "        vertical-align: middle;\n",
       "    }\n",
       "\n",
       "    .dataframe tbody tr th {\n",
       "        vertical-align: top;\n",
       "    }\n",
       "\n",
       "    .dataframe thead th {\n",
       "        text-align: right;\n",
       "    }\n",
       "</style>\n",
       "<table border=\"1\" class=\"dataframe\">\n",
       "  <thead>\n",
       "    <tr style=\"text-align: right;\">\n",
       "      <th></th>\n",
       "      <th>education</th>\n",
       "    </tr>\n",
       "  </thead>\n",
       "  <tbody>\n",
       "    <tr>\n",
       "      <td>среднее</td>\n",
       "      <td>15136</td>\n",
       "    </tr>\n",
       "    <tr>\n",
       "      <td>высшее</td>\n",
       "      <td>5237</td>\n",
       "    </tr>\n",
       "    <tr>\n",
       "      <td>неоконченное высшее</td>\n",
       "      <td>741</td>\n",
       "    </tr>\n",
       "    <tr>\n",
       "      <td>начальное</td>\n",
       "      <td>282</td>\n",
       "    </tr>\n",
       "    <tr>\n",
       "      <td>ученая степень</td>\n",
       "      <td>6</td>\n",
       "    </tr>\n",
       "  </tbody>\n",
       "</table>\n",
       "</div>"
      ],
      "text/plain": [
       "                     education\n",
       "среднее                  15136\n",
       "высшее                    5237\n",
       "неоконченное высшее        741\n",
       "начальное                  282\n",
       "ученая степень               6"
      ]
     },
     "execution_count": 31,
     "metadata": {},
     "output_type": "execute_result"
    }
   ],
   "source": [
    "# Теперь посчитаем кол-во категорий, если привести их к нижнему регистру\n",
    "pd.DataFrame(df['education'].str.lower().value_counts())"
   ]
  },
  {
   "cell_type": "markdown",
   "id": "141f23aa",
   "metadata": {},
   "source": [
    "**Ого, в три раза меньше категорий ! Осталось привести их все к \"общему знаменателю\"**"
   ]
  },
  {
   "cell_type": "code",
   "execution_count": 32,
   "id": "2513cb11",
   "metadata": {},
   "outputs": [],
   "source": [
    "df['education'] = df['education'].str.lower()"
   ]
  },
  {
   "cell_type": "code",
   "execution_count": 33,
   "id": "1941b5ef",
   "metadata": {},
   "outputs": [
    {
     "name": "stdout",
     "output_type": "stream",
     "text": [
      "education дубликаты не найдены\n",
      "family_status дубликаты не найдены\n",
      "gender дубликаты не найдены\n",
      "income_type дубликаты не найдены\n",
      "purpose дубликаты не найдены\n"
     ]
    }
   ],
   "source": [
    "# Ищем неявные дубликаты, связаные с регистром, в других колонках\n",
    "\n",
    "for col in df.select_dtypes(\"O\").columns:\n",
    "    all_unique = len(df[col].unique())\n",
    "    lower_unique = len(df[col].str.lower().unique())\n",
    "    \n",
    "    if all_unique == lower_unique: print(f'{col} дубликаты не найдены')\n",
    "    else: print(f\"В колонке есть одинаковые значения ! {df[col].value_counts()}\")"
   ]
  },
  {
   "cell_type": "code",
   "execution_count": 34,
   "id": "b4a60f02",
   "metadata": {
    "scrolled": true
   },
   "outputs": [
    {
     "data": {
      "text/plain": [
       "71"
      ]
     },
     "execution_count": 34,
     "metadata": {},
     "output_type": "execute_result"
    }
   ],
   "source": [
    "# Посчитаем общее количество\n",
    "\n",
    "df.duplicated().sum()"
   ]
  },
  {
   "cell_type": "code",
   "execution_count": 35,
   "id": "55d8abae",
   "metadata": {},
   "outputs": [
    {
     "data": {
      "text/plain": [
       "0"
      ]
     },
     "execution_count": 35,
     "metadata": {},
     "output_type": "execute_result"
    }
   ],
   "source": [
    "# Удаляем явные дубликаты\n",
    "df = df.drop_duplicates().reset_index(drop=True)\n",
    "df.duplicated().sum()"
   ]
  },
  {
   "cell_type": "markdown",
   "id": "0fe5b2fa",
   "metadata": {},
   "source": [
    "**Дубликатов связанных с регистром не нашли, давайте посмотрим на сами категории внутри колонок**"
   ]
  },
  {
   "cell_type": "code",
   "execution_count": 36,
   "id": "c618b9f2",
   "metadata": {},
   "outputs": [
    {
     "data": {
      "text/html": [
       "<div>\n",
       "<style scoped>\n",
       "    .dataframe tbody tr th:only-of-type {\n",
       "        vertical-align: middle;\n",
       "    }\n",
       "\n",
       "    .dataframe tbody tr th {\n",
       "        vertical-align: top;\n",
       "    }\n",
       "\n",
       "    .dataframe thead th {\n",
       "        text-align: right;\n",
       "    }\n",
       "</style>\n",
       "<table border=\"1\" class=\"dataframe\">\n",
       "  <thead>\n",
       "    <tr style=\"text-align: right;\">\n",
       "      <th></th>\n",
       "      <th>education</th>\n",
       "    </tr>\n",
       "  </thead>\n",
       "  <tbody>\n",
       "    <tr>\n",
       "      <td>среднее</td>\n",
       "      <td>15075</td>\n",
       "    </tr>\n",
       "    <tr>\n",
       "      <td>высшее</td>\n",
       "      <td>5227</td>\n",
       "    </tr>\n",
       "    <tr>\n",
       "      <td>неоконченное высшее</td>\n",
       "      <td>741</td>\n",
       "    </tr>\n",
       "    <tr>\n",
       "      <td>начальное</td>\n",
       "      <td>282</td>\n",
       "    </tr>\n",
       "    <tr>\n",
       "      <td>ученая степень</td>\n",
       "      <td>6</td>\n",
       "    </tr>\n",
       "  </tbody>\n",
       "</table>\n",
       "</div>"
      ],
      "text/plain": [
       "                     education\n",
       "среднее                  15075\n",
       "высшее                    5227\n",
       "неоконченное высшее        741\n",
       "начальное                  282\n",
       "ученая степень               6"
      ]
     },
     "metadata": {},
     "output_type": "display_data"
    },
    {
     "data": {
      "text/html": [
       "<div>\n",
       "<style scoped>\n",
       "    .dataframe tbody tr th:only-of-type {\n",
       "        vertical-align: middle;\n",
       "    }\n",
       "\n",
       "    .dataframe tbody tr th {\n",
       "        vertical-align: top;\n",
       "    }\n",
       "\n",
       "    .dataframe thead th {\n",
       "        text-align: right;\n",
       "    }\n",
       "</style>\n",
       "<table border=\"1\" class=\"dataframe\">\n",
       "  <thead>\n",
       "    <tr style=\"text-align: right;\">\n",
       "      <th></th>\n",
       "      <th>family_status</th>\n",
       "    </tr>\n",
       "  </thead>\n",
       "  <tbody>\n",
       "    <tr>\n",
       "      <td>женат / замужем</td>\n",
       "      <td>12261</td>\n",
       "    </tr>\n",
       "    <tr>\n",
       "      <td>гражданский брак</td>\n",
       "      <td>4134</td>\n",
       "    </tr>\n",
       "    <tr>\n",
       "      <td>Не женат / не замужем</td>\n",
       "      <td>2796</td>\n",
       "    </tr>\n",
       "    <tr>\n",
       "      <td>в разводе</td>\n",
       "      <td>1189</td>\n",
       "    </tr>\n",
       "    <tr>\n",
       "      <td>вдовец / вдова</td>\n",
       "      <td>951</td>\n",
       "    </tr>\n",
       "  </tbody>\n",
       "</table>\n",
       "</div>"
      ],
      "text/plain": [
       "                       family_status\n",
       "женат / замужем                12261\n",
       "гражданский брак                4134\n",
       "Не женат / не замужем           2796\n",
       "в разводе                       1189\n",
       "вдовец / вдова                   951"
      ]
     },
     "metadata": {},
     "output_type": "display_data"
    },
    {
     "data": {
      "text/html": [
       "<div>\n",
       "<style scoped>\n",
       "    .dataframe tbody tr th:only-of-type {\n",
       "        vertical-align: middle;\n",
       "    }\n",
       "\n",
       "    .dataframe tbody tr th {\n",
       "        vertical-align: top;\n",
       "    }\n",
       "\n",
       "    .dataframe thead th {\n",
       "        text-align: right;\n",
       "    }\n",
       "</style>\n",
       "<table border=\"1\" class=\"dataframe\">\n",
       "  <thead>\n",
       "    <tr style=\"text-align: right;\">\n",
       "      <th></th>\n",
       "      <th>gender</th>\n",
       "    </tr>\n",
       "  </thead>\n",
       "  <tbody>\n",
       "    <tr>\n",
       "      <td>F</td>\n",
       "      <td>14092</td>\n",
       "    </tr>\n",
       "    <tr>\n",
       "      <td>M</td>\n",
       "      <td>7238</td>\n",
       "    </tr>\n",
       "    <tr>\n",
       "      <td>XNA</td>\n",
       "      <td>1</td>\n",
       "    </tr>\n",
       "  </tbody>\n",
       "</table>\n",
       "</div>"
      ],
      "text/plain": [
       "     gender\n",
       "F     14092\n",
       "M      7238\n",
       "XNA       1"
      ]
     },
     "metadata": {},
     "output_type": "display_data"
    },
    {
     "data": {
      "text/html": [
       "<div>\n",
       "<style scoped>\n",
       "    .dataframe tbody tr th:only-of-type {\n",
       "        vertical-align: middle;\n",
       "    }\n",
       "\n",
       "    .dataframe tbody tr th {\n",
       "        vertical-align: top;\n",
       "    }\n",
       "\n",
       "    .dataframe thead th {\n",
       "        text-align: right;\n",
       "    }\n",
       "</style>\n",
       "<table border=\"1\" class=\"dataframe\">\n",
       "  <thead>\n",
       "    <tr style=\"text-align: right;\">\n",
       "      <th></th>\n",
       "      <th>income_type</th>\n",
       "    </tr>\n",
       "  </thead>\n",
       "  <tbody>\n",
       "    <tr>\n",
       "      <td>сотрудник</td>\n",
       "      <td>11015</td>\n",
       "    </tr>\n",
       "    <tr>\n",
       "      <td>компаньон</td>\n",
       "      <td>5047</td>\n",
       "    </tr>\n",
       "    <tr>\n",
       "      <td>пенсионер</td>\n",
       "      <td>3812</td>\n",
       "    </tr>\n",
       "    <tr>\n",
       "      <td>госслужащий</td>\n",
       "      <td>1451</td>\n",
       "    </tr>\n",
       "    <tr>\n",
       "      <td>предприниматель</td>\n",
       "      <td>2</td>\n",
       "    </tr>\n",
       "    <tr>\n",
       "      <td>безработный</td>\n",
       "      <td>2</td>\n",
       "    </tr>\n",
       "    <tr>\n",
       "      <td>в декрете</td>\n",
       "      <td>1</td>\n",
       "    </tr>\n",
       "    <tr>\n",
       "      <td>студент</td>\n",
       "      <td>1</td>\n",
       "    </tr>\n",
       "  </tbody>\n",
       "</table>\n",
       "</div>"
      ],
      "text/plain": [
       "                 income_type\n",
       "сотрудник              11015\n",
       "компаньон               5047\n",
       "пенсионер               3812\n",
       "госслужащий             1451\n",
       "предприниматель            2\n",
       "безработный                2\n",
       "в декрете                  1\n",
       "студент                    1"
      ]
     },
     "metadata": {},
     "output_type": "display_data"
    },
    {
     "data": {
      "text/html": [
       "<div>\n",
       "<style scoped>\n",
       "    .dataframe tbody tr th:only-of-type {\n",
       "        vertical-align: middle;\n",
       "    }\n",
       "\n",
       "    .dataframe tbody tr th {\n",
       "        vertical-align: top;\n",
       "    }\n",
       "\n",
       "    .dataframe thead th {\n",
       "        text-align: right;\n",
       "    }\n",
       "</style>\n",
       "<table border=\"1\" class=\"dataframe\">\n",
       "  <thead>\n",
       "    <tr style=\"text-align: right;\">\n",
       "      <th></th>\n",
       "      <th>purpose</th>\n",
       "    </tr>\n",
       "  </thead>\n",
       "  <tbody>\n",
       "    <tr>\n",
       "      <td>свадьба</td>\n",
       "      <td>790</td>\n",
       "    </tr>\n",
       "    <tr>\n",
       "      <td>на проведение свадьбы</td>\n",
       "      <td>763</td>\n",
       "    </tr>\n",
       "    <tr>\n",
       "      <td>сыграть свадьбу</td>\n",
       "      <td>760</td>\n",
       "    </tr>\n",
       "    <tr>\n",
       "      <td>операции с недвижимостью</td>\n",
       "      <td>672</td>\n",
       "    </tr>\n",
       "    <tr>\n",
       "      <td>покупка коммерческой недвижимости</td>\n",
       "      <td>658</td>\n",
       "    </tr>\n",
       "    <tr>\n",
       "      <td>покупка жилья для сдачи</td>\n",
       "      <td>649</td>\n",
       "    </tr>\n",
       "    <tr>\n",
       "      <td>операции с жильем</td>\n",
       "      <td>647</td>\n",
       "    </tr>\n",
       "    <tr>\n",
       "      <td>операции с коммерческой недвижимостью</td>\n",
       "      <td>645</td>\n",
       "    </tr>\n",
       "    <tr>\n",
       "      <td>жилье</td>\n",
       "      <td>641</td>\n",
       "    </tr>\n",
       "    <tr>\n",
       "      <td>покупка жилья</td>\n",
       "      <td>640</td>\n",
       "    </tr>\n",
       "    <tr>\n",
       "      <td>покупка жилья для семьи</td>\n",
       "      <td>637</td>\n",
       "    </tr>\n",
       "    <tr>\n",
       "      <td>недвижимость</td>\n",
       "      <td>631</td>\n",
       "    </tr>\n",
       "    <tr>\n",
       "      <td>строительство собственной недвижимости</td>\n",
       "      <td>628</td>\n",
       "    </tr>\n",
       "    <tr>\n",
       "      <td>операции со своей недвижимостью</td>\n",
       "      <td>623</td>\n",
       "    </tr>\n",
       "    <tr>\n",
       "      <td>строительство жилой недвижимости</td>\n",
       "      <td>620</td>\n",
       "    </tr>\n",
       "    <tr>\n",
       "      <td>покупка своего жилья</td>\n",
       "      <td>619</td>\n",
       "    </tr>\n",
       "    <tr>\n",
       "      <td>строительство недвижимости</td>\n",
       "      <td>619</td>\n",
       "    </tr>\n",
       "    <tr>\n",
       "      <td>покупка недвижимости</td>\n",
       "      <td>616</td>\n",
       "    </tr>\n",
       "    <tr>\n",
       "      <td>ремонт жилью</td>\n",
       "      <td>604</td>\n",
       "    </tr>\n",
       "    <tr>\n",
       "      <td>покупка жилой недвижимости</td>\n",
       "      <td>602</td>\n",
       "    </tr>\n",
       "    <tr>\n",
       "      <td>на покупку своего автомобиля</td>\n",
       "      <td>504</td>\n",
       "    </tr>\n",
       "    <tr>\n",
       "      <td>заняться высшим образованием</td>\n",
       "      <td>496</td>\n",
       "    </tr>\n",
       "    <tr>\n",
       "      <td>автомобиль</td>\n",
       "      <td>491</td>\n",
       "    </tr>\n",
       "    <tr>\n",
       "      <td>сделка с подержанным автомобилем</td>\n",
       "      <td>481</td>\n",
       "    </tr>\n",
       "    <tr>\n",
       "      <td>автомобили</td>\n",
       "      <td>476</td>\n",
       "    </tr>\n",
       "    <tr>\n",
       "      <td>свой автомобиль</td>\n",
       "      <td>473</td>\n",
       "    </tr>\n",
       "    <tr>\n",
       "      <td>на покупку подержанного автомобиля</td>\n",
       "      <td>471</td>\n",
       "    </tr>\n",
       "    <tr>\n",
       "      <td>на покупку автомобиля</td>\n",
       "      <td>469</td>\n",
       "    </tr>\n",
       "    <tr>\n",
       "      <td>приобретение автомобиля</td>\n",
       "      <td>459</td>\n",
       "    </tr>\n",
       "    <tr>\n",
       "      <td>дополнительное образование</td>\n",
       "      <td>455</td>\n",
       "    </tr>\n",
       "    <tr>\n",
       "      <td>сделка с автомобилем</td>\n",
       "      <td>455</td>\n",
       "    </tr>\n",
       "    <tr>\n",
       "      <td>высшее образование</td>\n",
       "      <td>446</td>\n",
       "    </tr>\n",
       "    <tr>\n",
       "      <td>получение дополнительного образования</td>\n",
       "      <td>444</td>\n",
       "    </tr>\n",
       "    <tr>\n",
       "      <td>образование</td>\n",
       "      <td>442</td>\n",
       "    </tr>\n",
       "    <tr>\n",
       "      <td>получение образования</td>\n",
       "      <td>440</td>\n",
       "    </tr>\n",
       "    <tr>\n",
       "      <td>профильное образование</td>\n",
       "      <td>432</td>\n",
       "    </tr>\n",
       "    <tr>\n",
       "      <td>получение высшего образования</td>\n",
       "      <td>425</td>\n",
       "    </tr>\n",
       "    <tr>\n",
       "      <td>заняться образованием</td>\n",
       "      <td>408</td>\n",
       "    </tr>\n",
       "  </tbody>\n",
       "</table>\n",
       "</div>"
      ],
      "text/plain": [
       "                                        purpose\n",
       "свадьба                                     790\n",
       "на проведение свадьбы                       763\n",
       "сыграть свадьбу                             760\n",
       "операции с недвижимостью                    672\n",
       "покупка коммерческой недвижимости           658\n",
       "покупка жилья для сдачи                     649\n",
       "операции с жильем                           647\n",
       "операции с коммерческой недвижимостью       645\n",
       "жилье                                       641\n",
       "покупка жилья                               640\n",
       "покупка жилья для семьи                     637\n",
       "недвижимость                                631\n",
       "строительство собственной недвижимости      628\n",
       "операции со своей недвижимостью             623\n",
       "строительство жилой недвижимости            620\n",
       "покупка своего жилья                        619\n",
       "строительство недвижимости                  619\n",
       "покупка недвижимости                        616\n",
       "ремонт жилью                                604\n",
       "покупка жилой недвижимости                  602\n",
       "на покупку своего автомобиля                504\n",
       "заняться высшим образованием                496\n",
       "автомобиль                                  491\n",
       "сделка с подержанным автомобилем            481\n",
       "автомобили                                  476\n",
       "свой автомобиль                             473\n",
       "на покупку подержанного автомобиля          471\n",
       "на покупку автомобиля                       469\n",
       "приобретение автомобиля                     459\n",
       "дополнительное образование                  455\n",
       "сделка с автомобилем                        455\n",
       "высшее образование                          446\n",
       "получение дополнительного образования       444\n",
       "образование                                 442\n",
       "получение образования                       440\n",
       "профильное образование                      432\n",
       "получение высшего образования               425\n",
       "заняться образованием                       408"
      ]
     },
     "metadata": {},
     "output_type": "display_data"
    }
   ],
   "source": [
    "# Уверен есть более изящный способ, но пока так.\n",
    "\n",
    "for col in df.select_dtypes(include='O').columns:\n",
    "    display(pd.DataFrame(df[col].value_counts()))\n"
   ]
  },
  {
   "cell_type": "markdown",
   "id": "1e30a10e",
   "metadata": {},
   "source": [
    "1. Мы видим, что колонки `education`, `family_status`, `income_type` не содержат скрытых дубликатов.\n",
    "2. Признак `gender` содержит одно неизвестное значение `XNA`\n",
    "3. Мы видим много дубликатов в колонке purpose. Видимо при заполнении анкеты люди имели ввиду одно и то же, но по разному описывали\n"
   ]
  },
  {
   "cell_type": "code",
   "execution_count": 38,
   "id": "9134035a",
   "metadata": {},
   "outputs": [
    {
     "data": {
      "text/html": [
       "<div>\n",
       "<style scoped>\n",
       "    .dataframe tbody tr th:only-of-type {\n",
       "        vertical-align: middle;\n",
       "    }\n",
       "\n",
       "    .dataframe tbody tr th {\n",
       "        vertical-align: top;\n",
       "    }\n",
       "\n",
       "    .dataframe thead th {\n",
       "        text-align: right;\n",
       "    }\n",
       "</style>\n",
       "<table border=\"1\" class=\"dataframe\">\n",
       "  <thead>\n",
       "    <tr style=\"text-align: right;\">\n",
       "      <th></th>\n",
       "      <th>children</th>\n",
       "      <th>days_employed</th>\n",
       "      <th>dob_years</th>\n",
       "      <th>education</th>\n",
       "      <th>education_id</th>\n",
       "      <th>family_status</th>\n",
       "      <th>family_status_id</th>\n",
       "      <th>gender</th>\n",
       "      <th>income_type</th>\n",
       "      <th>debt</th>\n",
       "      <th>total_income</th>\n",
       "      <th>purpose</th>\n",
       "    </tr>\n",
       "  </thead>\n",
       "  <tbody>\n",
       "    <tr>\n",
       "      <td>10629</td>\n",
       "      <td>0</td>\n",
       "      <td>2358.600502</td>\n",
       "      <td>24</td>\n",
       "      <td>неоконченное высшее</td>\n",
       "      <td>2</td>\n",
       "      <td>гражданский брак</td>\n",
       "      <td>1</td>\n",
       "      <td>XNA</td>\n",
       "      <td>компаньон</td>\n",
       "      <td>0</td>\n",
       "      <td>203905</td>\n",
       "      <td>покупка недвижимости</td>\n",
       "    </tr>\n",
       "  </tbody>\n",
       "</table>\n",
       "</div>"
      ],
      "text/plain": [
       "       children  days_employed  dob_years            education  education_id  \\\n",
       "10629         0    2358.600502         24  неоконченное высшее             2   \n",
       "\n",
       "          family_status  family_status_id gender income_type  debt  \\\n",
       "10629  гражданский брак                 1    XNA   компаньон     0   \n",
       "\n",
       "       total_income               purpose  \n",
       "10629        203905  покупка недвижимости  "
      ]
     },
     "execution_count": 38,
     "metadata": {},
     "output_type": "execute_result"
    }
   ],
   "source": [
    "# Посмотрим на строку, значение колонки gender которой содержит значение XNA\n",
    "\n",
    "df[df['gender'] == 'XNA']"
   ]
  },
  {
   "cell_type": "markdown",
   "id": "70bde46e",
   "metadata": {},
   "source": [
    "**Кроме значения `gender`, остальные значения выглядят вполне нормально, возможно наш клиент небинарная личность ? Данные удалять не будем**"
   ]
  },
  {
   "cell_type": "markdown",
   "id": "58f013f1",
   "metadata": {},
   "source": [
    "---"
   ]
  },
  {
   "cell_type": "markdown",
   "id": "2e2f1d63",
   "metadata": {},
   "source": [
    "**Видим много неявных дубликатов в категории purpose. В 7 шаге нас попросят написать функцию для обработки таких дубликатов, поэтому пока трогать их не будем**"
   ]
  },
  {
   "cell_type": "markdown",
   "id": "831f2e30",
   "metadata": {},
   "source": [
    "### Шаг 2.5. Формирование дополнительных датафреймов словарей, декомпозиция исходного датафрейма."
   ]
  },
  {
   "cell_type": "code",
   "execution_count": 39,
   "id": "18237799",
   "metadata": {},
   "outputs": [],
   "source": [
    "edu_df = df[['education_id', 'education']].drop_duplicates().reset_index(drop=True)\n",
    "family_df = df[['family_status_id', 'family_status']].drop_duplicates().reset_index(drop=True)\n"
   ]
  },
  {
   "cell_type": "code",
   "execution_count": 40,
   "id": "1e7b196c",
   "metadata": {},
   "outputs": [],
   "source": [
    "# Удалите из исходного датафрейма столбцы education и family_status\n",
    "df.drop(columns=['family_status', 'education'], inplace=True)"
   ]
  },
  {
   "cell_type": "markdown",
   "id": "67259753",
   "metadata": {},
   "source": [
    "### Шаг 2.6. Категоризация дохода."
   ]
  },
  {
   "cell_type": "code",
   "execution_count": 41,
   "id": "d24ce783",
   "metadata": {},
   "outputs": [],
   "source": [
    "# Разделим доход на категории \n",
    "def income_cat(income):\n",
    "    if income <= 30000: return \"E\"\n",
    "    elif 30001 <= income <= 50000: return \"D\"\n",
    "    elif 50001 <= income <= 200000: return \"C\"\n",
    "    elif 200001 <= income <= 1000000: return \"B\"\n",
    "    elif income >= 1000001: return \"A\"\n",
    "\n",
    "df['total_income_category']  = df['total_income'].apply(income_cat)"
   ]
  },
  {
   "cell_type": "code",
   "execution_count": 42,
   "id": "1b7bd377",
   "metadata": {},
   "outputs": [
    {
     "data": {
      "text/plain": [
       "C    15922\n",
       "B     5013\n",
       "D      349\n",
       "A       25\n",
       "E       22\n",
       "Name: total_income_category, dtype: int64"
      ]
     },
     "execution_count": 42,
     "metadata": {},
     "output_type": "execute_result"
    }
   ],
   "source": [
    "# Проверяем результат\n",
    "df['total_income_category'].value_counts()"
   ]
  },
  {
   "cell_type": "markdown",
   "id": "d6a68288",
   "metadata": {},
   "source": [
    "### Шаг 2.7. Категоризация целей кредита."
   ]
  },
  {
   "cell_type": "code",
   "execution_count": 59,
   "id": "2e47933f",
   "metadata": {},
   "outputs": [],
   "source": [
    "# Воспользуемся стеммингом, для поиска дубликатов\n",
    "\n",
    "from nltk.stem.snowball import SnowballStemmer \n",
    "stemmer = SnowballStemmer(\"russian\") \n",
    "\n",
    "purpose_values = ['операции с автомобилем',\n",
    "'операции с недвижимостью',\n",
    "'проведение свадьбы',\n",
    "'получение образования'] # Это список категорий, на которые мы заменим значения признака purpose\n",
    "\n",
    "stemmed_purpose_values = [] # в этом списке будут храниться ключевые стеммы для поиска в столбце purpose\n",
    "\n",
    "for value in purpose_values:\n",
    "    stemmed_purpose_values.append(stemmer.stem(value.split()[-1])) # берём именно последнее слово, т.к. оно является ключевым\n",
    "# print(stemmed_purpose_values)\n",
    "\n",
    "\n",
    "def lets_stem(query):\n",
    "    stemmed_query = stemmer.stem(query).split()\n",
    "    if stemmed_purpose_values[0] in stemmed_query: return purpose_values[0]\n",
    "    elif stemmed_purpose_values[1] in stemmed_query: return purpose_values[1]\n",
    "    elif stemmed_purpose_values[2] in stemmed_query: return purpose_values[2]\n",
    "    elif stemmed_purpose_values[3] in stemmed_query: return purpose_values[3]\n",
    "        "
   ]
  },
  {
   "cell_type": "code",
   "execution_count": 71,
   "id": "98c3038e",
   "metadata": {},
   "outputs": [
    {
     "data": {
      "text/plain": [
       "['автомобил', 'недвижим', 'свадьб', 'образован']"
      ]
     },
     "execution_count": 71,
     "metadata": {},
     "output_type": "execute_result"
    }
   ],
   "source": [
    "stemmed_purpose_values"
   ]
  },
  {
   "cell_type": "code",
   "execution_count": 74,
   "id": "d4b8e84b",
   "metadata": {},
   "outputs": [
    {
     "name": "stdout",
     "output_type": "stream",
     "text": [
      "ремонт жил\n",
      "ремонт жил\n",
      "ремонт жил\n",
      "ремонт жил\n",
      "ремонт жил\n",
      "ремонт жил\n",
      "ремонт жил\n",
      "ремонт жил\n",
      "ремонт жил\n",
      "ремонт жил\n",
      "ремонт жил\n",
      "ремонт жил\n",
      "ремонт жил\n",
      "ремонт жил\n",
      "ремонт жил\n",
      "ремонт жил\n",
      "ремонт жил\n",
      "ремонт жил\n",
      "ремонт жил\n",
      "ремонт жил\n",
      "ремонт жил\n",
      "ремонт жил\n",
      "ремонт жил\n",
      "ремонт жил\n",
      "ремонт жил\n",
      "ремонт жил\n",
      "ремонт жил\n",
      "ремонт жил\n",
      "ремонт жил\n",
      "ремонт жил\n",
      "ремонт жил\n",
      "ремонт жил\n",
      "ремонт жил\n",
      "ремонт жил\n",
      "ремонт жил\n",
      "ремонт жил\n",
      "ремонт жил\n",
      "ремонт жил\n",
      "ремонт жил\n",
      "ремонт жил\n",
      "ремонт жил\n",
      "ремонт жил\n",
      "ремонт жил\n",
      "ремонт жил\n",
      "ремонт жил\n",
      "ремонт жил\n",
      "ремонт жил\n",
      "ремонт жил\n",
      "ремонт жил\n",
      "ремонт жил\n",
      "ремонт жил\n",
      "ремонт жил\n",
      "ремонт жил\n",
      "ремонт жил\n",
      "ремонт жил\n",
      "ремонт жил\n",
      "ремонт жил\n",
      "ремонт жил\n",
      "ремонт жил\n",
      "ремонт жил\n",
      "ремонт жил\n",
      "ремонт жил\n",
      "ремонт жил\n",
      "ремонт жил\n",
      "ремонт жил\n",
      "ремонт жил\n",
      "ремонт жил\n",
      "ремонт жил\n",
      "ремонт жил\n",
      "ремонт жил\n",
      "ремонт жил\n",
      "ремонт жил\n",
      "ремонт жил\n",
      "ремонт жил\n",
      "ремонт жил\n",
      "ремонт жил\n",
      "ремонт жил\n",
      "ремонт жил\n",
      "ремонт жил\n",
      "ремонт жил\n",
      "ремонт жил\n",
      "ремонт жил\n",
      "ремонт жил\n",
      "ремонт жил\n",
      "ремонт жил\n",
      "ремонт жил\n",
      "ремонт жил\n",
      "ремонт жил\n",
      "ремонт жил\n",
      "ремонт жил\n",
      "ремонт жил\n",
      "ремонт жил\n",
      "ремонт жил\n",
      "ремонт жил\n",
      "ремонт жил\n",
      "ремонт жил\n",
      "ремонт жил\n",
      "ремонт жил\n",
      "ремонт жил\n",
      "ремонт жил\n",
      "ремонт жил\n",
      "ремонт жил\n",
      "ремонт жил\n",
      "ремонт жил\n",
      "ремонт жил\n",
      "ремонт жил\n",
      "ремонт жил\n",
      "ремонт жил\n",
      "ремонт жил\n",
      "ремонт жил\n",
      "ремонт жил\n",
      "ремонт жил\n",
      "ремонт жил\n",
      "ремонт жил\n",
      "ремонт жил\n",
      "ремонт жил\n",
      "ремонт жил\n",
      "ремонт жил\n",
      "ремонт жил\n",
      "ремонт жил\n",
      "ремонт жил\n",
      "ремонт жил\n",
      "ремонт жил\n",
      "ремонт жил\n",
      "ремонт жил\n",
      "ремонт жил\n",
      "ремонт жил\n",
      "ремонт жил\n",
      "ремонт жил\n",
      "ремонт жил\n",
      "ремонт жил\n",
      "ремонт жил\n",
      "ремонт жил\n",
      "ремонт жил\n",
      "ремонт жил\n",
      "ремонт жил\n",
      "ремонт жил\n",
      "ремонт жил\n",
      "ремонт жил\n",
      "ремонт жил\n",
      "ремонт жил\n",
      "ремонт жил\n",
      "ремонт жил\n",
      "ремонт жил\n",
      "ремонт жил\n",
      "ремонт жил\n",
      "ремонт жил\n",
      "ремонт жил\n",
      "ремонт жил\n",
      "ремонт жил\n",
      "ремонт жил\n",
      "ремонт жил\n",
      "ремонт жил\n",
      "ремонт жил\n",
      "ремонт жил\n",
      "ремонт жил\n",
      "ремонт жил\n",
      "ремонт жил\n",
      "ремонт жил\n",
      "ремонт жил\n",
      "ремонт жил\n",
      "ремонт жил\n",
      "ремонт жил\n",
      "ремонт жил\n",
      "ремонт жил\n",
      "ремонт жил\n",
      "ремонт жил\n",
      "ремонт жил\n",
      "ремонт жил\n",
      "ремонт жил\n",
      "ремонт жил\n",
      "ремонт жил\n",
      "ремонт жил\n",
      "ремонт жил\n",
      "ремонт жил\n",
      "ремонт жил\n",
      "ремонт жил\n",
      "ремонт жил\n",
      "ремонт жил\n",
      "ремонт жил\n",
      "ремонт жил\n",
      "ремонт жил\n",
      "ремонт жил\n",
      "ремонт жил\n",
      "ремонт жил\n",
      "ремонт жил\n",
      "ремонт жил\n",
      "ремонт жил\n",
      "ремонт жил\n",
      "ремонт жил\n",
      "ремонт жил\n",
      "ремонт жил\n",
      "ремонт жил\n",
      "ремонт жил\n",
      "ремонт жил\n",
      "ремонт жил\n",
      "ремонт жил\n",
      "ремонт жил\n",
      "ремонт жил\n",
      "ремонт жил\n",
      "ремонт жил\n",
      "ремонт жил\n",
      "ремонт жил\n",
      "ремонт жил\n",
      "ремонт жил\n",
      "ремонт жил\n",
      "ремонт жил\n",
      "ремонт жил\n",
      "ремонт жил\n",
      "ремонт жил\n",
      "ремонт жил\n",
      "ремонт жил\n",
      "ремонт жил\n",
      "ремонт жил\n",
      "ремонт жил\n",
      "ремонт жил\n",
      "ремонт жил\n",
      "ремонт жил\n",
      "ремонт жил\n",
      "ремонт жил\n",
      "ремонт жил\n",
      "ремонт жил\n",
      "ремонт жил\n",
      "ремонт жил\n",
      "ремонт жил\n",
      "ремонт жил\n",
      "ремонт жил\n",
      "ремонт жил\n",
      "ремонт жил\n",
      "ремонт жил\n",
      "ремонт жил\n",
      "ремонт жил\n",
      "ремонт жил\n",
      "ремонт жил\n",
      "ремонт жил\n",
      "ремонт жил\n",
      "ремонт жил\n",
      "ремонт жил\n",
      "ремонт жил\n",
      "ремонт жил\n",
      "ремонт жил\n",
      "ремонт жил\n",
      "ремонт жил\n",
      "ремонт жил\n",
      "ремонт жил\n",
      "ремонт жил\n",
      "ремонт жил\n",
      "ремонт жил\n",
      "ремонт жил\n",
      "ремонт жил\n",
      "ремонт жил\n",
      "ремонт жил\n",
      "ремонт жил\n",
      "ремонт жил\n",
      "ремонт жил\n",
      "ремонт жил\n",
      "ремонт жил\n",
      "ремонт жил\n",
      "ремонт жил\n",
      "ремонт жил\n",
      "ремонт жил\n",
      "ремонт жил\n",
      "ремонт жил\n",
      "ремонт жил\n",
      "ремонт жил\n",
      "ремонт жил\n",
      "ремонт жил\n",
      "ремонт жил\n",
      "ремонт жил\n",
      "ремонт жил\n",
      "ремонт жил\n",
      "ремонт жил\n",
      "ремонт жил\n",
      "ремонт жил\n",
      "ремонт жил\n",
      "ремонт жил\n",
      "ремонт жил\n",
      "ремонт жил\n",
      "ремонт жил\n",
      "ремонт жил\n",
      "ремонт жил\n",
      "ремонт жил\n",
      "ремонт жил\n",
      "ремонт жил\n",
      "ремонт жил\n",
      "ремонт жил\n",
      "ремонт жил\n",
      "ремонт жил\n",
      "ремонт жил\n",
      "ремонт жил\n",
      "ремонт жил\n",
      "ремонт жил\n",
      "ремонт жил\n",
      "ремонт жил\n",
      "ремонт жил\n",
      "ремонт жил\n",
      "ремонт жил\n",
      "ремонт жил\n",
      "ремонт жил\n",
      "ремонт жил\n",
      "ремонт жил\n",
      "ремонт жил\n",
      "ремонт жил\n",
      "ремонт жил\n",
      "ремонт жил\n",
      "ремонт жил\n",
      "ремонт жил\n",
      "ремонт жил\n",
      "ремонт жил\n",
      "ремонт жил\n",
      "ремонт жил\n",
      "ремонт жил\n",
      "ремонт жил\n",
      "ремонт жил\n",
      "ремонт жил\n",
      "ремонт жил\n",
      "ремонт жил\n",
      "ремонт жил\n",
      "ремонт жил\n",
      "ремонт жил\n",
      "ремонт жил\n",
      "ремонт жил\n",
      "ремонт жил\n",
      "ремонт жил\n",
      "ремонт жил\n",
      "ремонт жил\n",
      "ремонт жил\n",
      "ремонт жил\n",
      "ремонт жил\n",
      "ремонт жил\n",
      "ремонт жил\n",
      "ремонт жил\n",
      "ремонт жил\n",
      "ремонт жил\n",
      "ремонт жил\n",
      "ремонт жил\n",
      "ремонт жил\n",
      "ремонт жил\n",
      "ремонт жил\n",
      "ремонт жил\n",
      "ремонт жил\n",
      "ремонт жил\n",
      "ремонт жил\n",
      "ремонт жил\n",
      "ремонт жил\n",
      "ремонт жил\n",
      "ремонт жил\n",
      "ремонт жил\n",
      "ремонт жил\n",
      "ремонт жил\n",
      "ремонт жил\n",
      "ремонт жил\n",
      "ремонт жил\n",
      "ремонт жил\n",
      "ремонт жил\n",
      "ремонт жил\n",
      "ремонт жил\n",
      "ремонт жил\n",
      "ремонт жил\n",
      "ремонт жил\n",
      "ремонт жил\n",
      "ремонт жил\n",
      "ремонт жил\n",
      "ремонт жил\n",
      "ремонт жил\n",
      "ремонт жил\n",
      "ремонт жил\n",
      "ремонт жил\n",
      "ремонт жил\n",
      "ремонт жил\n",
      "ремонт жил\n",
      "ремонт жил\n",
      "ремонт жил\n",
      "ремонт жил\n",
      "ремонт жил\n",
      "ремонт жил\n",
      "ремонт жил\n",
      "ремонт жил\n",
      "ремонт жил\n",
      "ремонт жил\n",
      "ремонт жил\n",
      "ремонт жил\n",
      "ремонт жил\n",
      "ремонт жил\n",
      "ремонт жил\n",
      "ремонт жил\n",
      "ремонт жил\n",
      "ремонт жил\n",
      "ремонт жил\n",
      "ремонт жил\n",
      "ремонт жил\n",
      "ремонт жил\n",
      "ремонт жил\n",
      "ремонт жил\n",
      "ремонт жил\n",
      "ремонт жил\n",
      "ремонт жил\n",
      "ремонт жил\n",
      "ремонт жил\n",
      "ремонт жил\n",
      "ремонт жил\n",
      "ремонт жил\n",
      "ремонт жил\n",
      "ремонт жил\n",
      "ремонт жил\n",
      "ремонт жил\n",
      "ремонт жил\n",
      "ремонт жил\n",
      "ремонт жил\n",
      "ремонт жил\n",
      "ремонт жил\n",
      "ремонт жил\n",
      "ремонт жил\n",
      "ремонт жил\n",
      "ремонт жил\n",
      "ремонт жил\n",
      "ремонт жил\n",
      "ремонт жил\n",
      "ремонт жил\n",
      "ремонт жил\n",
      "ремонт жил\n",
      "ремонт жил\n",
      "ремонт жил\n",
      "ремонт жил\n",
      "ремонт жил\n",
      "ремонт жил\n",
      "ремонт жил\n",
      "ремонт жил\n",
      "ремонт жил\n",
      "ремонт жил\n",
      "ремонт жил\n",
      "ремонт жил\n",
      "ремонт жил\n",
      "ремонт жил\n",
      "ремонт жил\n",
      "ремонт жил\n",
      "ремонт жил\n",
      "ремонт жил\n",
      "ремонт жил\n",
      "ремонт жил\n",
      "ремонт жил\n",
      "ремонт жил\n",
      "ремонт жил\n",
      "ремонт жил\n",
      "ремонт жил\n",
      "ремонт жил\n",
      "ремонт жил\n",
      "ремонт жил\n",
      "ремонт жил\n",
      "ремонт жил\n",
      "ремонт жил\n",
      "ремонт жил\n",
      "ремонт жил\n",
      "ремонт жил\n",
      "ремонт жил\n",
      "ремонт жил\n",
      "ремонт жил\n",
      "ремонт жил\n",
      "ремонт жил\n",
      "ремонт жил\n",
      "ремонт жил\n",
      "ремонт жил\n",
      "ремонт жил\n",
      "ремонт жил\n",
      "ремонт жил\n",
      "ремонт жил\n",
      "ремонт жил\n",
      "ремонт жил\n",
      "ремонт жил\n",
      "ремонт жил\n",
      "ремонт жил\n",
      "ремонт жил\n",
      "ремонт жил\n",
      "ремонт жил\n",
      "ремонт жил\n",
      "ремонт жил\n",
      "ремонт жил\n",
      "ремонт жил\n",
      "ремонт жил\n",
      "ремонт жил\n",
      "ремонт жил\n",
      "ремонт жил\n",
      "ремонт жил\n",
      "ремонт жил\n",
      "ремонт жил\n",
      "ремонт жил\n",
      "ремонт жил\n",
      "ремонт жил\n",
      "ремонт жил\n",
      "ремонт жил\n",
      "ремонт жил\n",
      "ремонт жил\n",
      "ремонт жил\n",
      "ремонт жил\n",
      "ремонт жил\n",
      "ремонт жил\n",
      "ремонт жил\n",
      "ремонт жил\n",
      "ремонт жил\n",
      "ремонт жил\n",
      "ремонт жил\n",
      "ремонт жил\n",
      "ремонт жил\n",
      "ремонт жил\n",
      "ремонт жил\n",
      "ремонт жил\n",
      "ремонт жил\n",
      "ремонт жил\n",
      "ремонт жил\n",
      "ремонт жил\n",
      "ремонт жил\n",
      "ремонт жил\n",
      "ремонт жил\n",
      "ремонт жил\n",
      "ремонт жил\n",
      "ремонт жил\n",
      "ремонт жил\n",
      "ремонт жил\n",
      "ремонт жил\n",
      "ремонт жил\n",
      "ремонт жил\n",
      "ремонт жил\n",
      "ремонт жил\n",
      "ремонт жил\n",
      "ремонт жил\n",
      "ремонт жил\n",
      "ремонт жил\n",
      "ремонт жил\n",
      "ремонт жил\n",
      "ремонт жил\n",
      "ремонт жил\n",
      "ремонт жил\n",
      "ремонт жил\n",
      "ремонт жил\n",
      "ремонт жил\n",
      "ремонт жил\n",
      "ремонт жил\n",
      "ремонт жил\n",
      "ремонт жил\n",
      "ремонт жил\n",
      "ремонт жил\n",
      "ремонт жил\n",
      "ремонт жил\n",
      "ремонт жил\n",
      "ремонт жил\n",
      "ремонт жил\n",
      "ремонт жил\n",
      "ремонт жил\n",
      "ремонт жил\n",
      "ремонт жил\n",
      "ремонт жил\n",
      "ремонт жил\n",
      "ремонт жил\n",
      "ремонт жил\n",
      "ремонт жил\n",
      "ремонт жил\n",
      "ремонт жил\n",
      "ремонт жил\n",
      "ремонт жил\n",
      "ремонт жил\n",
      "ремонт жил\n",
      "ремонт жил\n",
      "ремонт жил\n",
      "ремонт жил\n",
      "ремонт жил\n",
      "ремонт жил\n",
      "ремонт жил\n",
      "ремонт жил\n",
      "ремонт жил\n",
      "ремонт жил\n",
      "ремонт жил\n",
      "ремонт жил\n",
      "ремонт жил\n",
      "ремонт жил\n",
      "ремонт жил\n",
      "ремонт жил\n",
      "ремонт жил\n",
      "ремонт жил\n",
      "ремонт жил\n",
      "ремонт жил\n",
      "ремонт жил\n",
      "ремонт жил\n",
      "ремонт жил\n",
      "ремонт жил\n",
      "ремонт жил\n",
      "ремонт жил\n",
      "ремонт жил\n",
      "ремонт жил\n",
      "ремонт жил\n",
      "ремонт жил\n",
      "ремонт жил\n",
      "ремонт жил\n",
      "ремонт жил\n",
      "ремонт жил\n",
      "ремонт жил\n",
      "ремонт жил\n",
      "ремонт жил\n",
      "ремонт жил\n",
      "ремонт жил\n",
      "ремонт жил\n",
      "ремонт жил\n",
      "ремонт жил\n",
      "ремонт жил\n",
      "ремонт жил\n"
     ]
    }
   ],
   "source": [
    "for elem in df[df['purpose'].str.contains('ремон')]['purpose']:\n",
    "    stemmed = stemmer.stem(elem)\n",
    "    print(stemmed)\n",
    "    if stemmed_purpose_values[1] in stemmed: print(stemmed)\n"
   ]
  },
  {
   "cell_type": "code",
   "execution_count": 75,
   "id": "e5222df9",
   "metadata": {},
   "outputs": [],
   "source": [
    "df['purpose_category'] = df['purpose'].apply(lets_stem)"
   ]
  },
  {
   "cell_type": "code",
   "execution_count": 81,
   "id": "af7c0458",
   "metadata": {},
   "outputs": [
    {
     "data": {
      "text/html": [
       "<div>\n",
       "<style scoped>\n",
       "    .dataframe tbody tr th:only-of-type {\n",
       "        vertical-align: middle;\n",
       "    }\n",
       "\n",
       "    .dataframe tbody tr th {\n",
       "        vertical-align: top;\n",
       "    }\n",
       "\n",
       "    .dataframe thead th {\n",
       "        text-align: right;\n",
       "    }\n",
       "</style>\n",
       "<table border=\"1\" class=\"dataframe\">\n",
       "  <thead>\n",
       "    <tr style=\"text-align: right;\">\n",
       "      <th></th>\n",
       "      <th>children</th>\n",
       "      <th>days_employed</th>\n",
       "      <th>dob_years</th>\n",
       "      <th>education_id</th>\n",
       "      <th>family_status_id</th>\n",
       "      <th>gender</th>\n",
       "      <th>income_type</th>\n",
       "      <th>debt</th>\n",
       "      <th>total_income</th>\n",
       "      <th>purpose</th>\n",
       "      <th>total_income_category</th>\n",
       "      <th>purpose_category</th>\n",
       "    </tr>\n",
       "  </thead>\n",
       "  <tbody>\n",
       "    <tr>\n",
       "      <td>139</td>\n",
       "      <td>0</td>\n",
       "      <td>1765.557387</td>\n",
       "      <td>29</td>\n",
       "      <td>2</td>\n",
       "      <td>0</td>\n",
       "      <td>M</td>\n",
       "      <td>компаньон</td>\n",
       "      <td>0</td>\n",
       "      <td>196932</td>\n",
       "      <td>ремонт жилью</td>\n",
       "      <td>C</td>\n",
       "      <td>None</td>\n",
       "    </tr>\n",
       "    <tr>\n",
       "      <td>163</td>\n",
       "      <td>0</td>\n",
       "      <td>7473.902957</td>\n",
       "      <td>50</td>\n",
       "      <td>1</td>\n",
       "      <td>0</td>\n",
       "      <td>M</td>\n",
       "      <td>сотрудник</td>\n",
       "      <td>0</td>\n",
       "      <td>78975</td>\n",
       "      <td>ремонт жилью</td>\n",
       "      <td>C</td>\n",
       "      <td>None</td>\n",
       "    </tr>\n",
       "    <tr>\n",
       "      <td>228</td>\n",
       "      <td>0</td>\n",
       "      <td>1810.868889</td>\n",
       "      <td>60</td>\n",
       "      <td>1</td>\n",
       "      <td>4</td>\n",
       "      <td>F</td>\n",
       "      <td>пенсионер</td>\n",
       "      <td>0</td>\n",
       "      <td>190426</td>\n",
       "      <td>ремонт жилью</td>\n",
       "      <td>C</td>\n",
       "      <td>None</td>\n",
       "    </tr>\n",
       "    <tr>\n",
       "      <td>270</td>\n",
       "      <td>3</td>\n",
       "      <td>1872.663186</td>\n",
       "      <td>39</td>\n",
       "      <td>1</td>\n",
       "      <td>0</td>\n",
       "      <td>F</td>\n",
       "      <td>сотрудник</td>\n",
       "      <td>0</td>\n",
       "      <td>102166</td>\n",
       "      <td>ремонт жилью</td>\n",
       "      <td>C</td>\n",
       "      <td>None</td>\n",
       "    </tr>\n",
       "    <tr>\n",
       "      <td>276</td>\n",
       "      <td>0</td>\n",
       "      <td>8631.590122</td>\n",
       "      <td>64</td>\n",
       "      <td>1</td>\n",
       "      <td>0</td>\n",
       "      <td>F</td>\n",
       "      <td>сотрудник</td>\n",
       "      <td>0</td>\n",
       "      <td>160814</td>\n",
       "      <td>ремонт жилью</td>\n",
       "      <td>C</td>\n",
       "      <td>None</td>\n",
       "    </tr>\n",
       "    <tr>\n",
       "      <td>...</td>\n",
       "      <td>...</td>\n",
       "      <td>...</td>\n",
       "      <td>...</td>\n",
       "      <td>...</td>\n",
       "      <td>...</td>\n",
       "      <td>...</td>\n",
       "      <td>...</td>\n",
       "      <td>...</td>\n",
       "      <td>...</td>\n",
       "      <td>...</td>\n",
       "      <td>...</td>\n",
       "      <td>...</td>\n",
       "    </tr>\n",
       "    <tr>\n",
       "      <td>21214</td>\n",
       "      <td>2</td>\n",
       "      <td>223.085545</td>\n",
       "      <td>47</td>\n",
       "      <td>1</td>\n",
       "      <td>0</td>\n",
       "      <td>M</td>\n",
       "      <td>сотрудник</td>\n",
       "      <td>0</td>\n",
       "      <td>273940</td>\n",
       "      <td>ремонт жилью</td>\n",
       "      <td>B</td>\n",
       "      <td>None</td>\n",
       "    </tr>\n",
       "    <tr>\n",
       "      <td>21232</td>\n",
       "      <td>0</td>\n",
       "      <td>106.691955</td>\n",
       "      <td>34</td>\n",
       "      <td>1</td>\n",
       "      <td>0</td>\n",
       "      <td>F</td>\n",
       "      <td>компаньон</td>\n",
       "      <td>0</td>\n",
       "      <td>400614</td>\n",
       "      <td>ремонт жилью</td>\n",
       "      <td>B</td>\n",
       "      <td>None</td>\n",
       "    </tr>\n",
       "    <tr>\n",
       "      <td>21268</td>\n",
       "      <td>0</td>\n",
       "      <td>6105.851119</td>\n",
       "      <td>58</td>\n",
       "      <td>0</td>\n",
       "      <td>0</td>\n",
       "      <td>F</td>\n",
       "      <td>компаньон</td>\n",
       "      <td>0</td>\n",
       "      <td>111479</td>\n",
       "      <td>ремонт жилью</td>\n",
       "      <td>C</td>\n",
       "      <td>None</td>\n",
       "    </tr>\n",
       "    <tr>\n",
       "      <td>21271</td>\n",
       "      <td>1</td>\n",
       "      <td>949.005714</td>\n",
       "      <td>25</td>\n",
       "      <td>1</td>\n",
       "      <td>4</td>\n",
       "      <td>F</td>\n",
       "      <td>сотрудник</td>\n",
       "      <td>0</td>\n",
       "      <td>105262</td>\n",
       "      <td>ремонт жилью</td>\n",
       "      <td>C</td>\n",
       "      <td>None</td>\n",
       "    </tr>\n",
       "    <tr>\n",
       "      <td>21287</td>\n",
       "      <td>0</td>\n",
       "      <td>8799.354717</td>\n",
       "      <td>45</td>\n",
       "      <td>0</td>\n",
       "      <td>4</td>\n",
       "      <td>F</td>\n",
       "      <td>сотрудник</td>\n",
       "      <td>0</td>\n",
       "      <td>146945</td>\n",
       "      <td>ремонт жилью</td>\n",
       "      <td>C</td>\n",
       "      <td>None</td>\n",
       "    </tr>\n",
       "  </tbody>\n",
       "</table>\n",
       "<p>604 rows × 12 columns</p>\n",
       "</div>"
      ],
      "text/plain": [
       "       children  days_employed  dob_years  education_id  family_status_id  \\\n",
       "139           0    1765.557387         29             2                 0   \n",
       "163           0    7473.902957         50             1                 0   \n",
       "228           0    1810.868889         60             1                 4   \n",
       "270           3    1872.663186         39             1                 0   \n",
       "276           0    8631.590122         64             1                 0   \n",
       "...         ...            ...        ...           ...               ...   \n",
       "21214         2     223.085545         47             1                 0   \n",
       "21232         0     106.691955         34             1                 0   \n",
       "21268         0    6105.851119         58             0                 0   \n",
       "21271         1     949.005714         25             1                 4   \n",
       "21287         0    8799.354717         45             0                 4   \n",
       "\n",
       "      gender income_type  debt  total_income       purpose  \\\n",
       "139        M   компаньон     0        196932  ремонт жилью   \n",
       "163        M   сотрудник     0         78975  ремонт жилью   \n",
       "228        F   пенсионер     0        190426  ремонт жилью   \n",
       "270        F   сотрудник     0        102166  ремонт жилью   \n",
       "276        F   сотрудник     0        160814  ремонт жилью   \n",
       "...      ...         ...   ...           ...           ...   \n",
       "21214      M   сотрудник     0        273940  ремонт жилью   \n",
       "21232      F   компаньон     0        400614  ремонт жилью   \n",
       "21268      F   компаньон     0        111479  ремонт жилью   \n",
       "21271      F   сотрудник     0        105262  ремонт жилью   \n",
       "21287      F   сотрудник     0        146945  ремонт жилью   \n",
       "\n",
       "      total_income_category purpose_category  \n",
       "139                       C             None  \n",
       "163                       C             None  \n",
       "228                       C             None  \n",
       "270                       C             None  \n",
       "276                       C             None  \n",
       "...                     ...              ...  \n",
       "21214                     B             None  \n",
       "21232                     B             None  \n",
       "21268                     C             None  \n",
       "21271                     C             None  \n",
       "21287                     C             None  \n",
       "\n",
       "[604 rows x 12 columns]"
      ]
     },
     "execution_count": 81,
     "metadata": {},
     "output_type": "execute_result"
    }
   ],
   "source": [
    "df[df['purpose'].str.contains('ремон')]"
   ]
  },
  {
   "cell_type": "code",
   "execution_count": 79,
   "id": "99f7a4f3",
   "metadata": {},
   "outputs": [
    {
     "data": {
      "text/plain": [
       "(21331, 12)"
      ]
     },
     "execution_count": 79,
     "metadata": {},
     "output_type": "execute_result"
    }
   ],
   "source": [
    "df.shape"
   ]
  },
  {
   "cell_type": "code",
   "execution_count": 43,
   "id": "98b4d706",
   "metadata": {},
   "outputs": [
    {
     "data": {
      "text/plain": [
       "операции с недвижимостью    6314\n",
       "получение образования       3988\n",
       "операции с автомобилем      3803\n",
       "проведение свадьбы          2313\n",
       "Name: purpose_category, dtype: int64"
      ]
     },
     "execution_count": 43,
     "metadata": {},
     "output_type": "execute_result"
    }
   ],
   "source": [
    "df['purpose_category'].value_counts()"
   ]
  },
  {
   "cell_type": "markdown",
   "id": "1587dbe6",
   "metadata": {},
   "source": [
    "### Ответы на вопросы."
   ]
  },
  {
   "cell_type": "markdown",
   "id": "671f5c07",
   "metadata": {},
   "source": [
    "Для ответа на финальные вопросы, посмотрим на сводные таблицы, которые посчитают долю плохих клиентов, не возвращающих долги в срок. Таблицы отсортированы в порядке убывания (от плохих категорий клиентов, к хорошим)\n"
   ]
  },
  {
   "cell_type": "code",
   "execution_count": 44,
   "id": "c8838eb5",
   "metadata": {},
   "outputs": [],
   "source": [
    "# Для ответа на финальные вопросы, посмотрим на сводные таблицы, которые посчитают долю плохих клиентов, \n",
    "# не возвращающих долги в срок. \n",
    "# Таблицы отсортированы в порядке убывания (от плохих категорий клиентов, к хорошим)\n",
    "\n",
    "def custom_pivot(data, target_column, index, aggfunc=['count', 'sum'], count_perc=True):\n",
    "    pivot = data.pivot_table(values=target_column, index=index, aggfunc=aggfunc)\n",
    "    if count_perc:\n",
    "        pivot['perc'] = round(pivot['sum'][target_column] / pivot['count'][target_column]* 100, 2)\n",
    "    return pivot.sort_values('perc', ascending=False)"
   ]
  },
  {
   "cell_type": "code",
   "execution_count": 45,
   "id": "e0d6971f",
   "metadata": {},
   "outputs": [
    {
     "data": {
      "text/html": [
       "<div>\n",
       "<style scoped>\n",
       "    .dataframe tbody tr th:only-of-type {\n",
       "        vertical-align: middle;\n",
       "    }\n",
       "\n",
       "    .dataframe tbody tr th {\n",
       "        vertical-align: top;\n",
       "    }\n",
       "\n",
       "    .dataframe thead tr th {\n",
       "        text-align: left;\n",
       "    }\n",
       "\n",
       "    .dataframe thead tr:last-of-type th {\n",
       "        text-align: right;\n",
       "    }\n",
       "</style>\n",
       "<table border=\"1\" class=\"dataframe\">\n",
       "  <thead>\n",
       "    <tr>\n",
       "      <th></th>\n",
       "      <th>count</th>\n",
       "      <th>sum</th>\n",
       "      <th>perc</th>\n",
       "    </tr>\n",
       "    <tr>\n",
       "      <th></th>\n",
       "      <th>debt</th>\n",
       "      <th>debt</th>\n",
       "      <th></th>\n",
       "    </tr>\n",
       "    <tr>\n",
       "      <th>children</th>\n",
       "      <th></th>\n",
       "      <th></th>\n",
       "      <th></th>\n",
       "    </tr>\n",
       "  </thead>\n",
       "  <tbody>\n",
       "    <tr>\n",
       "      <td>4</td>\n",
       "      <td>41</td>\n",
       "      <td>4</td>\n",
       "      <td>9.76</td>\n",
       "    </tr>\n",
       "    <tr>\n",
       "      <td>2</td>\n",
       "      <td>2052</td>\n",
       "      <td>194</td>\n",
       "      <td>9.45</td>\n",
       "    </tr>\n",
       "    <tr>\n",
       "      <td>1</td>\n",
       "      <td>4808</td>\n",
       "      <td>444</td>\n",
       "      <td>9.23</td>\n",
       "    </tr>\n",
       "    <tr>\n",
       "      <td>3</td>\n",
       "      <td>330</td>\n",
       "      <td>27</td>\n",
       "      <td>8.18</td>\n",
       "    </tr>\n",
       "    <tr>\n",
       "      <td>0</td>\n",
       "      <td>14091</td>\n",
       "      <td>1063</td>\n",
       "      <td>7.54</td>\n",
       "    </tr>\n",
       "    <tr>\n",
       "      <td>5</td>\n",
       "      <td>9</td>\n",
       "      <td>0</td>\n",
       "      <td>0.00</td>\n",
       "    </tr>\n",
       "  </tbody>\n",
       "</table>\n",
       "</div>"
      ],
      "text/plain": [
       "          count   sum  perc\n",
       "           debt  debt      \n",
       "children                   \n",
       "4            41     4  9.76\n",
       "2          2052   194  9.45\n",
       "1          4808   444  9.23\n",
       "3           330    27  8.18\n",
       "0         14091  1063  7.54\n",
       "5             9     0  0.00"
      ]
     },
     "metadata": {},
     "output_type": "display_data"
    },
    {
     "data": {
      "text/html": [
       "<div>\n",
       "<style scoped>\n",
       "    .dataframe tbody tr th:only-of-type {\n",
       "        vertical-align: middle;\n",
       "    }\n",
       "\n",
       "    .dataframe tbody tr th {\n",
       "        vertical-align: top;\n",
       "    }\n",
       "\n",
       "    .dataframe thead tr th {\n",
       "        text-align: left;\n",
       "    }\n",
       "\n",
       "    .dataframe thead tr:last-of-type th {\n",
       "        text-align: right;\n",
       "    }\n",
       "</style>\n",
       "<table border=\"1\" class=\"dataframe\">\n",
       "  <thead>\n",
       "    <tr>\n",
       "      <th></th>\n",
       "      <th>count</th>\n",
       "      <th>sum</th>\n",
       "      <th>perc</th>\n",
       "    </tr>\n",
       "    <tr>\n",
       "      <th></th>\n",
       "      <th>debt</th>\n",
       "      <th>debt</th>\n",
       "      <th></th>\n",
       "    </tr>\n",
       "    <tr>\n",
       "      <th>total_income_category</th>\n",
       "      <th></th>\n",
       "      <th></th>\n",
       "      <th></th>\n",
       "    </tr>\n",
       "  </thead>\n",
       "  <tbody>\n",
       "    <tr>\n",
       "      <td>E</td>\n",
       "      <td>22</td>\n",
       "      <td>2</td>\n",
       "      <td>9.09</td>\n",
       "    </tr>\n",
       "    <tr>\n",
       "      <td>C</td>\n",
       "      <td>15922</td>\n",
       "      <td>1353</td>\n",
       "      <td>8.50</td>\n",
       "    </tr>\n",
       "    <tr>\n",
       "      <td>A</td>\n",
       "      <td>25</td>\n",
       "      <td>2</td>\n",
       "      <td>8.00</td>\n",
       "    </tr>\n",
       "    <tr>\n",
       "      <td>B</td>\n",
       "      <td>5013</td>\n",
       "      <td>354</td>\n",
       "      <td>7.06</td>\n",
       "    </tr>\n",
       "    <tr>\n",
       "      <td>D</td>\n",
       "      <td>349</td>\n",
       "      <td>21</td>\n",
       "      <td>6.02</td>\n",
       "    </tr>\n",
       "  </tbody>\n",
       "</table>\n",
       "</div>"
      ],
      "text/plain": [
       "                       count   sum  perc\n",
       "                        debt  debt      \n",
       "total_income_category                   \n",
       "E                         22     2  9.09\n",
       "C                      15922  1353  8.50\n",
       "A                         25     2  8.00\n",
       "B                       5013   354  7.06\n",
       "D                        349    21  6.02"
      ]
     },
     "metadata": {},
     "output_type": "display_data"
    },
    {
     "data": {
      "text/html": [
       "<div>\n",
       "<style scoped>\n",
       "    .dataframe tbody tr th:only-of-type {\n",
       "        vertical-align: middle;\n",
       "    }\n",
       "\n",
       "    .dataframe tbody tr th {\n",
       "        vertical-align: top;\n",
       "    }\n",
       "\n",
       "    .dataframe thead tr th {\n",
       "        text-align: left;\n",
       "    }\n",
       "\n",
       "    .dataframe thead tr:last-of-type th {\n",
       "        text-align: right;\n",
       "    }\n",
       "</style>\n",
       "<table border=\"1\" class=\"dataframe\">\n",
       "  <thead>\n",
       "    <tr>\n",
       "      <th></th>\n",
       "      <th>count</th>\n",
       "      <th>sum</th>\n",
       "      <th>perc</th>\n",
       "    </tr>\n",
       "    <tr>\n",
       "      <th></th>\n",
       "      <th>debt</th>\n",
       "      <th>debt</th>\n",
       "      <th></th>\n",
       "    </tr>\n",
       "    <tr>\n",
       "      <th>family_status</th>\n",
       "      <th></th>\n",
       "      <th></th>\n",
       "      <th></th>\n",
       "    </tr>\n",
       "  </thead>\n",
       "  <tbody>\n",
       "    <tr>\n",
       "      <td>Не женат / не замужем</td>\n",
       "      <td>2796</td>\n",
       "      <td>273</td>\n",
       "      <td>9.76</td>\n",
       "    </tr>\n",
       "    <tr>\n",
       "      <td>гражданский брак</td>\n",
       "      <td>4134</td>\n",
       "      <td>385</td>\n",
       "      <td>9.31</td>\n",
       "    </tr>\n",
       "    <tr>\n",
       "      <td>женат / замужем</td>\n",
       "      <td>12261</td>\n",
       "      <td>927</td>\n",
       "      <td>7.56</td>\n",
       "    </tr>\n",
       "    <tr>\n",
       "      <td>в разводе</td>\n",
       "      <td>1189</td>\n",
       "      <td>84</td>\n",
       "      <td>7.06</td>\n",
       "    </tr>\n",
       "    <tr>\n",
       "      <td>вдовец / вдова</td>\n",
       "      <td>951</td>\n",
       "      <td>63</td>\n",
       "      <td>6.62</td>\n",
       "    </tr>\n",
       "  </tbody>\n",
       "</table>\n",
       "</div>"
      ],
      "text/plain": [
       "                       count  sum  perc\n",
       "                        debt debt      \n",
       "family_status                          \n",
       "Не женат / не замужем   2796  273  9.76\n",
       "гражданский брак        4134  385  9.31\n",
       "женат / замужем        12261  927  7.56\n",
       "в разводе               1189   84  7.06\n",
       "вдовец / вдова           951   63  6.62"
      ]
     },
     "metadata": {},
     "output_type": "display_data"
    },
    {
     "data": {
      "text/html": [
       "<div>\n",
       "<style scoped>\n",
       "    .dataframe tbody tr th:only-of-type {\n",
       "        vertical-align: middle;\n",
       "    }\n",
       "\n",
       "    .dataframe tbody tr th {\n",
       "        vertical-align: top;\n",
       "    }\n",
       "\n",
       "    .dataframe thead tr th {\n",
       "        text-align: left;\n",
       "    }\n",
       "\n",
       "    .dataframe thead tr:last-of-type th {\n",
       "        text-align: right;\n",
       "    }\n",
       "</style>\n",
       "<table border=\"1\" class=\"dataframe\">\n",
       "  <thead>\n",
       "    <tr>\n",
       "      <th></th>\n",
       "      <th>count</th>\n",
       "      <th>sum</th>\n",
       "      <th>perc</th>\n",
       "    </tr>\n",
       "    <tr>\n",
       "      <th></th>\n",
       "      <th>debt</th>\n",
       "      <th>debt</th>\n",
       "      <th></th>\n",
       "    </tr>\n",
       "    <tr>\n",
       "      <th>purpose_category</th>\n",
       "      <th></th>\n",
       "      <th></th>\n",
       "      <th></th>\n",
       "    </tr>\n",
       "  </thead>\n",
       "  <tbody>\n",
       "    <tr>\n",
       "      <td>операции с автомобилем</td>\n",
       "      <td>3803</td>\n",
       "      <td>356</td>\n",
       "      <td>9.36</td>\n",
       "    </tr>\n",
       "    <tr>\n",
       "      <td>получение образования</td>\n",
       "      <td>3988</td>\n",
       "      <td>369</td>\n",
       "      <td>9.25</td>\n",
       "    </tr>\n",
       "    <tr>\n",
       "      <td>проведение свадьбы</td>\n",
       "      <td>2313</td>\n",
       "      <td>183</td>\n",
       "      <td>7.91</td>\n",
       "    </tr>\n",
       "    <tr>\n",
       "      <td>операции с недвижимостью</td>\n",
       "      <td>6314</td>\n",
       "      <td>472</td>\n",
       "      <td>7.48</td>\n",
       "    </tr>\n",
       "  </tbody>\n",
       "</table>\n",
       "</div>"
      ],
      "text/plain": [
       "                         count  sum  perc\n",
       "                          debt debt      \n",
       "purpose_category                         \n",
       "операции с автомобилем    3803  356  9.36\n",
       "получение образования     3988  369  9.25\n",
       "проведение свадьбы        2313  183  7.91\n",
       "операции с недвижимостью  6314  472  7.48"
      ]
     },
     "metadata": {},
     "output_type": "display_data"
    }
   ],
   "source": [
    "pivots_list = ['children', 'total_income_category', 'family_status','purpose_category']\n",
    "df = df.merge(family_df, on='family_status_id')\n",
    "for pivot in pivots_list:\n",
    "    display(custom_pivot(df, 'debt', pivot))"
   ]
  },
  {
   "cell_type": "markdown",
   "id": "acaf1fde",
   "metadata": {},
   "source": [
    "##### Есть ли зависимость между количеством детей и возвратом кредита в срок?"
   ]
  },
  {
   "cell_type": "markdown",
   "id": "1620e034",
   "metadata": {},
   "source": [
    "\n",
    "Мы видим определенную зависимость между кол-вом детей и риском невозврата, однако зависимость нелинейна. Наивысший риск невозврата, среди клиентов с 4 детьми, однако среди клиентов с 5ю детьми нет ни одной задолженности. "
   ]
  },
  {
   "cell_type": "markdown",
   "id": "f90a2e09",
   "metadata": {},
   "source": [
    "##### Есть ли зависимость между семейным положением и возвратом кредита в срок?"
   ]
  },
  {
   "cell_type": "markdown",
   "id": "daf55984",
   "metadata": {},
   "source": [
    "Зависимость есть, меньше всего должников, среди вдов и вдовцов. Больше всего - среди холостых. "
   ]
  },
  {
   "cell_type": "markdown",
   "id": "c3cc46cd",
   "metadata": {},
   "source": [
    "##### Есть ли зависимость между уровнем дохода и возвратом кредита в срок?"
   ]
  },
  {
   "cell_type": "markdown",
   "id": "42728b9e",
   "metadata": {},
   "source": [
    "Зависимость есть люди с низкими доходами реже возрващают кредит в срок. "
   ]
  },
  {
   "cell_type": "markdown",
   "id": "a3656d91",
   "metadata": {},
   "source": [
    "##### Как разные цели кредита влияют на его возврат в срок?"
   ]
  },
  {
   "cell_type": "markdown",
   "id": "504193c6",
   "metadata": {},
   "source": [
    "Мы видим, что клиенты, покупающие автомобили в кредит - наименее надёжные заёмщики. \n",
    "Те же, кто берут кредит на недвижимость - самые надёжные клиенты. \n",
    "Интересно, что люди, берущие кредит на свадьбу - почти такие же надёжные, как и ипотечные клиенты, что противоречит интуитивным выводам, т.к. кажется, что люди, берущие кредит на свадьбу, достаточно безрассудны. "
   ]
  },
  {
   "cell_type": "markdown",
   "id": "14e127f6",
   "metadata": {},
   "source": [
    "## Общий вывод:"
   ]
  },
  {
   "cell_type": "markdown",
   "id": "59a3caaf",
   "metadata": {},
   "source": [
    "Вывод\n",
    "* В процессе обработки данных нам удалось найти пропущенные значения в двух столбцах: days_employed и total_income. Доля пропущенных значений в обоих столбцах составила 10.1 %. \n",
    "* Пропущенные значения заменены медианным значением выборки. \n",
    "* Так же было обнаружено, что больше всего пропущенных значений стажа у категории «сотрудники», что является логическим противоречием. **На основе имеющихся данных выдвинута гипотеза, о том, что незаполненные значения могут означать невозможность таких клиентов подтвердить свой доход документально. Гипотеза требует подтверждения от заказчика.**\n",
    "\n",
    "\n",
    "Так же в данных обнаружены следующие аномалии:\n",
    "* Количество детей принимает отрицательные значения у 47 клиентов и равно 20 у 76 клиентов. Доля таких данных - 0.57 %. Принято решение об удалении этих данных из датасета.\n",
    "* Так же в колонке стаж обнаружены аномальные значения: отрицательные и непропорционально большие. Отрицательные значения заменены на абсолютные, непропорциональные заменены медианой. Для наглядности построен график\n",
    "* В колонке «Пол» обнаружено одно нестандартное значение «XNA» Решено оставить его без изменений\n",
    "* Найдено 100 клиентов со значением 0 признака «возраст». Заменено медианой по категории типа занятости. \n",
    "* Построен график распределения признака «Ежемесячный доход», выбросов и аномалий на нем не замечено, график имеет экспоненциальное распределение.\n",
    "Изменение типов данных:\n",
    "* Данные признака total_income приведены к типу int64\n",
    "Поиск дубликатов:\n",
    "* Найдены как явные, так и неявные дубликаты. Особенно много их оказалось в колонках education, где была проблема с регистром ввода. \n",
    "* Также много дубликатов у признака «Цель кредита». Для устранения таких дубликатов использован метод стемминга.\n",
    "Категоризация:\n",
    "* Доход распределн по категориям, согласно заданию\n",
    "* Цели кредита распределены по категориям, дубликаты удалены и не повлияют на выводы исследования. \n",
    "\n",
    "Главные выводы опираются на данные сводных таблиц и дают базовое представление о взаимосвязи разных катгорий клиентов и возвратом долга. Среди категорий клиентов **в зоне риска** можно выделить следующие:\n",
    "* Холостые\n",
    "* Клиенты с 4 детьми\n",
    "* Клиенты с низкими доходами\n",
    "* Клиенты, которые берут кредит на автомобиль или обучение.\n",
    "\n",
    "Среди **надежных категорий клиентов** можно выделить:\n",
    "\n",
    "* Клиенты без детей\n",
    "* Клиенты, чей доход находится в диапазоне 30-50 тысяч.\n",
    "* Вдовы и вдовцы\n",
    "* Клиенты с целью кредита - недвижимость или свадьба. \n",
    "\n",
    "Стоит обратить отдельное внимание, что клиенты, попавшие в категорию ненадёжных, требуют более детального изучения, однако будет ошибкой сразу отказывать им в кредите, так как большинство клиентов в этих категориях все же возвращают кредит. \n",
    "* Средний процент возврата по ненадёжным категориям составляет 90.6%. \n",
    "* Средний процент возврата по надежным категориям составляет 94.%\n",
    "\n",
    "\n"
   ]
  }
 ],
 "metadata": {
  "ExecuteTimeLog": [
   {
    "duration": 667,
    "start_time": "2022-02-14T09:16:59.574Z"
   },
   {
    "duration": 3,
    "start_time": "2022-02-14T09:17:20.318Z"
   },
   {
    "duration": 92,
    "start_time": "2022-02-14T09:18:03.742Z"
   },
   {
    "duration": 724,
    "start_time": "2022-02-14T09:18:08.117Z"
   },
   {
    "duration": 63,
    "start_time": "2022-02-14T09:18:38.785Z"
   },
   {
    "duration": 18,
    "start_time": "2022-02-14T09:19:16.943Z"
   },
   {
    "duration": 12,
    "start_time": "2022-02-14T09:19:52.141Z"
   },
   {
    "duration": 11,
    "start_time": "2022-02-14T09:24:01.982Z"
   },
   {
    "duration": 16,
    "start_time": "2022-02-14T09:24:47.004Z"
   },
   {
    "duration": 15,
    "start_time": "2022-02-14T09:25:45.984Z"
   },
   {
    "duration": 8,
    "start_time": "2022-02-14T09:27:35.431Z"
   },
   {
    "duration": 7,
    "start_time": "2022-02-14T09:27:58.974Z"
   },
   {
    "duration": 5,
    "start_time": "2022-02-14T09:28:10.449Z"
   },
   {
    "duration": 5,
    "start_time": "2022-02-14T09:28:42.187Z"
   },
   {
    "duration": 5,
    "start_time": "2022-02-14T09:28:46.667Z"
   },
   {
    "duration": 329,
    "start_time": "2022-02-14T09:29:04.517Z"
   },
   {
    "duration": 8,
    "start_time": "2022-02-14T09:29:23.836Z"
   },
   {
    "duration": 11,
    "start_time": "2022-02-14T09:29:44.686Z"
   },
   {
    "duration": 11,
    "start_time": "2022-02-14T09:29:51.115Z"
   },
   {
    "duration": 9,
    "start_time": "2022-02-14T09:30:09.822Z"
   },
   {
    "duration": 8,
    "start_time": "2022-02-14T09:30:46.808Z"
   },
   {
    "duration": 15,
    "start_time": "2022-02-14T09:30:51.342Z"
   },
   {
    "duration": 8,
    "start_time": "2022-02-14T09:33:30.658Z"
   },
   {
    "duration": 15,
    "start_time": "2022-02-14T09:34:07.018Z"
   },
   {
    "duration": 16,
    "start_time": "2022-02-14T09:34:10.897Z"
   },
   {
    "duration": 12,
    "start_time": "2022-02-14T09:34:28.326Z"
   },
   {
    "duration": 12,
    "start_time": "2022-02-14T09:34:32.524Z"
   },
   {
    "duration": 8,
    "start_time": "2022-02-14T09:34:36.068Z"
   },
   {
    "duration": 17,
    "start_time": "2022-02-14T09:38:28.850Z"
   },
   {
    "duration": 15,
    "start_time": "2022-02-14T09:39:53.397Z"
   },
   {
    "duration": 25,
    "start_time": "2022-02-14T09:40:12.709Z"
   },
   {
    "duration": 36,
    "start_time": "2022-02-14T09:41:52.037Z"
   },
   {
    "duration": 26,
    "start_time": "2022-02-14T09:47:05.482Z"
   },
   {
    "duration": 6,
    "start_time": "2022-02-14T09:47:15.535Z"
   },
   {
    "duration": 26,
    "start_time": "2022-02-14T09:47:21.788Z"
   },
   {
    "duration": 10,
    "start_time": "2022-02-14T09:48:22.383Z"
   },
   {
    "duration": 121,
    "start_time": "2022-02-14T09:48:27.235Z"
   },
   {
    "duration": 24,
    "start_time": "2022-02-14T09:48:31.574Z"
   },
   {
    "duration": 26,
    "start_time": "2022-02-14T09:48:48.959Z"
   },
   {
    "duration": 7,
    "start_time": "2022-02-14T09:48:53.487Z"
   },
   {
    "duration": 24,
    "start_time": "2022-02-14T09:48:56.298Z"
   },
   {
    "duration": 95,
    "start_time": "2022-02-14T09:49:01.837Z"
   },
   {
    "duration": 15,
    "start_time": "2022-02-14T09:49:05.375Z"
   },
   {
    "duration": 23,
    "start_time": "2022-02-14T09:49:25.824Z"
   },
   {
    "duration": 7,
    "start_time": "2022-02-14T09:50:05.028Z"
   },
   {
    "duration": 28,
    "start_time": "2022-02-14T09:50:15.987Z"
   },
   {
    "duration": 25,
    "start_time": "2022-02-14T09:52:41.174Z"
   },
   {
    "duration": 306,
    "start_time": "2022-02-14T09:54:35.905Z"
   },
   {
    "duration": 8,
    "start_time": "2022-02-14T09:54:57.092Z"
   },
   {
    "duration": 8,
    "start_time": "2022-02-14T09:55:10.088Z"
   },
   {
    "duration": 8,
    "start_time": "2022-02-14T09:55:27.728Z"
   },
   {
    "duration": 94,
    "start_time": "2022-02-14T09:55:48.767Z"
   },
   {
    "duration": 86,
    "start_time": "2022-02-14T09:55:51.717Z"
   },
   {
    "duration": 96,
    "start_time": "2022-02-14T09:56:11.639Z"
   },
   {
    "duration": 6,
    "start_time": "2022-02-14T09:56:26.326Z"
   },
   {
    "duration": 6,
    "start_time": "2022-02-14T09:56:42.867Z"
   },
   {
    "duration": 97,
    "start_time": "2022-02-14T09:59:25.290Z"
   },
   {
    "duration": 37,
    "start_time": "2022-02-14T09:59:29.443Z"
   },
   {
    "duration": 301,
    "start_time": "2022-02-14T09:59:51.469Z"
   },
   {
    "duration": 24,
    "start_time": "2022-02-14T10:00:08.894Z"
   },
   {
    "duration": 31,
    "start_time": "2022-02-14T10:00:20.876Z"
   },
   {
    "duration": 24,
    "start_time": "2022-02-14T10:01:47.218Z"
   },
   {
    "duration": 33,
    "start_time": "2022-02-14T10:02:56.405Z"
   },
   {
    "duration": 6,
    "start_time": "2022-02-14T10:05:33.880Z"
   },
   {
    "duration": 10,
    "start_time": "2022-02-14T10:06:03.086Z"
   },
   {
    "duration": 282,
    "start_time": "2022-02-14T10:08:11.401Z"
   },
   {
    "duration": 298,
    "start_time": "2022-02-14T10:08:28.066Z"
   },
   {
    "duration": 6,
    "start_time": "2022-02-14T10:08:37.517Z"
   },
   {
    "duration": 286,
    "start_time": "2022-02-14T10:10:29.933Z"
   },
   {
    "duration": 262,
    "start_time": "2022-02-14T10:11:02.703Z"
   },
   {
    "duration": 6,
    "start_time": "2022-02-14T10:11:07.159Z"
   },
   {
    "duration": 26,
    "start_time": "2022-02-14T10:11:13.120Z"
   },
   {
    "duration": 7,
    "start_time": "2022-02-14T10:11:20.625Z"
   },
   {
    "duration": 12,
    "start_time": "2022-02-14T10:16:44.165Z"
   },
   {
    "duration": 4,
    "start_time": "2022-02-14T10:18:35.999Z"
   },
   {
    "duration": 5,
    "start_time": "2022-02-14T10:19:36.364Z"
   },
   {
    "duration": 263,
    "start_time": "2022-02-14T10:19:46.049Z"
   },
   {
    "duration": 84,
    "start_time": "2022-02-14T10:19:58.492Z"
   },
   {
    "duration": 1414,
    "start_time": "2022-02-14T10:20:05.922Z"
   },
   {
    "duration": 6,
    "start_time": "2022-02-14T10:20:12.973Z"
   },
   {
    "duration": 5,
    "start_time": "2022-02-14T10:20:23.194Z"
   },
   {
    "duration": 20,
    "start_time": "2022-02-14T10:20:45.411Z"
   },
   {
    "duration": 18,
    "start_time": "2022-02-14T10:20:48.841Z"
   },
   {
    "duration": 33,
    "start_time": "2022-02-14T10:21:10.565Z"
   },
   {
    "duration": 10,
    "start_time": "2022-02-14T10:22:39.206Z"
   },
   {
    "duration": 19,
    "start_time": "2022-02-14T10:22:51.515Z"
   },
   {
    "duration": 69,
    "start_time": "2022-02-14T10:24:26.914Z"
   },
   {
    "duration": 10,
    "start_time": "2022-02-14T10:24:40.333Z"
   },
   {
    "duration": 69,
    "start_time": "2022-02-14T10:24:40.999Z"
   },
   {
    "duration": 45,
    "start_time": "2022-02-14T10:25:05.378Z"
   },
   {
    "duration": 91,
    "start_time": "2022-02-14T10:26:04.702Z"
   },
   {
    "duration": 14,
    "start_time": "2022-02-14T10:27:00.425Z"
   },
   {
    "duration": 607,
    "start_time": "2022-02-14T10:28:08.635Z"
   },
   {
    "duration": 1180,
    "start_time": "2022-02-14T10:28:20.771Z"
   },
   {
    "duration": 8,
    "start_time": "2022-02-14T10:28:22.817Z"
   },
   {
    "duration": 16,
    "start_time": "2022-02-14T10:29:15.432Z"
   },
   {
    "duration": 6,
    "start_time": "2022-02-14T10:29:17.271Z"
   },
   {
    "duration": 22,
    "start_time": "2022-02-14T10:30:16.121Z"
   },
   {
    "duration": 11,
    "start_time": "2022-02-14T10:30:31.480Z"
   },
   {
    "duration": 8,
    "start_time": "2022-02-14T10:30:49.421Z"
   },
   {
    "duration": 6,
    "start_time": "2022-02-14T10:33:19.330Z"
   },
   {
    "duration": 1150,
    "start_time": "2022-02-14T10:33:19.752Z"
   },
   {
    "duration": 8,
    "start_time": "2022-02-14T10:33:20.904Z"
   },
   {
    "duration": 4,
    "start_time": "2022-02-14T10:39:44.187Z"
   },
   {
    "duration": 146,
    "start_time": "2022-02-14T10:39:44.999Z"
   },
   {
    "duration": 674,
    "start_time": "2022-02-14T10:57:20.023Z"
   },
   {
    "duration": 61,
    "start_time": "2022-02-14T10:57:20.699Z"
   },
   {
    "duration": 15,
    "start_time": "2022-02-14T10:57:20.762Z"
   },
   {
    "duration": 26,
    "start_time": "2022-02-14T10:57:20.779Z"
   },
   {
    "duration": 17,
    "start_time": "2022-02-14T10:57:20.807Z"
   },
   {
    "duration": 9,
    "start_time": "2022-02-14T10:57:20.826Z"
   },
   {
    "duration": 19,
    "start_time": "2022-02-14T10:57:20.836Z"
   },
   {
    "duration": 3,
    "start_time": "2022-02-14T10:57:20.857Z"
   },
   {
    "duration": 42,
    "start_time": "2022-02-14T10:57:20.863Z"
   },
   {
    "duration": 33,
    "start_time": "2022-02-14T10:57:20.908Z"
   },
   {
    "duration": 23,
    "start_time": "2022-02-14T10:57:20.943Z"
   },
   {
    "duration": 37,
    "start_time": "2022-02-14T10:57:20.967Z"
   },
   {
    "duration": 46,
    "start_time": "2022-02-14T10:57:21.006Z"
   },
   {
    "duration": 6,
    "start_time": "2022-02-14T10:57:21.054Z"
   },
   {
    "duration": 11,
    "start_time": "2022-02-14T10:57:21.061Z"
   },
   {
    "duration": 6,
    "start_time": "2022-02-14T10:57:21.099Z"
   },
   {
    "duration": 42,
    "start_time": "2022-02-14T10:57:21.107Z"
   },
   {
    "duration": 5,
    "start_time": "2022-02-14T10:57:21.151Z"
   },
   {
    "duration": 24,
    "start_time": "2022-02-14T10:57:21.158Z"
   },
   {
    "duration": 39,
    "start_time": "2022-02-14T10:57:21.184Z"
   },
   {
    "duration": 9,
    "start_time": "2022-02-14T10:57:21.225Z"
   },
   {
    "duration": 24,
    "start_time": "2022-02-14T10:57:21.236Z"
   },
   {
    "duration": 10,
    "start_time": "2022-02-14T10:57:21.262Z"
   },
   {
    "duration": 75,
    "start_time": "2022-02-14T10:57:21.299Z"
   },
   {
    "duration": 55,
    "start_time": "2022-02-14T10:57:21.376Z"
   },
   {
    "duration": 78,
    "start_time": "2022-02-14T10:57:21.433Z"
   },
   {
    "duration": 13,
    "start_time": "2022-02-14T10:57:21.514Z"
   },
   {
    "duration": 14,
    "start_time": "2022-02-14T10:57:21.529Z"
   },
   {
    "duration": 5,
    "start_time": "2022-02-14T10:57:21.545Z"
   },
   {
    "duration": 12,
    "start_time": "2022-02-14T10:57:21.552Z"
   },
   {
    "duration": 9,
    "start_time": "2022-02-14T10:57:21.598Z"
   },
   {
    "duration": 629,
    "start_time": "2022-02-14T10:57:21.608Z"
   },
   {
    "duration": 1161,
    "start_time": "2022-02-14T10:57:22.239Z"
   },
   {
    "duration": 7,
    "start_time": "2022-02-14T10:57:23.402Z"
   },
   {
    "duration": 19,
    "start_time": "2022-02-14T10:57:23.411Z"
   },
   {
    "duration": 133,
    "start_time": "2022-02-14T10:57:23.432Z"
   },
   {
    "duration": 9,
    "start_time": "2022-02-14T10:57:32.606Z"
   },
   {
    "duration": 621,
    "start_time": "2022-02-21T13:57:32.661Z"
   },
   {
    "duration": 63,
    "start_time": "2022-02-21T13:57:33.283Z"
   },
   {
    "duration": 14,
    "start_time": "2022-02-21T13:57:35.161Z"
   },
   {
    "duration": 9,
    "start_time": "2022-02-21T13:57:37.162Z"
   },
   {
    "duration": 12,
    "start_time": "2022-02-21T13:57:43.884Z"
   },
   {
    "duration": 10,
    "start_time": "2022-02-21T13:57:51.823Z"
   },
   {
    "duration": 14,
    "start_time": "2022-02-21T13:58:05.919Z"
   },
   {
    "duration": 2,
    "start_time": "2022-02-21T13:58:10.422Z"
   },
   {
    "duration": 11,
    "start_time": "2022-02-21T13:58:25.403Z"
   },
   {
    "duration": 26,
    "start_time": "2022-02-21T13:58:40.623Z"
   },
   {
    "duration": 123,
    "start_time": "2022-02-21T14:02:33.864Z"
   },
   {
    "duration": 20,
    "start_time": "2022-02-21T14:03:31.456Z"
   },
   {
    "duration": 7,
    "start_time": "2022-02-21T14:03:44.699Z"
   },
   {
    "duration": 7,
    "start_time": "2022-02-21T14:03:48.816Z"
   },
   {
    "duration": 6,
    "start_time": "2022-02-21T14:03:56.748Z"
   },
   {
    "duration": 5,
    "start_time": "2022-02-21T14:03:59.300Z"
   },
   {
    "duration": 5,
    "start_time": "2022-02-21T14:04:13.686Z"
   },
   {
    "duration": 452,
    "start_time": "2022-02-21T14:05:22.279Z"
   },
   {
    "duration": 348,
    "start_time": "2022-02-21T14:05:29.135Z"
   },
   {
    "duration": 6,
    "start_time": "2022-02-21T14:05:33.873Z"
   },
   {
    "duration": 9,
    "start_time": "2022-02-21T14:06:20.892Z"
   },
   {
    "duration": 21,
    "start_time": "2022-02-21T14:06:30.606Z"
   },
   {
    "duration": 27,
    "start_time": "2022-02-21T14:06:53.096Z"
   },
   {
    "duration": 31,
    "start_time": "2022-02-21T14:07:52.956Z"
   },
   {
    "duration": 324,
    "start_time": "2022-02-21T14:08:55.274Z"
   },
   {
    "duration": 32,
    "start_time": "2022-02-21T14:09:20.514Z"
   },
   {
    "duration": 33,
    "start_time": "2022-02-21T14:09:25.384Z"
   },
   {
    "duration": 33,
    "start_time": "2022-02-21T14:09:35.661Z"
   },
   {
    "duration": 22,
    "start_time": "2022-02-21T14:15:13.044Z"
   },
   {
    "duration": 31,
    "start_time": "2022-02-21T14:15:21.462Z"
   },
   {
    "duration": 11,
    "start_time": "2022-02-21T14:15:39.101Z"
   },
   {
    "duration": 30,
    "start_time": "2022-02-21T14:17:24.689Z"
   },
   {
    "duration": 337,
    "start_time": "2022-02-21T14:21:49.965Z"
   },
   {
    "duration": 6,
    "start_time": "2022-02-21T14:21:53.313Z"
   },
   {
    "duration": 355,
    "start_time": "2022-02-21T14:23:09.857Z"
   },
   {
    "duration": 7,
    "start_time": "2022-02-21T14:23:16.484Z"
   },
   {
    "duration": 8,
    "start_time": "2022-02-21T14:25:13.737Z"
   },
   {
    "duration": 6,
    "start_time": "2022-02-21T14:25:28.213Z"
   },
   {
    "duration": 5,
    "start_time": "2022-02-21T14:30:24.193Z"
   },
   {
    "duration": 5,
    "start_time": "2022-02-21T14:30:38.436Z"
   },
   {
    "duration": 10,
    "start_time": "2022-02-21T14:30:47.994Z"
   },
   {
    "duration": 5,
    "start_time": "2022-02-21T14:30:57.907Z"
   },
   {
    "duration": 22,
    "start_time": "2022-02-21T14:31:03.164Z"
   },
   {
    "duration": 7,
    "start_time": "2022-02-21T14:31:09.718Z"
   },
   {
    "duration": 316,
    "start_time": "2022-02-21T14:32:17.201Z"
   },
   {
    "duration": 310,
    "start_time": "2022-02-21T14:32:21.914Z"
   },
   {
    "duration": 313,
    "start_time": "2022-02-21T14:32:26.213Z"
   },
   {
    "duration": 306,
    "start_time": "2022-02-21T14:32:29.855Z"
   },
   {
    "duration": 6,
    "start_time": "2022-02-21T14:33:32.499Z"
   },
   {
    "duration": 20,
    "start_time": "2022-02-21T14:35:09.631Z"
   },
   {
    "duration": 8,
    "start_time": "2022-02-21T14:35:23.222Z"
   },
   {
    "duration": 9,
    "start_time": "2022-02-21T14:35:29.499Z"
   },
   {
    "duration": 20,
    "start_time": "2022-02-21T14:36:38.811Z"
   },
   {
    "duration": 10,
    "start_time": "2022-02-21T14:36:41.666Z"
   },
   {
    "duration": 12,
    "start_time": "2022-02-21T14:36:44.181Z"
   },
   {
    "duration": 7,
    "start_time": "2022-02-21T14:37:51.505Z"
   },
   {
    "duration": 4,
    "start_time": "2022-02-21T14:38:12.918Z"
   },
   {
    "duration": 19,
    "start_time": "2022-02-21T14:39:32.425Z"
   },
   {
    "duration": 8174,
    "start_time": "2022-02-21T14:40:50.647Z"
   },
   {
    "duration": 19,
    "start_time": "2022-02-21T14:41:13.921Z"
   },
   {
    "duration": 6,
    "start_time": "2022-02-21T14:41:56.598Z"
   },
   {
    "duration": 30,
    "start_time": "2022-02-21T14:42:13.442Z"
   },
   {
    "duration": 15,
    "start_time": "2022-02-21T14:42:24.709Z"
   },
   {
    "duration": 22,
    "start_time": "2022-02-21T14:42:38.247Z"
   },
   {
    "duration": 115,
    "start_time": "2022-02-21T14:43:42.419Z"
   },
   {
    "duration": 18,
    "start_time": "2022-02-21T14:43:46.365Z"
   },
   {
    "duration": 5,
    "start_time": "2022-02-21T14:48:24.084Z"
   },
   {
    "duration": 9,
    "start_time": "2022-02-21T15:40:25.104Z"
   },
   {
    "duration": 6,
    "start_time": "2022-02-21T15:41:01.035Z"
   },
   {
    "duration": 4,
    "start_time": "2022-02-21T15:52:39.996Z"
   },
   {
    "duration": 6,
    "start_time": "2022-02-21T15:52:44.458Z"
   },
   {
    "duration": 8,
    "start_time": "2022-02-21T15:53:27.466Z"
   },
   {
    "duration": 7,
    "start_time": "2022-02-21T15:53:50.941Z"
   },
   {
    "duration": 5,
    "start_time": "2022-02-21T15:54:22.896Z"
   },
   {
    "duration": 195,
    "start_time": "2022-02-21T15:54:34.516Z"
   },
   {
    "duration": 19,
    "start_time": "2022-02-21T15:57:07.906Z"
   },
   {
    "duration": 8,
    "start_time": "2022-02-21T15:59:14.714Z"
   },
   {
    "duration": 342,
    "start_time": "2022-02-21T16:00:46.359Z"
   },
   {
    "duration": 10,
    "start_time": "2022-02-21T16:00:53.201Z"
   },
   {
    "duration": 4,
    "start_time": "2022-02-21T16:00:59.745Z"
   },
   {
    "duration": 4,
    "start_time": "2022-02-21T16:01:10.035Z"
   },
   {
    "duration": 736,
    "start_time": "2022-02-21T16:01:13.070Z"
   },
   {
    "duration": 350,
    "start_time": "2022-02-21T16:41:22.660Z"
   },
   {
    "duration": 3,
    "start_time": "2022-02-21T16:41:27.383Z"
   },
   {
    "duration": 5,
    "start_time": "2022-02-21T16:42:43.254Z"
   },
   {
    "duration": 7,
    "start_time": "2022-02-21T16:42:57.338Z"
   },
   {
    "duration": 5,
    "start_time": "2022-02-21T16:43:03.660Z"
   },
   {
    "duration": 7,
    "start_time": "2022-02-21T16:43:08.221Z"
   },
   {
    "duration": 19,
    "start_time": "2022-02-21T16:43:27.012Z"
   },
   {
    "duration": 5,
    "start_time": "2022-02-21T16:43:51.573Z"
   },
   {
    "duration": 184,
    "start_time": "2022-02-21T16:43:55.562Z"
   },
   {
    "duration": 602,
    "start_time": "2022-02-21T16:44:43.578Z"
   },
   {
    "duration": 1587,
    "start_time": "2022-02-21T16:44:44.182Z"
   },
   {
    "duration": 3627,
    "start_time": "2022-02-21T16:44:45.771Z"
   },
   {
    "duration": 4122,
    "start_time": "2022-02-21T16:44:49.399Z"
   },
   {
    "duration": 3029,
    "start_time": "2022-02-21T16:44:53.523Z"
   },
   {
    "duration": 2810,
    "start_time": "2022-02-21T16:44:56.553Z"
   },
   {
    "duration": 3748,
    "start_time": "2022-02-21T16:44:59.364Z"
   },
   {
    "duration": 3205,
    "start_time": "2022-02-21T16:45:03.115Z"
   },
   {
    "duration": 6302,
    "start_time": "2022-02-21T16:45:06.321Z"
   },
   {
    "duration": 4435,
    "start_time": "2022-02-21T16:45:12.625Z"
   },
   {
    "duration": 3046,
    "start_time": "2022-02-21T16:45:17.061Z"
   },
   {
    "duration": 3248,
    "start_time": "2022-02-21T16:45:20.109Z"
   },
   {
    "duration": 2822,
    "start_time": "2022-02-21T16:45:23.358Z"
   },
   {
    "duration": 2834,
    "start_time": "2022-02-21T16:45:26.182Z"
   },
   {
    "duration": 2163,
    "start_time": "2022-02-21T16:45:29.019Z"
   },
   {
    "duration": 2857,
    "start_time": "2022-02-21T16:45:31.184Z"
   },
   {
    "duration": 2305,
    "start_time": "2022-02-21T16:45:34.042Z"
   },
   {
    "duration": 1601,
    "start_time": "2022-02-21T16:45:36.348Z"
   },
   {
    "duration": 1133,
    "start_time": "2022-02-21T16:45:37.950Z"
   },
   {
    "duration": 3,
    "start_time": "2022-02-21T16:46:11.387Z"
   },
   {
    "duration": 2258,
    "start_time": "2022-02-21T16:46:11.893Z"
   },
   {
    "duration": 108,
    "start_time": "2022-02-21T16:47:02.877Z"
   },
   {
    "duration": 187,
    "start_time": "2022-02-21T16:47:21.640Z"
   },
   {
    "duration": 219,
    "start_time": "2022-02-21T16:47:37.072Z"
   },
   {
    "duration": 185,
    "start_time": "2022-02-21T16:47:52.673Z"
   },
   {
    "duration": 192,
    "start_time": "2022-02-21T16:47:59.783Z"
   },
   {
    "duration": 5,
    "start_time": "2022-02-21T16:48:59.156Z"
   },
   {
    "duration": 7,
    "start_time": "2022-02-21T16:49:45.480Z"
   },
   {
    "duration": 11,
    "start_time": "2022-02-21T16:50:32.654Z"
   },
   {
    "duration": 203,
    "start_time": "2022-02-21T16:52:23.613Z"
   },
   {
    "duration": 649,
    "start_time": "2022-02-21T16:53:30.148Z"
   },
   {
    "duration": 1080,
    "start_time": "2022-02-21T16:53:30.798Z"
   },
   {
    "duration": 987,
    "start_time": "2022-02-21T16:53:31.881Z"
   },
   {
    "duration": 561,
    "start_time": "2022-02-21T16:53:32.870Z"
   },
   {
    "duration": 1850,
    "start_time": "2022-02-21T16:53:33.433Z"
   },
   {
    "duration": 1282,
    "start_time": "2022-02-21T16:53:35.285Z"
   },
   {
    "duration": 971,
    "start_time": "2022-02-21T16:53:36.569Z"
   },
   {
    "duration": 928,
    "start_time": "2022-02-21T16:53:37.541Z"
   },
   {
    "duration": 1930,
    "start_time": "2022-02-21T16:53:38.471Z"
   },
   {
    "duration": 969,
    "start_time": "2022-02-21T16:53:40.403Z"
   },
   {
    "duration": 965,
    "start_time": "2022-02-21T16:53:41.373Z"
   },
   {
    "duration": 2027,
    "start_time": "2022-02-21T16:53:42.339Z"
   },
   {
    "duration": 804,
    "start_time": "2022-02-21T16:53:44.368Z"
   },
   {
    "duration": 1438,
    "start_time": "2022-02-21T16:53:45.173Z"
   },
   {
    "duration": 1446,
    "start_time": "2022-02-21T16:53:46.613Z"
   },
   {
    "duration": 703,
    "start_time": "2022-02-21T16:53:48.060Z"
   },
   {
    "duration": 1044,
    "start_time": "2022-02-21T16:53:48.764Z"
   },
   {
    "duration": 875,
    "start_time": "2022-02-21T16:53:49.810Z"
   },
   {
    "duration": 717,
    "start_time": "2022-02-21T16:53:50.686Z"
   },
   {
    "duration": 1188,
    "start_time": "2022-02-21T16:53:51.404Z"
   },
   {
    "duration": 7,
    "start_time": "2022-02-21T16:55:25.974Z"
   },
   {
    "duration": 670,
    "start_time": "2022-02-21T16:55:45.724Z"
   },
   {
    "duration": 1084,
    "start_time": "2022-02-21T16:55:46.396Z"
   },
   {
    "duration": 2258,
    "start_time": "2022-02-21T16:55:47.482Z"
   },
   {
    "duration": 826,
    "start_time": "2022-02-21T16:55:49.742Z"
   },
   {
    "duration": 1052,
    "start_time": "2022-02-21T16:55:50.570Z"
   },
   {
    "duration": 1495,
    "start_time": "2022-02-21T16:55:51.624Z"
   },
   {
    "duration": 1078,
    "start_time": "2022-02-21T16:55:53.120Z"
   },
   {
    "duration": 346,
    "start_time": "2022-02-21T16:55:54.200Z"
   },
   {
    "duration": 1055,
    "start_time": "2022-02-21T16:55:54.548Z"
   },
   {
    "duration": 30,
    "start_time": "2022-02-21T16:55:59.625Z"
   },
   {
    "duration": 5,
    "start_time": "2022-02-21T16:56:01.455Z"
   },
   {
    "duration": 6,
    "start_time": "2022-02-21T16:56:05.203Z"
   },
   {
    "duration": 20,
    "start_time": "2022-02-21T16:56:10.513Z"
   },
   {
    "duration": 5,
    "start_time": "2022-02-21T16:56:29.824Z"
   },
   {
    "duration": 392,
    "start_time": "2022-02-21T16:56:45.587Z"
   },
   {
    "duration": 670,
    "start_time": "2022-02-21T16:58:42.334Z"
   },
   {
    "duration": 56,
    "start_time": "2022-02-21T16:58:43.006Z"
   },
   {
    "duration": 14,
    "start_time": "2022-02-21T16:58:43.065Z"
   },
   {
    "duration": 10,
    "start_time": "2022-02-21T16:58:43.081Z"
   },
   {
    "duration": 12,
    "start_time": "2022-02-21T16:58:43.093Z"
   },
   {
    "duration": 31,
    "start_time": "2022-02-21T16:58:43.106Z"
   },
   {
    "duration": 13,
    "start_time": "2022-02-21T16:58:43.139Z"
   },
   {
    "duration": 3,
    "start_time": "2022-02-21T16:58:43.154Z"
   },
   {
    "duration": 11,
    "start_time": "2022-02-21T16:58:43.159Z"
   },
   {
    "duration": 26,
    "start_time": "2022-02-21T16:58:43.171Z"
   },
   {
    "duration": 36,
    "start_time": "2022-02-21T16:58:43.199Z"
   },
   {
    "duration": 6,
    "start_time": "2022-02-21T16:59:34.786Z"
   },
   {
    "duration": 19,
    "start_time": "2022-02-21T16:59:36.803Z"
   },
   {
    "duration": 7,
    "start_time": "2022-02-21T16:59:47.956Z"
   },
   {
    "duration": 8,
    "start_time": "2022-02-21T16:59:51.601Z"
   },
   {
    "duration": 6,
    "start_time": "2022-02-21T16:59:58.493Z"
   },
   {
    "duration": 7,
    "start_time": "2022-02-21T17:00:05.237Z"
   },
   {
    "duration": 12,
    "start_time": "2022-02-21T17:00:08.978Z"
   },
   {
    "duration": 4,
    "start_time": "2022-02-21T17:00:11.206Z"
   },
   {
    "duration": 195,
    "start_time": "2022-02-21T17:00:16.469Z"
   },
   {
    "duration": 187,
    "start_time": "2022-02-21T17:00:38.009Z"
   },
   {
    "duration": 225,
    "start_time": "2022-02-21T17:00:54.152Z"
   },
   {
    "duration": 7,
    "start_time": "2022-02-21T17:00:59.976Z"
   },
   {
    "duration": 12,
    "start_time": "2022-02-21T17:01:02.012Z"
   },
   {
    "duration": 5,
    "start_time": "2022-02-21T17:01:36.905Z"
   },
   {
    "duration": 6,
    "start_time": "2022-02-21T17:01:49.815Z"
   },
   {
    "duration": 20,
    "start_time": "2022-02-21T17:01:57.062Z"
   },
   {
    "duration": 7,
    "start_time": "2022-02-21T17:02:22.945Z"
   },
   {
    "duration": 7,
    "start_time": "2022-02-21T17:06:39.269Z"
   },
   {
    "duration": 22,
    "start_time": "2022-02-21T17:07:01.529Z"
   },
   {
    "duration": 7,
    "start_time": "2022-02-21T17:07:46.165Z"
   },
   {
    "duration": 5,
    "start_time": "2022-02-21T17:09:02.497Z"
   },
   {
    "duration": 5,
    "start_time": "2022-02-21T17:09:29.868Z"
   },
   {
    "duration": 4,
    "start_time": "2022-02-21T17:09:36.435Z"
   },
   {
    "duration": 7,
    "start_time": "2022-02-21T17:09:38.612Z"
   },
   {
    "duration": 7,
    "start_time": "2022-02-21T17:10:11.668Z"
   },
   {
    "duration": 7,
    "start_time": "2022-02-21T17:10:23.575Z"
   },
   {
    "duration": 5,
    "start_time": "2022-02-21T17:12:18.370Z"
   },
   {
    "duration": 5,
    "start_time": "2022-02-21T17:12:53.060Z"
   },
   {
    "duration": 9,
    "start_time": "2022-02-21T17:13:27.194Z"
   },
   {
    "duration": 382,
    "start_time": "2022-02-21T17:14:47.334Z"
   },
   {
    "duration": 313,
    "start_time": "2022-02-21T17:14:54.668Z"
   },
   {
    "duration": 310,
    "start_time": "2022-02-21T17:14:57.997Z"
   },
   {
    "duration": 5,
    "start_time": "2022-02-21T17:15:08.232Z"
   },
   {
    "duration": 389,
    "start_time": "2022-02-21T17:15:17.214Z"
   },
   {
    "duration": 21,
    "start_time": "2022-02-21T17:15:25.913Z"
   },
   {
    "duration": 3,
    "start_time": "2022-02-21T17:17:40.213Z"
   },
   {
    "duration": 8,
    "start_time": "2022-02-21T17:24:42.803Z"
   },
   {
    "duration": 9,
    "start_time": "2022-02-21T17:24:47.938Z"
   },
   {
    "duration": 590,
    "start_time": "2022-02-21T17:25:20.859Z"
   },
   {
    "duration": 378,
    "start_time": "2022-02-21T17:25:46.284Z"
   },
   {
    "duration": 9,
    "start_time": "2022-02-21T17:26:28.906Z"
   },
   {
    "duration": 9,
    "start_time": "2022-02-21T17:26:35.100Z"
   },
   {
    "duration": 7,
    "start_time": "2022-02-21T17:27:35.688Z"
   },
   {
    "duration": 331,
    "start_time": "2022-02-21T17:38:49.648Z"
   },
   {
    "duration": 316,
    "start_time": "2022-02-21T17:38:59.963Z"
   },
   {
    "duration": 8044,
    "start_time": "2022-02-21T17:39:09.914Z"
   },
   {
    "duration": 16,
    "start_time": "2022-02-21T17:39:18.322Z"
   },
   {
    "duration": 9,
    "start_time": "2022-02-21T17:47:30.227Z"
   },
   {
    "duration": 10,
    "start_time": "2022-02-21T17:48:24.831Z"
   },
   {
    "duration": 10,
    "start_time": "2022-02-21T17:48:29.346Z"
   },
   {
    "duration": 11,
    "start_time": "2022-02-21T17:48:35.745Z"
   },
   {
    "duration": 7,
    "start_time": "2022-02-21T17:49:13.761Z"
   },
   {
    "duration": 146,
    "start_time": "2022-02-21T17:49:35.269Z"
   },
   {
    "duration": 793,
    "start_time": "2022-02-21T17:49:38.660Z"
   },
   {
    "duration": 5,
    "start_time": "2022-02-21T17:50:01.174Z"
   },
   {
    "duration": 904,
    "start_time": "2022-02-21T17:50:11.521Z"
   },
   {
    "duration": 747,
    "start_time": "2022-02-21T17:50:28.311Z"
   },
   {
    "duration": 66,
    "start_time": "2022-02-21T17:50:29.060Z"
   },
   {
    "duration": 13,
    "start_time": "2022-02-21T17:50:29.128Z"
   },
   {
    "duration": 11,
    "start_time": "2022-02-21T17:50:29.143Z"
   },
   {
    "duration": 13,
    "start_time": "2022-02-21T17:50:29.156Z"
   },
   {
    "duration": 8,
    "start_time": "2022-02-21T17:50:29.170Z"
   },
   {
    "duration": 12,
    "start_time": "2022-02-21T17:50:29.180Z"
   },
   {
    "duration": 2,
    "start_time": "2022-02-21T17:50:29.194Z"
   },
   {
    "duration": 40,
    "start_time": "2022-02-21T17:50:29.198Z"
   },
   {
    "duration": 28,
    "start_time": "2022-02-21T17:50:29.240Z"
   },
   {
    "duration": 5,
    "start_time": "2022-02-21T17:50:29.269Z"
   },
   {
    "duration": 5,
    "start_time": "2022-02-21T17:50:29.276Z"
   },
   {
    "duration": 21,
    "start_time": "2022-02-21T17:50:29.282Z"
   },
   {
    "duration": 33,
    "start_time": "2022-02-21T17:50:29.304Z"
   },
   {
    "duration": 9,
    "start_time": "2022-02-21T17:50:29.339Z"
   },
   {
    "duration": 11,
    "start_time": "2022-02-21T17:50:29.349Z"
   },
   {
    "duration": 9,
    "start_time": "2022-02-21T17:50:29.362Z"
   },
   {
    "duration": 12,
    "start_time": "2022-02-21T17:50:29.372Z"
   },
   {
    "duration": 11,
    "start_time": "2022-02-21T17:50:29.386Z"
   },
   {
    "duration": 226,
    "start_time": "2022-02-21T17:50:29.398Z"
   },
   {
    "duration": 194,
    "start_time": "2022-02-21T17:50:29.626Z"
   },
   {
    "duration": 11,
    "start_time": "2022-02-21T17:50:29.821Z"
   },
   {
    "duration": 12,
    "start_time": "2022-02-21T17:50:29.834Z"
   },
   {
    "duration": 6,
    "start_time": "2022-02-21T17:50:29.847Z"
   },
   {
    "duration": 3,
    "start_time": "2022-02-21T17:50:29.855Z"
   },
   {
    "duration": 2,
    "start_time": "2022-02-21T17:51:04.923Z"
   },
   {
    "duration": 3,
    "start_time": "2022-02-21T17:51:05.415Z"
   },
   {
    "duration": 8,
    "start_time": "2022-02-21T17:51:06.068Z"
   },
   {
    "duration": 21,
    "start_time": "2022-02-21T17:53:00.411Z"
   },
   {
    "duration": 905,
    "start_time": "2022-02-21T17:55:50.175Z"
   },
   {
    "duration": 7,
    "start_time": "2022-02-21T17:55:53.600Z"
   },
   {
    "duration": 8,
    "start_time": "2022-02-21T17:55:56.257Z"
   },
   {
    "duration": 8,
    "start_time": "2022-02-21T17:56:01.841Z"
   },
   {
    "duration": 10,
    "start_time": "2022-02-21T17:56:05.847Z"
   },
   {
    "duration": 331,
    "start_time": "2022-02-21T17:56:32.723Z"
   },
   {
    "duration": 8,
    "start_time": "2022-02-21T17:56:37.778Z"
   },
   {
    "duration": 9,
    "start_time": "2022-02-21T17:56:53.153Z"
   },
   {
    "duration": 9,
    "start_time": "2022-02-21T17:57:06.728Z"
   },
   {
    "duration": 98,
    "start_time": "2022-02-21T17:57:13.519Z"
   },
   {
    "duration": 9,
    "start_time": "2022-02-21T17:57:17.776Z"
   },
   {
    "duration": 20,
    "start_time": "2022-02-21T17:57:21.099Z"
   },
   {
    "duration": 7,
    "start_time": "2022-02-21T17:57:23.904Z"
   },
   {
    "duration": 9,
    "start_time": "2022-02-21T17:57:29.448Z"
   },
   {
    "duration": 99,
    "start_time": "2022-02-21T17:57:42.022Z"
   },
   {
    "duration": 7,
    "start_time": "2022-02-21T17:57:49.305Z"
   },
   {
    "duration": 3,
    "start_time": "2022-02-21T17:57:52.980Z"
   },
   {
    "duration": 2,
    "start_time": "2022-02-21T17:57:53.292Z"
   },
   {
    "duration": 8,
    "start_time": "2022-02-21T18:00:01.103Z"
   },
   {
    "duration": 101,
    "start_time": "2022-02-21T18:02:50.042Z"
   },
   {
    "duration": 4,
    "start_time": "2022-02-21T18:02:56.900Z"
   },
   {
    "duration": 431,
    "start_time": "2022-02-21T18:04:21.001Z"
   },
   {
    "duration": 7,
    "start_time": "2022-02-21T18:05:08.059Z"
   },
   {
    "duration": 2,
    "start_time": "2022-02-21T18:05:43.749Z"
   },
   {
    "duration": 288,
    "start_time": "2022-02-21T18:05:44.122Z"
   },
   {
    "duration": 2377,
    "start_time": "2022-02-21T18:06:37.951Z"
   },
   {
    "duration": 102,
    "start_time": "2022-02-21T18:08:27.261Z"
   },
   {
    "duration": 7890,
    "start_time": "2022-02-21T18:08:35.758Z"
   },
   {
    "duration": 159,
    "start_time": "2022-02-21T18:09:29.345Z"
   },
   {
    "duration": 7552,
    "start_time": "2022-02-21T18:09:33.620Z"
   },
   {
    "duration": 34,
    "start_time": "2022-02-21T18:09:48.673Z"
   },
   {
    "duration": 11,
    "start_time": "2022-02-21T18:10:58.777Z"
   },
   {
    "duration": 11,
    "start_time": "2022-02-21T18:11:02.143Z"
   },
   {
    "duration": 70,
    "start_time": "2022-02-21T18:11:08.108Z"
   },
   {
    "duration": 7801,
    "start_time": "2022-02-21T18:12:31.390Z"
   },
   {
    "duration": 353,
    "start_time": "2022-02-21T18:13:02.004Z"
   },
   {
    "duration": 73,
    "start_time": "2022-02-21T18:13:17.924Z"
   },
   {
    "duration": 64,
    "start_time": "2022-02-21T18:13:31.089Z"
   },
   {
    "duration": 18,
    "start_time": "2022-02-21T18:13:56.675Z"
   },
   {
    "duration": 7,
    "start_time": "2022-02-21T18:14:30.489Z"
   },
   {
    "duration": 13,
    "start_time": "2022-02-21T18:14:35.109Z"
   },
   {
    "duration": 21,
    "start_time": "2022-02-21T18:14:37.620Z"
   },
   {
    "duration": 22,
    "start_time": "2022-02-21T18:15:21.019Z"
   },
   {
    "duration": 13,
    "start_time": "2022-02-21T18:15:25.277Z"
   },
   {
    "duration": 360,
    "start_time": "2022-02-21T18:15:41.503Z"
   },
   {
    "duration": 20,
    "start_time": "2022-02-21T18:15:59.160Z"
   },
   {
    "duration": 20,
    "start_time": "2022-02-21T18:16:04.634Z"
   },
   {
    "duration": 9,
    "start_time": "2022-02-21T18:16:06.714Z"
   },
   {
    "duration": 19,
    "start_time": "2022-02-21T18:16:07.747Z"
   },
   {
    "duration": 20,
    "start_time": "2022-02-21T18:16:08.158Z"
   },
   {
    "duration": 19,
    "start_time": "2022-02-21T18:16:17.580Z"
   },
   {
    "duration": 21,
    "start_time": "2022-02-21T18:16:19.133Z"
   },
   {
    "duration": 18,
    "start_time": "2022-02-21T18:20:04.159Z"
   },
   {
    "duration": 20,
    "start_time": "2022-02-21T18:20:05.741Z"
   },
   {
    "duration": 27,
    "start_time": "2022-02-21T18:22:35.233Z"
   },
   {
    "duration": 7,
    "start_time": "2022-02-21T18:22:40.549Z"
   },
   {
    "duration": 17,
    "start_time": "2022-02-21T18:22:41.662Z"
   },
   {
    "duration": 28,
    "start_time": "2022-02-21T18:22:42.626Z"
   },
   {
    "duration": 41,
    "start_time": "2022-02-21T18:23:09.210Z"
   },
   {
    "duration": 307,
    "start_time": "2022-02-21T18:26:21.668Z"
   },
   {
    "duration": 312,
    "start_time": "2022-02-21T18:26:39.936Z"
   },
   {
    "duration": 301,
    "start_time": "2022-02-21T18:27:15.235Z"
   },
   {
    "duration": 302,
    "start_time": "2022-02-21T18:28:17.418Z"
   },
   {
    "duration": 5,
    "start_time": "2022-02-21T18:28:29.397Z"
   },
   {
    "duration": 330,
    "start_time": "2022-02-21T18:28:43.084Z"
   },
   {
    "duration": 23,
    "start_time": "2022-02-21T18:28:48.341Z"
   },
   {
    "duration": 13,
    "start_time": "2022-02-21T18:28:59.361Z"
   },
   {
    "duration": 351,
    "start_time": "2022-02-21T18:29:23.680Z"
   },
   {
    "duration": 7,
    "start_time": "2022-02-21T18:29:36.521Z"
   },
   {
    "duration": 8,
    "start_time": "2022-02-21T18:29:40.750Z"
   },
   {
    "duration": 7,
    "start_time": "2022-02-21T18:29:48.897Z"
   },
   {
    "duration": 6,
    "start_time": "2022-02-21T18:30:02.029Z"
   },
   {
    "duration": 28,
    "start_time": "2022-02-21T18:30:40.776Z"
   },
   {
    "duration": 173,
    "start_time": "2022-02-21T18:31:17.581Z"
   },
   {
    "duration": 663,
    "start_time": "2022-02-21T18:51:34.898Z"
   },
   {
    "duration": 56,
    "start_time": "2022-02-21T18:51:35.563Z"
   },
   {
    "duration": 14,
    "start_time": "2022-02-21T18:51:35.621Z"
   },
   {
    "duration": 9,
    "start_time": "2022-02-21T18:51:35.636Z"
   },
   {
    "duration": 11,
    "start_time": "2022-02-21T18:51:35.647Z"
   },
   {
    "duration": 8,
    "start_time": "2022-02-21T18:51:35.660Z"
   },
   {
    "duration": 13,
    "start_time": "2022-02-21T18:51:35.670Z"
   },
   {
    "duration": 2,
    "start_time": "2022-02-21T18:51:35.685Z"
   },
   {
    "duration": 49,
    "start_time": "2022-02-21T18:51:35.691Z"
   },
   {
    "duration": 28,
    "start_time": "2022-02-21T18:51:35.742Z"
   },
   {
    "duration": 6,
    "start_time": "2022-02-21T18:51:35.772Z"
   },
   {
    "duration": 6,
    "start_time": "2022-02-21T18:51:35.779Z"
   },
   {
    "duration": 46,
    "start_time": "2022-02-21T18:51:35.786Z"
   },
   {
    "duration": 7,
    "start_time": "2022-02-21T18:51:35.833Z"
   },
   {
    "duration": 7,
    "start_time": "2022-02-21T18:51:35.841Z"
   },
   {
    "duration": 5,
    "start_time": "2022-02-21T18:51:35.850Z"
   },
   {
    "duration": 10,
    "start_time": "2022-02-21T18:51:35.856Z"
   },
   {
    "duration": 12,
    "start_time": "2022-02-21T18:51:35.867Z"
   },
   {
    "duration": 2,
    "start_time": "2022-02-21T18:51:35.881Z"
   },
   {
    "duration": 209,
    "start_time": "2022-02-21T18:51:35.885Z"
   },
   {
    "duration": 192,
    "start_time": "2022-02-21T18:51:36.096Z"
   },
   {
    "duration": 8,
    "start_time": "2022-02-21T18:51:36.290Z"
   },
   {
    "duration": 8,
    "start_time": "2022-02-21T18:51:36.299Z"
   },
   {
    "duration": 27,
    "start_time": "2022-02-21T18:51:36.308Z"
   },
   {
    "duration": 5,
    "start_time": "2022-02-21T18:51:36.337Z"
   },
   {
    "duration": 68,
    "start_time": "2022-02-21T18:51:36.344Z"
   },
   {
    "duration": 185,
    "start_time": "2022-02-21T18:51:36.415Z"
   },
   {
    "duration": 5,
    "start_time": "2022-02-21T18:51:36.602Z"
   },
   {
    "duration": 24,
    "start_time": "2022-02-21T18:51:36.608Z"
   },
   {
    "duration": 17,
    "start_time": "2022-02-21T18:51:36.633Z"
   },
   {
    "duration": 11,
    "start_time": "2022-02-21T18:51:36.651Z"
   },
   {
    "duration": 80,
    "start_time": "2022-02-21T18:51:36.663Z"
   },
   {
    "duration": 30,
    "start_time": "2022-02-21T18:52:14.913Z"
   },
   {
    "duration": 630,
    "start_time": "2022-02-21T18:52:28.370Z"
   },
   {
    "duration": 57,
    "start_time": "2022-02-21T18:52:29.002Z"
   },
   {
    "duration": 14,
    "start_time": "2022-02-21T18:52:29.061Z"
   },
   {
    "duration": 36,
    "start_time": "2022-02-21T18:52:29.076Z"
   },
   {
    "duration": 17,
    "start_time": "2022-02-21T18:52:29.114Z"
   },
   {
    "duration": 18,
    "start_time": "2022-02-21T18:52:29.133Z"
   },
   {
    "duration": 30,
    "start_time": "2022-02-21T18:52:29.152Z"
   },
   {
    "duration": 3,
    "start_time": "2022-02-21T18:52:29.183Z"
   },
   {
    "duration": 19,
    "start_time": "2022-02-21T18:52:29.189Z"
   },
   {
    "duration": 42,
    "start_time": "2022-02-21T18:52:29.210Z"
   },
   {
    "duration": 5,
    "start_time": "2022-02-21T18:52:29.254Z"
   },
   {
    "duration": 15,
    "start_time": "2022-02-21T18:52:29.261Z"
   },
   {
    "duration": 30,
    "start_time": "2022-02-21T18:52:29.278Z"
   },
   {
    "duration": 40,
    "start_time": "2022-02-21T18:52:29.310Z"
   },
   {
    "duration": 13,
    "start_time": "2022-02-21T18:52:29.352Z"
   },
   {
    "duration": 19,
    "start_time": "2022-02-21T18:52:29.366Z"
   },
   {
    "duration": 15,
    "start_time": "2022-02-21T18:52:29.386Z"
   },
   {
    "duration": 37,
    "start_time": "2022-02-21T18:52:29.403Z"
   },
   {
    "duration": 28,
    "start_time": "2022-02-21T18:52:29.441Z"
   },
   {
    "duration": 202,
    "start_time": "2022-02-21T18:52:29.470Z"
   },
   {
    "duration": 198,
    "start_time": "2022-02-21T18:52:29.674Z"
   },
   {
    "duration": 8,
    "start_time": "2022-02-21T18:52:29.874Z"
   },
   {
    "duration": 18,
    "start_time": "2022-02-21T18:52:29.883Z"
   },
   {
    "duration": 24,
    "start_time": "2022-02-21T18:52:29.903Z"
   },
   {
    "duration": 17,
    "start_time": "2022-02-21T18:52:29.928Z"
   },
   {
    "duration": 91,
    "start_time": "2022-02-21T18:52:29.946Z"
   },
   {
    "duration": 187,
    "start_time": "2022-02-21T18:52:30.039Z"
   },
   {
    "duration": 5,
    "start_time": "2022-02-21T18:52:30.231Z"
   },
   {
    "duration": 20,
    "start_time": "2022-02-21T18:52:30.238Z"
   },
   {
    "duration": 45,
    "start_time": "2022-02-21T18:52:30.259Z"
   },
   {
    "duration": 45,
    "start_time": "2022-02-21T18:52:30.306Z"
   },
   {
    "duration": 77,
    "start_time": "2022-02-21T18:52:30.353Z"
   },
   {
    "duration": 59,
    "start_time": "2022-02-21T18:52:34.719Z"
   },
   {
    "duration": 16,
    "start_time": "2022-02-21T18:52:36.661Z"
   },
   {
    "duration": 32,
    "start_time": "2022-02-21T18:52:38.869Z"
   },
   {
    "duration": 628,
    "start_time": "2022-02-21T18:54:57.973Z"
   },
   {
    "duration": 55,
    "start_time": "2022-02-21T18:54:58.603Z"
   },
   {
    "duration": 13,
    "start_time": "2022-02-21T18:54:58.660Z"
   },
   {
    "duration": 11,
    "start_time": "2022-02-21T18:54:58.675Z"
   },
   {
    "duration": 12,
    "start_time": "2022-02-21T18:54:58.687Z"
   },
   {
    "duration": 31,
    "start_time": "2022-02-21T18:54:58.701Z"
   },
   {
    "duration": 13,
    "start_time": "2022-02-21T18:54:58.734Z"
   },
   {
    "duration": 2,
    "start_time": "2022-02-21T18:54:58.749Z"
   },
   {
    "duration": 11,
    "start_time": "2022-02-21T18:54:58.753Z"
   },
   {
    "duration": 27,
    "start_time": "2022-02-21T18:54:58.765Z"
   },
   {
    "duration": 4,
    "start_time": "2022-02-21T18:54:58.793Z"
   },
   {
    "duration": 34,
    "start_time": "2022-02-21T18:54:58.798Z"
   },
   {
    "duration": 20,
    "start_time": "2022-02-21T18:54:58.834Z"
   },
   {
    "duration": 11,
    "start_time": "2022-02-21T18:54:58.855Z"
   },
   {
    "duration": 7,
    "start_time": "2022-02-21T18:54:58.868Z"
   },
   {
    "duration": 5,
    "start_time": "2022-02-21T18:54:58.876Z"
   },
   {
    "duration": 13,
    "start_time": "2022-02-21T18:54:58.883Z"
   },
   {
    "duration": 16,
    "start_time": "2022-02-21T18:54:58.897Z"
   },
   {
    "duration": 3,
    "start_time": "2022-02-21T18:54:58.931Z"
   },
   {
    "duration": 200,
    "start_time": "2022-02-21T18:54:58.936Z"
   },
   {
    "duration": 193,
    "start_time": "2022-02-21T18:54:59.137Z"
   },
   {
    "duration": 9,
    "start_time": "2022-02-21T18:54:59.331Z"
   },
   {
    "duration": 6,
    "start_time": "2022-02-21T18:54:59.343Z"
   },
   {
    "duration": 11,
    "start_time": "2022-02-21T18:54:59.350Z"
   },
   {
    "duration": 6,
    "start_time": "2022-02-21T18:54:59.363Z"
   },
   {
    "duration": 98,
    "start_time": "2022-02-21T18:54:59.371Z"
   },
   {
    "duration": 181,
    "start_time": "2022-02-21T18:54:59.470Z"
   },
   {
    "duration": 5,
    "start_time": "2022-02-21T18:54:59.652Z"
   },
   {
    "duration": 9,
    "start_time": "2022-02-21T18:54:59.658Z"
   },
   {
    "duration": 15,
    "start_time": "2022-02-21T18:54:59.668Z"
   },
   {
    "duration": 9,
    "start_time": "2022-02-21T18:54:59.685Z"
   },
   {
    "duration": 90,
    "start_time": "2022-02-21T18:54:59.695Z"
   },
   {
    "duration": 15,
    "start_time": "2022-02-21T18:54:59.787Z"
   },
   {
    "duration": 41,
    "start_time": "2022-02-21T18:54:59.803Z"
   },
   {
    "duration": 34,
    "start_time": "2022-02-21T18:54:59.846Z"
   },
   {
    "duration": 57,
    "start_time": "2022-02-21T18:54:59.882Z"
   },
   {
    "duration": 10,
    "start_time": "2022-02-21T18:54:59.940Z"
   },
   {
    "duration": 10,
    "start_time": "2022-02-21T18:54:59.952Z"
   },
   {
    "duration": 4,
    "start_time": "2022-02-21T18:54:59.964Z"
   },
   {
    "duration": 11,
    "start_time": "2022-02-21T18:54:59.969Z"
   },
   {
    "duration": 8,
    "start_time": "2022-02-21T18:54:59.981Z"
   },
   {
    "duration": 607,
    "start_time": "2022-02-21T18:54:59.991Z"
   },
   {
    "duration": 975,
    "start_time": "2022-02-21T18:55:00.600Z"
   },
   {
    "duration": 7,
    "start_time": "2022-02-21T18:55:01.577Z"
   },
   {
    "duration": 4,
    "start_time": "2022-02-21T18:55:18.414Z"
   },
   {
    "duration": 92,
    "start_time": "2022-02-21T18:55:21.496Z"
   },
   {
    "duration": 512,
    "start_time": "2022-02-21T19:10:52.415Z"
   },
   {
    "duration": 30,
    "start_time": "2022-02-21T19:11:17.538Z"
   },
   {
    "duration": 736,
    "start_time": "2022-02-21T20:16:47.451Z"
   },
   {
    "duration": 11,
    "start_time": "2022-02-21T20:18:31.958Z"
   },
   {
    "duration": 7,
    "start_time": "2022-02-21T20:18:32.646Z"
   },
   {
    "duration": 93,
    "start_time": "2022-02-21T20:18:44.843Z"
   },
   {
    "duration": 664,
    "start_time": "2022-02-21T20:32:16.710Z"
   },
   {
    "duration": 55,
    "start_time": "2022-02-21T20:32:17.375Z"
   },
   {
    "duration": 13,
    "start_time": "2022-02-21T20:32:17.432Z"
   },
   {
    "duration": 12,
    "start_time": "2022-02-21T20:32:17.446Z"
   },
   {
    "duration": 13,
    "start_time": "2022-02-21T20:32:17.460Z"
   },
   {
    "duration": 8,
    "start_time": "2022-02-21T20:32:17.475Z"
   },
   {
    "duration": 13,
    "start_time": "2022-02-21T20:32:17.485Z"
   },
   {
    "duration": 2,
    "start_time": "2022-02-21T20:32:17.501Z"
   },
   {
    "duration": 12,
    "start_time": "2022-02-21T20:32:17.532Z"
   },
   {
    "duration": 28,
    "start_time": "2022-02-21T20:32:17.545Z"
   },
   {
    "duration": 5,
    "start_time": "2022-02-21T20:32:17.575Z"
   },
   {
    "duration": 6,
    "start_time": "2022-02-21T20:32:17.581Z"
   },
   {
    "duration": 44,
    "start_time": "2022-02-21T20:32:17.588Z"
   },
   {
    "duration": 7,
    "start_time": "2022-02-21T20:32:17.634Z"
   },
   {
    "duration": 7,
    "start_time": "2022-02-21T20:32:17.643Z"
   },
   {
    "duration": 6,
    "start_time": "2022-02-21T20:32:17.651Z"
   },
   {
    "duration": 15,
    "start_time": "2022-02-21T20:32:17.658Z"
   },
   {
    "duration": 12,
    "start_time": "2022-02-21T20:32:17.675Z"
   },
   {
    "duration": 3,
    "start_time": "2022-02-21T20:32:17.688Z"
   },
   {
    "duration": 207,
    "start_time": "2022-02-21T20:32:17.692Z"
   },
   {
    "duration": 190,
    "start_time": "2022-02-21T20:32:17.901Z"
   },
   {
    "duration": 6,
    "start_time": "2022-02-21T20:32:18.093Z"
   },
   {
    "duration": 13,
    "start_time": "2022-02-21T20:32:18.101Z"
   },
   {
    "duration": 20,
    "start_time": "2022-02-21T20:32:18.116Z"
   },
   {
    "duration": 31,
    "start_time": "2022-02-21T20:32:18.137Z"
   },
   {
    "duration": 235,
    "start_time": "2022-02-21T20:32:18.169Z"
   },
   {
    "duration": 5,
    "start_time": "2022-02-21T20:32:18.406Z"
   },
   {
    "duration": 21,
    "start_time": "2022-02-21T20:32:18.412Z"
   },
   {
    "duration": 16,
    "start_time": "2022-02-21T20:32:18.434Z"
   },
   {
    "duration": 9,
    "start_time": "2022-02-21T20:32:18.452Z"
   },
   {
    "duration": 78,
    "start_time": "2022-02-21T20:32:18.462Z"
   },
   {
    "duration": 15,
    "start_time": "2022-02-21T20:32:18.541Z"
   },
   {
    "duration": 27,
    "start_time": "2022-02-21T20:32:18.558Z"
   },
   {
    "duration": 58,
    "start_time": "2022-02-21T20:32:18.586Z"
   },
   {
    "duration": 35,
    "start_time": "2022-02-21T20:32:18.646Z"
   },
   {
    "duration": 11,
    "start_time": "2022-02-21T20:32:18.683Z"
   },
   {
    "duration": 45,
    "start_time": "2022-02-21T20:32:18.696Z"
   },
   {
    "duration": 5,
    "start_time": "2022-02-21T20:32:18.743Z"
   },
   {
    "duration": 13,
    "start_time": "2022-02-21T20:32:18.749Z"
   },
   {
    "duration": 7,
    "start_time": "2022-02-21T20:32:18.764Z"
   },
   {
    "duration": 599,
    "start_time": "2022-02-21T20:32:18.773Z"
   },
   {
    "duration": 976,
    "start_time": "2022-02-21T20:32:19.374Z"
   },
   {
    "duration": 7,
    "start_time": "2022-02-21T20:32:20.352Z"
   },
   {
    "duration": 9,
    "start_time": "2022-02-21T20:32:20.360Z"
   },
   {
    "duration": 108,
    "start_time": "2022-02-21T20:32:20.370Z"
   },
   {
    "duration": 857,
    "start_time": "2022-02-22T15:53:12.874Z"
   },
   {
    "duration": 80,
    "start_time": "2022-02-22T15:53:13.734Z"
   },
   {
    "duration": 26,
    "start_time": "2022-02-22T15:53:14.612Z"
   },
   {
    "duration": 61,
    "start_time": "2022-02-22T15:53:17.210Z"
   },
   {
    "duration": 43,
    "start_time": "2022-02-22T15:53:42.793Z"
   },
   {
    "duration": 38,
    "start_time": "2022-02-22T15:54:19.494Z"
   },
   {
    "duration": 20,
    "start_time": "2022-02-22T15:57:13.347Z"
   },
   {
    "duration": 20,
    "start_time": "2022-02-22T15:58:05.402Z"
   },
   {
    "duration": 477,
    "start_time": "2022-02-22T16:00:17.383Z"
   },
   {
    "duration": 34,
    "start_time": "2022-02-22T16:00:23.099Z"
   },
   {
    "duration": 16,
    "start_time": "2022-02-22T16:01:02.081Z"
   },
   {
    "duration": 5,
    "start_time": "2022-02-22T16:01:15.558Z"
   },
   {
    "duration": 25,
    "start_time": "2022-02-22T16:02:00.302Z"
   },
   {
    "duration": 7,
    "start_time": "2022-02-22T16:02:56.704Z"
   },
   {
    "duration": 98,
    "start_time": "2022-02-22T16:03:06.865Z"
   },
   {
    "duration": 9,
    "start_time": "2022-02-22T16:03:10.203Z"
   },
   {
    "duration": 13,
    "start_time": "2022-02-22T16:03:16.183Z"
   },
   {
    "duration": 11,
    "start_time": "2022-02-22T16:03:25.137Z"
   },
   {
    "duration": 789,
    "start_time": "2022-02-25T08:15:59.834Z"
   },
   {
    "duration": 58,
    "start_time": "2022-02-25T08:16:00.626Z"
   },
   {
    "duration": 19,
    "start_time": "2022-02-25T08:16:00.686Z"
   },
   {
    "duration": 9,
    "start_time": "2022-02-25T08:16:00.707Z"
   },
   {
    "duration": 5,
    "start_time": "2022-02-25T08:16:00.718Z"
   },
   {
    "duration": 15,
    "start_time": "2022-02-25T08:16:00.725Z"
   },
   {
    "duration": 15,
    "start_time": "2022-02-25T08:16:00.769Z"
   },
   {
    "duration": 10,
    "start_time": "2022-02-25T08:16:00.787Z"
   },
   {
    "duration": 17,
    "start_time": "2022-02-25T08:16:00.801Z"
   },
   {
    "duration": 3,
    "start_time": "2022-02-25T08:16:00.821Z"
   },
   {
    "duration": 51,
    "start_time": "2022-02-25T08:16:00.826Z"
   },
   {
    "duration": 41,
    "start_time": "2022-02-25T08:16:00.880Z"
   },
   {
    "duration": 7,
    "start_time": "2022-02-25T08:16:00.923Z"
   },
   {
    "duration": 12,
    "start_time": "2022-02-25T08:16:00.932Z"
   },
   {
    "duration": 46,
    "start_time": "2022-02-25T08:16:00.946Z"
   },
   {
    "duration": 8,
    "start_time": "2022-02-25T08:16:00.994Z"
   },
   {
    "duration": 10,
    "start_time": "2022-02-25T08:16:01.005Z"
   },
   {
    "duration": 7,
    "start_time": "2022-02-25T08:16:01.017Z"
   },
   {
    "duration": 46,
    "start_time": "2022-02-25T08:16:01.026Z"
   },
   {
    "duration": 17,
    "start_time": "2022-02-25T08:16:01.074Z"
   },
   {
    "duration": 10,
    "start_time": "2022-02-25T08:16:01.093Z"
   },
   {
    "duration": 264,
    "start_time": "2022-02-25T08:16:01.105Z"
   },
   {
    "duration": 239,
    "start_time": "2022-02-25T08:16:01.371Z"
   },
   {
    "duration": 9,
    "start_time": "2022-02-25T08:16:01.612Z"
   },
   {
    "duration": 23,
    "start_time": "2022-02-25T08:16:01.623Z"
   },
   {
    "duration": 25,
    "start_time": "2022-02-25T08:16:01.648Z"
   },
   {
    "duration": 37,
    "start_time": "2022-02-25T08:16:01.678Z"
   },
   {
    "duration": 292,
    "start_time": "2022-02-25T08:16:01.718Z"
   },
   {
    "duration": 5,
    "start_time": "2022-02-25T08:16:02.012Z"
   },
   {
    "duration": 17,
    "start_time": "2022-02-25T08:16:02.019Z"
   },
   {
    "duration": 37,
    "start_time": "2022-02-25T08:16:02.038Z"
   },
   {
    "duration": 24,
    "start_time": "2022-02-25T08:16:02.077Z"
   },
   {
    "duration": 95,
    "start_time": "2022-02-25T08:16:02.103Z"
   },
   {
    "duration": 19,
    "start_time": "2022-02-25T08:16:02.199Z"
   },
   {
    "duration": 53,
    "start_time": "2022-02-25T08:16:02.220Z"
   },
   {
    "duration": 44,
    "start_time": "2022-02-25T08:16:02.275Z"
   },
   {
    "duration": 79,
    "start_time": "2022-02-25T08:16:02.320Z"
   },
   {
    "duration": 15,
    "start_time": "2022-02-25T08:16:02.402Z"
   },
   {
    "duration": 61,
    "start_time": "2022-02-25T08:16:02.419Z"
   },
   {
    "duration": 6,
    "start_time": "2022-02-25T08:16:02.483Z"
   },
   {
    "duration": 42,
    "start_time": "2022-02-25T08:16:02.491Z"
   },
   {
    "duration": 51,
    "start_time": "2022-02-25T08:16:02.535Z"
   },
   {
    "duration": 704,
    "start_time": "2022-02-25T08:16:05.645Z"
   },
   {
    "duration": 6,
    "start_time": "2022-02-25T08:16:10.981Z"
   },
   {
    "duration": 6828,
    "start_time": "2022-02-25T08:17:11.431Z"
   },
   {
    "duration": 7426,
    "start_time": "2022-02-25T08:17:33.938Z"
   },
   {
    "duration": 6,
    "start_time": "2022-02-25T08:20:06.632Z"
   },
   {
    "duration": 511,
    "start_time": "2022-02-25T08:21:27.698Z"
   },
   {
    "duration": 9,
    "start_time": "2022-02-25T08:21:50.570Z"
   },
   {
    "duration": 10,
    "start_time": "2022-02-25T08:22:38.581Z"
   },
   {
    "duration": 5,
    "start_time": "2022-02-25T08:24:39.192Z"
   },
   {
    "duration": 33,
    "start_time": "2022-02-25T08:25:10.985Z"
   },
   {
    "duration": 571,
    "start_time": "2022-02-25T08:26:21.762Z"
   },
   {
    "duration": 79,
    "start_time": "2022-02-25T08:26:34.198Z"
   },
   {
    "duration": 22,
    "start_time": "2022-02-25T08:28:19.272Z"
   },
   {
    "duration": 253,
    "start_time": "2022-02-25T08:28:58.871Z"
   },
   {
    "duration": 77,
    "start_time": "2022-02-25T08:29:10.559Z"
   },
   {
    "duration": 1199,
    "start_time": "2022-02-25T08:29:13.362Z"
   },
   {
    "duration": 6,
    "start_time": "2022-02-25T08:29:21.332Z"
   },
   {
    "duration": 1174,
    "start_time": "2022-02-25T08:29:24.562Z"
   },
   {
    "duration": 1180,
    "start_time": "2022-02-25T08:29:31.976Z"
   },
   {
    "duration": 1144,
    "start_time": "2022-02-25T08:29:40.803Z"
   },
   {
    "duration": 1116,
    "start_time": "2022-02-25T08:30:00.378Z"
   },
   {
    "duration": 1136,
    "start_time": "2022-02-25T08:30:05.618Z"
   },
   {
    "duration": 6,
    "start_time": "2022-02-25T08:30:35.844Z"
   },
   {
    "duration": 186,
    "start_time": "2022-02-25T08:31:25.154Z"
   },
   {
    "duration": 47,
    "start_time": "2022-02-25T08:31:27.339Z"
   },
   {
    "duration": 417,
    "start_time": "2022-02-25T08:31:37.181Z"
   },
   {
    "duration": 58,
    "start_time": "2022-02-25T08:31:40.557Z"
   },
   {
    "duration": 4,
    "start_time": "2022-02-25T08:32:22.536Z"
   },
   {
    "duration": 5,
    "start_time": "2022-02-25T08:33:44.398Z"
   },
   {
    "duration": 95,
    "start_time": "2022-02-25T08:34:38.773Z"
   },
   {
    "duration": 44,
    "start_time": "2022-02-25T08:34:46.923Z"
   },
   {
    "duration": 137,
    "start_time": "2022-02-25T08:35:05.034Z"
   },
   {
    "duration": 1141,
    "start_time": "2022-02-25T08:37:04.586Z"
   },
   {
    "duration": 33,
    "start_time": "2022-02-25T08:37:21.761Z"
   },
   {
    "duration": 9,
    "start_time": "2022-02-25T08:37:51.016Z"
   },
   {
    "duration": 6,
    "start_time": "2022-02-25T08:38:03.065Z"
   },
   {
    "duration": 5,
    "start_time": "2022-02-25T08:38:16.117Z"
   },
   {
    "duration": 10,
    "start_time": "2022-02-25T08:38:37.774Z"
   },
   {
    "duration": 32,
    "start_time": "2022-02-25T08:38:47.454Z"
   },
   {
    "duration": 8,
    "start_time": "2022-02-25T08:44:02.081Z"
   }
  ],
  "kernelspec": {
   "display_name": "Python 3 (ipykernel)",
   "language": "python",
   "name": "python3"
  },
  "language_info": {
   "codemirror_mode": {
    "name": "ipython",
    "version": 3
   },
   "file_extension": ".py",
   "mimetype": "text/x-python",
   "name": "python",
   "nbconvert_exporter": "python",
   "pygments_lexer": "ipython3",
   "version": "3.10.9"
  },
  "nbTranslate": {
   "displayLangs": [
    "*"
   ],
   "hotkey": "alt-t",
   "langInMainMenu": true,
   "sourceLang": "en",
   "targetLang": "fr",
   "useGoogleTranslate": true
  },
  "toc": {
   "base_numbering": 1,
   "nav_menu": {},
   "number_sections": true,
   "sideBar": true,
   "skip_h1_title": true,
   "title_cell": "Table of Contents",
   "title_sidebar": "Contents",
   "toc_cell": false,
   "toc_position": {},
   "toc_section_display": true,
   "toc_window_display": false
  },
  "varInspector": {
   "cols": {
    "lenName": 16,
    "lenType": 16,
    "lenVar": 40
   },
   "kernels_config": {
    "python": {
     "delete_cmd_postfix": "",
     "delete_cmd_prefix": "del ",
     "library": "var_list.py",
     "varRefreshCmd": "print(var_dic_list())"
    },
    "r": {
     "delete_cmd_postfix": ") ",
     "delete_cmd_prefix": "rm(",
     "library": "var_list.r",
     "varRefreshCmd": "cat(var_dic_list()) "
    }
   },
   "types_to_exclude": [
    "module",
    "function",
    "builtin_function_or_method",
    "instance",
    "_Feature"
   ],
   "window_display": false
  }
 },
 "nbformat": 4,
 "nbformat_minor": 5
}
