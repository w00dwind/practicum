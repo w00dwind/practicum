{
 "cells": [
  {
   "cell_type": "markdown",
   "id": "c7c57ea6",
   "metadata": {
    "toc": true
   },
   "source": [
    "<h1>Table of Contents<span class=\"tocSkip\"></span></h1>\n",
    "<div class=\"toc\"><ul class=\"toc-item\"><li><span><a href=\"#Откройте-файл-с-данными-и-изучите-его.-Путь-к-файлу\" data-toc-modified-id=\"Откройте-файл-с-данными-и-изучите-его.-Путь-к-файлу-1\"><span class=\"toc-item-num\">1&nbsp;&nbsp;</span>Откройте файл с данными и изучите его. Путь к файлу</a></span></li><li><span><a href=\"#Разделите-исходные-данные-на-обучающую,-валидационную-и-тестовую-выборки.\" data-toc-modified-id=\"Разделите-исходные-данные-на-обучающую,-валидационную-и-тестовую-выборки.-2\"><span class=\"toc-item-num\">2&nbsp;&nbsp;</span>Разделите исходные данные на обучающую, валидационную и тестовую выборки.</a></span></li><li><span><a href=\"#Исследуйте-качество-разных-моделей,-меняя-гиперпараметры.-Кратко-напишите-выводы-исследования.\" data-toc-modified-id=\"Исследуйте-качество-разных-моделей,-меняя-гиперпараметры.-Кратко-напишите-выводы-исследования.-3\"><span class=\"toc-item-num\">3&nbsp;&nbsp;</span>Исследуйте качество разных моделей, меняя гиперпараметры. Кратко напишите выводы исследования.</a></span><ul class=\"toc-item\"><li><span><a href=\"#В-качестве-baseline-решения-обучим-dummy-classifier.-accuracy-других-алгоритмов-будем-сравнивать-с-этим-решением\" data-toc-modified-id=\"В-качестве-baseline-решения-обучим-dummy-classifier.-accuracy-других-алгоритмов-будем-сравнивать-с-этим-решением-3.1\"><span class=\"toc-item-num\">3.1&nbsp;&nbsp;</span>В качестве baseline решения обучим dummy classifier. accuracy других алгоритмов будем сравнивать с этим решением</a></span></li><li><span><a href=\"#Логистическая-регрессия\" data-toc-modified-id=\"Логистическая-регрессия-3.2\"><span class=\"toc-item-num\">3.2&nbsp;&nbsp;</span>Логистическая регрессия</a></span></li><li><span><a href=\"#Решающие-деревья\" data-toc-modified-id=\"Решающие-деревья-3.3\"><span class=\"toc-item-num\">3.3&nbsp;&nbsp;</span>Решающие деревья</a></span></li><li><span><a href=\"#Случайный-лес\" data-toc-modified-id=\"Случайный-лес-3.4\"><span class=\"toc-item-num\">3.4&nbsp;&nbsp;</span>Случайный лес</a></span></li><li><span><a href=\"#lgbm-base\" data-toc-modified-id=\"lgbm-base-3.5\"><span class=\"toc-item-num\">3.5&nbsp;&nbsp;</span>lgbm base</a></span></li><li><span><a href=\"#LightGBM-search\" data-toc-modified-id=\"LightGBM-search-3.6\"><span class=\"toc-item-num\">3.6&nbsp;&nbsp;</span>LightGBM search</a></span></li><li><span><a href=\"#Catboost-base\" data-toc-modified-id=\"Catboost-base-3.7\"><span class=\"toc-item-num\">3.7&nbsp;&nbsp;</span>Catboost base</a></span></li><li><span><a href=\"#Stacking\" data-toc-modified-id=\"Stacking-3.8\"><span class=\"toc-item-num\">3.8&nbsp;&nbsp;</span>Stacking</a></span></li></ul></li><li><span><a href=\"#Вывод-:\" data-toc-modified-id=\"Вывод-:-4\"><span class=\"toc-item-num\">4&nbsp;&nbsp;</span>Вывод :</a></span></li></ul></div>"
   ]
  },
  {
   "cell_type": "code",
   "execution_count": 2,
   "id": "e09abd2a",
   "metadata": {
    "ExecuteTime": {
     "end_time": "2022-07-25T13:05:05.499515Z",
     "start_time": "2022-07-25T13:05:05.493337Z"
    }
   },
   "outputs": [],
   "source": [
    "# !pip3 install fast_ml\n",
    "# !pip install lightgbm\n",
    "# !pip install --user --upgrade catboost\n",
    "# !pip install eli5"
   ]
  },
  {
   "cell_type": "code",
   "execution_count": 7,
   "id": "ffa13358",
   "metadata": {
    "ExecuteTime": {
     "end_time": "2022-07-25T13:05:08.159361Z",
     "start_time": "2022-07-25T13:05:05.508789Z"
    }
   },
   "outputs": [
    {
     "ename": "ModuleNotFoundError",
     "evalue": "No module named 'lightgbm'",
     "output_type": "error",
     "traceback": [
      "\u001b[0;31m---------------------------------------------------------------------------\u001b[0m",
      "\u001b[0;31mModuleNotFoundError\u001b[0m                       Traceback (most recent call last)",
      "Cell \u001b[0;32mIn[7], line 24\u001b[0m\n\u001b[1;32m     22\u001b[0m \u001b[38;5;28;01mfrom\u001b[39;00m \u001b[38;5;21;01msklearn\u001b[39;00m\u001b[38;5;21;01m.\u001b[39;00m\u001b[38;5;21;01mtree\u001b[39;00m \u001b[38;5;28;01mimport\u001b[39;00m DecisionTreeClassifier\n\u001b[1;32m     23\u001b[0m \u001b[38;5;28;01mfrom\u001b[39;00m \u001b[38;5;21;01msklearn\u001b[39;00m\u001b[38;5;21;01m.\u001b[39;00m\u001b[38;5;21;01mlinear_model\u001b[39;00m \u001b[38;5;28;01mimport\u001b[39;00m LogisticRegression, LinearRegression\n\u001b[0;32m---> 24\u001b[0m \u001b[38;5;28;01mfrom\u001b[39;00m \u001b[38;5;21;01mlightgbm\u001b[39;00m \u001b[38;5;28;01mimport\u001b[39;00m LGBMClassifier\n\u001b[1;32m     25\u001b[0m \u001b[38;5;28;01mfrom\u001b[39;00m \u001b[38;5;21;01mcatboost\u001b[39;00m \u001b[38;5;28;01mimport\u001b[39;00m Pool, CatBoostClassifier\n\u001b[1;32m     26\u001b[0m \u001b[38;5;28;01mfrom\u001b[39;00m \u001b[38;5;21;01msklearn\u001b[39;00m\u001b[38;5;21;01m.\u001b[39;00m\u001b[38;5;21;01mneighbors\u001b[39;00m \u001b[38;5;28;01mimport\u001b[39;00m KNeighborsClassifier\n",
      "\u001b[0;31mModuleNotFoundError\u001b[0m: No module named 'lightgbm'"
     ]
    }
   ],
   "source": [
    "import pandas as pd\n",
    "import numpy as np\n",
    "import seaborn as sns\n",
    "import plotly.express as px\n",
    "from fast_ml.model_development import train_valid_test_split\n",
    "from eli5.sklearn import PermutationImportance\n",
    "import eli5\n",
    "\n",
    "from sklearn.model_selection import train_test_split\n",
    "from sklearn.model_selection import StratifiedShuffleSplit\n",
    "from sklearn.model_selection import GridSearchCV\n",
    "from sklearn.model_selection import RandomizedSearchCV\n",
    "from sklearn.model_selection import StratifiedKFold, KFold\n",
    "from sklearn.model_selection import cross_val_predict\n",
    "\n",
    "from sklearn.metrics import accuracy_score, precision_score, recall_score\n",
    "from sklearn.metrics import f1_score\n",
    "from sklearn.metrics import classification_report\n",
    "\n",
    "from sklearn.dummy import DummyClassifier\n",
    "from sklearn.ensemble import RandomForestClassifier\n",
    "from sklearn.tree import DecisionTreeClassifier\n",
    "from sklearn.linear_model import LogisticRegression, LinearRegression\n",
    "from lightgbm import LGBMClassifier\n",
    "from catboost import Pool, CatBoostClassifier\n",
    "from sklearn.neighbors import KNeighborsClassifier\n",
    "\n",
    "from tqdm.notebook import tqdm\n",
    "%config InlineBackend.figure_format = 'svg'\n"
   ]
  },
  {
   "cell_type": "markdown",
   "id": "b56a38c4",
   "metadata": {},
   "source": [
    "# Откройте файл с данными и изучите его. Путь к файлу"
   ]
  },
  {
   "cell_type": "code",
   "execution_count": null,
   "id": "a57aafed",
   "metadata": {
    "ExecuteTime": {
     "end_time": "2022-07-25T13:05:08.181071Z",
     "start_time": "2022-07-25T13:05:08.160684Z"
    }
   },
   "outputs": [],
   "source": [
    "try:\n",
    "    df = pd.read_csv('../datasets/users_behavior.csv')\n",
    "except:\n",
    "    df = pd.read_csv('/datasets/user_behavior.csv')\n",
    "\n",
    "display(df)\n",
    "rs = 41  # random seed\n",
    "skf = StratifiedShuffleSplit(n_splits=5, random_state=rs)"
   ]
  },
  {
   "cell_type": "code",
   "execution_count": null,
   "id": "e73f0aae",
   "metadata": {
    "ExecuteTime": {
     "end_time": "2022-07-25T13:05:12.129139Z",
     "start_time": "2022-07-25T13:05:08.182038Z"
    }
   },
   "outputs": [],
   "source": [
    "sns.pairplot(df, hue='is_ultra');"
   ]
  },
  {
   "cell_type": "markdown",
   "id": "b1e8525e",
   "metadata": {},
   "source": [
    "# Разделите исходные данные на обучающую, валидационную и тестовую выборки."
   ]
  },
  {
   "cell_type": "code",
   "execution_count": null,
   "id": "3d30f402",
   "metadata": {
    "ExecuteTime": {
     "end_time": "2022-05-04T14:47:43.932537Z",
     "start_time": "2022-05-04T14:47:43.909480Z"
    }
   },
   "outputs": [],
   "source": [
    "# Competition \n",
    "\n",
    "X_train, X_test, y_train, y_test = train_test_split(\n",
    "    df.drop(columns=['is_ultra']), df.is_ultra, test_size=.2, random_state=rs,\n",
    "stratify=df.is_ultra)"
   ]
  },
  {
   "cell_type": "code",
   "execution_count": null,
   "id": "c511909d",
   "metadata": {
    "ExecuteTime": {
     "end_time": "2022-05-04T14:47:45.008224Z",
     "start_time": "2022-05-04T14:47:44.995418Z"
    }
   },
   "outputs": [],
   "source": [
    "y_train.value_counts(normalize=True), y_test.value_counts(normalize=True)"
   ]
  },
  {
   "cell_type": "code",
   "execution_count": null,
   "id": "b7709697",
   "metadata": {
    "ExecuteTime": {
     "end_time": "2022-05-04T17:06:03.211567Z",
     "start_time": "2022-05-04T17:06:03.204057Z"
    }
   },
   "outputs": [],
   "source": []
  },
  {
   "cell_type": "code",
   "execution_count": null,
   "id": "c50ccb13",
   "metadata": {
    "ExecuteTime": {
     "end_time": "2022-05-04T17:21:54.110955Z",
     "start_time": "2022-05-04T17:21:54.056051Z"
    }
   },
   "outputs": [],
   "source": [
    "dummy_model = DummyClassifier(strategy=\"stratified\", random_state=rs) \n",
    "col_to_rename = ['id', 'is_ultra']\n",
    "\n",
    "train = X_train.join(y_train).reset_index(drop=True)\n",
    "test = X_test.reset_index(drop=True)\n",
    "test_answers = pd.DataFrame(y_test.reset_index(drop=True)).reset_index()\n",
    "test_answers.columns = col_to_rename\n",
    "\n",
    "sample_submission = dummy_model.fit(X_train, y_train).predict(X_test)\n",
    "sample_submission = pd.DataFrame(sample_submission).reset_index()\n",
    "sample_submission.columns = col_to_rename\n",
    "\n",
    "train.to_csv('../datasets/train.csv')\n",
    "test.to_csv('../datasets/test.csv', index=False)\n",
    "test_answers.to_csv('../datasets/test_answers.csv', index=False)\n",
    "sample_submission.to_csv('../datasets/sample_submission.csv', index=False)\n",
    "\n",
    "sample_submission"
   ]
  },
  {
   "cell_type": "code",
   "execution_count": null,
   "id": "21ef3ce4",
   "metadata": {
    "ExecuteTime": {
     "end_time": "2022-05-04T17:53:07.475009Z",
     "start_time": "2022-05-04T17:53:07.436111Z"
    }
   },
   "outputs": [],
   "source": [
    "predictions = dummy_model.predict(X_test)"
   ]
  },
  {
   "cell_type": "code",
   "execution_count": null,
   "id": "e8f1cd29",
   "metadata": {
    "ExecuteTime": {
     "end_time": "2022-05-04T17:53:28.084540Z",
     "start_time": "2022-05-04T17:53:28.076816Z"
    }
   },
   "outputs": [],
   "source": [
    "sample_submission['is_ultra'] = predictions"
   ]
  },
  {
   "cell_type": "code",
   "execution_count": null,
   "id": "d10cfe0c",
   "metadata": {},
   "outputs": [],
   "source": [
    "cb_test = CatBoostClassifier(random_state=rs, learning_rate=0.01, eval_metric='Accuracy')\n",
    "cb_predicted = cb_test.fit(X_train, y_train).predict(X_test)"
   ]
  },
  {
   "cell_type": "code",
   "execution_count": null,
   "id": "31d7f388",
   "metadata": {
    "ExecuteTime": {
     "end_time": "2022-05-04T18:11:00.680332Z",
     "start_time": "2022-05-04T18:11:00.072729Z"
    }
   },
   "outputs": [],
   "source": [
    "rf_model = RandomForestClassifier(random_state=rs)\n",
    "rf_model.fit(X_train, y_train)\n",
    "rf_predicted = rf_model.predict(X_test)"
   ]
  },
  {
   "cell_type": "code",
   "execution_count": null,
   "id": "cb0c1795",
   "metadata": {
    "ExecuteTime": {
     "end_time": "2022-05-04T18:11:08.242214Z",
     "start_time": "2022-05-04T18:11:08.223907Z"
    }
   },
   "outputs": [],
   "source": [
    "sample_submission = pd.read_csv('../datasets/sample_submission.csv')\n",
    "sample_submission['is_ultra'] = rf_predicted\n",
    "sample_submission.to_csv('../datasets/submission.csv', index=False)"
   ]
  },
  {
   "cell_type": "code",
   "execution_count": null,
   "id": "3ab86837",
   "metadata": {
    "ExecuteTime": {
     "end_time": "2022-05-04T15:08:44.879763Z",
     "start_time": "2022-05-04T15:08:44.868982Z"
    }
   },
   "outputs": [],
   "source": [
    "sample_submission"
   ]
  },
  {
   "cell_type": "code",
   "execution_count": null,
   "id": "6e4f27da",
   "metadata": {
    "ExecuteTime": {
     "end_time": "2022-04-20T15:19:17.198886Z",
     "start_time": "2022-04-20T15:19:17.172571Z"
    }
   },
   "outputs": [],
   "source": [
    "X = df.drop(columns=['is_ultra', 'minutes'])\n",
    "y = df.is_ultra\n",
    "\n",
    "# X_train, y_train, X_valid, y_valid, X_test, y_test = train_valid_test_split(\n",
    "#     df=df.drop(columns=['minutes']),\n",
    "#     target=['is_ultra'],\n",
    "#     train_size=.8,\n",
    "#     valid_size=.1,\n",
    "#     test_size=.1\n",
    "# )\n",
    "\n",
    "\n",
    "# In the first step we will split the data in training and remaining dataset\n",
    "X_train, X_rem, y_train, y_rem = train_test_split(X,y,\n",
    "#                                                   shuffle=True,\n",
    "                                                  train_size=0.8,\n",
    "                                                 random_state=rs\n",
    ")\n",
    "\n",
    "X_valid, X_test, y_valid, y_test = train_test_split(X_rem,\n",
    "                                                    y_rem,\n",
    "                                                    test_size=0.5,\n",
    "#                                                    shuffle=True,\n",
    "                                                   random_state=rs\n",
    ")"
   ]
  },
  {
   "cell_type": "code",
   "execution_count": null,
   "id": "692ddce4",
   "metadata": {
    "ExecuteTime": {
     "end_time": "2022-04-20T15:19:17.208422Z",
     "start_time": "2022-04-20T15:19:17.201205Z"
    }
   },
   "outputs": [],
   "source": [
    "def print_score(model_grid):\n",
    "    predictions = model_grid.predict(X_valid)\n",
    "    print(f\"{model_grid.best_estimator_}\\n\")\n",
    "    print(\"\\n\", \"-\"*60)\n",
    "    print(classification_report(y_valid, predictions))\n",
    "    print(f\"train accuracy: {model_grid.best_score_}\")\n",
    "    print(f\"validation accuracy: {accuracy_score(y_valid, predictions)}\")\n",
    "    print(\n",
    "        f\"test accuracy: {accuracy_score(y_test, model_grid.predict(X_test))}\\n\")\n",
    "#         print(f\"f1 score: {f1_score(y_valid, predictions)}\")"
   ]
  },
  {
   "cell_type": "code",
   "execution_count": null,
   "id": "26ac2efc",
   "metadata": {
    "ExecuteTime": {
     "end_time": "2022-04-20T15:19:17.223598Z",
     "start_time": "2022-04-20T15:19:17.216831Z"
    }
   },
   "outputs": [],
   "source": [
    "# Функция для возвращения таблицы с метриками\n",
    "def get_scores(report_df, model, X_test, y_test, name):\n",
    "\n",
    "    report = pd.DataFrame(columns={'accuracy'}, data=[0])\n",
    "#     report['ROC-AUC'] = roc_auc_score(y_test,\n",
    "#                                       model.predict_proba(X_test)[:, 1])\n",
    "    report['accuracy'] = accuracy_score(y_test, \n",
    "                                       model.predict(X_test))\n",
    "    report['F1'] = f1_score(y_test, model.predict(X_test))\n",
    "    report['precision_0'] = precision_score(\n",
    "        y_test, model.predict(X_test), pos_label=0)\n",
    "    report['precision_1'] = precision_score(\n",
    "        y_test, model.predict(X_test), pos_label=1)\n",
    "    report['recall_0'] = recall_score(\n",
    "        y_test, model.predict(X_test), pos_label=0)\n",
    "    report['recall_1'] = recall_score(\n",
    "        y_test, model.predict(X_test), pos_label=1)\n",
    "\n",
    "    report.index = [name]\n",
    "    report_df = report_df.append(report)\n",
    "    return report_df"
   ]
  },
  {
   "cell_type": "markdown",
   "id": "3109c451",
   "metadata": {},
   "source": [
    "# Исследуйте качество разных моделей, меняя гиперпараметры. Кратко напишите выводы исследования."
   ]
  },
  {
   "cell_type": "markdown",
   "id": "7ae8c35e",
   "metadata": {},
   "source": [
    "## В качестве baseline решения обучим dummy classifier. accuracy других алгоритмов будем сравнивать с этим решением"
   ]
  },
  {
   "cell_type": "code",
   "execution_count": null,
   "id": "586da5e8",
   "metadata": {
    "ExecuteTime": {
     "end_time": "2022-05-04T14:56:37.232307Z",
     "start_time": "2022-05-04T14:56:37.051373Z"
    }
   },
   "outputs": [],
   "source": [
    "dummy_model = DummyClassifier(strategy=\"most_frequent\", random_state=rs) \n",
    "dummy_model.fit(X_train, y_train)\n",
    "\n",
    "dummy_pred = dummy_model.predict(X_valid)\n",
    "# accuracy_score(y_valid, dummy_pred)\n"
   ]
  },
  {
   "cell_type": "code",
   "execution_count": null,
   "id": "83356e7c",
   "metadata": {
    "ExecuteTime": {
     "end_time": "2022-04-20T15:19:17.267674Z",
     "start_time": "2022-04-20T15:19:17.239812Z"
    }
   },
   "outputs": [],
   "source": [
    "df_report = pd.DataFrame(columns={'accuracy'}, data=[0])\n",
    "\n",
    "df_report['accuracy'] = accuracy_score(y_valid, dummy_pred)\n",
    "df_report['precision_0'] = precision_score(y_valid, dummy_pred, pos_label=0)\n",
    "df_report['recall_0'] = recall_score(y_valid, dummy_pred, pos_label=0)\n",
    "df_report['precision_1'] = precision_score(y_valid, dummy_pred, pos_label=1)\n",
    "df_report['recall_1'] = recall_score(y_valid, dummy_pred, pos_label=1)\n",
    "\n",
    "df_report.index = ['baseline']\n",
    "df_report"
   ]
  },
  {
   "cell_type": "markdown",
   "id": "c019c0c6",
   "metadata": {},
   "source": [
    "## Логистическая регрессия"
   ]
  },
  {
   "cell_type": "code",
   "execution_count": null,
   "id": "4cbc704b",
   "metadata": {
    "ExecuteTime": {
     "end_time": "2022-04-20T15:19:18.909837Z",
     "start_time": "2022-04-20T15:19:17.271231Z"
    }
   },
   "outputs": [],
   "source": [
    "lr_model = LogisticRegression(random_state=rs)\n",
    "\n",
    "lr_params = {\n",
    "    'C':np.logspace(-3,3,7),\n",
    "    'penalty': ['l1', 'l2'],\n",
    "    'class_weight': ['Balanced', None]\n",
    "}\n",
    "lr_search = RandomizedSearchCV(\n",
    "                        lr_model,\n",
    "                        lr_params,\n",
    "                        cv=5,\n",
    "                        verbose=3,\n",
    "                        scoring='accuracy'\n",
    ")\n",
    "lr_search.fit(X_train, y_train)\n",
    "\n"
   ]
  },
  {
   "cell_type": "code",
   "execution_count": null,
   "id": "ed641d5b",
   "metadata": {
    "ExecuteTime": {
     "end_time": "2022-04-20T15:19:18.970946Z",
     "start_time": "2022-04-20T15:19:18.919226Z"
    }
   },
   "outputs": [],
   "source": [
    "print_score(lr_search)"
   ]
  },
  {
   "cell_type": "code",
   "execution_count": null,
   "id": "d2911160",
   "metadata": {
    "ExecuteTime": {
     "end_time": "2022-04-20T15:19:19.052090Z",
     "start_time": "2022-04-20T15:19:18.980262Z"
    }
   },
   "outputs": [],
   "source": [
    "df_report = get_scores(df_report, lr_search.best_estimator_, X_valid, y_valid, 'logistic_regression')\n",
    "df_report"
   ]
  },
  {
   "cell_type": "markdown",
   "id": "02d7fde3",
   "metadata": {},
   "source": [
    "## Решающие деревья"
   ]
  },
  {
   "cell_type": "code",
   "execution_count": null,
   "id": "e5804af9",
   "metadata": {
    "ExecuteTime": {
     "end_time": "2022-04-20T15:19:24.679710Z",
     "start_time": "2022-04-20T15:19:19.062364Z"
    }
   },
   "outputs": [],
   "source": [
    "tree_model = DecisionTreeClassifier(random_state=rs)\n",
    "\n",
    "tree_params = {\n",
    "    'criterion': ['gini', 'entropy'],\n",
    "    'max_depth': np.arange(3,15),\n",
    "    'max_features': ['auto', 'sqrt', 'log2'],\n",
    "    'class_weight': ['balanced', None]\n",
    "}\n",
    "\n",
    "tree_search = GridSearchCV(tree_model, \n",
    "                           tree_params, \n",
    "                           scoring='accuracy',\n",
    "                           verbose=3,\n",
    "                           cv=3)\n",
    "tree_search.fit(X_train, y_train)\n",
    "\n"
   ]
  },
  {
   "cell_type": "code",
   "execution_count": null,
   "id": "2e6f7c5e",
   "metadata": {
    "ExecuteTime": {
     "end_time": "2022-04-20T15:19:24.713072Z",
     "start_time": "2022-04-20T15:19:24.687764Z"
    }
   },
   "outputs": [],
   "source": [
    "print_score(tree_search)"
   ]
  },
  {
   "cell_type": "code",
   "execution_count": null,
   "id": "2b830fa3",
   "metadata": {
    "ExecuteTime": {
     "end_time": "2022-04-20T15:19:24.877902Z",
     "start_time": "2022-04-20T15:19:24.718774Z"
    }
   },
   "outputs": [],
   "source": [
    "df_report = get_scores(\n",
    "    df_report, tree_search.best_estimator_, X_valid, y_valid, 'tree')\n",
    "df_report"
   ]
  },
  {
   "cell_type": "markdown",
   "id": "c77418d9",
   "metadata": {},
   "source": [
    "## Случайный лес"
   ]
  },
  {
   "cell_type": "code",
   "execution_count": null,
   "id": "d7670757",
   "metadata": {
    "ExecuteTime": {
     "end_time": "2022-04-20T15:21:28.396447Z",
     "start_time": "2022-04-20T15:19:24.889255Z"
    }
   },
   "outputs": [],
   "source": [
    "rf_model = RandomForestClassifier(random_state=41)\n",
    "\n",
    "# Number of trees in random forest\n",
    "# n_estimators = [int(x) for x in np.linspace(start = 200, stop = 2000, num = 10)]\n",
    "# Number of features to consider at every split\n",
    "max_features = ['auto', 'sqrt']\n",
    "# Maximum number of levels in tree\n",
    "max_depth = [int(x) for x in np.linspace(70, 110, num = 5)]\n",
    "max_depth.append(None)\n",
    "# Minimum number of samples required to split a node\n",
    "min_samples_split = [2, 5, 10]\n",
    "# Minimum number of samples required at each leaf node\n",
    "# min_samples_leaf = [1, 2, 4]\n",
    "# Method of selecting samples for training each tree\n",
    "bootstrap = [True, False]\n",
    "\n",
    "# Create the random grid\n",
    "rf_params = {  'criterion': ['gini', 'entropy'],\n",
    "               'class_weight': ['balanced', 'balanced_subsample'],\n",
    "               'n_estimators': np.arange(400,1001,100), # Параметры нашёл, экономлю время ревьюера\n",
    "               'max_features': ['sqrt', 'log2', 'auto'],\n",
    "               'max_depth': np.arange(50, 251, 10),\n",
    "               'min_samples_split': [5],\n",
    "               'min_samples_leaf': [4], \n",
    "               'bootstrap': bootstrap\n",
    "}\n",
    "\n",
    "rf_search = RandomizedSearchCV(rf_model, \n",
    "                         rf_params, \n",
    "                         scoring='accuracy', \n",
    "                         verbose=10,\n",
    "                         cv=5,\n",
    "                         n_jobs=-1)\n",
    "\n",
    "rf_search.fit(X_train, y_train)\n",
    "\n",
    "\n"
   ]
  },
  {
   "cell_type": "code",
   "execution_count": null,
   "id": "965d81ff",
   "metadata": {
    "ExecuteTime": {
     "end_time": "2022-04-20T15:21:29.037309Z",
     "start_time": "2022-04-20T15:21:28.402139Z"
    }
   },
   "outputs": [],
   "source": [
    "print_score(rf_search)"
   ]
  },
  {
   "cell_type": "code",
   "execution_count": null,
   "id": "0964bfad",
   "metadata": {
    "ExecuteTime": {
     "end_time": "2022-04-20T15:21:29.682722Z",
     "start_time": "2022-04-20T15:21:29.043655Z"
    }
   },
   "outputs": [],
   "source": [
    "accuracy_score(y_test, rf_search.predict(X_test))"
   ]
  },
  {
   "cell_type": "code",
   "execution_count": null,
   "id": "216a1b0b",
   "metadata": {
    "ExecuteTime": {
     "end_time": "2022-04-20T15:21:33.834853Z",
     "start_time": "2022-04-20T15:21:29.686079Z"
    }
   },
   "outputs": [],
   "source": [
    "df_report = get_scores(\n",
    "    df_report, rf_search.best_estimator_, X_valid, y_valid, 'random_forest')\n",
    "df_report"
   ]
  },
  {
   "cell_type": "code",
   "execution_count": null,
   "id": "57373a39",
   "metadata": {
    "ExecuteTime": {
     "end_time": "2022-04-20T15:21:39.624474Z",
     "start_time": "2022-04-20T15:21:33.967898Z"
    }
   },
   "outputs": [],
   "source": [
    "rf_search.best_estimator_.fit(pd.concat((X_train, X_valid)), pd.concat((y_train, y_valid)))"
   ]
  },
  {
   "cell_type": "code",
   "execution_count": null,
   "id": "f605406a",
   "metadata": {
    "ExecuteTime": {
     "end_time": "2022-04-20T15:21:39.807440Z",
     "start_time": "2022-04-20T15:21:39.628095Z"
    }
   },
   "outputs": [],
   "source": [
    "concat_pred = rf_search.best_estimator_.predict(X_test)\n",
    "accuracy_score(y_test, concat_pred)"
   ]
  },
  {
   "cell_type": "code",
   "execution_count": null,
   "id": "163369fe",
   "metadata": {
    "ExecuteTime": {
     "end_time": "2022-04-20T15:21:40.709719Z",
     "start_time": "2022-04-20T15:21:39.809593Z"
    }
   },
   "outputs": [],
   "source": [
    "df_report = get_scores(\n",
    "    df_report, rf_search.best_estimator_, \n",
    "    X_test, y_test,\n",
    "    'random_forest_concat'\n",
    ")"
   ]
  },
  {
   "cell_type": "markdown",
   "id": "3ae77c91",
   "metadata": {},
   "source": [
    "## lgbm base"
   ]
  },
  {
   "cell_type": "code",
   "execution_count": null,
   "id": "249e0031",
   "metadata": {
    "ExecuteTime": {
     "end_time": "2022-04-20T15:21:40.845026Z",
     "start_time": "2022-04-20T15:21:40.712445Z"
    }
   },
   "outputs": [],
   "source": [
    "lgbm_base = LGBMClassifier(random_state=rs)\n",
    "\n",
    "lgbm_base.fit(X_train, y_train)"
   ]
  },
  {
   "cell_type": "code",
   "execution_count": null,
   "id": "278d9d0f",
   "metadata": {
    "ExecuteTime": {
     "end_time": "2022-04-20T15:21:40.931516Z",
     "start_time": "2022-04-20T15:21:40.848187Z"
    }
   },
   "outputs": [],
   "source": [
    "df_report = get_scores(\n",
    "    df_report, lgbm_base, X_valid, y_valid, 'lgbm_base')\n",
    "df_report"
   ]
  },
  {
   "cell_type": "markdown",
   "id": "c84bebe8",
   "metadata": {},
   "source": [
    "## LightGBM search"
   ]
  },
  {
   "cell_type": "code",
   "execution_count": null,
   "id": "f1c040c8",
   "metadata": {
    "ExecuteTime": {
     "end_time": "2022-04-20T15:21:52.644008Z",
     "start_time": "2022-04-20T15:21:40.991771Z"
    }
   },
   "outputs": [],
   "source": [
    "lgbm_model = LGBMClassifier(random_state=rs)\n",
    "\n",
    "lgbm_params = {\n",
    "                'num_leaves':[20,40,60,80,100], \n",
    "                'min_child_samples':[5,10,15],\n",
    "                'max_depth':[-1,5,10,20],\n",
    "                'learning_rate':[0.05,0.1,0.2],\n",
    "                'reg_alpha':[0,0.01,0.03]\n",
    "    \n",
    "}\n",
    "\n",
    "lgbm_search = RandomizedSearchCV(  lgbm_model, \n",
    "                                   lgbm_params, \n",
    "                                   scoring='accuracy', \n",
    "                                   cv=5, \n",
    "                                   verbose=3,\n",
    "                                   n_jobs=-1,\n",
    "                                   random_state=rs)\n",
    "\n",
    "lgbm_search.fit(X_train, y_train)\n",
    "\n"
   ]
  },
  {
   "cell_type": "code",
   "execution_count": null,
   "id": "e591d29f",
   "metadata": {
    "ExecuteTime": {
     "end_time": "2022-04-20T15:21:52.712690Z",
     "start_time": "2022-04-20T15:21:52.668894Z"
    }
   },
   "outputs": [],
   "source": [
    "print_score(lgbm_search)"
   ]
  },
  {
   "cell_type": "code",
   "execution_count": null,
   "id": "b0b827a9",
   "metadata": {
    "ExecuteTime": {
     "end_time": "2022-04-20T15:21:52.872834Z",
     "start_time": "2022-04-20T15:21:52.715933Z"
    }
   },
   "outputs": [],
   "source": [
    "df_report = get_scores(\n",
    "    df_report, lgbm_search.best_estimator_, X_valid, y_valid, 'lgbm_search')\n",
    "df_report"
   ]
  },
  {
   "cell_type": "markdown",
   "id": "ed809608",
   "metadata": {},
   "source": [
    "## Catboost base"
   ]
  },
  {
   "cell_type": "code",
   "execution_count": null,
   "id": "f614ef20",
   "metadata": {
    "ExecuteTime": {
     "end_time": "2022-04-20T15:21:55.566583Z",
     "start_time": "2022-04-20T15:21:52.876710Z"
    }
   },
   "outputs": [],
   "source": [
    "cb_base = CatBoostClassifier(\n",
    "    random_state=rs,\n",
    "    eval_metric='Accuracy'\n",
    ")\n",
    "cb_base.fit(\n",
    "    X_train,\n",
    "    y_train,\n",
    "    plot=True,\n",
    "    verbose=False,\n",
    "    eval_set=(X_valid, y_valid)\n",
    ")\n"
   ]
  },
  {
   "cell_type": "code",
   "execution_count": null,
   "id": "da0d5fe1",
   "metadata": {
    "ExecuteTime": {
     "end_time": "2022-04-20T15:21:55.601052Z",
     "start_time": "2022-04-20T15:21:55.569234Z"
    }
   },
   "outputs": [],
   "source": [
    "df_report = get_scores(df_report, cb_base, X_valid, y_valid, 'catboost_base')"
   ]
  },
  {
   "cell_type": "markdown",
   "id": "cf8b19ec",
   "metadata": {},
   "source": [
    "## Stacking"
   ]
  },
  {
   "cell_type": "code",
   "execution_count": null,
   "id": "ca430e11",
   "metadata": {
    "ExecuteTime": {
     "end_time": "2022-04-20T15:21:55.616845Z",
     "start_time": "2022-04-20T15:21:55.606728Z"
    }
   },
   "outputs": [],
   "source": [
    "def compute_meta_feature(model, X_train, X_valid,  y_train, cv, X_test=None,):\n",
    "    try:\n",
    "        train_answers = cross_val_predict(model, X_train, y_train, cv=cv, method='predict_proba')[:, 1]\n",
    "        model.fit(X_train, y_train)\n",
    "        if len(X_test) >= 0: \n",
    "            return train_answers, model.predict_proba(X_valid)[:, 1], model.predict_proba(X_test)[:, 1]\n",
    "        else: \n",
    "            return train_answers, model.predict_proba(X_valid)[:, 1]\n",
    "    \n",
    "    except:\n",
    "        train_answers = cross_val_predict(model, X_train, y_train, cv=cv, method='predict')#[:, 1]\n",
    "        model.fit(X_train, y_train)\n",
    "        return 'except', train_answers, model.predict(X_valid)#[:, 1]"
   ]
  },
  {
   "cell_type": "code",
   "execution_count": null,
   "id": "55bdf941",
   "metadata": {
    "ExecuteTime": {
     "end_time": "2022-04-20T15:21:55.645393Z",
     "start_time": "2022-04-20T15:21:55.638205Z"
    }
   },
   "outputs": [],
   "source": [
    "models = []\n",
    "models.append(KNeighborsClassifier(n_jobs=-1, n_neighbors=30))\n",
    "\n",
    "models.append(RandomForestClassifier(max_depth=110, \n",
    "                                     min_samples_leaf=4, \n",
    "                                     min_samples_split=5,\n",
    "                                     n_estimators=1400, \n",
    "                                     random_state=rs,\n",
    "                                     n_jobs=-1))\n",
    "# models.append(RandomForestClassifier(max_depth=7, \n",
    "#                                      n_estimators=50, \n",
    "#                                      n_jobs=-1, \n",
    "#                                      random_state=rs))\n",
    "models.append(CatBoostClassifier(depth=4,\n",
    "                                 l2_leaf_reg = 9, \n",
    "                                 learning_rate = 0.060000000000000005,\n",
    "                                verbose=False,\n",
    "                                eval_metric='Accuracy',\n",
    "                                random_state=rs))\n",
    "models.append(LGBMClassifier(\n",
    "    learning_rate=0.05, \n",
    "    min_child_samples=15, \n",
    "    num_leaves=20,\n",
    "    random_state=rs, \n",
    "    reg_alpha=0.03,\n",
    "    n_jobs=-1))\n"
   ]
  },
  {
   "cell_type": "code",
   "execution_count": null,
   "id": "f4ea07c9",
   "metadata": {
    "ExecuteTime": {
     "end_time": "2022-04-20T15:21:55.653523Z",
     "start_time": "2022-04-20T15:21:55.648230Z"
    }
   },
   "outputs": [],
   "source": [
    "meta_features_train = np.zeros((X_train.shape[0], 0))\n",
    "meta_features_valid = np.zeros((X_valid.shape[0], 0))\n",
    "meta_features_test = np.zeros((X_test.shape[0], 0))"
   ]
  },
  {
   "cell_type": "code",
   "execution_count": null,
   "id": "aab90831",
   "metadata": {
    "ExecuteTime": {
     "end_time": "2022-04-20T15:22:50.671361Z",
     "start_time": "2022-04-20T15:21:55.659402Z"
    }
   },
   "outputs": [],
   "source": [
    "for model in tqdm(models):\n",
    "    train, valid, test = compute_meta_feature(model, X_train, X_valid, y_train, 5, X_test)\n",
    "\n",
    "    meta_features_train = np.append(meta_features_train, train.reshape((train.size, 1)), axis=1)\n",
    "    meta_features_valid = np.append(meta_features_valid, valid.reshape((valid.size, 1)), axis=1)\n",
    "    meta_features_test = np.append(meta_features_test, test.reshape((test.size, 1)), axis=1)"
   ]
  },
  {
   "cell_type": "code",
   "execution_count": null,
   "id": "b0e52721",
   "metadata": {
    "ExecuteTime": {
     "end_time": "2022-04-20T15:22:50.719923Z",
     "start_time": "2022-04-20T15:22:50.680698Z"
    }
   },
   "outputs": [],
   "source": [
    "mft = pd.DataFrame(meta_features_train)\n",
    "mft['mean_pred'] = mft.mean(axis=1)\n",
    "\n",
    "mft"
   ]
  },
  {
   "cell_type": "code",
   "execution_count": null,
   "id": "e28fa00c",
   "metadata": {
    "ExecuteTime": {
     "end_time": "2022-04-20T15:22:50.767146Z",
     "start_time": "2022-04-20T15:22:50.723910Z"
    }
   },
   "outputs": [],
   "source": [
    "stacking_model = LogisticRegression(random_state=rs)\n",
    "stacking_model.fit(meta_features_train, y_train)\n",
    "\n",
    "y_train_predicted = stacking_model.predict(meta_features_train)\n",
    "\n",
    "y_valid_predicted = stacking_model.predict(meta_features_valid)\n",
    "\n",
    "y_test_predicted = stacking_model.predict(meta_features_test)"
   ]
  },
  {
   "cell_type": "code",
   "execution_count": null,
   "id": "8ba06723",
   "metadata": {
    "ExecuteTime": {
     "end_time": "2022-04-20T15:22:50.784147Z",
     "start_time": "2022-04-20T15:22:50.770313Z"
    }
   },
   "outputs": [],
   "source": [
    "print(\n",
    "    f\"stacking train accuracy: {accuracy_score(y_train, y_train_predicted)}\")\n",
    "print(\n",
    "    f\"stacking validation accuracy: {accuracy_score(y_valid, y_valid_predicted)}\")\n",
    "print(\n",
    "    f\"stacking test accuracy: {accuracy_score(y_test, y_test_predicted)}\")"
   ]
  },
  {
   "cell_type": "code",
   "execution_count": null,
   "id": "06956711",
   "metadata": {
    "ExecuteTime": {
     "end_time": "2022-04-20T15:22:50.832056Z",
     "start_time": "2022-04-20T15:22:50.788019Z"
    }
   },
   "outputs": [],
   "source": [
    "df_report = get_scores(\n",
    "    df_report, stacking_model, meta_features_test, y_test, 'stacking').sort_values(by='accuracy', ascending=False)\n",
    "df_report"
   ]
  },
  {
   "cell_type": "code",
   "execution_count": 1,
   "id": "29bc1f82",
   "metadata": {
    "ExecuteTime": {
     "end_time": "2022-04-20T15:22:54.373792Z",
     "start_time": "2022-04-20T15:22:50.835629Z"
    }
   },
   "outputs": [
    {
     "ename": "NameError",
     "evalue": "name 'cb_base' is not defined",
     "output_type": "error",
     "traceback": [
      "\u001b[0;31m---------------------------------------------------------------------------\u001b[0m",
      "\u001b[0;31mNameError\u001b[0m                                 Traceback (most recent call last)",
      "Cell \u001b[0;32mIn[1], line 1\u001b[0m\n\u001b[0;32m----> 1\u001b[0m \u001b[43mcb_base\u001b[49m\u001b[38;5;241m.\u001b[39mfit(pd\u001b[38;5;241m.\u001b[39mconcat((X_train, X_valid)), pd\u001b[38;5;241m.\u001b[39mconcat((y_train, y_valid)))\n",
      "\u001b[0;31mNameError\u001b[0m: name 'cb_base' is not defined"
     ]
    }
   ],
   "source": [
    "cb_base.fit(pd.concat((X_train, X_valid)), pd.concat((y_train, y_valid)))"
   ]
  },
  {
   "cell_type": "code",
   "execution_count": null,
   "id": "59795cf2",
   "metadata": {
    "ExecuteTime": {
     "end_time": "2022-04-20T15:22:55.705337Z",
     "start_time": "2022-04-20T15:22:54.380022Z"
    }
   },
   "outputs": [],
   "source": [
    "\n",
    "\n",
    "px.bar(df_report,\n",
    "       y='accuracy',\n",
    "       color=df_report.index, \n",
    "       log_y=True,\n",
    "#        range_y=(df_report['accuracy'].min() - .02, df_report['accuracy'].max()  + .02),\n",
    "       title='ML algoritm comarison'\n",
    "      )"
   ]
  },
  {
   "cell_type": "code",
   "execution_count": null,
   "id": "f6b4adbb",
   "metadata": {
    "ExecuteTime": {
     "end_time": "2022-04-20T15:23:02.732573Z",
     "start_time": "2022-04-20T15:22:55.707889Z"
    }
   },
   "outputs": [],
   "source": [
    "perm = (PermutationImportance(rf_search.best_estimator_, scoring='accuracy')\n",
    "        .fit(X_train, y_train))\n",
    "eli5.show_weights(perm, feature_names=X_valid.columns.tolist())"
   ]
  },
  {
   "cell_type": "markdown",
   "id": "cf4dd45b",
   "metadata": {},
   "source": [
    "# Вывод :\n",
    "\n"
   ]
  },
  {
   "cell_type": "markdown",
   "id": "a7662775",
   "metadata": {},
   "source": [
    "* Данных маловато для полноценного обучения моделей.\n",
    "* Все алгоритмы из проекта можно назвать разумными, т.к. они работают ощутимо качественнее baseline решения. \n",
    "* Три безусловных лидера по accuracy - random_forest, lightGBM, stacking. Последний по метрикам очень близок к lightgbm.\n",
    "* Странно, что catboost отработал хуже деревьев, скорее всего можно подобрать гиперпараметры лучше для этого алгоритма.\n",
    "* accuracy - спорная метрика, сильно зависящая от пропорций классов. \n"
   ]
  },
  {
   "cell_type": "code",
   "execution_count": null,
   "id": "639a6a1e",
   "metadata": {
    "ExecuteTime": {
     "end_time": "2022-04-20T15:23:02.740673Z",
     "start_time": "2022-04-20T15:23:02.735606Z"
    }
   },
   "outputs": [],
   "source": [
    "X_concat = pd.concat((X_train, X_valid))\n",
    "y_concat = pd.concat((y_train, y_valid))"
   ]
  },
  {
   "cell_type": "code",
   "execution_count": null,
   "id": "82094928",
   "metadata": {
    "ExecuteTime": {
     "end_time": "2022-04-20T15:23:02.855996Z",
     "start_time": "2022-04-20T15:23:02.746267Z"
    }
   },
   "outputs": [],
   "source": [
    "# model = CatBoostClassifier(learning_rate=0.03)\n",
    "from catboost import CatBoostClassifier, Pool\n",
    "from catboost.utils import get_roc_curve, select_threshold\n",
    "\n",
    "# model.fit(train_data, train_labels, verbose=False)\n",
    "roc_curve_values = get_roc_curve(cb_base, Pool(X_concat, y_concat))\n",
    "\n",
    "boundary = select_threshold(lgbm_base, \n",
    "                            curve=roc_curve_values,  \n",
    "                            FPR=0.01)\n",
    "print(boundary)\n",
    "\n",
    "y_pred = (lgbm_base.fit(X_concat, y_concat).predict_proba(X_test)[:,1] >= boundary).astype(int)\n",
    "accuracy_score(y_test, y_pred)"
   ]
  }
 ],
 "metadata": {
  "kernelspec": {
   "display_name": "Python 3 (ipykernel)",
   "language": "python",
   "name": "python3"
  },
  "language_info": {
   "codemirror_mode": {
    "name": "ipython",
    "version": 3
   },
   "file_extension": ".py",
   "mimetype": "text/x-python",
   "name": "python",
   "nbconvert_exporter": "python",
   "pygments_lexer": "ipython3",
   "version": "3.10.8"
  },
  "nbTranslate": {
   "displayLangs": [
    "ru"
   ],
   "hotkey": "alt-t",
   "langInMainMenu": true,
   "sourceLang": "en",
   "targetLang": "ru",
   "useGoogleTranslate": true
  },
  "toc": {
   "base_numbering": 1,
   "nav_menu": {},
   "number_sections": true,
   "sideBar": true,
   "skip_h1_title": false,
   "title_cell": "Table of Contents",
   "title_sidebar": "Contents",
   "toc_cell": true,
   "toc_position": {
    "height": "calc(100% - 180px)",
    "left": "10px",
    "top": "150px",
    "width": "202.017px"
   },
   "toc_section_display": true,
   "toc_window_display": true
  },
  "varInspector": {
   "cols": {
    "lenName": 16,
    "lenType": 16,
    "lenVar": 40
   },
   "kernels_config": {
    "python": {
     "delete_cmd_postfix": "",
     "delete_cmd_prefix": "del ",
     "library": "var_list.py",
     "varRefreshCmd": "print(var_dic_list())"
    },
    "r": {
     "delete_cmd_postfix": ") ",
     "delete_cmd_prefix": "rm(",
     "library": "var_list.r",
     "varRefreshCmd": "cat(var_dic_list()) "
    }
   },
   "types_to_exclude": [
    "module",
    "function",
    "builtin_function_or_method",
    "instance",
    "_Feature"
   ],
   "window_display": false
  }
 },
 "nbformat": 4,
 "nbformat_minor": 5
}
