{
 "cells": [
  {
   "cell_type": "markdown",
   "metadata": {},
   "source": [
    "# Определение перспективного тарифа для телеком-компании\n",
    "\n",
    "* В этом проекте нам предстоит проанализировать два тарифа: \"Смарт\" и \"Ультра\" оператора связи \"Мегалайн\".\n",
    "* Мы проанализируем данные об активности пользователей различных тарифов. \n",
    "* Посмотрим какими видами услуг пользуются клиенты разных тарифов. \n",
    "* Проверим гипотезы:\n",
    "    * средняя выручка клиентов различных тарифов отличается\n",
    "    * средняя выручка клиентов из Москвы отличается от клиентов из других городов"
   ]
  },
  {
   "cell_type": "code",
   "execution_count": 2,
   "metadata": {
    "ExecuteTime": {
     "end_time": "2023-02-14T13:12:04.723143Z",
     "start_time": "2023-02-14T13:12:04.485489Z"
    }
   },
   "outputs": [],
   "source": [
    "import pandas as pd\n",
    "import numpy as np\n",
    "# import scipy.stats as st\n",
    "import matplotlib.pyplot as plt"
   ]
  },
  {
   "cell_type": "code",
   "execution_count": 7,
   "metadata": {
    "ExecuteTime": {
     "end_time": "2023-02-14T13:12:53.840028Z",
     "start_time": "2023-02-14T13:12:53.649338Z"
    }
   },
   "outputs": [],
   "source": [
    "df_calls = pd.read_csv('../datasets/calls.csv')\n",
    "df_internet = pd.read_csv('../datasets/internet.csv', index_col=0)\n",
    "df_messages = pd.read_csv('../datasets/messages.csv')\n",
    "df_tariffs = pd.read_csv('../datasets/tariffs.csv')\n",
    "df_users = pd.read_csv('../datasets/users.csv')\n",
    "\n",
    "df_tariffs.rename(columns={\"tariff_name\":\"tariff\"}, inplace = True)\n",
    "\n",
    "list_of_data = [df_calls, df_internet, df_messages, df_tariffs, df_users]"
   ]
  },
  {
   "cell_type": "markdown",
   "metadata": {},
   "source": [
    "### Проверка данных на пропуски"
   ]
  },
  {
   "cell_type": "code",
   "execution_count": 20,
   "metadata": {
    "ExecuteTime": {
     "end_time": "2023-02-14T13:27:28.035535Z",
     "start_time": "2023-02-14T13:27:28.019559Z"
    }
   },
   "outputs": [
    {
     "data": {
      "text/html": [
       "<div>\n",
       "<style scoped>\n",
       "    .dataframe tbody tr th:only-of-type {\n",
       "        vertical-align: middle;\n",
       "    }\n",
       "\n",
       "    .dataframe tbody tr th {\n",
       "        vertical-align: top;\n",
       "    }\n",
       "\n",
       "    .dataframe thead th {\n",
       "        text-align: right;\n",
       "    }\n",
       "</style>\n",
       "<table border=\"1\" class=\"dataframe\">\n",
       "  <thead>\n",
       "    <tr style=\"text-align: right;\">\n",
       "      <th></th>\n",
       "      <th>user_id</th>\n",
       "      <th>age</th>\n",
       "      <th>churn_date</th>\n",
       "      <th>city</th>\n",
       "      <th>first_name</th>\n",
       "      <th>last_name</th>\n",
       "      <th>reg_date</th>\n",
       "      <th>tariff</th>\n",
       "    </tr>\n",
       "  </thead>\n",
       "  <tbody>\n",
       "    <tr>\n",
       "      <th>0</th>\n",
       "      <td>1000</td>\n",
       "      <td>52</td>\n",
       "      <td>NaN</td>\n",
       "      <td>Краснодар</td>\n",
       "      <td>Рафаил</td>\n",
       "      <td>Верещагин</td>\n",
       "      <td>2018-05-25</td>\n",
       "      <td>ultra</td>\n",
       "    </tr>\n",
       "    <tr>\n",
       "      <th>1</th>\n",
       "      <td>1001</td>\n",
       "      <td>41</td>\n",
       "      <td>NaN</td>\n",
       "      <td>Москва</td>\n",
       "      <td>Иван</td>\n",
       "      <td>Ежов</td>\n",
       "      <td>2018-11-01</td>\n",
       "      <td>smart</td>\n",
       "    </tr>\n",
       "    <tr>\n",
       "      <th>2</th>\n",
       "      <td>1002</td>\n",
       "      <td>59</td>\n",
       "      <td>NaN</td>\n",
       "      <td>Стерлитамак</td>\n",
       "      <td>Евгений</td>\n",
       "      <td>Абрамович</td>\n",
       "      <td>2018-06-17</td>\n",
       "      <td>smart</td>\n",
       "    </tr>\n",
       "    <tr>\n",
       "      <th>3</th>\n",
       "      <td>1003</td>\n",
       "      <td>23</td>\n",
       "      <td>NaN</td>\n",
       "      <td>Москва</td>\n",
       "      <td>Белла</td>\n",
       "      <td>Белякова</td>\n",
       "      <td>2018-08-17</td>\n",
       "      <td>ultra</td>\n",
       "    </tr>\n",
       "    <tr>\n",
       "      <th>4</th>\n",
       "      <td>1004</td>\n",
       "      <td>68</td>\n",
       "      <td>NaN</td>\n",
       "      <td>Новокузнецк</td>\n",
       "      <td>Татьяна</td>\n",
       "      <td>Авдеенко</td>\n",
       "      <td>2018-05-14</td>\n",
       "      <td>ultra</td>\n",
       "    </tr>\n",
       "    <tr>\n",
       "      <th>...</th>\n",
       "      <td>...</td>\n",
       "      <td>...</td>\n",
       "      <td>...</td>\n",
       "      <td>...</td>\n",
       "      <td>...</td>\n",
       "      <td>...</td>\n",
       "      <td>...</td>\n",
       "      <td>...</td>\n",
       "    </tr>\n",
       "    <tr>\n",
       "      <th>495</th>\n",
       "      <td>1495</td>\n",
       "      <td>65</td>\n",
       "      <td>NaN</td>\n",
       "      <td>Иркутск</td>\n",
       "      <td>Авксентий</td>\n",
       "      <td>Фокин</td>\n",
       "      <td>2018-08-28</td>\n",
       "      <td>ultra</td>\n",
       "    </tr>\n",
       "    <tr>\n",
       "      <th>496</th>\n",
       "      <td>1496</td>\n",
       "      <td>36</td>\n",
       "      <td>NaN</td>\n",
       "      <td>Вологда</td>\n",
       "      <td>Трифон</td>\n",
       "      <td>Блохин</td>\n",
       "      <td>2018-01-27</td>\n",
       "      <td>smart</td>\n",
       "    </tr>\n",
       "    <tr>\n",
       "      <th>497</th>\n",
       "      <td>1497</td>\n",
       "      <td>32</td>\n",
       "      <td>NaN</td>\n",
       "      <td>Челябинск</td>\n",
       "      <td>Каролина</td>\n",
       "      <td>Агеева</td>\n",
       "      <td>2018-10-09</td>\n",
       "      <td>smart</td>\n",
       "    </tr>\n",
       "    <tr>\n",
       "      <th>498</th>\n",
       "      <td>1498</td>\n",
       "      <td>68</td>\n",
       "      <td>2018-10-25</td>\n",
       "      <td>Владикавказ</td>\n",
       "      <td>Всеволод</td>\n",
       "      <td>Акимчин</td>\n",
       "      <td>2018-07-19</td>\n",
       "      <td>smart</td>\n",
       "    </tr>\n",
       "    <tr>\n",
       "      <th>499</th>\n",
       "      <td>1499</td>\n",
       "      <td>35</td>\n",
       "      <td>NaN</td>\n",
       "      <td>Пермь</td>\n",
       "      <td>Гектор</td>\n",
       "      <td>Корнилов</td>\n",
       "      <td>2018-09-27</td>\n",
       "      <td>smart</td>\n",
       "    </tr>\n",
       "  </tbody>\n",
       "</table>\n",
       "<p>500 rows × 8 columns</p>\n",
       "</div>"
      ],
      "text/plain": [
       "     user_id  age  churn_date         city first_name  last_name    reg_date  \\\n",
       "0       1000   52         NaN    Краснодар     Рафаил  Верещагин  2018-05-25   \n",
       "1       1001   41         NaN       Москва       Иван       Ежов  2018-11-01   \n",
       "2       1002   59         NaN  Стерлитамак    Евгений  Абрамович  2018-06-17   \n",
       "3       1003   23         NaN       Москва      Белла   Белякова  2018-08-17   \n",
       "4       1004   68         NaN  Новокузнецк    Татьяна   Авдеенко  2018-05-14   \n",
       "..       ...  ...         ...          ...        ...        ...         ...   \n",
       "495     1495   65         NaN      Иркутск  Авксентий      Фокин  2018-08-28   \n",
       "496     1496   36         NaN      Вологда     Трифон     Блохин  2018-01-27   \n",
       "497     1497   32         NaN    Челябинск   Каролина     Агеева  2018-10-09   \n",
       "498     1498   68  2018-10-25  Владикавказ   Всеволод    Акимчин  2018-07-19   \n",
       "499     1499   35         NaN        Пермь     Гектор   Корнилов  2018-09-27   \n",
       "\n",
       "    tariff  \n",
       "0    ultra  \n",
       "1    smart  \n",
       "2    smart  \n",
       "3    ultra  \n",
       "4    ultra  \n",
       "..     ...  \n",
       "495  ultra  \n",
       "496  smart  \n",
       "497  smart  \n",
       "498  smart  \n",
       "499  smart  \n",
       "\n",
       "[500 rows x 8 columns]"
      ]
     },
     "execution_count": 20,
     "metadata": {},
     "output_type": "execute_result"
    }
   ],
   "source": [
    "df_users"
   ]
  },
  {
   "cell_type": "code",
   "execution_count": 8,
   "metadata": {
    "ExecuteTime": {
     "end_time": "2023-02-14T13:13:07.706546Z",
     "start_time": "2023-02-14T13:13:07.596644Z"
    }
   },
   "outputs": [
    {
     "name": "stdout",
     "output_type": "stream",
     "text": [
      "<class 'pandas.core.frame.DataFrame'>\n",
      "RangeIndex: 202607 entries, 0 to 202606\n",
      "Data columns (total 4 columns):\n",
      " #   Column     Non-Null Count   Dtype  \n",
      "---  ------     --------------   -----  \n",
      " 0   id         202607 non-null  object \n",
      " 1   call_date  202607 non-null  object \n",
      " 2   duration   202607 non-null  float64\n",
      " 3   user_id    202607 non-null  int64  \n",
      "dtypes: float64(1), int64(1), object(2)\n",
      "memory usage: 6.2+ MB\n",
      "<class 'pandas.core.frame.DataFrame'>\n",
      "Int64Index: 149396 entries, 0 to 149395\n",
      "Data columns (total 4 columns):\n",
      " #   Column        Non-Null Count   Dtype  \n",
      "---  ------        --------------   -----  \n",
      " 0   id            149396 non-null  object \n",
      " 1   mb_used       149396 non-null  float64\n",
      " 2   session_date  149396 non-null  object \n",
      " 3   user_id       149396 non-null  int64  \n",
      "dtypes: float64(1), int64(1), object(2)\n",
      "memory usage: 5.7+ MB\n",
      "<class 'pandas.core.frame.DataFrame'>\n",
      "RangeIndex: 123036 entries, 0 to 123035\n",
      "Data columns (total 3 columns):\n",
      " #   Column        Non-Null Count   Dtype \n",
      "---  ------        --------------   ----- \n",
      " 0   id            123036 non-null  object\n",
      " 1   message_date  123036 non-null  object\n",
      " 2   user_id       123036 non-null  int64 \n",
      "dtypes: int64(1), object(2)\n",
      "memory usage: 2.8+ MB\n",
      "<class 'pandas.core.frame.DataFrame'>\n",
      "RangeIndex: 2 entries, 0 to 1\n",
      "Data columns (total 8 columns):\n",
      " #   Column                 Non-Null Count  Dtype \n",
      "---  ------                 --------------  ----- \n",
      " 0   messages_included      2 non-null      int64 \n",
      " 1   mb_per_month_included  2 non-null      int64 \n",
      " 2   minutes_included       2 non-null      int64 \n",
      " 3   rub_monthly_fee        2 non-null      int64 \n",
      " 4   rub_per_gb             2 non-null      int64 \n",
      " 5   rub_per_message        2 non-null      int64 \n",
      " 6   rub_per_minute         2 non-null      int64 \n",
      " 7   tariff                 2 non-null      object\n",
      "dtypes: int64(7), object(1)\n",
      "memory usage: 256.0+ bytes\n",
      "<class 'pandas.core.frame.DataFrame'>\n",
      "RangeIndex: 500 entries, 0 to 499\n",
      "Data columns (total 8 columns):\n",
      " #   Column      Non-Null Count  Dtype \n",
      "---  ------      --------------  ----- \n",
      " 0   user_id     500 non-null    int64 \n",
      " 1   age         500 non-null    int64 \n",
      " 2   churn_date  38 non-null     object\n",
      " 3   city        500 non-null    object\n",
      " 4   first_name  500 non-null    object\n",
      " 5   last_name   500 non-null    object\n",
      " 6   reg_date    500 non-null    object\n",
      " 7   tariff      500 non-null    object\n",
      "dtypes: int64(2), object(6)\n",
      "memory usage: 31.4+ KB\n"
     ]
    }
   ],
   "source": [
    "for data in list_of_data:\n",
    "    data.info()"
   ]
  },
  {
   "cell_type": "markdown",
   "metadata": {},
   "source": [
    "**Из условий задания про колонку churn_date мы знаем: \"если значение пропущено, то тариф ещё действовал на момент выгрузки данных\". Значит все в порядке, пропусков нет, можем идти дальше**"
   ]
  },
  {
   "cell_type": "markdown",
   "metadata": {},
   "source": [
    "### Приведите данные к нужным типам"
   ]
  },
  {
   "cell_type": "code",
   "execution_count": null,
   "metadata": {
    "ExecuteTime": {
     "end_time": "2023-02-14T13:11:50.633807Z",
     "start_time": "2023-02-14T13:11:50.633802Z"
    }
   },
   "outputs": [],
   "source": [
    "df_calls['call_date'] = pd.to_datetime(df_calls['call_date'])\n",
    "df_internet['session_date'] = pd.to_datetime(df_internet['session_date'])\n",
    "df_messages['message_date'] = pd.to_datetime(df_messages['message_date'])\n",
    "df_users['reg_date'] = pd.to_datetime(df_users['reg_date'])\n",
    "df_users['churn_date'] = pd.to_datetime(df_users['churn_date'])"
   ]
  },
  {
   "cell_type": "markdown",
   "metadata": {},
   "source": [
    "#### Найдите и исправьте ошибки в данных, если они есть.\n",
    "* Обнаружили 462 пропуска в колонке churn_date, однако по условию задачи это означает, что тариф все еще действует\n",
    "* Все колонки, содаржащие информацию о дате, были приведены к соответствующему типу.\n",
    "* Пропущенные звонки обозначены нулями, это не ошибка.\n",
    "* Больше никаких ошибок не обнаружено"
   ]
  },
  {
   "cell_type": "markdown",
   "metadata": {},
   "source": [
    "#### Посчитайте для каждого пользователя:\n",
    "\n",
    "* количество сделанных звонков и израсходованных минут разговора по месяцам;\n",
    "* количество отправленных сообщений по месяцам;\n",
    "* объем израсходованного интернет-трафика по месяцам;\n",
    "* помесячную выручку с каждого пользователя (вычтите бесплатный лимит из суммарного количества звонков, сообщений и интернет-трафика; остаток умножьте на значение из тарифного плана; прибавьте абонентскую плату, соответствующую тарифному плану)."
   ]
  },
  {
   "cell_type": "code",
   "execution_count": 5,
   "metadata": {},
   "outputs": [],
   "source": [
    "# Добавляем месяц в каждый датасет, где необходима группировка по месяцу. \n",
    "\n",
    "df_calls['month'] = df_calls['call_date'].astype('datetime64[M]')\n",
    "df_messages['month'] = df_messages['message_date'].astype('datetime64[M]')\n",
    "df_internet['month'] = df_internet['session_date'].astype('datetime64[M]')"
   ]
  },
  {
   "cell_type": "code",
   "execution_count": 6,
   "metadata": {},
   "outputs": [
    {
     "data": {
      "text/html": [
       "<div>\n",
       "<style scoped>\n",
       "    .dataframe tbody tr th:only-of-type {\n",
       "        vertical-align: middle;\n",
       "    }\n",
       "\n",
       "    .dataframe tbody tr th {\n",
       "        vertical-align: top;\n",
       "    }\n",
       "\n",
       "    .dataframe thead th {\n",
       "        text-align: right;\n",
       "    }\n",
       "</style>\n",
       "<table border=\"1\" class=\"dataframe\">\n",
       "  <thead>\n",
       "    <tr style=\"text-align: right;\">\n",
       "      <th></th>\n",
       "      <th>user_id</th>\n",
       "      <th>month</th>\n",
       "      <th>calls_count</th>\n",
       "      <th>duration_sum</th>\n",
       "    </tr>\n",
       "  </thead>\n",
       "  <tbody>\n",
       "    <tr>\n",
       "      <th>0</th>\n",
       "      <td>1000</td>\n",
       "      <td>2018-05-01</td>\n",
       "      <td>22</td>\n",
       "      <td>159</td>\n",
       "    </tr>\n",
       "    <tr>\n",
       "      <th>1</th>\n",
       "      <td>1000</td>\n",
       "      <td>2018-06-01</td>\n",
       "      <td>43</td>\n",
       "      <td>172</td>\n",
       "    </tr>\n",
       "    <tr>\n",
       "      <th>2</th>\n",
       "      <td>1000</td>\n",
       "      <td>2018-07-01</td>\n",
       "      <td>47</td>\n",
       "      <td>340</td>\n",
       "    </tr>\n",
       "    <tr>\n",
       "      <th>3</th>\n",
       "      <td>1000</td>\n",
       "      <td>2018-08-01</td>\n",
       "      <td>52</td>\n",
       "      <td>408</td>\n",
       "    </tr>\n",
       "    <tr>\n",
       "      <th>4</th>\n",
       "      <td>1000</td>\n",
       "      <td>2018-09-01</td>\n",
       "      <td>58</td>\n",
       "      <td>466</td>\n",
       "    </tr>\n",
       "    <tr>\n",
       "      <th>...</th>\n",
       "      <td>...</td>\n",
       "      <td>...</td>\n",
       "      <td>...</td>\n",
       "      <td>...</td>\n",
       "    </tr>\n",
       "    <tr>\n",
       "      <th>3169</th>\n",
       "      <td>1498</td>\n",
       "      <td>2018-10-01</td>\n",
       "      <td>41</td>\n",
       "      <td>247</td>\n",
       "    </tr>\n",
       "    <tr>\n",
       "      <th>3170</th>\n",
       "      <td>1499</td>\n",
       "      <td>2018-09-01</td>\n",
       "      <td>9</td>\n",
       "      <td>70</td>\n",
       "    </tr>\n",
       "    <tr>\n",
       "      <th>3171</th>\n",
       "      <td>1499</td>\n",
       "      <td>2018-10-01</td>\n",
       "      <td>68</td>\n",
       "      <td>449</td>\n",
       "    </tr>\n",
       "    <tr>\n",
       "      <th>3172</th>\n",
       "      <td>1499</td>\n",
       "      <td>2018-11-01</td>\n",
       "      <td>74</td>\n",
       "      <td>612</td>\n",
       "    </tr>\n",
       "    <tr>\n",
       "      <th>3173</th>\n",
       "      <td>1499</td>\n",
       "      <td>2018-12-01</td>\n",
       "      <td>69</td>\n",
       "      <td>492</td>\n",
       "    </tr>\n",
       "  </tbody>\n",
       "</table>\n",
       "<p>3174 rows × 4 columns</p>\n",
       "</div>"
      ],
      "text/plain": [
       "      user_id      month  calls_count  duration_sum\n",
       "0        1000 2018-05-01           22           159\n",
       "1        1000 2018-06-01           43           172\n",
       "2        1000 2018-07-01           47           340\n",
       "3        1000 2018-08-01           52           408\n",
       "4        1000 2018-09-01           58           466\n",
       "...       ...        ...          ...           ...\n",
       "3169     1498 2018-10-01           41           247\n",
       "3170     1499 2018-09-01            9            70\n",
       "3171     1499 2018-10-01           68           449\n",
       "3172     1499 2018-11-01           74           612\n",
       "3173     1499 2018-12-01           69           492\n",
       "\n",
       "[3174 rows x 4 columns]"
      ]
     },
     "execution_count": 6,
     "metadata": {},
     "output_type": "execute_result"
    }
   ],
   "source": [
    "# Округляем каждый звонок в бОльшую сторону, согласно условиям тарифа. \n",
    "df_calls['duration'] = df_calls['duration'].apply(np.ceil).astype(int)\n",
    "\n",
    "# Группируем данные по пользователю и месяцу, считаем количество уникальных звонков и \n",
    "# суммируем длительность звонков по каждому месяцу.\n",
    "\n",
    "calls_by_user = df_calls.groupby(['user_id', 'month']).agg({'id':'count','duration':'sum'}).reset_index()\n",
    "calls_by_user.columns = ['user_id', 'month', 'calls_count', 'duration_sum']\n",
    "calls_by_user"
   ]
  },
  {
   "cell_type": "code",
   "execution_count": 7,
   "metadata": {},
   "outputs": [
    {
     "data": {
      "text/html": [
       "<div>\n",
       "<style scoped>\n",
       "    .dataframe tbody tr th:only-of-type {\n",
       "        vertical-align: middle;\n",
       "    }\n",
       "\n",
       "    .dataframe tbody tr th {\n",
       "        vertical-align: top;\n",
       "    }\n",
       "\n",
       "    .dataframe thead th {\n",
       "        text-align: right;\n",
       "    }\n",
       "</style>\n",
       "<table border=\"1\" class=\"dataframe\">\n",
       "  <thead>\n",
       "    <tr style=\"text-align: right;\">\n",
       "      <th></th>\n",
       "      <th>user_id</th>\n",
       "      <th>month</th>\n",
       "      <th>messages_count</th>\n",
       "    </tr>\n",
       "  </thead>\n",
       "  <tbody>\n",
       "    <tr>\n",
       "      <th>0</th>\n",
       "      <td>1000</td>\n",
       "      <td>2018-05-01</td>\n",
       "      <td>22</td>\n",
       "    </tr>\n",
       "    <tr>\n",
       "      <th>1</th>\n",
       "      <td>1000</td>\n",
       "      <td>2018-06-01</td>\n",
       "      <td>60</td>\n",
       "    </tr>\n",
       "    <tr>\n",
       "      <th>2</th>\n",
       "      <td>1000</td>\n",
       "      <td>2018-07-01</td>\n",
       "      <td>75</td>\n",
       "    </tr>\n",
       "    <tr>\n",
       "      <th>3</th>\n",
       "      <td>1000</td>\n",
       "      <td>2018-08-01</td>\n",
       "      <td>81</td>\n",
       "    </tr>\n",
       "    <tr>\n",
       "      <th>4</th>\n",
       "      <td>1000</td>\n",
       "      <td>2018-09-01</td>\n",
       "      <td>57</td>\n",
       "    </tr>\n",
       "    <tr>\n",
       "      <th>...</th>\n",
       "      <td>...</td>\n",
       "      <td>...</td>\n",
       "      <td>...</td>\n",
       "    </tr>\n",
       "    <tr>\n",
       "      <th>2712</th>\n",
       "      <td>1498</td>\n",
       "      <td>2018-10-01</td>\n",
       "      <td>42</td>\n",
       "    </tr>\n",
       "    <tr>\n",
       "      <th>2713</th>\n",
       "      <td>1499</td>\n",
       "      <td>2018-09-01</td>\n",
       "      <td>11</td>\n",
       "    </tr>\n",
       "    <tr>\n",
       "      <th>2714</th>\n",
       "      <td>1499</td>\n",
       "      <td>2018-10-01</td>\n",
       "      <td>48</td>\n",
       "    </tr>\n",
       "    <tr>\n",
       "      <th>2715</th>\n",
       "      <td>1499</td>\n",
       "      <td>2018-11-01</td>\n",
       "      <td>59</td>\n",
       "    </tr>\n",
       "    <tr>\n",
       "      <th>2716</th>\n",
       "      <td>1499</td>\n",
       "      <td>2018-12-01</td>\n",
       "      <td>66</td>\n",
       "    </tr>\n",
       "  </tbody>\n",
       "</table>\n",
       "<p>2717 rows × 3 columns</p>\n",
       "</div>"
      ],
      "text/plain": [
       "      user_id      month  messages_count\n",
       "0        1000 2018-05-01              22\n",
       "1        1000 2018-06-01              60\n",
       "2        1000 2018-07-01              75\n",
       "3        1000 2018-08-01              81\n",
       "4        1000 2018-09-01              57\n",
       "...       ...        ...             ...\n",
       "2712     1498 2018-10-01              42\n",
       "2713     1499 2018-09-01              11\n",
       "2714     1499 2018-10-01              48\n",
       "2715     1499 2018-11-01              59\n",
       "2716     1499 2018-12-01              66\n",
       "\n",
       "[2717 rows x 3 columns]"
      ]
     },
     "execution_count": 7,
     "metadata": {},
     "output_type": "execute_result"
    }
   ],
   "source": [
    "# Сгруппируем данные по пользователю и месяцу, посчитаем кол-во уникальных сообщений\n",
    "\n",
    "messages_by_user = df_messages.groupby(['user_id', 'month']).agg({'id':'count'}).reset_index()\n",
    "messages_by_user.columns = ['user_id', 'month', 'messages_count']\n",
    "\n",
    "messages_by_user"
   ]
  },
  {
   "cell_type": "code",
   "execution_count": 8,
   "metadata": {},
   "outputs": [],
   "source": [
    "# Группируем по пользователю и месяцу, считаем количество уникальных сессий и суммируем трафик внутри месяца.\n",
    "\n",
    "traffic_by_user = df_internet.groupby(['user_id', 'month']).agg({'id':'count', 'mb_used':'sum'}).reset_index()\n",
    "traffic_by_user.columns = ['user_id','month','sessions_count','traffic_sum']\n",
    "\n",
    "# Округляем использованный траффик в большую сторону, согласно условиям тарифа\n",
    "\n",
    "traffic_by_user['traffic_sum'] = (traffic_by_user['traffic_sum']\n",
    "                                  .apply(lambda x: np.ceil(x / 1024) ).astype(int))\n",
    "# traffic_by_user"
   ]
  },
  {
   "cell_type": "code",
   "execution_count": 9,
   "metadata": {},
   "outputs": [],
   "source": [
    "# Объединяем таблицы по колонке user_id\n",
    "\n",
    "# Сначала добавляем информацию об использовании интернет траффика\n",
    "df_merged = calls_by_user.merge(traffic_by_user, on=['user_id', 'month'], how='outer')\n",
    "# Теперь добавляем информацию о смс сообщениях\n",
    "df_merged = df_merged.merge(messages_by_user, on=['user_id', 'month'], how='outer')\n",
    "# Добавляем информацию ою используемом тарифе\n",
    "df_merged = df_merged.merge(df_users[['user_id','tariff']], on='user_id')"
   ]
  },
  {
   "cell_type": "code",
   "execution_count": 10,
   "metadata": {},
   "outputs": [
    {
     "data": {
      "text/html": [
       "<div>\n",
       "<style scoped>\n",
       "    .dataframe tbody tr th:only-of-type {\n",
       "        vertical-align: middle;\n",
       "    }\n",
       "\n",
       "    .dataframe tbody tr th {\n",
       "        vertical-align: top;\n",
       "    }\n",
       "\n",
       "    .dataframe thead th {\n",
       "        text-align: right;\n",
       "    }\n",
       "</style>\n",
       "<table border=\"1\" class=\"dataframe\">\n",
       "  <thead>\n",
       "    <tr style=\"text-align: right;\">\n",
       "      <th></th>\n",
       "      <th>user_id</th>\n",
       "      <th>month</th>\n",
       "      <th>calls_count</th>\n",
       "      <th>duration_sum</th>\n",
       "      <th>sessions_count</th>\n",
       "      <th>traffic_sum</th>\n",
       "      <th>messages_count</th>\n",
       "      <th>tariff</th>\n",
       "    </tr>\n",
       "  </thead>\n",
       "  <tbody>\n",
       "  </tbody>\n",
       "</table>\n",
       "</div>"
      ],
      "text/plain": [
       "Empty DataFrame\n",
       "Columns: [user_id, month, calls_count, duration_sum, sessions_count, traffic_sum, messages_count, tariff]\n",
       "Index: []"
      ]
     },
     "execution_count": 10,
     "metadata": {},
     "output_type": "execute_result"
    }
   ],
   "source": [
    "# На всякий случай проверяем, нет ли в выборке пользователей, которые не использовали ни один из видов услуг (сообщения, звонки, интернет)\n",
    "(df_merged[\n",
    "    df_merged[['calls_count', 'sessions_count', 'messages_count']].isna().all(axis=1)])"
   ]
  },
  {
   "cell_type": "markdown",
   "metadata": {},
   "source": [
    "**Пусто, значит каждый юзер пользовался одним из видов услуг, хотябы один раз**"
   ]
  },
  {
   "cell_type": "markdown",
   "metadata": {},
   "source": [
    "---"
   ]
  },
  {
   "cell_type": "code",
   "execution_count": 11,
   "metadata": {},
   "outputs": [
    {
     "data": {
      "text/html": [
       "<div>\n",
       "<style scoped>\n",
       "    .dataframe tbody tr th:only-of-type {\n",
       "        vertical-align: middle;\n",
       "    }\n",
       "\n",
       "    .dataframe tbody tr th {\n",
       "        vertical-align: top;\n",
       "    }\n",
       "\n",
       "    .dataframe thead th {\n",
       "        text-align: right;\n",
       "    }\n",
       "</style>\n",
       "<table border=\"1\" class=\"dataframe\">\n",
       "  <thead>\n",
       "    <tr style=\"text-align: right;\">\n",
       "      <th></th>\n",
       "      <th>user_id</th>\n",
       "      <th>month</th>\n",
       "      <th>calls_count</th>\n",
       "      <th>duration_sum</th>\n",
       "      <th>sessions_count</th>\n",
       "      <th>traffic_sum</th>\n",
       "      <th>messages_count</th>\n",
       "      <th>tariff</th>\n",
       "    </tr>\n",
       "  </thead>\n",
       "  <tbody>\n",
       "    <tr>\n",
       "      <th>0</th>\n",
       "      <td>1000</td>\n",
       "      <td>2018-05-01</td>\n",
       "      <td>22.0</td>\n",
       "      <td>159.0</td>\n",
       "      <td>5.0</td>\n",
       "      <td>3.0</td>\n",
       "      <td>22.0</td>\n",
       "      <td>ultra</td>\n",
       "    </tr>\n",
       "    <tr>\n",
       "      <th>1</th>\n",
       "      <td>1000</td>\n",
       "      <td>2018-06-01</td>\n",
       "      <td>43.0</td>\n",
       "      <td>172.0</td>\n",
       "      <td>49.0</td>\n",
       "      <td>23.0</td>\n",
       "      <td>60.0</td>\n",
       "      <td>ultra</td>\n",
       "    </tr>\n",
       "    <tr>\n",
       "      <th>2</th>\n",
       "      <td>1000</td>\n",
       "      <td>2018-07-01</td>\n",
       "      <td>47.0</td>\n",
       "      <td>340.0</td>\n",
       "      <td>29.0</td>\n",
       "      <td>14.0</td>\n",
       "      <td>75.0</td>\n",
       "      <td>ultra</td>\n",
       "    </tr>\n",
       "    <tr>\n",
       "      <th>3</th>\n",
       "      <td>1000</td>\n",
       "      <td>2018-08-01</td>\n",
       "      <td>52.0</td>\n",
       "      <td>408.0</td>\n",
       "      <td>29.0</td>\n",
       "      <td>14.0</td>\n",
       "      <td>81.0</td>\n",
       "      <td>ultra</td>\n",
       "    </tr>\n",
       "    <tr>\n",
       "      <th>4</th>\n",
       "      <td>1000</td>\n",
       "      <td>2018-09-01</td>\n",
       "      <td>58.0</td>\n",
       "      <td>466.0</td>\n",
       "      <td>27.0</td>\n",
       "      <td>15.0</td>\n",
       "      <td>57.0</td>\n",
       "      <td>ultra</td>\n",
       "    </tr>\n",
       "    <tr>\n",
       "      <th>...</th>\n",
       "      <td>...</td>\n",
       "      <td>...</td>\n",
       "      <td>...</td>\n",
       "      <td>...</td>\n",
       "      <td>...</td>\n",
       "      <td>...</td>\n",
       "      <td>...</td>\n",
       "      <td>...</td>\n",
       "    </tr>\n",
       "    <tr>\n",
       "      <th>3209</th>\n",
       "      <td>1489</td>\n",
       "      <td>2018-08-01</td>\n",
       "      <td>NaN</td>\n",
       "      <td>NaN</td>\n",
       "      <td>34.0</td>\n",
       "      <td>11.0</td>\n",
       "      <td>17.0</td>\n",
       "      <td>smart</td>\n",
       "    </tr>\n",
       "    <tr>\n",
       "      <th>3210</th>\n",
       "      <td>1489</td>\n",
       "      <td>2018-09-01</td>\n",
       "      <td>NaN</td>\n",
       "      <td>NaN</td>\n",
       "      <td>63.0</td>\n",
       "      <td>17.0</td>\n",
       "      <td>32.0</td>\n",
       "      <td>smart</td>\n",
       "    </tr>\n",
       "    <tr>\n",
       "      <th>3211</th>\n",
       "      <td>1489</td>\n",
       "      <td>2018-10-01</td>\n",
       "      <td>NaN</td>\n",
       "      <td>NaN</td>\n",
       "      <td>63.0</td>\n",
       "      <td>20.0</td>\n",
       "      <td>21.0</td>\n",
       "      <td>smart</td>\n",
       "    </tr>\n",
       "    <tr>\n",
       "      <th>3212</th>\n",
       "      <td>1489</td>\n",
       "      <td>2018-11-01</td>\n",
       "      <td>NaN</td>\n",
       "      <td>NaN</td>\n",
       "      <td>55.0</td>\n",
       "      <td>18.0</td>\n",
       "      <td>20.0</td>\n",
       "      <td>smart</td>\n",
       "    </tr>\n",
       "    <tr>\n",
       "      <th>3213</th>\n",
       "      <td>1489</td>\n",
       "      <td>2018-12-01</td>\n",
       "      <td>NaN</td>\n",
       "      <td>NaN</td>\n",
       "      <td>51.0</td>\n",
       "      <td>17.0</td>\n",
       "      <td>35.0</td>\n",
       "      <td>smart</td>\n",
       "    </tr>\n",
       "  </tbody>\n",
       "</table>\n",
       "<p>3214 rows × 8 columns</p>\n",
       "</div>"
      ],
      "text/plain": [
       "      user_id      month  calls_count  duration_sum  sessions_count  \\\n",
       "0        1000 2018-05-01         22.0         159.0             5.0   \n",
       "1        1000 2018-06-01         43.0         172.0            49.0   \n",
       "2        1000 2018-07-01         47.0         340.0            29.0   \n",
       "3        1000 2018-08-01         52.0         408.0            29.0   \n",
       "4        1000 2018-09-01         58.0         466.0            27.0   \n",
       "...       ...        ...          ...           ...             ...   \n",
       "3209     1489 2018-08-01          NaN           NaN            34.0   \n",
       "3210     1489 2018-09-01          NaN           NaN            63.0   \n",
       "3211     1489 2018-10-01          NaN           NaN            63.0   \n",
       "3212     1489 2018-11-01          NaN           NaN            55.0   \n",
       "3213     1489 2018-12-01          NaN           NaN            51.0   \n",
       "\n",
       "      traffic_sum  messages_count tariff  \n",
       "0             3.0            22.0  ultra  \n",
       "1            23.0            60.0  ultra  \n",
       "2            14.0            75.0  ultra  \n",
       "3            14.0            81.0  ultra  \n",
       "4            15.0            57.0  ultra  \n",
       "...           ...             ...    ...  \n",
       "3209         11.0            17.0  smart  \n",
       "3210         17.0            32.0  smart  \n",
       "3211         20.0            21.0  smart  \n",
       "3212         18.0            20.0  smart  \n",
       "3213         17.0            35.0  smart  \n",
       "\n",
       "[3214 rows x 8 columns]"
      ]
     },
     "execution_count": 11,
     "metadata": {},
     "output_type": "execute_result"
    }
   ],
   "source": [
    "df_merged"
   ]
  },
  {
   "cell_type": "markdown",
   "metadata": {},
   "source": [
    "**В получившейся таблице появились пропущенные значения, поскольку Nan иммет тип float, значения таких столбцов изменились на числа с плавающей точкой. Поскольку отсутствующее значение говорит о том, что юзер не использовал данный вид услуги, заменим такие значения на \"0\" и приведём к типу int**"
   ]
  },
  {
   "cell_type": "code",
   "execution_count": 12,
   "metadata": {},
   "outputs": [],
   "source": [
    "# Заменяем пропуски на 0 и приводим к типу int. \n",
    "df_merged[df_merged.drop(columns='tariff').columns] = df_merged.drop(columns='tariff').fillna(0).astype(int)\n",
    "# df_merged"
   ]
  },
  {
   "cell_type": "markdown",
   "metadata": {},
   "source": [
    "#### Посчитайте помесячную выручку с каждого пользователя"
   ]
  },
  {
   "cell_type": "code",
   "execution_count": 13,
   "metadata": {},
   "outputs": [],
   "source": [
    "def payment(fact, plan, tax):\n",
    "    if fact <= plan:\n",
    "        return 0\n",
    "    else :\n",
    "        return (fact - plan) * tax\n",
    "    \n",
    "def revenue(row):\n",
    "    tariff = row['tariff']\n",
    "    calls_duration = row['duration_sum']\n",
    "    minutes_included = row['minutes_included']\n",
    "    rub_per_minute = row['rub_per_minute']\n",
    "    messages_count = row['messages_count']\n",
    "    messages_included = row['messages_included']\n",
    "    rub_per_messages = row['rub_per_message']\n",
    "    internet_month = row['traffic_sum']\n",
    "    gb_per_month_included = row['mb_per_month_included'] / 1024\n",
    "    rub_per_gb = row['rub_per_gb']\n",
    "    rub_monthly_fee = row['rub_monthly_fee']\n",
    "    \n",
    "\n",
    "    calls_payment = payment(calls_duration, minutes_included, rub_per_minute)\n",
    "    messages_payment = payment(messages_count, messages_included, rub_per_messages)\n",
    "    internet_payment = payment(internet_month, gb_per_month_included, rub_per_gb)\n",
    "    \n",
    "    return calls_payment + messages_payment + internet_payment + rub_monthly_fee"
   ]
  },
  {
   "cell_type": "code",
   "execution_count": 14,
   "metadata": {},
   "outputs": [],
   "source": [
    "df_merged['user_month_revenue'] = df_merged.merge(df_tariffs, on='tariff').apply(revenue, axis=1)\n"
   ]
  },
  {
   "cell_type": "markdown",
   "metadata": {},
   "source": [
    "### Проанализируйте данные\n",
    "Опишите поведение клиентов оператора, исходя из выборки. Скольо требуется пользователям каждого тарифа в месяц?\n",
    "* Сколько минут разговора, \n",
    "* сколько сообщений \n",
    "* какой объём интернет-трафика требуется пользователям каждого тарифа в месяц? \n",
    "\n",
    "\n",
    "* Посчитайте среднее количество\n",
    "* дисперсию \n",
    "* стандартное отклонение. \n",
    "* Постройте гистограммы. \n",
    "* Опишите распределения."
   ]
  },
  {
   "cell_type": "code",
   "execution_count": 16,
   "metadata": {},
   "outputs": [],
   "source": [
    "df_smart = df_merged.query(\"tariff == 'smart'\")\n",
    "df_ultra = df_merged.query(\"tariff == 'ultra'\")"
   ]
  },
  {
   "cell_type": "code",
   "execution_count": 17,
   "metadata": {},
   "outputs": [
    {
     "data": {
      "text/html": [
       "<div>\n",
       "<style scoped>\n",
       "    .dataframe tbody tr th:only-of-type {\n",
       "        vertical-align: middle;\n",
       "    }\n",
       "\n",
       "    .dataframe tbody tr th {\n",
       "        vertical-align: top;\n",
       "    }\n",
       "\n",
       "    .dataframe thead th {\n",
       "        text-align: right;\n",
       "    }\n",
       "</style>\n",
       "<table border=\"1\" class=\"dataframe\">\n",
       "  <thead>\n",
       "    <tr style=\"text-align: right;\">\n",
       "      <th></th>\n",
       "      <th>user_id</th>\n",
       "      <th>month</th>\n",
       "      <th>calls_count</th>\n",
       "      <th>duration_sum</th>\n",
       "      <th>sessions_count</th>\n",
       "      <th>traffic_sum</th>\n",
       "      <th>messages_count</th>\n",
       "      <th>user_month_revenue</th>\n",
       "    </tr>\n",
       "  </thead>\n",
       "  <tbody>\n",
       "    <tr>\n",
       "      <th>count</th>\n",
       "      <td>2229.000000</td>\n",
       "      <td>2.229000e+03</td>\n",
       "      <td>2229.000000</td>\n",
       "      <td>2229.000000</td>\n",
       "      <td>2229.000000</td>\n",
       "      <td>2229.000000</td>\n",
       "      <td>2229.000000</td>\n",
       "      <td>2229.000000</td>\n",
       "    </tr>\n",
       "    <tr>\n",
       "      <th>mean</th>\n",
       "      <td>1246.506505</td>\n",
       "      <td>1.534005e+18</td>\n",
       "      <td>58.463437</td>\n",
       "      <td>417.934948</td>\n",
       "      <td>50.039928</td>\n",
       "      <td>16.328847</td>\n",
       "      <td>33.384029</td>\n",
       "      <td>1518.634814</td>\n",
       "    </tr>\n",
       "    <tr>\n",
       "      <th>std</th>\n",
       "      <td>146.119496</td>\n",
       "      <td>7.695338e+15</td>\n",
       "      <td>25.939858</td>\n",
       "      <td>190.313730</td>\n",
       "      <td>17.369098</td>\n",
       "      <td>5.747061</td>\n",
       "      <td>28.227876</td>\n",
       "      <td>794.311980</td>\n",
       "    </tr>\n",
       "    <tr>\n",
       "      <th>min</th>\n",
       "      <td>1001.000000</td>\n",
       "      <td>1.514765e+18</td>\n",
       "      <td>0.000000</td>\n",
       "      <td>0.000000</td>\n",
       "      <td>0.000000</td>\n",
       "      <td>0.000000</td>\n",
       "      <td>0.000000</td>\n",
       "      <td>550.000000</td>\n",
       "    </tr>\n",
       "    <tr>\n",
       "      <th>25%</th>\n",
       "      <td>1121.000000</td>\n",
       "      <td>1.527811e+18</td>\n",
       "      <td>40.000000</td>\n",
       "      <td>282.000000</td>\n",
       "      <td>40.000000</td>\n",
       "      <td>13.000000</td>\n",
       "      <td>10.000000</td>\n",
       "      <td>750.000000</td>\n",
       "    </tr>\n",
       "    <tr>\n",
       "      <th>50%</th>\n",
       "      <td>1239.000000</td>\n",
       "      <td>1.535760e+18</td>\n",
       "      <td>60.000000</td>\n",
       "      <td>422.000000</td>\n",
       "      <td>51.000000</td>\n",
       "      <td>17.000000</td>\n",
       "      <td>28.000000</td>\n",
       "      <td>1673.000000</td>\n",
       "    </tr>\n",
       "    <tr>\n",
       "      <th>75%</th>\n",
       "      <td>1376.000000</td>\n",
       "      <td>1.541030e+18</td>\n",
       "      <td>76.000000</td>\n",
       "      <td>545.000000</td>\n",
       "      <td>61.000000</td>\n",
       "      <td>20.000000</td>\n",
       "      <td>51.000000</td>\n",
       "      <td>1950.000000</td>\n",
       "    </tr>\n",
       "    <tr>\n",
       "      <th>max</th>\n",
       "      <td>1499.000000</td>\n",
       "      <td>1.543622e+18</td>\n",
       "      <td>198.000000</td>\n",
       "      <td>1435.000000</td>\n",
       "      <td>118.000000</td>\n",
       "      <td>38.000000</td>\n",
       "      <td>143.000000</td>\n",
       "      <td>6770.000000</td>\n",
       "    </tr>\n",
       "  </tbody>\n",
       "</table>\n",
       "</div>"
      ],
      "text/plain": [
       "           user_id         month  calls_count  duration_sum  sessions_count  \\\n",
       "count  2229.000000  2.229000e+03  2229.000000   2229.000000     2229.000000   \n",
       "mean   1246.506505  1.534005e+18    58.463437    417.934948       50.039928   \n",
       "std     146.119496  7.695338e+15    25.939858    190.313730       17.369098   \n",
       "min    1001.000000  1.514765e+18     0.000000      0.000000        0.000000   \n",
       "25%    1121.000000  1.527811e+18    40.000000    282.000000       40.000000   \n",
       "50%    1239.000000  1.535760e+18    60.000000    422.000000       51.000000   \n",
       "75%    1376.000000  1.541030e+18    76.000000    545.000000       61.000000   \n",
       "max    1499.000000  1.543622e+18   198.000000   1435.000000      118.000000   \n",
       "\n",
       "       traffic_sum  messages_count  user_month_revenue  \n",
       "count  2229.000000     2229.000000         2229.000000  \n",
       "mean     16.328847       33.384029         1518.634814  \n",
       "std       5.747061       28.227876          794.311980  \n",
       "min       0.000000        0.000000          550.000000  \n",
       "25%      13.000000       10.000000          750.000000  \n",
       "50%      17.000000       28.000000         1673.000000  \n",
       "75%      20.000000       51.000000         1950.000000  \n",
       "max      38.000000      143.000000         6770.000000  "
      ]
     },
     "metadata": {},
     "output_type": "display_data"
    },
    {
     "data": {
      "text/html": [
       "<div>\n",
       "<style scoped>\n",
       "    .dataframe tbody tr th:only-of-type {\n",
       "        vertical-align: middle;\n",
       "    }\n",
       "\n",
       "    .dataframe tbody tr th {\n",
       "        vertical-align: top;\n",
       "    }\n",
       "\n",
       "    .dataframe thead th {\n",
       "        text-align: right;\n",
       "    }\n",
       "</style>\n",
       "<table border=\"1\" class=\"dataframe\">\n",
       "  <thead>\n",
       "    <tr style=\"text-align: right;\">\n",
       "      <th></th>\n",
       "      <th>user_id</th>\n",
       "      <th>month</th>\n",
       "      <th>calls_count</th>\n",
       "      <th>duration_sum</th>\n",
       "      <th>sessions_count</th>\n",
       "      <th>traffic_sum</th>\n",
       "      <th>messages_count</th>\n",
       "      <th>user_month_revenue</th>\n",
       "    </tr>\n",
       "  </thead>\n",
       "  <tbody>\n",
       "    <tr>\n",
       "      <th>count</th>\n",
       "      <td>985.000000</td>\n",
       "      <td>9.850000e+02</td>\n",
       "      <td>985.000000</td>\n",
       "      <td>985.000000</td>\n",
       "      <td>985.000000</td>\n",
       "      <td>985.000000</td>\n",
       "      <td>985.000000</td>\n",
       "      <td>985.000000</td>\n",
       "    </tr>\n",
       "    <tr>\n",
       "      <th>mean</th>\n",
       "      <td>1263.094416</td>\n",
       "      <td>1.533750e+18</td>\n",
       "      <td>73.392893</td>\n",
       "      <td>526.623350</td>\n",
       "      <td>38.433503</td>\n",
       "      <td>19.494416</td>\n",
       "      <td>49.363452</td>\n",
       "      <td>1552.704569</td>\n",
       "    </tr>\n",
       "    <tr>\n",
       "      <th>std</th>\n",
       "      <td>140.694908</td>\n",
       "      <td>7.570598e+15</td>\n",
       "      <td>43.916853</td>\n",
       "      <td>317.606098</td>\n",
       "      <td>19.623227</td>\n",
       "      <td>9.853511</td>\n",
       "      <td>47.804457</td>\n",
       "      <td>807.001042</td>\n",
       "    </tr>\n",
       "    <tr>\n",
       "      <th>min</th>\n",
       "      <td>1000.000000</td>\n",
       "      <td>1.514765e+18</td>\n",
       "      <td>0.000000</td>\n",
       "      <td>0.000000</td>\n",
       "      <td>0.000000</td>\n",
       "      <td>0.000000</td>\n",
       "      <td>0.000000</td>\n",
       "      <td>550.000000</td>\n",
       "    </tr>\n",
       "    <tr>\n",
       "      <th>25%</th>\n",
       "      <td>1143.000000</td>\n",
       "      <td>1.527811e+18</td>\n",
       "      <td>41.000000</td>\n",
       "      <td>284.000000</td>\n",
       "      <td>24.000000</td>\n",
       "      <td>12.000000</td>\n",
       "      <td>6.000000</td>\n",
       "      <td>750.000000</td>\n",
       "    </tr>\n",
       "    <tr>\n",
       "      <th>50%</th>\n",
       "      <td>1277.000000</td>\n",
       "      <td>1.535760e+18</td>\n",
       "      <td>74.000000</td>\n",
       "      <td>518.000000</td>\n",
       "      <td>38.000000</td>\n",
       "      <td>19.000000</td>\n",
       "      <td>38.000000</td>\n",
       "      <td>1634.000000</td>\n",
       "    </tr>\n",
       "    <tr>\n",
       "      <th>75%</th>\n",
       "      <td>1381.000000</td>\n",
       "      <td>1.541030e+18</td>\n",
       "      <td>104.000000</td>\n",
       "      <td>752.000000</td>\n",
       "      <td>52.000000</td>\n",
       "      <td>27.000000</td>\n",
       "      <td>79.000000</td>\n",
       "      <td>1950.000000</td>\n",
       "    </tr>\n",
       "    <tr>\n",
       "      <th>max</th>\n",
       "      <td>1495.000000</td>\n",
       "      <td>1.543622e+18</td>\n",
       "      <td>244.000000</td>\n",
       "      <td>1673.000000</td>\n",
       "      <td>97.000000</td>\n",
       "      <td>49.000000</td>\n",
       "      <td>224.000000</td>\n",
       "      <td>5672.000000</td>\n",
       "    </tr>\n",
       "  </tbody>\n",
       "</table>\n",
       "</div>"
      ],
      "text/plain": [
       "           user_id         month  calls_count  duration_sum  sessions_count  \\\n",
       "count   985.000000  9.850000e+02   985.000000    985.000000      985.000000   \n",
       "mean   1263.094416  1.533750e+18    73.392893    526.623350       38.433503   \n",
       "std     140.694908  7.570598e+15    43.916853    317.606098       19.623227   \n",
       "min    1000.000000  1.514765e+18     0.000000      0.000000        0.000000   \n",
       "25%    1143.000000  1.527811e+18    41.000000    284.000000       24.000000   \n",
       "50%    1277.000000  1.535760e+18    74.000000    518.000000       38.000000   \n",
       "75%    1381.000000  1.541030e+18   104.000000    752.000000       52.000000   \n",
       "max    1495.000000  1.543622e+18   244.000000   1673.000000       97.000000   \n",
       "\n",
       "       traffic_sum  messages_count  user_month_revenue  \n",
       "count   985.000000      985.000000          985.000000  \n",
       "mean     19.494416       49.363452         1552.704569  \n",
       "std       9.853511       47.804457          807.001042  \n",
       "min       0.000000        0.000000          550.000000  \n",
       "25%      12.000000        6.000000          750.000000  \n",
       "50%      19.000000       38.000000         1634.000000  \n",
       "75%      27.000000       79.000000         1950.000000  \n",
       "max      49.000000      224.000000         5672.000000  "
      ]
     },
     "execution_count": 17,
     "metadata": {},
     "output_type": "execute_result"
    }
   ],
   "source": [
    "display(df_smart.describe())\n",
    "df_ultra.describe()"
   ]
  },
  {
   "cell_type": "code",
   "execution_count": 18,
   "metadata": {},
   "outputs": [],
   "source": [
    "def hist_compare(data_1:pd.DataFrame, data_2:pd.DataFrame, col_to_compare:str, describe=True):\n",
    "    data_1[col_to_compare].plot(kind='hist', density=True, alpha=0.5)\n",
    "    data_2[col_to_compare].plot(kind='hist', alpha=.5, grid=True, density=True,figsize=(15,7))\n",
    "    plt.legend([data_1['tariff'].iloc[0], data_2['tariff'].iloc[0]]);\n",
    "\n",
    "    if describe:\n",
    "        display(df_merged.groupby('tariff')[col_to_compare].describe().T)\n",
    "        "
   ]
  },
  {
   "cell_type": "code",
   "execution_count": 19,
   "metadata": {},
   "outputs": [
    {
     "data": {
      "text/html": [
       "<div>\n",
       "<style scoped>\n",
       "    .dataframe tbody tr th:only-of-type {\n",
       "        vertical-align: middle;\n",
       "    }\n",
       "\n",
       "    .dataframe tbody tr th {\n",
       "        vertical-align: top;\n",
       "    }\n",
       "\n",
       "    .dataframe thead th {\n",
       "        text-align: right;\n",
       "    }\n",
       "</style>\n",
       "<table border=\"1\" class=\"dataframe\">\n",
       "  <thead>\n",
       "    <tr style=\"text-align: right;\">\n",
       "      <th>tariff</th>\n",
       "      <th>smart</th>\n",
       "      <th>ultra</th>\n",
       "    </tr>\n",
       "  </thead>\n",
       "  <tbody>\n",
       "    <tr>\n",
       "      <th>count</th>\n",
       "      <td>2229.000000</td>\n",
       "      <td>985.000000</td>\n",
       "    </tr>\n",
       "    <tr>\n",
       "      <th>mean</th>\n",
       "      <td>417.934948</td>\n",
       "      <td>526.623350</td>\n",
       "    </tr>\n",
       "    <tr>\n",
       "      <th>std</th>\n",
       "      <td>190.313730</td>\n",
       "      <td>317.606098</td>\n",
       "    </tr>\n",
       "    <tr>\n",
       "      <th>min</th>\n",
       "      <td>0.000000</td>\n",
       "      <td>0.000000</td>\n",
       "    </tr>\n",
       "    <tr>\n",
       "      <th>25%</th>\n",
       "      <td>282.000000</td>\n",
       "      <td>284.000000</td>\n",
       "    </tr>\n",
       "    <tr>\n",
       "      <th>50%</th>\n",
       "      <td>422.000000</td>\n",
       "      <td>518.000000</td>\n",
       "    </tr>\n",
       "    <tr>\n",
       "      <th>75%</th>\n",
       "      <td>545.000000</td>\n",
       "      <td>752.000000</td>\n",
       "    </tr>\n",
       "    <tr>\n",
       "      <th>max</th>\n",
       "      <td>1435.000000</td>\n",
       "      <td>1673.000000</td>\n",
       "    </tr>\n",
       "  </tbody>\n",
       "</table>\n",
       "</div>"
      ],
      "text/plain": [
       "tariff        smart        ultra\n",
       "count   2229.000000   985.000000\n",
       "mean     417.934948   526.623350\n",
       "std      190.313730   317.606098\n",
       "min        0.000000     0.000000\n",
       "25%      282.000000   284.000000\n",
       "50%      422.000000   518.000000\n",
       "75%      545.000000   752.000000\n",
       "max     1435.000000  1673.000000"
      ]
     },
     "metadata": {},
     "output_type": "display_data"
    },
    {
     "data": {
      "image/png": "[encoded data removed]",
      "text/plain": [
       "<Figure size 1080x504 with 1 Axes>"
      ]
     },
     "metadata": {
      "needs_background": "light"
     },
     "output_type": "display_data"
    }
   ],
   "source": [
    "hist_compare(df_smart, df_ultra, 'duration_sum')\n",
    "plt.axvline(500, linestyle='--');\n",
    "plt.axvline(3000, color='Orange', linestyle='--');\n",
    "plt.title('Количество потраченных минут по тарифам');"
   ]
  },
  {
   "cell_type": "code",
   "execution_count": 20,
   "metadata": {},
   "outputs": [
    {
     "name": "stdout",
     "output_type": "stream",
     "text": [
      "Доля клиентов тарифа smart, превысивших лмимит минут: 34%\n"
     ]
    }
   ],
   "source": [
    "# Посчитаем долю клиентов тарифа smart, превысивших лимит пакета минут\n",
    "\n",
    "print(f'Доля клиентов тарифа smart, превысивших лмимит минут: \\\n",
    "{df_smart.query(\"duration_sum > 500\").shape[0] / df_smart.shape[0]:.0%}')"
   ]
  },
  {
   "cell_type": "markdown",
   "metadata": {},
   "source": [
    "**Выводы**\n",
    "* На графике выше линиями отмечены включенные в абонентскую плату кол-во минут. \n",
    "* Тариф smart значительно популярнее тарифа ultra.\n",
    "* Хорошо видно, что пользователи обоих тарифов используют приблизительно одинаковое количество минут. \n",
    "* Однако пользователи тарифа ultra все же гворят в среднем больше, но никто из клиентов не использовал пакет полностью. \n",
    "* Пользователи тарифа smart превышают лимит минут в 34% случаев.\n",
    "* Оба распределения близки к нормальному, однако имеют положительную скошенность. "
   ]
  },
  {
   "cell_type": "code",
   "execution_count": 21,
   "metadata": {},
   "outputs": [
    {
     "data": {
      "text/html": [
       "<div>\n",
       "<style scoped>\n",
       "    .dataframe tbody tr th:only-of-type {\n",
       "        vertical-align: middle;\n",
       "    }\n",
       "\n",
       "    .dataframe tbody tr th {\n",
       "        vertical-align: top;\n",
       "    }\n",
       "\n",
       "    .dataframe thead th {\n",
       "        text-align: right;\n",
       "    }\n",
       "</style>\n",
       "<table border=\"1\" class=\"dataframe\">\n",
       "  <thead>\n",
       "    <tr style=\"text-align: right;\">\n",
       "      <th>tariff</th>\n",
       "      <th>smart</th>\n",
       "      <th>ultra</th>\n",
       "    </tr>\n",
       "  </thead>\n",
       "  <tbody>\n",
       "    <tr>\n",
       "      <th>count</th>\n",
       "      <td>2229.000000</td>\n",
       "      <td>985.000000</td>\n",
       "    </tr>\n",
       "    <tr>\n",
       "      <th>mean</th>\n",
       "      <td>33.384029</td>\n",
       "      <td>49.363452</td>\n",
       "    </tr>\n",
       "    <tr>\n",
       "      <th>std</th>\n",
       "      <td>28.227876</td>\n",
       "      <td>47.804457</td>\n",
       "    </tr>\n",
       "    <tr>\n",
       "      <th>min</th>\n",
       "      <td>0.000000</td>\n",
       "      <td>0.000000</td>\n",
       "    </tr>\n",
       "    <tr>\n",
       "      <th>25%</th>\n",
       "      <td>10.000000</td>\n",
       "      <td>6.000000</td>\n",
       "    </tr>\n",
       "    <tr>\n",
       "      <th>50%</th>\n",
       "      <td>28.000000</td>\n",
       "      <td>38.000000</td>\n",
       "    </tr>\n",
       "    <tr>\n",
       "      <th>75%</th>\n",
       "      <td>51.000000</td>\n",
       "      <td>79.000000</td>\n",
       "    </tr>\n",
       "    <tr>\n",
       "      <th>max</th>\n",
       "      <td>143.000000</td>\n",
       "      <td>224.000000</td>\n",
       "    </tr>\n",
       "  </tbody>\n",
       "</table>\n",
       "</div>"
      ],
      "text/plain": [
       "tariff        smart       ultra\n",
       "count   2229.000000  985.000000\n",
       "mean      33.384029   49.363452\n",
       "std       28.227876   47.804457\n",
       "min        0.000000    0.000000\n",
       "25%       10.000000    6.000000\n",
       "50%       28.000000   38.000000\n",
       "75%       51.000000   79.000000\n",
       "max      143.000000  224.000000"
      ]
     },
     "metadata": {},
     "output_type": "display_data"
    },
    {
     "data": {
      "image/png": "[encoded data removed]",
      "text/plain": [
       "<Figure size 1080x504 with 1 Axes>"
      ]
     },
     "metadata": {
      "needs_background": "light"
     },
     "output_type": "display_data"
    }
   ],
   "source": [
    "hist_compare(df_smart, df_ultra, 'messages_count')\n",
    "plt.axvline(50, linestyle='--')\n",
    "plt.axvline(1000, color='Orange', linestyle='--');\n",
    "plt.title('Количество сообщений по тарифам');"
   ]
  },
  {
   "cell_type": "code",
   "execution_count": 22,
   "metadata": {},
   "outputs": [
    {
     "name": "stdout",
     "output_type": "stream",
     "text": [
      "Доля клиентов тарифа smart, превысивших лимит смс сообщений:     25%\n"
     ]
    }
   ],
   "source": [
    "print(f'Доля клиентов тарифа smart, превысивших лимит смс сообщений: \\\n",
    "    {df_smart.query(\"messages_count > 50\").shape[0] / df_smart.shape[0]:.0%}')"
   ]
  },
  {
   "cell_type": "markdown",
   "metadata": {},
   "source": [
    "**Похожая картина наблюдается и по смс сообщениям:**\n",
    "* Скошенность графика влево на обоих тарифах, говрит о том, что клиенты крайне редко пользуются смс сообщениями. \n",
    "* 25 % клиентов тарифа smart превысили лимит сообщений\n",
    "* На тарифе ultra в среднем немного больше отправляют смс сообщений.\n",
    "* Оба тарифа имеют положительную скошенность. (Похоже на экспоненциальное распределение)"
   ]
  },
  {
   "cell_type": "code",
   "execution_count": 23,
   "metadata": {},
   "outputs": [
    {
     "data": {
      "text/html": [
       "<div>\n",
       "<style scoped>\n",
       "    .dataframe tbody tr th:only-of-type {\n",
       "        vertical-align: middle;\n",
       "    }\n",
       "\n",
       "    .dataframe tbody tr th {\n",
       "        vertical-align: top;\n",
       "    }\n",
       "\n",
       "    .dataframe thead th {\n",
       "        text-align: right;\n",
       "    }\n",
       "</style>\n",
       "<table border=\"1\" class=\"dataframe\">\n",
       "  <thead>\n",
       "    <tr style=\"text-align: right;\">\n",
       "      <th>tariff</th>\n",
       "      <th>smart</th>\n",
       "      <th>ultra</th>\n",
       "    </tr>\n",
       "  </thead>\n",
       "  <tbody>\n",
       "    <tr>\n",
       "      <th>count</th>\n",
       "      <td>2229.000000</td>\n",
       "      <td>985.000000</td>\n",
       "    </tr>\n",
       "    <tr>\n",
       "      <th>mean</th>\n",
       "      <td>16.328847</td>\n",
       "      <td>19.494416</td>\n",
       "    </tr>\n",
       "    <tr>\n",
       "      <th>std</th>\n",
       "      <td>5.747061</td>\n",
       "      <td>9.853511</td>\n",
       "    </tr>\n",
       "    <tr>\n",
       "      <th>min</th>\n",
       "      <td>0.000000</td>\n",
       "      <td>0.000000</td>\n",
       "    </tr>\n",
       "    <tr>\n",
       "      <th>25%</th>\n",
       "      <td>13.000000</td>\n",
       "      <td>12.000000</td>\n",
       "    </tr>\n",
       "    <tr>\n",
       "      <th>50%</th>\n",
       "      <td>17.000000</td>\n",
       "      <td>19.000000</td>\n",
       "    </tr>\n",
       "    <tr>\n",
       "      <th>75%</th>\n",
       "      <td>20.000000</td>\n",
       "      <td>27.000000</td>\n",
       "    </tr>\n",
       "    <tr>\n",
       "      <th>max</th>\n",
       "      <td>38.000000</td>\n",
       "      <td>49.000000</td>\n",
       "    </tr>\n",
       "  </tbody>\n",
       "</table>\n",
       "</div>"
      ],
      "text/plain": [
       "tariff        smart       ultra\n",
       "count   2229.000000  985.000000\n",
       "mean      16.328847   19.494416\n",
       "std        5.747061    9.853511\n",
       "min        0.000000    0.000000\n",
       "25%       13.000000   12.000000\n",
       "50%       17.000000   19.000000\n",
       "75%       20.000000   27.000000\n",
       "max       38.000000   49.000000"
      ]
     },
     "metadata": {},
     "output_type": "display_data"
    },
    {
     "data": {
      "image/png": "[encoded data removed]",
      "text/plain": [
       "<Figure size 1080x504 with 1 Axes>"
      ]
     },
     "metadata": {
      "needs_background": "light"
     },
     "output_type": "display_data"
    }
   ],
   "source": [
    "hist_compare(df_smart, df_ultra, 'traffic_sum')\n",
    "\n",
    "plt.axvline(15, linestyle='--')\n",
    "plt.axvline(30, color='Orange', linestyle='--');\n",
    "plt.title('Количество траффика по тарифам');"
   ]
  },
  {
   "cell_type": "code",
   "execution_count": 24,
   "metadata": {},
   "outputs": [
    {
     "name": "stdout",
     "output_type": "stream",
     "text": [
      "Доля клиентов тарифа smart, превысивших лимит траффика: 59%\n",
      "Доля клиентов тарифа ultra, превысивших лимит траффика: 14%\n"
     ]
    }
   ],
   "source": [
    "print(f'Доля клиентов тарифа smart, превысивших лимит траффика: \\\n",
    "{df_smart.query(\"traffic_sum > 15\").shape[0] / df_smart.shape[0]:.0%}')\n",
    "\n",
    "print(f'Доля клиентов тарифа ultra, превысивших лимит траффика: \\\n",
    "{df_ultra.query(\"traffic_sum > 30\").shape[0] / df_ultra.shape[0]:.0%}')"
   ]
  },
  {
   "cell_type": "markdown",
   "metadata": {},
   "source": [
    "**Выводы**\n",
    "* Интернет является самой востребованной услугой связи для клиентов, вне зависимости от тарифа. \n",
    "* Включенного в пакет траффика недостаточно для клиентов обоих тарифов\n",
    "* 59% клиентов тарифа smart и 14% тарифа ultra не укладываются в лимит траффика.\n",
    "* Оба тарифа имеют нормальное распределение, без видимых скошенностей. \n",
    "\n",
    "**Клиенты все больше пользуются интернетом, возможно текущие лимиты устарели и имеет смысл их пересмотреть в сторону повышения. С одной стороны, каждый лишний гигабайт траффика приносит компании прибыль, однако это может стать серьезным поводом недовольства клиента, т.к. он скорее всего расчитывает укладываться в ежемесячную плату, или близкое к ней значение. А недовольный клиент может уйти к конкуренту. Для телекомов важнейшей метрикой является лояльность клиента.**"
   ]
  },
  {
   "cell_type": "code",
   "execution_count": 25,
   "metadata": {},
   "outputs": [
    {
     "data": {
      "text/html": [
       "<div>\n",
       "<style scoped>\n",
       "    .dataframe tbody tr th:only-of-type {\n",
       "        vertical-align: middle;\n",
       "    }\n",
       "\n",
       "    .dataframe tbody tr th {\n",
       "        vertical-align: top;\n",
       "    }\n",
       "\n",
       "    .dataframe thead tr th {\n",
       "        text-align: left;\n",
       "    }\n",
       "\n",
       "    .dataframe thead tr:last-of-type th {\n",
       "        text-align: right;\n",
       "    }\n",
       "</style>\n",
       "<table border=\"1\" class=\"dataframe\">\n",
       "  <thead>\n",
       "    <tr>\n",
       "      <th></th>\n",
       "      <th colspan=\"3\" halign=\"left\">duration_sum</th>\n",
       "    </tr>\n",
       "    <tr>\n",
       "      <th></th>\n",
       "      <th>mean</th>\n",
       "      <th>var</th>\n",
       "      <th>std</th>\n",
       "    </tr>\n",
       "    <tr>\n",
       "      <th>tariff</th>\n",
       "      <th></th>\n",
       "      <th></th>\n",
       "      <th></th>\n",
       "    </tr>\n",
       "  </thead>\n",
       "  <tbody>\n",
       "    <tr>\n",
       "      <th>smart</th>\n",
       "      <td>417.934948</td>\n",
       "      <td>36219.315784</td>\n",
       "      <td>190.313730</td>\n",
       "    </tr>\n",
       "    <tr>\n",
       "      <th>ultra</th>\n",
       "      <td>526.623350</td>\n",
       "      <td>100873.633397</td>\n",
       "      <td>317.606098</td>\n",
       "    </tr>\n",
       "  </tbody>\n",
       "</table>\n",
       "</div>"
      ],
      "text/plain": [
       "       duration_sum                           \n",
       "               mean            var         std\n",
       "tariff                                        \n",
       "smart    417.934948   36219.315784  190.313730\n",
       "ultra    526.623350  100873.633397  317.606098"
      ]
     },
     "metadata": {},
     "output_type": "display_data"
    },
    {
     "data": {
      "text/html": [
       "<div>\n",
       "<style scoped>\n",
       "    .dataframe tbody tr th:only-of-type {\n",
       "        vertical-align: middle;\n",
       "    }\n",
       "\n",
       "    .dataframe tbody tr th {\n",
       "        vertical-align: top;\n",
       "    }\n",
       "\n",
       "    .dataframe thead tr th {\n",
       "        text-align: left;\n",
       "    }\n",
       "\n",
       "    .dataframe thead tr:last-of-type th {\n",
       "        text-align: right;\n",
       "    }\n",
       "</style>\n",
       "<table border=\"1\" class=\"dataframe\">\n",
       "  <thead>\n",
       "    <tr>\n",
       "      <th></th>\n",
       "      <th colspan=\"3\" halign=\"left\">messages_count</th>\n",
       "    </tr>\n",
       "    <tr>\n",
       "      <th></th>\n",
       "      <th>mean</th>\n",
       "      <th>var</th>\n",
       "      <th>std</th>\n",
       "    </tr>\n",
       "    <tr>\n",
       "      <th>tariff</th>\n",
       "      <th></th>\n",
       "      <th></th>\n",
       "      <th></th>\n",
       "    </tr>\n",
       "  </thead>\n",
       "  <tbody>\n",
       "    <tr>\n",
       "      <th>smart</th>\n",
       "      <td>33.384029</td>\n",
       "      <td>796.812958</td>\n",
       "      <td>28.227876</td>\n",
       "    </tr>\n",
       "    <tr>\n",
       "      <th>ultra</th>\n",
       "      <td>49.363452</td>\n",
       "      <td>2285.266143</td>\n",
       "      <td>47.804457</td>\n",
       "    </tr>\n",
       "  </tbody>\n",
       "</table>\n",
       "</div>"
      ],
      "text/plain": [
       "       messages_count                        \n",
       "                 mean          var        std\n",
       "tariff                                       \n",
       "smart       33.384029   796.812958  28.227876\n",
       "ultra       49.363452  2285.266143  47.804457"
      ]
     },
     "metadata": {},
     "output_type": "display_data"
    },
    {
     "data": {
      "text/html": [
       "<div>\n",
       "<style scoped>\n",
       "    .dataframe tbody tr th:only-of-type {\n",
       "        vertical-align: middle;\n",
       "    }\n",
       "\n",
       "    .dataframe tbody tr th {\n",
       "        vertical-align: top;\n",
       "    }\n",
       "\n",
       "    .dataframe thead tr th {\n",
       "        text-align: left;\n",
       "    }\n",
       "\n",
       "    .dataframe thead tr:last-of-type th {\n",
       "        text-align: right;\n",
       "    }\n",
       "</style>\n",
       "<table border=\"1\" class=\"dataframe\">\n",
       "  <thead>\n",
       "    <tr>\n",
       "      <th></th>\n",
       "      <th colspan=\"3\" halign=\"left\">traffic_sum</th>\n",
       "    </tr>\n",
       "    <tr>\n",
       "      <th></th>\n",
       "      <th>mean</th>\n",
       "      <th>var</th>\n",
       "      <th>std</th>\n",
       "    </tr>\n",
       "    <tr>\n",
       "      <th>tariff</th>\n",
       "      <th></th>\n",
       "      <th></th>\n",
       "      <th></th>\n",
       "    </tr>\n",
       "  </thead>\n",
       "  <tbody>\n",
       "    <tr>\n",
       "      <th>smart</th>\n",
       "      <td>16.328847</td>\n",
       "      <td>33.028705</td>\n",
       "      <td>5.747061</td>\n",
       "    </tr>\n",
       "    <tr>\n",
       "      <th>ultra</th>\n",
       "      <td>19.494416</td>\n",
       "      <td>97.091686</td>\n",
       "      <td>9.853511</td>\n",
       "    </tr>\n",
       "  </tbody>\n",
       "</table>\n",
       "</div>"
      ],
      "text/plain": [
       "       traffic_sum                     \n",
       "              mean        var       std\n",
       "tariff                                 \n",
       "smart    16.328847  33.028705  5.747061\n",
       "ultra    19.494416  97.091686  9.853511"
      ]
     },
     "metadata": {},
     "output_type": "display_data"
    },
    {
     "data": {
      "text/html": [
       "<div>\n",
       "<style scoped>\n",
       "    .dataframe tbody tr th:only-of-type {\n",
       "        vertical-align: middle;\n",
       "    }\n",
       "\n",
       "    .dataframe tbody tr th {\n",
       "        vertical-align: top;\n",
       "    }\n",
       "\n",
       "    .dataframe thead tr th {\n",
       "        text-align: left;\n",
       "    }\n",
       "\n",
       "    .dataframe thead tr:last-of-type th {\n",
       "        text-align: right;\n",
       "    }\n",
       "</style>\n",
       "<table border=\"1\" class=\"dataframe\">\n",
       "  <thead>\n",
       "    <tr>\n",
       "      <th></th>\n",
       "      <th colspan=\"3\" halign=\"left\">user_month_revenue</th>\n",
       "    </tr>\n",
       "    <tr>\n",
       "      <th></th>\n",
       "      <th>mean</th>\n",
       "      <th>var</th>\n",
       "      <th>std</th>\n",
       "    </tr>\n",
       "    <tr>\n",
       "      <th>tariff</th>\n",
       "      <th></th>\n",
       "      <th></th>\n",
       "      <th></th>\n",
       "    </tr>\n",
       "  </thead>\n",
       "  <tbody>\n",
       "    <tr>\n",
       "      <th>smart</th>\n",
       "      <td>1518.634814</td>\n",
       "      <td>630931.520978</td>\n",
       "      <td>794.311980</td>\n",
       "    </tr>\n",
       "    <tr>\n",
       "      <th>ultra</th>\n",
       "      <td>1552.704569</td>\n",
       "      <td>651250.681940</td>\n",
       "      <td>807.001042</td>\n",
       "    </tr>\n",
       "  </tbody>\n",
       "</table>\n",
       "</div>"
      ],
      "text/plain": [
       "       user_month_revenue                           \n",
       "                     mean            var         std\n",
       "tariff                                              \n",
       "smart         1518.634814  630931.520978  794.311980\n",
       "ultra         1552.704569  651250.681940  807.001042"
      ]
     },
     "metadata": {},
     "output_type": "display_data"
    }
   ],
   "source": [
    "pivot_list = ['duration_sum', 'messages_count', 'traffic_sum', 'user_month_revenue']\n",
    "for column in pivot_list:\n",
    "    display(df_merged.groupby('tariff').agg({column:['mean','var','std']}))"
   ]
  },
  {
   "cell_type": "markdown",
   "metadata": {},
   "source": [
    "### Проверьте гипотезы\n"
   ]
  },
  {
   "cell_type": "markdown",
   "metadata": {},
   "source": [
    "#### средняя выручка пользователей тарифов «Ультра» и «Смарт» различаются;\n",
    "**Нулевая гипотеза $H_0$ будет такова: Средняя выручка пользователелей тарифа \"Ультра\" и \"Смарт\" равны друг другу.**\n",
    "\n",
    "**Альтернативная гипотеза $H_1$: Средняя выручка пользователей тарифа \"Ультра\" и \"Смарт не равны друг ругу.**"
   ]
  },
  {
   "cell_type": "code",
   "execution_count": 35,
   "metadata": {},
   "outputs": [
    {
     "name": "stdout",
     "output_type": "stream",
     "text": [
      "Нулевая гипотеза принимается при уровне значимости  5%, p-value = 0.9662622251273598\n",
      "Нулевая гипотеза принимается при уровне значимости  2%, p-value = 0.9662622251273598\n",
      "Нулевая гипотеза принимается при уровне значимости  1%, p-value = 0.9662622251273598\n"
     ]
    }
   ],
   "source": [
    "# Задаем random_state для повторяемости результатов\n",
    "\n",
    "# Сравниваем среднее двух выборок\n",
    "rs=42\n",
    "\n",
    "tariff_revenue_ttest = st.ttest_ind(df_smart['user_month_revenue'].sample(500, random_state=rs), \n",
    "                                  df_ultra['user_month_revenue'].sample(500, random_state=rs), \n",
    "                                random_state=rs)\n",
    "# Задаем порог стат значимости 5%, 2%, 1%\n",
    "alpha = [.05, .02, .01]\n",
    "\n",
    "for a in alpha:\n",
    "    if tariff_revenue_ttest.pvalue > a:\n",
    "        print(f\"Нулевая гипотеза принимается при уровне значимости  {a:.0%}, p-value = {tariff_revenue_ttest.pvalue}\")\n",
    "        \n",
    "    else:\n",
    "        print(f\"Нулевая гипотеза отвергается при уровне значимости {a:.0%} p-value = {tariff_revenue_ttest.pvalue}\")\n",
    "\n",
    "        "
   ]
  },
  {
   "cell_type": "markdown",
   "metadata": {},
   "source": [
    "**Принимаем нулевую гипотезу при уровне значимости 5%**"
   ]
  },
  {
   "cell_type": "markdown",
   "metadata": {},
   "source": [
    "---"
   ]
  },
  {
   "cell_type": "markdown",
   "metadata": {},
   "source": [
    "#### средняя выручка пользователей из Москвы отличается от выручки пользователей из других регионов.\n",
    "\n",
    "**Нулевая гипотеза $H_0$: Средняя выручка пользователей Москвы равна выручке пользователей из других регионов**\n",
    "\n",
    "**Альтернативная гипотеза $H_1$: Средняя выручка пользователей Москвы отличается от выручки пользователей из других городов**"
   ]
  },
  {
   "cell_type": "code",
   "execution_count": 29,
   "metadata": {},
   "outputs": [],
   "source": [
    "# Делаем срезы согласно условию. \n",
    "msk_sbs = df_merged.merge(df_users[['city', 'user_id']], on='user_id').query(\"city == 'Москва'\")\n",
    "not_msk_sbs = df_merged.merge(df_users[['city', 'user_id']], on='user_id').query(\"city != 'Москва'\")"
   ]
  },
  {
   "cell_type": "code",
   "execution_count": 30,
   "metadata": {},
   "outputs": [
    {
     "name": "stdout",
     "output_type": "stream",
     "text": [
      "Нулевая гипотеза принимается. alpha = 5%, p-value = 0.42020373306012104\n",
      "Нулевая гипотеза принимается. alpha = 2%, p-value = 0.42020373306012104\n",
      "Нулевая гипотеза принимается. alpha = 1%, p-value = 0.42020373306012104\n"
     ]
    }
   ],
   "source": [
    "city_revenue_ttest = st.ttest_ind(msk_sbs['user_month_revenue'].sample(500, random_state=rs),\n",
    "                                 not_msk_sbs['user_month_revenue'].sample(500, random_state=rs),\n",
    "                                 random_state=rs)\n",
    "\n",
    "\n",
    "# Значение порогов alpha указывали выше, обратимся к ним еще раз\n",
    "for a in alpha:\n",
    "    if city_revenue_ttest.pvalue > a:\n",
    "        print(f\"Нулевая гипотеза принимается. alpha = {a:.0%}, p-value = {city_revenue_ttest.pvalue}\")\n",
    "    else:\n",
    "        print(f\"Нулевая гипотеза отвергается. alpha = {a:.0%} p-value = {city_revenue_ttest.pvalue}\")"
   ]
  },
  {
   "cell_type": "markdown",
   "metadata": {},
   "source": [
    "**При различных порогах alpha нулевая гипотеза принимается. Средняя выручка пользователей из Москвы не отличается от выручки пользователей других городов.**"
   ]
  },
  {
   "cell_type": "markdown",
   "metadata": {},
   "source": [
    "#### Поясните:\n",
    "* как вы формулировали нулевую и альтернативную гипотезы;\n",
    "* какой критерий использовали для проверки гипотез и почему.\n",
    "\n",
    "1. Нулевая гипотеза всегда формулируется так, чтобы использовать знак равенства, альтернативная гипотеза противоречит нулевой, может быть односторонней (отличается в большую или меньшую сторону), или односторонней (не равно нулевой гипотезе).\n",
    "2. Поскольку четко заданного критерия p-value не существует, есть лишь общепринятый порог в 5%, однако для надежности все гипотезы я так же проверил на порогах 2% и 1%. "
   ]
  },
  {
   "cell_type": "markdown",
   "metadata": {},
   "source": [
    "### Вывод\n"
   ]
  },
  {
   "cell_type": "markdown",
   "metadata": {},
   "source": [
    "1. Собранные данные имеют высокое качество, т.к. не содержат пропусов и ошибок\n",
    "2. Клиенты обоих тарифов в среднем приносят компании одинаковое количество выручки, несмотря на значительные различия в абонентской плате.\n",
    "3. Треть клиентов тарифа smart превышают свой ежемесячный лимит минут.\n",
    "4. Ни один клиент тарифа ultra из выборки не превысил свой лимит минут. \n",
    "5. Клиенты обоих тарифов активно пользуются интернетом и превышают ежемесячный лимит на тарифе smart в 59% случаев и на тарифе ultra в 14 % случаев. **Стоит обратить на это вниамние, т.к. большинство клиентов тарифа smart тратят на связь больше, чем рассчитывают (исходя из ежемесячного платежа). Это снижает лояльность таких клиентов, может привести к их оттоку.** Возможно стоит расширить лимит траффика для повышения лояльности пользователей. \n",
    "6. Пользователи тарифа ultra превышают лимит смс сообщений в 25% случаев, по графику хорошо видно, что большинство пользователей тарифа отправляют крайне мало смс сообщений. \n",
    "7. Клиенты тарифа ultra имеют большой запас по лимиту смс сообщений и почти никогда его не используют. \n",
    "8. Гипотеза **средняя выручка пользователей тарифов «Ультра» и «Смарт» различаются** отвергнута при уровне значимости 5%. \n",
    "9. Гипотеза **Средняя выручка пользователей Москвы отличается от выручки пользователей из других городов** отвергнута при уровне значимости 5%. "
   ]
  },
  {
   "cell_type": "code",
   "execution_count": null,
   "metadata": {},
   "outputs": [],
   "source": []
  }
 ],
 "metadata": {
  "ExecuteTimeLog": [
   {
    "duration": 771,
    "start_time": "2022-03-21T21:31:01.127Z"
   },
   {
    "duration": 395,
    "start_time": "2022-03-21T21:32:50.025Z"
   },
   {
    "duration": 19,
    "start_time": "2022-03-21T21:33:05.111Z"
   },
   {
    "duration": 3,
    "start_time": "2022-03-21T21:34:53.077Z"
   },
   {
    "duration": 124,
    "start_time": "2022-03-21T21:34:53.243Z"
   },
   {
    "duration": 42,
    "start_time": "2022-03-21T21:35:11.453Z"
   },
   {
    "duration": 48,
    "start_time": "2022-03-21T21:35:20.678Z"
   },
   {
    "duration": 22,
    "start_time": "2022-03-21T21:37:14.314Z"
   },
   {
    "duration": 26,
    "start_time": "2022-03-21T21:37:22.265Z"
   },
   {
    "duration": 8,
    "start_time": "2022-03-21T21:37:29.737Z"
   },
   {
    "duration": 39,
    "start_time": "2022-03-21T21:37:33.217Z"
   },
   {
    "duration": 21,
    "start_time": "2022-03-21T21:38:40.919Z"
   },
   {
    "duration": 21,
    "start_time": "2022-03-21T21:38:44.301Z"
   },
   {
    "duration": 29,
    "start_time": "2022-03-21T21:38:52.940Z"
   },
   {
    "duration": 9,
    "start_time": "2022-03-21T21:39:11.301Z"
   },
   {
    "duration": 42,
    "start_time": "2022-03-21T21:39:21.110Z"
   },
   {
    "duration": 11,
    "start_time": "2022-03-21T21:39:33.648Z"
   },
   {
    "duration": 5,
    "start_time": "2022-03-21T21:39:41.440Z"
   },
   {
    "duration": 4,
    "start_time": "2022-03-21T21:39:44.512Z"
   },
   {
    "duration": 19,
    "start_time": "2022-03-21T21:40:28.129Z"
   },
   {
    "duration": 15,
    "start_time": "2022-03-21T21:40:35.216Z"
   },
   {
    "duration": 7,
    "start_time": "2022-03-21T21:40:42.321Z"
   },
   {
    "duration": 6,
    "start_time": "2022-03-21T21:40:49.344Z"
   },
   {
    "duration": 184,
    "start_time": "2022-03-21T21:54:21.571Z"
   },
   {
    "duration": 2,
    "start_time": "2022-03-21T21:54:24.077Z"
   },
   {
    "duration": 406,
    "start_time": "2022-03-21T21:54:24.248Z"
   },
   {
    "duration": 189,
    "start_time": "2022-03-21T21:54:24.655Z"
   },
   {
    "duration": 6,
    "start_time": "2022-03-21T21:54:25.048Z"
   },
   {
    "duration": 14,
    "start_time": "2022-03-21T21:54:44.109Z"
   },
   {
    "duration": 3,
    "start_time": "2022-03-21T21:54:51.833Z"
   },
   {
    "duration": 6,
    "start_time": "2022-03-21T21:54:52.042Z"
   },
   {
    "duration": 5,
    "start_time": "2022-03-21T21:55:21.349Z"
   },
   {
    "duration": 4,
    "start_time": "2022-03-21T21:55:42.797Z"
   },
   {
    "duration": 388,
    "start_time": "2022-03-21T21:57:10.073Z"
   },
   {
    "duration": 3,
    "start_time": "2022-03-21T21:57:15.665Z"
   },
   {
    "duration": 58,
    "start_time": "2022-03-21T21:58:12.607Z"
   },
   {
    "duration": 44,
    "start_time": "2022-03-21T21:58:21.651Z"
   },
   {
    "duration": 45,
    "start_time": "2022-03-21T21:58:33.211Z"
   },
   {
    "duration": 6,
    "start_time": "2022-03-21T21:59:06.573Z"
   },
   {
    "duration": 18,
    "start_time": "2022-03-21T21:59:10.621Z"
   },
   {
    "duration": 23,
    "start_time": "2022-03-21T21:59:12.340Z"
   },
   {
    "duration": 57,
    "start_time": "2022-03-21T21:59:19.286Z"
   },
   {
    "duration": 3,
    "start_time": "2022-03-21T21:59:49.574Z"
   },
   {
    "duration": 27,
    "start_time": "2022-03-21T21:59:49.813Z"
   },
   {
    "duration": 3,
    "start_time": "2022-03-21T22:00:20.530Z"
   },
   {
    "duration": 51,
    "start_time": "2022-03-21T22:00:21.288Z"
   },
   {
    "duration": 3,
    "start_time": "2022-03-21T22:02:08.787Z"
   },
   {
    "duration": 57,
    "start_time": "2022-03-21T22:02:09.043Z"
   },
   {
    "duration": 4,
    "start_time": "2022-03-21T22:03:21.953Z"
   },
   {
    "duration": 56,
    "start_time": "2022-03-21T22:03:22.617Z"
   },
   {
    "duration": 114,
    "start_time": "2022-03-21T22:04:00.192Z"
   },
   {
    "duration": 9,
    "start_time": "2022-03-21T22:04:20.295Z"
   },
   {
    "duration": 4,
    "start_time": "2022-03-21T22:04:30.959Z"
   },
   {
    "duration": 4,
    "start_time": "2022-03-21T22:06:06.718Z"
   },
   {
    "duration": 28,
    "start_time": "2022-03-21T22:06:31.615Z"
   },
   {
    "duration": 3,
    "start_time": "2022-03-21T22:06:43.535Z"
   },
   {
    "duration": 45,
    "start_time": "2022-03-21T22:06:44.054Z"
   },
   {
    "duration": 3,
    "start_time": "2022-03-21T22:07:31.351Z"
   },
   {
    "duration": 46,
    "start_time": "2022-03-21T22:07:31.853Z"
   },
   {
    "duration": 7,
    "start_time": "2022-03-21T22:07:44.825Z"
   },
   {
    "duration": 55,
    "start_time": "2022-03-21T22:07:50.401Z"
   },
   {
    "duration": 4,
    "start_time": "2022-03-21T22:08:18.632Z"
   },
   {
    "duration": 367,
    "start_time": "2022-03-21T22:08:18.638Z"
   },
   {
    "duration": 46,
    "start_time": "2022-03-21T22:08:28.641Z"
   },
   {
    "duration": 4,
    "start_time": "2022-03-21T22:08:43.170Z"
   },
   {
    "duration": 47,
    "start_time": "2022-03-21T22:08:43.473Z"
   },
   {
    "duration": 4,
    "start_time": "2022-03-21T22:09:04.692Z"
   },
   {
    "duration": 47,
    "start_time": "2022-03-21T22:09:05.290Z"
   },
   {
    "duration": 4,
    "start_time": "2022-03-21T22:09:11.979Z"
   },
   {
    "duration": 47,
    "start_time": "2022-03-21T22:09:12.691Z"
   },
   {
    "duration": 4,
    "start_time": "2022-03-21T22:09:24.746Z"
   },
   {
    "duration": 47,
    "start_time": "2022-03-21T22:09:25.345Z"
   },
   {
    "duration": 4,
    "start_time": "2022-03-21T22:09:42.933Z"
   },
   {
    "duration": 46,
    "start_time": "2022-03-21T22:09:43.285Z"
   },
   {
    "duration": 4,
    "start_time": "2022-03-21T22:10:22.262Z"
   },
   {
    "duration": 50,
    "start_time": "2022-03-21T22:10:22.598Z"
   },
   {
    "duration": 4,
    "start_time": "2022-03-21T22:10:43.564Z"
   },
   {
    "duration": 48,
    "start_time": "2022-03-21T22:10:43.856Z"
   },
   {
    "duration": 4,
    "start_time": "2022-03-21T22:11:24.314Z"
   },
   {
    "duration": 49,
    "start_time": "2022-03-21T22:11:24.713Z"
   },
   {
    "duration": 4,
    "start_time": "2022-03-21T22:11:41.233Z"
   },
   {
    "duration": 46,
    "start_time": "2022-03-21T22:11:42.177Z"
   },
   {
    "duration": 12,
    "start_time": "2022-03-21T22:11:53.883Z"
   },
   {
    "duration": 4,
    "start_time": "2022-03-21T22:14:21.295Z"
   },
   {
    "duration": 48,
    "start_time": "2022-03-21T22:14:21.678Z"
   },
   {
    "duration": 27,
    "start_time": "2022-03-21T22:15:08.721Z"
   },
   {
    "duration": 21,
    "start_time": "2022-03-21T22:15:26.264Z"
   },
   {
    "duration": 11,
    "start_time": "2022-03-21T22:15:44.635Z"
   },
   {
    "duration": 22,
    "start_time": "2022-03-21T22:16:12.562Z"
   },
   {
    "duration": 11,
    "start_time": "2022-03-21T22:16:41.798Z"
   },
   {
    "duration": 8,
    "start_time": "2022-03-21T22:17:08.144Z"
   },
   {
    "duration": 30,
    "start_time": "2022-03-21T22:17:13.347Z"
   },
   {
    "duration": 18,
    "start_time": "2022-03-21T22:17:19.951Z"
   },
   {
    "duration": 13,
    "start_time": "2022-03-21T22:17:27.413Z"
   },
   {
    "duration": 12,
    "start_time": "2022-03-21T22:17:38.710Z"
   },
   {
    "duration": 13,
    "start_time": "2022-03-21T22:17:49.221Z"
   },
   {
    "duration": 407,
    "start_time": "2022-03-21T22:18:03.440Z"
   },
   {
    "duration": 12,
    "start_time": "2022-03-21T22:18:14.345Z"
   },
   {
    "duration": 22,
    "start_time": "2022-03-21T22:18:27.369Z"
   },
   {
    "duration": 51,
    "start_time": "2022-03-21T22:19:02.177Z"
   },
   {
    "duration": 9,
    "start_time": "2022-03-21T22:19:13.313Z"
   },
   {
    "duration": 20,
    "start_time": "2022-03-21T22:19:19.729Z"
   },
   {
    "duration": 3,
    "start_time": "2022-03-21T22:32:32.624Z"
   },
   {
    "duration": 404,
    "start_time": "2022-03-21T22:32:32.629Z"
   },
   {
    "duration": 4,
    "start_time": "2022-03-21T22:32:33.035Z"
   },
   {
    "duration": 48,
    "start_time": "2022-03-21T22:32:33.041Z"
   },
   {
    "duration": 63,
    "start_time": "2022-03-21T22:32:33.090Z"
   },
   {
    "duration": 10,
    "start_time": "2022-03-21T22:33:04.111Z"
   },
   {
    "duration": 15,
    "start_time": "2022-03-21T22:33:20.354Z"
   },
   {
    "duration": 10,
    "start_time": "2022-03-21T22:33:36.345Z"
   },
   {
    "duration": 14,
    "start_time": "2022-03-21T22:34:12.117Z"
   },
   {
    "duration": 36,
    "start_time": "2022-03-21T22:34:41.843Z"
   },
   {
    "duration": 13,
    "start_time": "2022-03-21T22:34:43.692Z"
   },
   {
    "duration": 0,
    "start_time": "2022-03-21T22:35:39.638Z"
   },
   {
    "duration": 79,
    "start_time": "2022-03-21T22:35:58.048Z"
   },
   {
    "duration": 16,
    "start_time": "2022-03-21T22:36:02.584Z"
   },
   {
    "duration": 5,
    "start_time": "2022-03-21T22:36:14.282Z"
   },
   {
    "duration": 6,
    "start_time": "2022-03-21T22:36:17.334Z"
   },
   {
    "duration": 17,
    "start_time": "2022-03-21T22:36:23.374Z"
   },
   {
    "duration": 12,
    "start_time": "2022-03-21T22:37:03.538Z"
   },
   {
    "duration": 26,
    "start_time": "2022-03-21T22:37:16.211Z"
   },
   {
    "duration": 15,
    "start_time": "2022-03-21T22:37:26.411Z"
   },
   {
    "duration": 21,
    "start_time": "2022-03-21T22:38:25.340Z"
   },
   {
    "duration": 13,
    "start_time": "2022-03-21T22:38:48.718Z"
   },
   {
    "duration": 10,
    "start_time": "2022-03-21T22:39:01.715Z"
   },
   {
    "duration": 16,
    "start_time": "2022-03-21T22:39:14.504Z"
   },
   {
    "duration": 13,
    "start_time": "2022-03-21T22:39:21.678Z"
   },
   {
    "duration": 15,
    "start_time": "2022-03-21T22:47:59.843Z"
   },
   {
    "duration": 6,
    "start_time": "2022-03-21T22:48:11.497Z"
   },
   {
    "duration": 8,
    "start_time": "2022-03-21T22:48:31.604Z"
   },
   {
    "duration": 6,
    "start_time": "2022-03-21T22:48:35.058Z"
   },
   {
    "duration": 7,
    "start_time": "2022-03-21T22:49:08.709Z"
   },
   {
    "duration": 12,
    "start_time": "2022-03-21T22:49:20.388Z"
   },
   {
    "duration": 8,
    "start_time": "2022-03-21T22:49:34.389Z"
   },
   {
    "duration": 7,
    "start_time": "2022-03-21T22:49:58.178Z"
   },
   {
    "duration": 15,
    "start_time": "2022-03-21T22:50:33.534Z"
   },
   {
    "duration": 5,
    "start_time": "2022-03-21T22:50:44.720Z"
   },
   {
    "duration": 5,
    "start_time": "2022-03-21T22:50:48.273Z"
   },
   {
    "duration": 15,
    "start_time": "2022-03-21T22:50:51.256Z"
   },
   {
    "duration": 6,
    "start_time": "2022-03-21T22:51:10.703Z"
   },
   {
    "duration": 6,
    "start_time": "2022-03-21T22:51:14.120Z"
   },
   {
    "duration": 7,
    "start_time": "2022-03-21T22:51:20.120Z"
   },
   {
    "duration": 6,
    "start_time": "2022-03-21T22:51:23.288Z"
   },
   {
    "duration": 11,
    "start_time": "2022-03-21T22:51:52.137Z"
   },
   {
    "duration": 8,
    "start_time": "2022-03-21T22:51:55.219Z"
   },
   {
    "duration": 7,
    "start_time": "2022-03-21T22:52:04.315Z"
   },
   {
    "duration": 16,
    "start_time": "2022-03-21T22:52:07.593Z"
   },
   {
    "duration": 4,
    "start_time": "2022-03-22T10:23:14.324Z"
   },
   {
    "duration": 31,
    "start_time": "2022-03-22T10:23:14.957Z"
   },
   {
    "duration": 3,
    "start_time": "2022-03-22T10:23:20.685Z"
   },
   {
    "duration": 415,
    "start_time": "2022-03-22T10:23:20.946Z"
   },
   {
    "duration": 3,
    "start_time": "2022-03-22T10:23:21.842Z"
   },
   {
    "duration": 51,
    "start_time": "2022-03-22T10:23:23.208Z"
   },
   {
    "duration": 4,
    "start_time": "2022-03-22T10:23:37.150Z"
   },
   {
    "duration": 48,
    "start_time": "2022-03-22T10:23:37.906Z"
   },
   {
    "duration": 4,
    "start_time": "2022-03-22T10:23:42.625Z"
   },
   {
    "duration": 47,
    "start_time": "2022-03-22T10:23:42.865Z"
   },
   {
    "duration": 4,
    "start_time": "2022-03-22T10:24:02.425Z"
   },
   {
    "duration": 46,
    "start_time": "2022-03-22T10:24:02.914Z"
   },
   {
    "duration": 4,
    "start_time": "2022-03-22T10:24:13.966Z"
   },
   {
    "duration": 48,
    "start_time": "2022-03-22T10:24:15.449Z"
   },
   {
    "duration": 4,
    "start_time": "2022-03-22T10:24:25.074Z"
   },
   {
    "duration": 49,
    "start_time": "2022-03-22T10:24:25.430Z"
   },
   {
    "duration": 25,
    "start_time": "2022-03-22T10:24:49.955Z"
   },
   {
    "duration": 21,
    "start_time": "2022-03-22T10:25:05.829Z"
   },
   {
    "duration": 26,
    "start_time": "2022-03-22T10:25:18.684Z"
   },
   {
    "duration": 27,
    "start_time": "2022-03-22T10:25:21.134Z"
   },
   {
    "duration": 11,
    "start_time": "2022-03-22T10:25:37.442Z"
   },
   {
    "duration": 13,
    "start_time": "2022-03-22T10:26:18.859Z"
   },
   {
    "duration": 11,
    "start_time": "2022-03-22T10:33:14.098Z"
   },
   {
    "duration": 6893,
    "start_time": "2022-03-22T10:34:47.670Z"
   },
   {
    "duration": 10,
    "start_time": "2022-03-22T10:35:02.137Z"
   },
   {
    "duration": 8,
    "start_time": "2022-03-22T10:35:16.036Z"
   },
   {
    "duration": 26,
    "start_time": "2022-03-22T10:35:19.627Z"
   },
   {
    "duration": 399,
    "start_time": "2022-03-22T10:35:27.130Z"
   },
   {
    "duration": 5,
    "start_time": "2022-03-22T10:35:27.531Z"
   },
   {
    "duration": 45,
    "start_time": "2022-03-22T10:35:27.643Z"
   },
   {
    "duration": 78,
    "start_time": "2022-03-22T10:35:35.768Z"
   },
   {
    "duration": 24,
    "start_time": "2022-03-22T10:35:38.058Z"
   },
   {
    "duration": 4,
    "start_time": "2022-03-22T10:36:41.285Z"
   },
   {
    "duration": 13,
    "start_time": "2022-03-22T10:36:52.351Z"
   },
   {
    "duration": 25,
    "start_time": "2022-03-22T10:37:23.797Z"
   },
   {
    "duration": 17,
    "start_time": "2022-03-22T10:38:04.117Z"
   },
   {
    "duration": 48,
    "start_time": "2022-03-22T10:40:38.277Z"
   },
   {
    "duration": 32,
    "start_time": "2022-03-22T10:42:01.745Z"
   },
   {
    "duration": 8,
    "start_time": "2022-03-22T10:42:17.015Z"
   },
   {
    "duration": 53,
    "start_time": "2022-03-22T10:42:25.131Z"
   },
   {
    "duration": 17,
    "start_time": "2022-03-22T10:42:51.037Z"
   },
   {
    "duration": 12,
    "start_time": "2022-03-22T10:43:30.422Z"
   },
   {
    "duration": 13,
    "start_time": "2022-03-22T10:44:00.038Z"
   },
   {
    "duration": 13,
    "start_time": "2022-03-22T10:44:32.062Z"
   },
   {
    "duration": 24,
    "start_time": "2022-03-22T10:45:00.657Z"
   },
   {
    "duration": 32,
    "start_time": "2022-03-22T10:45:11.054Z"
   },
   {
    "duration": 1164,
    "start_time": "2022-03-22T10:46:08.099Z"
   },
   {
    "duration": 23,
    "start_time": "2022-03-22T10:46:22.385Z"
   },
   {
    "duration": 10,
    "start_time": "2022-03-22T10:46:32.225Z"
   },
   {
    "duration": 8,
    "start_time": "2022-03-22T10:46:56.892Z"
   },
   {
    "duration": 4,
    "start_time": "2022-03-22T10:47:03.569Z"
   },
   {
    "duration": 11,
    "start_time": "2022-03-22T10:47:14.400Z"
   },
   {
    "duration": 10,
    "start_time": "2022-03-22T10:48:08.239Z"
   },
   {
    "duration": 22,
    "start_time": "2022-03-22T10:48:13.850Z"
   },
   {
    "duration": 9,
    "start_time": "2022-03-22T10:48:30.123Z"
   },
   {
    "duration": 1305,
    "start_time": "2022-03-22T10:48:55.721Z"
   },
   {
    "duration": 6789,
    "start_time": "2022-03-22T10:49:24.081Z"
   },
   {
    "duration": 5,
    "start_time": "2022-03-22T10:49:37.329Z"
   },
   {
    "duration": 6,
    "start_time": "2022-03-22T10:49:47.523Z"
   },
   {
    "duration": 121,
    "start_time": "2022-03-22T10:49:54.474Z"
   },
   {
    "duration": 132,
    "start_time": "2022-03-22T10:50:01.979Z"
   },
   {
    "duration": 10,
    "start_time": "2022-03-22T10:52:44.843Z"
   },
   {
    "duration": 12,
    "start_time": "2022-03-22T10:53:42.001Z"
   },
   {
    "duration": 34,
    "start_time": "2022-03-22T10:54:55.370Z"
   },
   {
    "duration": 290,
    "start_time": "2022-03-22T10:55:36.524Z"
   },
   {
    "duration": 22,
    "start_time": "2022-03-22T10:55:52.936Z"
   },
   {
    "duration": 15,
    "start_time": "2022-03-22T10:57:23.707Z"
   },
   {
    "duration": 16,
    "start_time": "2022-03-22T10:57:24.791Z"
   },
   {
    "duration": 11,
    "start_time": "2022-03-22T10:57:30.103Z"
   },
   {
    "duration": 34,
    "start_time": "2022-03-22T10:57:47.551Z"
   },
   {
    "duration": 19,
    "start_time": "2022-03-22T10:58:39.400Z"
   },
   {
    "duration": 12,
    "start_time": "2022-03-22T10:58:40.859Z"
   },
   {
    "duration": 11,
    "start_time": "2022-03-22T10:58:45.053Z"
   },
   {
    "duration": 23,
    "start_time": "2022-03-22T10:59:10.097Z"
   },
   {
    "duration": 13,
    "start_time": "2022-03-22T10:59:51.138Z"
   },
   {
    "duration": 29,
    "start_time": "2022-03-22T11:00:39.656Z"
   },
   {
    "duration": 24,
    "start_time": "2022-03-22T11:01:22.258Z"
   },
   {
    "duration": 29,
    "start_time": "2022-03-22T11:02:08.605Z"
   },
   {
    "duration": 31,
    "start_time": "2022-03-22T11:02:29.920Z"
   },
   {
    "duration": 29,
    "start_time": "2022-03-22T11:02:58.119Z"
   },
   {
    "duration": 48,
    "start_time": "2022-03-22T11:03:22.672Z"
   },
   {
    "duration": 29,
    "start_time": "2022-03-22T11:03:22.899Z"
   },
   {
    "duration": 19,
    "start_time": "2022-03-22T11:03:23.198Z"
   },
   {
    "duration": 24,
    "start_time": "2022-03-22T11:03:23.482Z"
   },
   {
    "duration": 11,
    "start_time": "2022-03-22T11:04:55.032Z"
   },
   {
    "duration": 6,
    "start_time": "2022-03-22T11:05:23.796Z"
   },
   {
    "duration": 9,
    "start_time": "2022-03-22T11:05:31.938Z"
   },
   {
    "duration": 10,
    "start_time": "2022-03-22T11:06:40.425Z"
   },
   {
    "duration": 7,
    "start_time": "2022-03-22T11:07:34.642Z"
   },
   {
    "duration": 8,
    "start_time": "2022-03-22T11:07:48.281Z"
   },
   {
    "duration": 10,
    "start_time": "2022-03-22T11:08:17.633Z"
   },
   {
    "duration": 9,
    "start_time": "2022-03-22T11:08:35.811Z"
   },
   {
    "duration": 8,
    "start_time": "2022-03-22T11:08:39.075Z"
   },
   {
    "duration": 9,
    "start_time": "2022-03-22T11:08:46.953Z"
   },
   {
    "duration": 8,
    "start_time": "2022-03-22T11:10:17.240Z"
   },
   {
    "duration": 13,
    "start_time": "2022-03-22T11:10:20.179Z"
   },
   {
    "duration": 7,
    "start_time": "2022-03-22T11:10:50.049Z"
   },
   {
    "duration": 13,
    "start_time": "2022-03-22T11:10:54.793Z"
   },
   {
    "duration": 18,
    "start_time": "2022-03-22T11:11:37.943Z"
   },
   {
    "duration": 13,
    "start_time": "2022-03-22T11:11:51.303Z"
   },
   {
    "duration": 12,
    "start_time": "2022-03-22T11:11:56.063Z"
   },
   {
    "duration": 13,
    "start_time": "2022-03-22T11:12:35.478Z"
   },
   {
    "duration": 10,
    "start_time": "2022-03-22T11:12:41.198Z"
   },
   {
    "duration": 7,
    "start_time": "2022-03-22T11:13:22.448Z"
   },
   {
    "duration": 32,
    "start_time": "2022-03-22T11:16:37.408Z"
   },
   {
    "duration": 38,
    "start_time": "2022-03-22T11:16:43.477Z"
   },
   {
    "duration": 36,
    "start_time": "2022-03-22T11:17:10.173Z"
   },
   {
    "duration": 21,
    "start_time": "2022-03-22T11:17:10.528Z"
   },
   {
    "duration": 31,
    "start_time": "2022-03-22T11:17:11.068Z"
   },
   {
    "duration": 29,
    "start_time": "2022-03-22T11:17:46.227Z"
   },
   {
    "duration": 10,
    "start_time": "2022-03-22T11:17:47.424Z"
   },
   {
    "duration": 18,
    "start_time": "2022-03-22T11:18:23.184Z"
   },
   {
    "duration": 10,
    "start_time": "2022-03-22T11:19:51.990Z"
   },
   {
    "duration": 13,
    "start_time": "2022-03-22T11:23:12.122Z"
   },
   {
    "duration": 10,
    "start_time": "2022-03-22T11:23:23.438Z"
   },
   {
    "duration": 8,
    "start_time": "2022-03-22T11:23:29.490Z"
   },
   {
    "duration": 8,
    "start_time": "2022-03-22T11:24:06.254Z"
   },
   {
    "duration": 14,
    "start_time": "2022-03-22T11:24:14.151Z"
   },
   {
    "duration": 6,
    "start_time": "2022-03-22T11:25:05.255Z"
   },
   {
    "duration": 13,
    "start_time": "2022-03-22T11:25:10.355Z"
   },
   {
    "duration": 13,
    "start_time": "2022-03-22T11:25:56.284Z"
   },
   {
    "duration": 9,
    "start_time": "2022-03-22T11:28:03.081Z"
   },
   {
    "duration": 7,
    "start_time": "2022-03-22T11:30:41.202Z"
   },
   {
    "duration": 9,
    "start_time": "2022-03-22T11:30:45.105Z"
   },
   {
    "duration": 11,
    "start_time": "2022-03-22T11:30:50.448Z"
   },
   {
    "duration": 9,
    "start_time": "2022-03-22T11:32:42.593Z"
   },
   {
    "duration": 14,
    "start_time": "2022-03-22T11:32:43.803Z"
   },
   {
    "duration": 16,
    "start_time": "2022-03-22T11:32:49.164Z"
   },
   {
    "duration": 14,
    "start_time": "2022-03-22T11:32:53.389Z"
   },
   {
    "duration": 18,
    "start_time": "2022-03-22T11:32:58.567Z"
   },
   {
    "duration": 12,
    "start_time": "2022-03-22T11:34:08.973Z"
   },
   {
    "duration": 409,
    "start_time": "2022-03-22T11:34:17.419Z"
   },
   {
    "duration": 4,
    "start_time": "2022-03-22T11:34:17.830Z"
   },
   {
    "duration": 46,
    "start_time": "2022-03-22T11:34:17.870Z"
   },
   {
    "duration": 73,
    "start_time": "2022-03-22T11:34:18.947Z"
   },
   {
    "duration": 49,
    "start_time": "2022-03-22T11:34:21.603Z"
   },
   {
    "duration": 34,
    "start_time": "2022-03-22T11:34:22.122Z"
   },
   {
    "duration": 20,
    "start_time": "2022-03-22T11:34:23.373Z"
   },
   {
    "duration": 26,
    "start_time": "2022-03-22T11:34:23.514Z"
   },
   {
    "duration": 16,
    "start_time": "2022-03-22T11:34:23.674Z"
   },
   {
    "duration": 13,
    "start_time": "2022-03-22T11:34:26.555Z"
   },
   {
    "duration": 2,
    "start_time": "2022-03-22T11:34:34.305Z"
   },
   {
    "duration": 429,
    "start_time": "2022-03-22T11:34:34.541Z"
   },
   {
    "duration": 4,
    "start_time": "2022-03-22T11:34:35.328Z"
   },
   {
    "duration": 48,
    "start_time": "2022-03-22T11:34:36.748Z"
   },
   {
    "duration": 12,
    "start_time": "2022-03-22T11:34:40.625Z"
   },
   {
    "duration": 10,
    "start_time": "2022-03-22T11:34:53.764Z"
   },
   {
    "duration": 15,
    "start_time": "2022-03-22T11:35:13.000Z"
   },
   {
    "duration": 11,
    "start_time": "2022-03-22T11:35:17.615Z"
   },
   {
    "duration": 15,
    "start_time": "2022-03-22T11:35:17.878Z"
   },
   {
    "duration": 796,
    "start_time": "2022-03-22T11:35:37.411Z"
   },
   {
    "duration": 429,
    "start_time": "2022-03-22T11:35:38.209Z"
   },
   {
    "duration": 5,
    "start_time": "2022-03-22T11:35:38.639Z"
   },
   {
    "duration": 60,
    "start_time": "2022-03-22T11:35:38.645Z"
   },
   {
    "duration": 78,
    "start_time": "2022-03-22T11:35:38.706Z"
   },
   {
    "duration": 58,
    "start_time": "2022-03-22T11:35:38.786Z"
   },
   {
    "duration": 56,
    "start_time": "2022-03-22T11:35:38.846Z"
   },
   {
    "duration": 28,
    "start_time": "2022-03-22T11:35:38.903Z"
   },
   {
    "duration": 31,
    "start_time": "2022-03-22T11:35:38.933Z"
   },
   {
    "duration": 34,
    "start_time": "2022-03-22T11:35:53.700Z"
   },
   {
    "duration": 18,
    "start_time": "2022-03-22T11:36:12.254Z"
   },
   {
    "duration": 19,
    "start_time": "2022-03-22T11:37:20.337Z"
   },
   {
    "duration": 11,
    "start_time": "2022-03-22T11:40:42.795Z"
   },
   {
    "duration": 16,
    "start_time": "2022-03-22T11:40:46.925Z"
   },
   {
    "duration": 6,
    "start_time": "2022-03-22T11:40:54.833Z"
   },
   {
    "duration": 89,
    "start_time": "2022-03-22T11:41:54.185Z"
   },
   {
    "duration": 5291,
    "start_time": "2022-03-22T11:42:13.718Z"
   },
   {
    "duration": 15,
    "start_time": "2022-03-22T11:43:59.165Z"
   },
   {
    "duration": 14,
    "start_time": "2022-03-22T11:44:52.461Z"
   },
   {
    "duration": 6,
    "start_time": "2022-03-22T11:45:08.643Z"
   },
   {
    "duration": 13,
    "start_time": "2022-03-22T11:46:03.148Z"
   },
   {
    "duration": 7,
    "start_time": "2022-03-22T11:46:10.275Z"
   },
   {
    "duration": 8,
    "start_time": "2022-03-22T11:46:17.515Z"
   },
   {
    "duration": 13,
    "start_time": "2022-03-22T11:46:27.818Z"
   },
   {
    "duration": 7,
    "start_time": "2022-03-22T11:46:51.091Z"
   },
   {
    "duration": 5021,
    "start_time": "2022-03-22T11:46:55.691Z"
   },
   {
    "duration": 15,
    "start_time": "2022-03-22T11:47:08.696Z"
   },
   {
    "duration": 18,
    "start_time": "2022-03-22T11:47:17.959Z"
   },
   {
    "duration": 9,
    "start_time": "2022-03-22T11:47:34.951Z"
   },
   {
    "duration": 11,
    "start_time": "2022-03-22T11:47:40.185Z"
   },
   {
    "duration": 8,
    "start_time": "2022-03-22T11:47:55.193Z"
   },
   {
    "duration": 10,
    "start_time": "2022-03-22T11:48:38.066Z"
   },
   {
    "duration": 14,
    "start_time": "2022-03-22T11:51:07.111Z"
   },
   {
    "duration": 825,
    "start_time": "2022-03-22T11:51:32.470Z"
   },
   {
    "duration": 399,
    "start_time": "2022-03-22T11:51:33.297Z"
   },
   {
    "duration": 4,
    "start_time": "2022-03-22T11:51:33.698Z"
   },
   {
    "duration": 50,
    "start_time": "2022-03-22T11:51:33.704Z"
   },
   {
    "duration": 87,
    "start_time": "2022-03-22T11:51:33.756Z"
   },
   {
    "duration": 64,
    "start_time": "2022-03-22T11:51:33.844Z"
   },
   {
    "duration": 47,
    "start_time": "2022-03-22T11:51:33.909Z"
   },
   {
    "duration": 47,
    "start_time": "2022-03-22T11:51:33.957Z"
   },
   {
    "duration": 48,
    "start_time": "2022-03-22T11:51:34.005Z"
   },
   {
    "duration": 14,
    "start_time": "2022-03-22T11:51:34.055Z"
   },
   {
    "duration": 32,
    "start_time": "2022-03-22T11:51:34.070Z"
   },
   {
    "duration": 17,
    "start_time": "2022-03-22T11:51:34.103Z"
   },
   {
    "duration": 86,
    "start_time": "2022-03-22T11:52:03.068Z"
   },
   {
    "duration": 14,
    "start_time": "2022-03-22T11:52:31.307Z"
   },
   {
    "duration": 12,
    "start_time": "2022-03-22T11:52:40.219Z"
   },
   {
    "duration": 23,
    "start_time": "2022-03-22T11:53:04.598Z"
   },
   {
    "duration": 19,
    "start_time": "2022-03-22T11:53:11.635Z"
   },
   {
    "duration": 18,
    "start_time": "2022-03-22T11:53:42.180Z"
   },
   {
    "duration": 8,
    "start_time": "2022-03-22T11:54:11.759Z"
   },
   {
    "duration": 4,
    "start_time": "2022-03-22T11:57:19.824Z"
   },
   {
    "duration": 13,
    "start_time": "2022-03-22T11:57:23.019Z"
   },
   {
    "duration": 13,
    "start_time": "2022-03-22T11:57:49.552Z"
   },
   {
    "duration": 3,
    "start_time": "2022-03-22T11:57:56.703Z"
   },
   {
    "duration": 10,
    "start_time": "2022-03-22T11:58:06.585Z"
   },
   {
    "duration": 16,
    "start_time": "2022-03-22T11:58:25.856Z"
   },
   {
    "duration": 16,
    "start_time": "2022-03-22T11:59:24.618Z"
   },
   {
    "duration": 785,
    "start_time": "2022-03-22T11:59:48.416Z"
   },
   {
    "duration": 445,
    "start_time": "2022-03-22T11:59:49.204Z"
   },
   {
    "duration": 5,
    "start_time": "2022-03-22T11:59:49.651Z"
   },
   {
    "duration": 58,
    "start_time": "2022-03-22T11:59:49.657Z"
   },
   {
    "duration": 71,
    "start_time": "2022-03-22T11:59:49.718Z"
   },
   {
    "duration": 55,
    "start_time": "2022-03-22T11:59:49.801Z"
   },
   {
    "duration": 65,
    "start_time": "2022-03-22T11:59:49.858Z"
   },
   {
    "duration": 26,
    "start_time": "2022-03-22T11:59:49.924Z"
   },
   {
    "duration": 49,
    "start_time": "2022-03-22T11:59:49.952Z"
   },
   {
    "duration": 15,
    "start_time": "2022-03-22T11:59:50.004Z"
   },
   {
    "duration": 9,
    "start_time": "2022-03-22T11:59:50.021Z"
   },
   {
    "duration": 16,
    "start_time": "2022-03-22T11:59:50.032Z"
   },
   {
    "duration": 6,
    "start_time": "2022-03-22T11:59:50.049Z"
   },
   {
    "duration": 11,
    "start_time": "2022-03-22T11:59:50.057Z"
   },
   {
    "duration": 47,
    "start_time": "2022-03-22T11:59:50.069Z"
   },
   {
    "duration": 13,
    "start_time": "2022-03-22T12:02:31.210Z"
   },
   {
    "duration": 21,
    "start_time": "2022-03-22T12:02:59.440Z"
   },
   {
    "duration": 14,
    "start_time": "2022-03-22T12:03:47.270Z"
   },
   {
    "duration": 17,
    "start_time": "2022-03-22T12:03:58.505Z"
   },
   {
    "duration": 3,
    "start_time": "2022-03-22T13:42:36.346Z"
   },
   {
    "duration": 454,
    "start_time": "2022-03-22T13:42:36.350Z"
   },
   {
    "duration": 4,
    "start_time": "2022-03-22T13:42:36.807Z"
   },
   {
    "duration": 50,
    "start_time": "2022-03-22T13:42:36.812Z"
   },
   {
    "duration": 83,
    "start_time": "2022-03-22T13:42:36.864Z"
   },
   {
    "duration": 55,
    "start_time": "2022-03-22T13:42:36.948Z"
   },
   {
    "duration": 33,
    "start_time": "2022-03-22T13:42:37.005Z"
   },
   {
    "duration": 22,
    "start_time": "2022-03-22T13:42:37.040Z"
   },
   {
    "duration": 48,
    "start_time": "2022-03-22T13:42:37.063Z"
   },
   {
    "duration": 13,
    "start_time": "2022-03-22T13:42:37.113Z"
   },
   {
    "duration": 8,
    "start_time": "2022-03-22T13:42:37.128Z"
   },
   {
    "duration": 16,
    "start_time": "2022-03-22T13:42:37.138Z"
   },
   {
    "duration": 1200,
    "start_time": "2022-03-22T13:42:37.155Z"
   },
   {
    "duration": 0,
    "start_time": "2022-03-22T13:42:38.356Z"
   },
   {
    "duration": 0,
    "start_time": "2022-03-22T13:42:38.358Z"
   },
   {
    "duration": 15,
    "start_time": "2022-03-22T13:51:55.276Z"
   },
   {
    "duration": 9,
    "start_time": "2022-03-22T13:52:26.568Z"
   },
   {
    "duration": 9,
    "start_time": "2022-03-22T13:52:38.382Z"
   },
   {
    "duration": 378,
    "start_time": "2022-03-22T13:52:59.316Z"
   },
   {
    "duration": 344,
    "start_time": "2022-03-22T13:53:29.440Z"
   },
   {
    "duration": 295,
    "start_time": "2022-03-22T13:53:50.884Z"
   },
   {
    "duration": 22,
    "start_time": "2022-03-22T13:53:54.907Z"
   },
   {
    "duration": 12,
    "start_time": "2022-03-22T13:54:02.934Z"
   },
   {
    "duration": 488,
    "start_time": "2022-03-22T13:54:29.277Z"
   },
   {
    "duration": 15,
    "start_time": "2022-03-22T13:54:49.378Z"
   },
   {
    "duration": 12,
    "start_time": "2022-03-22T13:55:59.583Z"
   },
   {
    "duration": 312,
    "start_time": "2022-03-22T13:56:16.446Z"
   },
   {
    "duration": 306,
    "start_time": "2022-03-22T13:56:27.548Z"
   },
   {
    "duration": 258,
    "start_time": "2022-03-22T13:56:32.021Z"
   },
   {
    "duration": 359,
    "start_time": "2022-03-22T13:56:39.275Z"
   },
   {
    "duration": 8,
    "start_time": "2022-03-22T13:57:16.338Z"
   },
   {
    "duration": 810,
    "start_time": "2022-03-22T13:57:54.803Z"
   },
   {
    "duration": 455,
    "start_time": "2022-03-22T13:57:55.616Z"
   },
   {
    "duration": 5,
    "start_time": "2022-03-22T13:57:56.073Z"
   },
   {
    "duration": 66,
    "start_time": "2022-03-22T13:57:56.080Z"
   },
   {
    "duration": 87,
    "start_time": "2022-03-22T13:57:56.148Z"
   },
   {
    "duration": 50,
    "start_time": "2022-03-22T13:57:56.237Z"
   },
   {
    "duration": 63,
    "start_time": "2022-03-22T13:57:56.289Z"
   },
   {
    "duration": 24,
    "start_time": "2022-03-22T13:57:56.354Z"
   },
   {
    "duration": 56,
    "start_time": "2022-03-22T13:57:56.380Z"
   },
   {
    "duration": 15,
    "start_time": "2022-03-22T13:57:56.438Z"
   },
   {
    "duration": 8,
    "start_time": "2022-03-22T13:57:56.455Z"
   },
   {
    "duration": 50,
    "start_time": "2022-03-22T13:57:56.465Z"
   },
   {
    "duration": 8,
    "start_time": "2022-03-22T13:57:56.518Z"
   },
   {
    "duration": 419,
    "start_time": "2022-03-22T13:57:56.529Z"
   },
   {
    "duration": 17,
    "start_time": "2022-03-22T13:58:14.914Z"
   },
   {
    "duration": 99,
    "start_time": "2022-03-22T13:58:35.179Z"
   },
   {
    "duration": 5,
    "start_time": "2022-03-22T13:58:41.222Z"
   },
   {
    "duration": 1171,
    "start_time": "2022-03-22T14:06:24.678Z"
   },
   {
    "duration": 11,
    "start_time": "2022-03-22T14:07:52.771Z"
   },
   {
    "duration": 15,
    "start_time": "2022-03-22T14:07:56.579Z"
   },
   {
    "duration": 8,
    "start_time": "2022-03-22T14:09:43.265Z"
   },
   {
    "duration": 8,
    "start_time": "2022-03-22T14:09:48.461Z"
   },
   {
    "duration": 14,
    "start_time": "2022-03-22T14:23:17.769Z"
   },
   {
    "duration": 13,
    "start_time": "2022-03-22T14:27:42.384Z"
   },
   {
    "duration": 329,
    "start_time": "2022-03-22T14:28:06.857Z"
   },
   {
    "duration": 6,
    "start_time": "2022-03-22T14:28:10.975Z"
   },
   {
    "duration": 4,
    "start_time": "2022-03-22T14:28:17.137Z"
   },
   {
    "duration": 12,
    "start_time": "2022-03-22T14:28:46.606Z"
   },
   {
    "duration": 14,
    "start_time": "2022-03-22T14:29:15.306Z"
   },
   {
    "duration": 9,
    "start_time": "2022-03-22T14:29:22.458Z"
   },
   {
    "duration": 12,
    "start_time": "2022-03-22T14:29:36.950Z"
   },
   {
    "duration": 16,
    "start_time": "2022-03-22T14:29:49.702Z"
   },
   {
    "duration": 12,
    "start_time": "2022-03-22T14:29:57.921Z"
   },
   {
    "duration": 6,
    "start_time": "2022-03-22T14:30:17.398Z"
   },
   {
    "duration": 0,
    "start_time": "2022-03-22T14:30:25.291Z"
   },
   {
    "duration": 5,
    "start_time": "2022-03-22T14:30:28.336Z"
   },
   {
    "duration": 9,
    "start_time": "2022-03-22T14:30:31.507Z"
   },
   {
    "duration": 5,
    "start_time": "2022-03-22T14:30:33.530Z"
   },
   {
    "duration": 4,
    "start_time": "2022-03-22T14:37:11.141Z"
   },
   {
    "duration": 7,
    "start_time": "2022-03-22T14:48:24.163Z"
   },
   {
    "duration": 7,
    "start_time": "2022-03-22T14:48:42.248Z"
   },
   {
    "duration": 0,
    "start_time": "2022-03-22T14:48:53.893Z"
   },
   {
    "duration": 4,
    "start_time": "2022-03-22T14:48:55.448Z"
   },
   {
    "duration": 4,
    "start_time": "2022-03-22T14:49:01.212Z"
   },
   {
    "duration": 4,
    "start_time": "2022-03-22T14:49:04.647Z"
   },
   {
    "duration": 4,
    "start_time": "2022-03-22T14:50:14.633Z"
   },
   {
    "duration": 11,
    "start_time": "2022-03-22T14:50:21.723Z"
   },
   {
    "duration": 4606,
    "start_time": "2022-03-22T14:50:57.852Z"
   },
   {
    "duration": 10,
    "start_time": "2022-03-22T14:51:15.939Z"
   },
   {
    "duration": 3,
    "start_time": "2022-03-22T14:51:35.839Z"
   },
   {
    "duration": 4120,
    "start_time": "2022-03-22T14:51:36.127Z"
   },
   {
    "duration": 4,
    "start_time": "2022-03-22T14:51:57.291Z"
   },
   {
    "duration": 3947,
    "start_time": "2022-03-22T14:51:57.456Z"
   },
   {
    "duration": 3,
    "start_time": "2022-03-22T14:52:28.289Z"
   },
   {
    "duration": 501,
    "start_time": "2022-03-22T14:52:28.486Z"
   },
   {
    "duration": 4,
    "start_time": "2022-03-22T14:54:19.746Z"
   },
   {
    "duration": 572,
    "start_time": "2022-03-22T14:54:19.901Z"
   },
   {
    "duration": 644,
    "start_time": "2022-03-22T14:54:28.535Z"
   },
   {
    "duration": 531,
    "start_time": "2022-03-22T14:54:32.548Z"
   },
   {
    "duration": 4,
    "start_time": "2022-03-22T14:55:01.976Z"
   },
   {
    "duration": 4,
    "start_time": "2022-03-22T14:55:08.745Z"
   },
   {
    "duration": 6,
    "start_time": "2022-03-22T14:55:11.711Z"
   },
   {
    "duration": 4,
    "start_time": "2022-03-22T14:55:14.757Z"
   },
   {
    "duration": 6,
    "start_time": "2022-03-22T14:55:28.748Z"
   },
   {
    "duration": 6,
    "start_time": "2022-03-22T14:55:32.050Z"
   },
   {
    "duration": 9,
    "start_time": "2022-03-22T14:56:07.209Z"
   },
   {
    "duration": 7,
    "start_time": "2022-03-22T14:56:45.192Z"
   },
   {
    "duration": 4677,
    "start_time": "2022-03-22T14:58:04.426Z"
   },
   {
    "duration": 6,
    "start_time": "2022-03-22T14:58:38.456Z"
   },
   {
    "duration": 5,
    "start_time": "2022-03-22T15:15:04.891Z"
   },
   {
    "duration": 3240,
    "start_time": "2022-03-22T15:15:25.937Z"
   },
   {
    "duration": 12,
    "start_time": "2022-03-22T15:16:05.564Z"
   },
   {
    "duration": 7,
    "start_time": "2022-03-22T15:16:23.636Z"
   },
   {
    "duration": 6,
    "start_time": "2022-03-22T15:16:26.722Z"
   },
   {
    "duration": 5,
    "start_time": "2022-03-22T15:17:07.279Z"
   },
   {
    "duration": 5,
    "start_time": "2022-03-22T15:18:17.363Z"
   },
   {
    "duration": 16,
    "start_time": "2022-03-22T15:18:18.648Z"
   },
   {
    "duration": 5,
    "start_time": "2022-03-22T15:18:36.774Z"
   },
   {
    "duration": 4680,
    "start_time": "2022-03-22T15:18:37.023Z"
   },
   {
    "duration": 5,
    "start_time": "2022-03-22T15:19:08.055Z"
   },
   {
    "duration": 5,
    "start_time": "2022-03-22T15:19:34.456Z"
   },
   {
    "duration": 5538,
    "start_time": "2022-03-22T15:19:34.689Z"
   },
   {
    "duration": 5,
    "start_time": "2022-03-22T15:24:56.612Z"
   },
   {
    "duration": 4557,
    "start_time": "2022-03-22T15:24:57.068Z"
   },
   {
    "duration": 8,
    "start_time": "2022-03-22T15:25:34.746Z"
   },
   {
    "duration": 16,
    "start_time": "2022-03-22T15:25:35.006Z"
   },
   {
    "duration": 6,
    "start_time": "2022-03-22T15:25:55.993Z"
   },
   {
    "duration": 4909,
    "start_time": "2022-03-22T15:25:56.605Z"
   },
   {
    "duration": 7,
    "start_time": "2022-03-22T15:28:10.578Z"
   },
   {
    "duration": 4425,
    "start_time": "2022-03-22T15:28:10.757Z"
   },
   {
    "duration": 5,
    "start_time": "2022-03-22T15:28:37.915Z"
   },
   {
    "duration": 20,
    "start_time": "2022-03-22T15:28:38.198Z"
   },
   {
    "duration": 5,
    "start_time": "2022-03-22T15:28:57.338Z"
   },
   {
    "duration": 8247,
    "start_time": "2022-03-22T15:28:57.706Z"
   },
   {
    "duration": 5,
    "start_time": "2022-03-22T15:29:27.732Z"
   },
   {
    "duration": 7204,
    "start_time": "2022-03-22T15:29:31.834Z"
   },
   {
    "duration": 220,
    "start_time": "2022-03-22T15:29:39.880Z"
   },
   {
    "duration": 11,
    "start_time": "2022-03-22T15:29:42.836Z"
   },
   {
    "duration": 4,
    "start_time": "2022-03-22T15:30:43.359Z"
   },
   {
    "duration": 18,
    "start_time": "2022-03-22T15:30:44.118Z"
   },
   {
    "duration": 5,
    "start_time": "2022-03-22T15:32:02.101Z"
   },
   {
    "duration": 17,
    "start_time": "2022-03-22T15:32:02.250Z"
   },
   {
    "duration": 4,
    "start_time": "2022-03-22T15:32:24.446Z"
   },
   {
    "duration": 18,
    "start_time": "2022-03-22T15:32:25.140Z"
   },
   {
    "duration": 214,
    "start_time": "2022-03-22T15:34:19.622Z"
   },
   {
    "duration": 5,
    "start_time": "2022-03-22T15:34:23.991Z"
   },
   {
    "duration": 21,
    "start_time": "2022-03-22T15:34:24.174Z"
   },
   {
    "duration": 4,
    "start_time": "2022-03-22T15:35:36.986Z"
   },
   {
    "duration": 9,
    "start_time": "2022-03-22T15:35:42.282Z"
   },
   {
    "duration": 4,
    "start_time": "2022-03-22T15:36:03.715Z"
   },
   {
    "duration": 4,
    "start_time": "2022-03-22T15:36:12.078Z"
   },
   {
    "duration": 1104,
    "start_time": "2022-03-22T15:36:14.493Z"
   },
   {
    "duration": 5,
    "start_time": "2022-03-22T15:36:19.525Z"
   },
   {
    "duration": 9,
    "start_time": "2022-03-22T15:36:25.745Z"
   },
   {
    "duration": 727,
    "start_time": "2022-03-22T15:36:28.903Z"
   },
   {
    "duration": 5,
    "start_time": "2022-03-22T15:36:33.268Z"
   },
   {
    "duration": 0,
    "start_time": "2022-03-22T15:37:31.603Z"
   },
   {
    "duration": 6,
    "start_time": "2022-03-22T15:37:59.459Z"
   },
   {
    "duration": 5,
    "start_time": "2022-03-22T15:38:03.656Z"
   },
   {
    "duration": 6,
    "start_time": "2022-03-22T15:38:27.514Z"
   },
   {
    "duration": 189,
    "start_time": "2022-03-22T15:38:28.218Z"
   },
   {
    "duration": 65,
    "start_time": "2022-03-22T15:38:41.440Z"
   },
   {
    "duration": 8,
    "start_time": "2022-03-22T15:39:06.524Z"
   },
   {
    "duration": 36,
    "start_time": "2022-03-22T15:39:06.790Z"
   },
   {
    "duration": 5,
    "start_time": "2022-03-22T15:39:48.745Z"
   },
   {
    "duration": 26,
    "start_time": "2022-03-22T15:39:49.688Z"
   },
   {
    "duration": 5,
    "start_time": "2022-03-22T15:41:34.967Z"
   },
   {
    "duration": 28,
    "start_time": "2022-03-22T15:41:35.512Z"
   },
   {
    "duration": 5,
    "start_time": "2022-03-22T15:42:08.214Z"
   },
   {
    "duration": 39,
    "start_time": "2022-03-22T15:42:09.383Z"
   },
   {
    "duration": 7,
    "start_time": "2022-03-22T15:42:48.404Z"
   },
   {
    "duration": 5,
    "start_time": "2022-03-22T15:42:56.878Z"
   },
   {
    "duration": 7,
    "start_time": "2022-03-22T15:43:06.263Z"
   },
   {
    "duration": 10,
    "start_time": "2022-03-22T15:43:20.435Z"
   },
   {
    "duration": 903,
    "start_time": "2022-03-22T15:44:12.704Z"
   },
   {
    "duration": 5,
    "start_time": "2022-03-22T15:44:30.899Z"
   },
   {
    "duration": 5,
    "start_time": "2022-03-22T15:44:36.253Z"
   },
   {
    "duration": 9,
    "start_time": "2022-03-22T15:44:44.900Z"
   },
   {
    "duration": 5,
    "start_time": "2022-03-22T15:44:55.045Z"
   },
   {
    "duration": 6,
    "start_time": "2022-03-22T15:45:03.536Z"
   },
   {
    "duration": 5,
    "start_time": "2022-03-22T15:45:19.798Z"
   },
   {
    "duration": 52,
    "start_time": "2022-03-22T15:45:20.057Z"
   },
   {
    "duration": 5,
    "start_time": "2022-03-22T15:45:53.761Z"
   },
   {
    "duration": 37,
    "start_time": "2022-03-22T15:45:53.921Z"
   },
   {
    "duration": 5,
    "start_time": "2022-03-22T15:46:04.576Z"
   },
   {
    "duration": 42,
    "start_time": "2022-03-22T15:46:04.699Z"
   },
   {
    "duration": 5,
    "start_time": "2022-03-22T15:46:53.043Z"
   },
   {
    "duration": 39,
    "start_time": "2022-03-22T15:46:53.234Z"
   },
   {
    "duration": 1655,
    "start_time": "2022-03-22T15:47:09.663Z"
   },
   {
    "duration": 1606,
    "start_time": "2022-03-22T15:47:46.752Z"
   },
   {
    "duration": 1684,
    "start_time": "2022-03-22T15:47:55.884Z"
   },
   {
    "duration": 13,
    "start_time": "2022-03-22T15:48:00.455Z"
   },
   {
    "duration": 6,
    "start_time": "2022-03-22T15:48:10.364Z"
   },
   {
    "duration": 1918,
    "start_time": "2022-03-22T15:48:11.367Z"
   },
   {
    "duration": 18,
    "start_time": "2022-03-22T15:48:13.286Z"
   },
   {
    "duration": 4,
    "start_time": "2022-03-22T15:48:49.166Z"
   },
   {
    "duration": 11,
    "start_time": "2022-03-22T15:48:58.561Z"
   },
   {
    "duration": 12,
    "start_time": "2022-03-22T15:49:02.600Z"
   },
   {
    "duration": 12,
    "start_time": "2022-03-22T15:49:12.862Z"
   },
   {
    "duration": 13,
    "start_time": "2022-03-22T15:49:27.077Z"
   },
   {
    "duration": 11,
    "start_time": "2022-03-22T15:49:32.878Z"
   },
   {
    "duration": 5,
    "start_time": "2022-03-22T15:49:53.805Z"
   },
   {
    "duration": 1635,
    "start_time": "2022-03-22T15:49:54.746Z"
   },
   {
    "duration": 12,
    "start_time": "2022-03-22T15:49:57.694Z"
   },
   {
    "duration": 5,
    "start_time": "2022-03-22T15:50:05.841Z"
   },
   {
    "duration": 1736,
    "start_time": "2022-03-22T15:50:06.082Z"
   },
   {
    "duration": 13,
    "start_time": "2022-03-22T15:50:07.820Z"
   },
   {
    "duration": 10,
    "start_time": "2022-03-22T15:52:46.738Z"
   },
   {
    "duration": 3,
    "start_time": "2022-03-22T16:00:42.920Z"
   },
   {
    "duration": 9,
    "start_time": "2022-03-22T16:03:44.740Z"
   },
   {
    "duration": 10,
    "start_time": "2022-03-22T16:03:56.923Z"
   },
   {
    "duration": 10,
    "start_time": "2022-03-22T16:04:04.390Z"
   },
   {
    "duration": 12,
    "start_time": "2022-03-22T16:07:36.275Z"
   },
   {
    "duration": 247,
    "start_time": "2022-03-22T16:08:49.334Z"
   },
   {
    "duration": 17,
    "start_time": "2022-03-22T16:08:55.320Z"
   },
   {
    "duration": 14,
    "start_time": "2022-03-22T16:09:24.461Z"
   },
   {
    "duration": 7,
    "start_time": "2022-03-22T16:10:54.207Z"
   },
   {
    "duration": 721,
    "start_time": "2022-03-22T21:59:53.433Z"
   },
   {
    "duration": 15,
    "start_time": "2022-03-22T22:00:03.533Z"
   },
   {
    "duration": 7,
    "start_time": "2022-03-22T22:00:47.695Z"
   },
   {
    "duration": 16,
    "start_time": "2022-03-22T22:01:32.689Z"
   },
   {
    "duration": 12,
    "start_time": "2022-03-22T22:01:36.683Z"
   },
   {
    "duration": 7,
    "start_time": "2022-03-22T22:02:07.611Z"
   },
   {
    "duration": 122,
    "start_time": "2022-03-22T22:02:12.851Z"
   },
   {
    "duration": 128,
    "start_time": "2022-03-22T22:02:18.100Z"
   },
   {
    "duration": 137,
    "start_time": "2022-03-22T22:02:45.861Z"
   },
   {
    "duration": 146,
    "start_time": "2022-03-22T22:02:52.300Z"
   },
   {
    "duration": 147,
    "start_time": "2022-03-22T22:03:07.166Z"
   },
   {
    "duration": 240,
    "start_time": "2022-03-22T22:03:20.886Z"
   },
   {
    "duration": 174,
    "start_time": "2022-03-22T22:04:24.967Z"
   },
   {
    "duration": 157,
    "start_time": "2022-03-22T22:04:56.721Z"
   },
   {
    "duration": 175,
    "start_time": "2022-03-22T22:06:32.558Z"
   },
   {
    "duration": 183,
    "start_time": "2022-03-22T22:06:40.923Z"
   },
   {
    "duration": 184,
    "start_time": "2022-03-22T22:07:13.013Z"
   },
   {
    "duration": 182,
    "start_time": "2022-03-22T22:07:34.981Z"
   },
   {
    "duration": 182,
    "start_time": "2022-03-22T22:07:58.591Z"
   },
   {
    "duration": 3,
    "start_time": "2022-03-22T22:08:16.739Z"
   },
   {
    "duration": 205,
    "start_time": "2022-03-22T22:08:21.686Z"
   },
   {
    "duration": 196,
    "start_time": "2022-03-22T22:08:26.985Z"
   },
   {
    "duration": 214,
    "start_time": "2022-03-22T22:09:30.545Z"
   },
   {
    "duration": 204,
    "start_time": "2022-03-22T22:09:49.372Z"
   },
   {
    "duration": 196,
    "start_time": "2022-03-22T22:10:09.980Z"
   },
   {
    "duration": 306,
    "start_time": "2022-03-22T22:10:48.031Z"
   },
   {
    "duration": 8,
    "start_time": "2022-03-22T22:11:22.573Z"
   },
   {
    "duration": 317,
    "start_time": "2022-03-22T22:12:12.201Z"
   },
   {
    "duration": 304,
    "start_time": "2022-03-22T22:13:36.609Z"
   },
   {
    "duration": 343,
    "start_time": "2022-03-22T22:14:11.868Z"
   },
   {
    "duration": 198,
    "start_time": "2022-03-22T22:14:26.107Z"
   },
   {
    "duration": 321,
    "start_time": "2022-03-22T22:14:32.582Z"
   },
   {
    "duration": 337,
    "start_time": "2022-03-22T22:14:43.174Z"
   },
   {
    "duration": 27,
    "start_time": "2022-03-22T22:19:54.896Z"
   },
   {
    "duration": 12,
    "start_time": "2022-03-22T22:20:22.563Z"
   },
   {
    "duration": 132,
    "start_time": "2022-03-22T22:20:57.722Z"
   },
   {
    "duration": 125,
    "start_time": "2022-03-22T22:21:54.429Z"
   },
   {
    "duration": 17,
    "start_time": "2022-03-22T22:22:41.367Z"
   },
   {
    "duration": 4,
    "start_time": "2022-03-22T22:22:45.944Z"
   },
   {
    "duration": 17,
    "start_time": "2022-03-22T22:22:49.278Z"
   },
   {
    "duration": 54,
    "start_time": "2022-03-22T22:23:09.402Z"
   },
   {
    "duration": 24,
    "start_time": "2022-03-22T22:23:18.953Z"
   },
   {
    "duration": 13,
    "start_time": "2022-03-22T22:23:35.258Z"
   },
   {
    "duration": 311,
    "start_time": "2022-03-22T22:23:59.535Z"
   },
   {
    "duration": 181,
    "start_time": "2022-03-22T22:36:28.531Z"
   },
   {
    "duration": 2,
    "start_time": "2022-03-22T22:36:33.741Z"
   },
   {
    "duration": 12,
    "start_time": "2022-03-22T22:37:56.976Z"
   },
   {
    "duration": 13,
    "start_time": "2022-03-22T22:38:33.941Z"
   },
   {
    "duration": 13,
    "start_time": "2022-03-22T22:38:43.535Z"
   },
   {
    "duration": 201,
    "start_time": "2022-03-22T22:41:52.010Z"
   },
   {
    "duration": 308,
    "start_time": "2022-03-22T22:42:59.340Z"
   },
   {
    "duration": 29,
    "start_time": "2022-03-22T22:44:02.245Z"
   },
   {
    "duration": 30,
    "start_time": "2022-03-22T22:44:18.728Z"
   },
   {
    "duration": 16,
    "start_time": "2022-03-22T22:44:25.160Z"
   },
   {
    "duration": 106,
    "start_time": "2022-03-22T22:44:38.633Z"
   },
   {
    "duration": 14,
    "start_time": "2022-03-22T22:44:46.929Z"
   },
   {
    "duration": 30,
    "start_time": "2022-03-22T22:45:11.592Z"
   },
   {
    "duration": 12,
    "start_time": "2022-03-22T22:45:18.369Z"
   },
   {
    "duration": 14,
    "start_time": "2022-03-22T22:45:28.570Z"
   },
   {
    "duration": 13,
    "start_time": "2022-03-22T22:47:01.756Z"
   },
   {
    "duration": 15,
    "start_time": "2022-03-22T22:48:51.749Z"
   },
   {
    "duration": 6,
    "start_time": "2022-03-22T22:48:58.815Z"
   },
   {
    "duration": 8,
    "start_time": "2022-03-22T22:49:36.738Z"
   },
   {
    "duration": 8,
    "start_time": "2022-03-22T22:51:03.247Z"
   },
   {
    "duration": 28,
    "start_time": "2022-03-22T22:51:16.558Z"
   },
   {
    "duration": 7,
    "start_time": "2022-03-22T22:51:21.601Z"
   },
   {
    "duration": 8,
    "start_time": "2022-03-22T22:51:52.659Z"
   },
   {
    "duration": 26,
    "start_time": "2022-03-22T22:51:55.014Z"
   },
   {
    "duration": 47,
    "start_time": "2022-03-22T22:52:54.569Z"
   },
   {
    "duration": 352,
    "start_time": "2022-03-22T22:53:36.517Z"
   },
   {
    "duration": 8,
    "start_time": "2022-03-22T22:54:25.212Z"
   },
   {
    "duration": 8,
    "start_time": "2022-03-22T22:54:31.957Z"
   },
   {
    "duration": 6,
    "start_time": "2022-03-22T22:54:51.806Z"
   },
   {
    "duration": 15,
    "start_time": "2022-03-22T22:54:54.725Z"
   },
   {
    "duration": 15,
    "start_time": "2022-03-22T22:55:13.289Z"
   },
   {
    "duration": 8,
    "start_time": "2022-03-22T22:55:25.273Z"
   },
   {
    "duration": 14,
    "start_time": "2022-03-22T22:56:16.147Z"
   },
   {
    "duration": 9,
    "start_time": "2022-03-22T22:56:28.598Z"
   },
   {
    "duration": 12,
    "start_time": "2022-03-22T22:56:32.785Z"
   },
   {
    "duration": 8,
    "start_time": "2022-03-22T22:56:39.650Z"
   },
   {
    "duration": 188,
    "start_time": "2022-03-22T22:57:04.458Z"
   },
   {
    "duration": 702,
    "start_time": "2022-03-22T22:57:20.662Z"
   },
   {
    "duration": 200,
    "start_time": "2022-03-22T22:57:44.974Z"
   },
   {
    "duration": 182,
    "start_time": "2022-03-22T22:57:56.741Z"
   },
   {
    "duration": 11,
    "start_time": "2022-03-22T22:58:30.135Z"
   },
   {
    "duration": 8,
    "start_time": "2022-03-22T22:58:55.110Z"
   },
   {
    "duration": 8,
    "start_time": "2022-03-22T22:58:59.095Z"
   },
   {
    "duration": 13,
    "start_time": "2022-03-22T22:59:11.017Z"
   },
   {
    "duration": 8,
    "start_time": "2022-03-22T22:59:21.765Z"
   },
   {
    "duration": 8,
    "start_time": "2022-03-22T23:00:23.446Z"
   },
   {
    "duration": 5,
    "start_time": "2022-03-22T23:00:31.222Z"
   },
   {
    "duration": 4,
    "start_time": "2022-03-22T23:00:35.744Z"
   },
   {
    "duration": 4,
    "start_time": "2022-03-22T23:00:38.687Z"
   },
   {
    "duration": 4,
    "start_time": "2022-03-22T23:00:43.747Z"
   },
   {
    "duration": 4,
    "start_time": "2022-03-22T23:00:54.828Z"
   },
   {
    "duration": 4,
    "start_time": "2022-03-22T23:01:14.476Z"
   },
   {
    "duration": 6,
    "start_time": "2022-03-22T23:07:26.141Z"
   },
   {
    "duration": 6,
    "start_time": "2022-03-22T23:07:50.075Z"
   },
   {
    "duration": 199,
    "start_time": "2022-03-22T23:08:08.669Z"
   },
   {
    "duration": 4,
    "start_time": "2022-03-22T23:08:16.420Z"
   },
   {
    "duration": 6,
    "start_time": "2022-03-22T23:08:28.694Z"
   },
   {
    "duration": 4,
    "start_time": "2022-03-22T23:08:32.795Z"
   },
   {
    "duration": 192,
    "start_time": "2022-03-22T23:09:58.041Z"
   },
   {
    "duration": 180,
    "start_time": "2022-03-22T23:10:11.593Z"
   },
   {
    "duration": 6,
    "start_time": "2022-03-22T23:10:21.345Z"
   },
   {
    "duration": 10,
    "start_time": "2022-03-22T23:10:32.698Z"
   },
   {
    "duration": 5,
    "start_time": "2022-03-22T23:10:37.554Z"
   },
   {
    "duration": 5,
    "start_time": "2022-03-22T23:10:42.778Z"
   },
   {
    "duration": 6,
    "start_time": "2022-03-22T23:11:11.721Z"
   },
   {
    "duration": 5,
    "start_time": "2022-03-22T23:11:20.474Z"
   },
   {
    "duration": 3,
    "start_time": "2022-03-22T23:19:28.478Z"
   },
   {
    "duration": 157,
    "start_time": "2022-03-22T23:19:48.405Z"
   },
   {
    "duration": 5,
    "start_time": "2022-03-22T23:20:23.703Z"
   },
   {
    "duration": 4,
    "start_time": "2022-03-22T23:20:26.635Z"
   },
   {
    "duration": 3439,
    "start_time": "2022-03-22T23:20:49.007Z"
   },
   {
    "duration": 5,
    "start_time": "2022-03-22T23:20:54.625Z"
   },
   {
    "duration": 6,
    "start_time": "2022-03-22T23:20:58.073Z"
   },
   {
    "duration": 0,
    "start_time": "2022-03-22T23:21:07.242Z"
   },
   {
    "duration": 4,
    "start_time": "2022-03-22T23:21:10.128Z"
   },
   {
    "duration": 4,
    "start_time": "2022-03-22T23:21:50.816Z"
   },
   {
    "duration": 177,
    "start_time": "2022-03-22T23:21:51.219Z"
   },
   {
    "duration": 3,
    "start_time": "2022-03-22T23:21:57.888Z"
   },
   {
    "duration": 179,
    "start_time": "2022-03-22T23:21:58.432Z"
   },
   {
    "duration": 296,
    "start_time": "2022-03-22T23:22:49.916Z"
   },
   {
    "duration": 4,
    "start_time": "2022-03-22T23:24:46.624Z"
   },
   {
    "duration": 201,
    "start_time": "2022-03-22T23:24:51.601Z"
   },
   {
    "duration": 4,
    "start_time": "2022-03-22T23:24:58.346Z"
   },
   {
    "duration": 303,
    "start_time": "2022-03-22T23:24:58.800Z"
   },
   {
    "duration": 4,
    "start_time": "2022-03-22T23:25:09.348Z"
   },
   {
    "duration": 320,
    "start_time": "2022-03-22T23:25:09.729Z"
   },
   {
    "duration": 3,
    "start_time": "2022-03-22T23:25:14.993Z"
   },
   {
    "duration": 579,
    "start_time": "2022-03-22T23:25:15.216Z"
   },
   {
    "duration": 347,
    "start_time": "2022-03-22T23:25:21.257Z"
   },
   {
    "duration": 305,
    "start_time": "2022-03-22T23:25:30.514Z"
   },
   {
    "duration": 197,
    "start_time": "2022-03-22T23:26:09.396Z"
   },
   {
    "duration": 4,
    "start_time": "2022-03-22T23:27:04.532Z"
   },
   {
    "duration": 8,
    "start_time": "2022-03-22T23:27:19.440Z"
   },
   {
    "duration": 306,
    "start_time": "2022-03-22T23:27:54.216Z"
   },
   {
    "duration": 313,
    "start_time": "2022-03-22T23:28:03.577Z"
   },
   {
    "duration": 339,
    "start_time": "2022-03-22T23:28:16.042Z"
   },
   {
    "duration": 346,
    "start_time": "2022-03-22T23:28:34.379Z"
   },
   {
    "duration": 363,
    "start_time": "2022-03-22T23:28:51.338Z"
   },
   {
    "duration": 12,
    "start_time": "2022-03-22T23:30:55.469Z"
   },
   {
    "duration": 195,
    "start_time": "2022-03-22T23:32:10.089Z"
   },
   {
    "duration": 6,
    "start_time": "2022-03-22T23:32:26.843Z"
   },
   {
    "duration": 6,
    "start_time": "2022-03-22T23:32:50.665Z"
   },
   {
    "duration": 12,
    "start_time": "2022-03-22T23:35:39.728Z"
   },
   {
    "duration": 183,
    "start_time": "2022-03-22T23:35:57.769Z"
   },
   {
    "duration": 7,
    "start_time": "2022-03-22T23:36:05.863Z"
   },
   {
    "duration": 304,
    "start_time": "2022-03-22T23:36:36.732Z"
   },
   {
    "duration": 5,
    "start_time": "2022-03-22T23:39:00.759Z"
   },
   {
    "duration": 9,
    "start_time": "2022-03-22T23:39:22.528Z"
   },
   {
    "duration": 6,
    "start_time": "2022-03-22T23:39:47.065Z"
   },
   {
    "duration": 6,
    "start_time": "2022-03-22T23:40:13.162Z"
   },
   {
    "duration": 5,
    "start_time": "2022-03-22T23:40:19.180Z"
   },
   {
    "duration": 5,
    "start_time": "2022-03-22T23:40:31.433Z"
   },
   {
    "duration": 5,
    "start_time": "2022-03-22T23:41:01.653Z"
   },
   {
    "duration": 5,
    "start_time": "2022-03-22T23:41:27.989Z"
   },
   {
    "duration": 7,
    "start_time": "2022-03-22T23:41:35.431Z"
   },
   {
    "duration": 202,
    "start_time": "2022-03-22T23:53:10.709Z"
   },
   {
    "duration": 28,
    "start_time": "2022-03-22T23:54:06.529Z"
   },
   {
    "duration": 16,
    "start_time": "2022-03-22T23:54:28.162Z"
   },
   {
    "duration": 15,
    "start_time": "2022-03-22T23:55:09.530Z"
   },
   {
    "duration": 17,
    "start_time": "2022-03-22T23:55:13.475Z"
   },
   {
    "duration": 3,
    "start_time": "2022-03-22T23:56:32.902Z"
   },
   {
    "duration": 10,
    "start_time": "2022-03-22T23:57:19.269Z"
   },
   {
    "duration": 3,
    "start_time": "2022-03-22T23:57:31.320Z"
   },
   {
    "duration": 12,
    "start_time": "2022-03-22T23:57:36.080Z"
   },
   {
    "duration": 3,
    "start_time": "2022-03-22T23:57:41.669Z"
   },
   {
    "duration": 16,
    "start_time": "2022-03-22T23:57:42.984Z"
   },
   {
    "duration": 9,
    "start_time": "2022-03-23T00:00:56.603Z"
   },
   {
    "duration": 197,
    "start_time": "2022-03-23T00:01:02.298Z"
   },
   {
    "duration": 0,
    "start_time": "2022-03-23T00:01:02.497Z"
   },
   {
    "duration": 192,
    "start_time": "2022-03-23T00:01:19.250Z"
   },
   {
    "duration": 174,
    "start_time": "2022-03-23T00:01:42.777Z"
   },
   {
    "duration": 3,
    "start_time": "2022-03-23T00:01:58.689Z"
   },
   {
    "duration": 22,
    "start_time": "2022-03-23T00:01:59.531Z"
   },
   {
    "duration": 35,
    "start_time": "2022-03-23T00:02:13.794Z"
   },
   {
    "duration": 3,
    "start_time": "2022-03-23T00:04:46.217Z"
   },
   {
    "duration": 28,
    "start_time": "2022-03-23T00:04:46.930Z"
   },
   {
    "duration": 4,
    "start_time": "2022-03-23T00:04:55.897Z"
   },
   {
    "duration": 36,
    "start_time": "2022-03-23T00:04:56.119Z"
   },
   {
    "duration": 3,
    "start_time": "2022-03-23T00:07:23.478Z"
   },
   {
    "duration": 38,
    "start_time": "2022-03-23T00:07:23.727Z"
   },
   {
    "duration": 1666,
    "start_time": "2022-03-23T10:12:42.535Z"
   },
   {
    "duration": 739,
    "start_time": "2022-03-23T10:12:44.204Z"
   },
   {
    "duration": 6,
    "start_time": "2022-03-23T10:12:44.945Z"
   },
   {
    "duration": 69,
    "start_time": "2022-03-23T10:12:44.953Z"
   },
   {
    "duration": 124,
    "start_time": "2022-03-23T10:12:45.025Z"
   },
   {
    "duration": 76,
    "start_time": "2022-03-23T10:12:45.151Z"
   },
   {
    "duration": 73,
    "start_time": "2022-03-23T10:12:45.229Z"
   },
   {
    "duration": 32,
    "start_time": "2022-03-23T10:12:45.304Z"
   },
   {
    "duration": 54,
    "start_time": "2022-03-23T10:12:45.338Z"
   },
   {
    "duration": 22,
    "start_time": "2022-03-23T10:12:45.394Z"
   },
   {
    "duration": 13,
    "start_time": "2022-03-23T10:12:45.418Z"
   },
   {
    "duration": 45,
    "start_time": "2022-03-23T10:12:45.433Z"
   },
   {
    "duration": 9,
    "start_time": "2022-03-23T10:12:45.480Z"
   },
   {
    "duration": 7,
    "start_time": "2022-03-23T10:12:45.492Z"
   },
   {
    "duration": 2882,
    "start_time": "2022-03-23T10:12:45.501Z"
   },
   {
    "duration": 13,
    "start_time": "2022-03-23T10:12:48.385Z"
   },
   {
    "duration": 110,
    "start_time": "2022-03-23T10:12:48.400Z"
   },
   {
    "duration": 7,
    "start_time": "2022-03-23T10:12:48.512Z"
   },
   {
    "duration": 6,
    "start_time": "2022-03-23T10:13:02.548Z"
   },
   {
    "duration": 546,
    "start_time": "2022-03-23T10:13:04.090Z"
   },
   {
    "duration": 110,
    "start_time": "2022-03-23T10:13:26.186Z"
   },
   {
    "duration": 468,
    "start_time": "2022-03-23T10:13:26.452Z"
   },
   {
    "duration": 8,
    "start_time": "2022-03-23T10:13:31.357Z"
   },
   {
    "duration": 439,
    "start_time": "2022-03-23T10:13:32.017Z"
   },
   {
    "duration": 6,
    "start_time": "2022-03-23T10:19:47.969Z"
   },
   {
    "duration": 456,
    "start_time": "2022-03-23T10:19:48.538Z"
   },
   {
    "duration": 6,
    "start_time": "2022-03-23T10:19:53.081Z"
   },
   {
    "duration": 458,
    "start_time": "2022-03-23T10:19:53.255Z"
   },
   {
    "duration": 9,
    "start_time": "2022-03-23T10:19:55.930Z"
   },
   {
    "duration": 493,
    "start_time": "2022-03-23T10:19:57.210Z"
   },
   {
    "duration": 6,
    "start_time": "2022-03-23T10:20:20.332Z"
   },
   {
    "duration": 518,
    "start_time": "2022-03-23T10:20:20.875Z"
   },
   {
    "duration": 8,
    "start_time": "2022-03-23T10:30:49.717Z"
   },
   {
    "duration": 450,
    "start_time": "2022-03-23T10:30:51.751Z"
   },
   {
    "duration": 8,
    "start_time": "2022-03-23T10:30:56.644Z"
   },
   {
    "duration": 490,
    "start_time": "2022-03-23T10:30:57.783Z"
   },
   {
    "duration": 137,
    "start_time": "2022-03-23T10:51:00.205Z"
   },
   {
    "duration": 1812,
    "start_time": "2022-03-23T10:51:12.238Z"
   },
   {
    "duration": 25,
    "start_time": "2022-03-23T10:51:20.872Z"
   },
   {
    "duration": 7,
    "start_time": "2022-03-23T10:51:30.841Z"
   },
   {
    "duration": 5,
    "start_time": "2022-03-23T10:51:54.024Z"
   },
   {
    "duration": 4,
    "start_time": "2022-03-23T10:52:02.242Z"
   },
   {
    "duration": 6,
    "start_time": "2022-03-23T10:52:11.681Z"
   },
   {
    "duration": 5,
    "start_time": "2022-03-23T10:52:11.921Z"
   },
   {
    "duration": 22,
    "start_time": "2022-03-23T10:52:15.800Z"
   },
   {
    "duration": 9,
    "start_time": "2022-03-23T10:52:24.225Z"
   },
   {
    "duration": 5,
    "start_time": "2022-03-23T10:53:24.286Z"
   },
   {
    "duration": 5,
    "start_time": "2022-03-23T10:53:25.643Z"
   },
   {
    "duration": 5,
    "start_time": "2022-03-23T10:53:30.796Z"
   },
   {
    "duration": 1349,
    "start_time": "2022-03-23T10:53:54.415Z"
   },
   {
    "duration": 526,
    "start_time": "2022-03-23T10:53:55.769Z"
   },
   {
    "duration": 7,
    "start_time": "2022-03-23T10:53:56.297Z"
   },
   {
    "duration": 62,
    "start_time": "2022-03-23T10:53:56.306Z"
   },
   {
    "duration": 117,
    "start_time": "2022-03-23T10:53:56.370Z"
   },
   {
    "duration": 79,
    "start_time": "2022-03-23T10:53:56.490Z"
   },
   {
    "duration": 58,
    "start_time": "2022-03-23T10:53:56.571Z"
   },
   {
    "duration": 54,
    "start_time": "2022-03-23T10:53:56.632Z"
   },
   {
    "duration": 37,
    "start_time": "2022-03-23T10:53:56.689Z"
   },
   {
    "duration": 43,
    "start_time": "2022-03-23T10:53:56.730Z"
   },
   {
    "duration": 14,
    "start_time": "2022-03-23T10:53:56.775Z"
   },
   {
    "duration": 24,
    "start_time": "2022-03-23T10:53:56.791Z"
   },
   {
    "duration": 12,
    "start_time": "2022-03-23T10:53:56.817Z"
   },
   {
    "duration": 40,
    "start_time": "2022-03-23T10:53:56.831Z"
   },
   {
    "duration": 2967,
    "start_time": "2022-03-23T10:53:56.874Z"
   },
   {
    "duration": 24,
    "start_time": "2022-03-23T10:53:59.843Z"
   },
   {
    "duration": 123,
    "start_time": "2022-03-23T10:53:59.870Z"
   },
   {
    "duration": 7,
    "start_time": "2022-03-23T10:53:59.996Z"
   },
   {
    "duration": 702,
    "start_time": "2022-03-23T10:54:00.006Z"
   },
   {
    "duration": 11,
    "start_time": "2022-03-23T10:54:00.711Z"
   },
   {
    "duration": 500,
    "start_time": "2022-03-23T10:54:00.725Z"
   },
   {
    "duration": 8,
    "start_time": "2022-03-23T10:54:01.228Z"
   },
   {
    "duration": 514,
    "start_time": "2022-03-23T10:54:01.238Z"
   },
   {
    "duration": 20,
    "start_time": "2022-03-23T10:54:01.755Z"
   },
   {
    "duration": 13,
    "start_time": "2022-03-23T10:54:01.777Z"
   },
   {
    "duration": 100,
    "start_time": "2022-03-23T10:54:01.793Z"
   },
   {
    "duration": 5,
    "start_time": "2022-03-23T10:54:01.896Z"
   },
   {
    "duration": 11,
    "start_time": "2022-03-23T10:54:01.906Z"
   },
   {
    "duration": 6,
    "start_time": "2022-03-23T10:54:35.697Z"
   },
   {
    "duration": 4,
    "start_time": "2022-03-23T10:54:36.322Z"
   },
   {
    "duration": 5,
    "start_time": "2022-03-23T10:55:12.204Z"
   },
   {
    "duration": 4,
    "start_time": "2022-03-23T10:55:12.870Z"
   },
   {
    "duration": 5,
    "start_time": "2022-03-23T10:55:27.450Z"
   },
   {
    "duration": 5,
    "start_time": "2022-03-23T10:55:28.538Z"
   },
   {
    "duration": 142,
    "start_time": "2022-03-23T10:57:51.129Z"
   },
   {
    "duration": 4,
    "start_time": "2022-03-23T10:57:51.544Z"
   },
   {
    "duration": 19,
    "start_time": "2022-03-23T10:57:58.719Z"
   },
   {
    "duration": 4,
    "start_time": "2022-03-23T10:57:58.905Z"
   },
   {
    "duration": 27,
    "start_time": "2022-03-23T10:58:11.370Z"
   },
   {
    "duration": 19,
    "start_time": "2022-03-23T10:58:19.280Z"
   },
   {
    "duration": 6,
    "start_time": "2022-03-23T10:58:37.338Z"
   },
   {
    "duration": 4,
    "start_time": "2022-03-23T10:58:37.921Z"
   },
   {
    "duration": 6,
    "start_time": "2022-03-23T10:58:47.053Z"
   },
   {
    "duration": 4,
    "start_time": "2022-03-23T10:58:47.272Z"
   },
   {
    "duration": 6,
    "start_time": "2022-03-23T10:58:49.843Z"
   },
   {
    "duration": 5,
    "start_time": "2022-03-23T10:58:50.032Z"
   },
   {
    "duration": 5,
    "start_time": "2022-03-23T10:59:43.022Z"
   },
   {
    "duration": 4,
    "start_time": "2022-03-23T10:59:43.530Z"
   },
   {
    "duration": 6,
    "start_time": "2022-03-23T10:59:46.458Z"
   },
   {
    "duration": 5,
    "start_time": "2022-03-23T10:59:46.981Z"
   },
   {
    "duration": 6,
    "start_time": "2022-03-23T10:59:49.128Z"
   },
   {
    "duration": 5,
    "start_time": "2022-03-23T10:59:49.346Z"
   },
   {
    "duration": 6,
    "start_time": "2022-03-23T10:59:51.348Z"
   },
   {
    "duration": 5,
    "start_time": "2022-03-23T10:59:51.606Z"
   },
   {
    "duration": 6,
    "start_time": "2022-03-23T10:59:53.499Z"
   },
   {
    "duration": 5,
    "start_time": "2022-03-23T10:59:53.707Z"
   },
   {
    "duration": 7,
    "start_time": "2022-03-23T10:59:55.641Z"
   },
   {
    "duration": 4,
    "start_time": "2022-03-23T10:59:55.851Z"
   },
   {
    "duration": 7,
    "start_time": "2022-03-23T11:00:33.302Z"
   },
   {
    "duration": 4,
    "start_time": "2022-03-23T11:00:33.909Z"
   },
   {
    "duration": 6,
    "start_time": "2022-03-23T11:00:37.482Z"
   },
   {
    "duration": 5,
    "start_time": "2022-03-23T11:00:37.733Z"
   },
   {
    "duration": 6,
    "start_time": "2022-03-23T11:00:39.340Z"
   },
   {
    "duration": 5,
    "start_time": "2022-03-23T11:00:39.487Z"
   },
   {
    "duration": 165,
    "start_time": "2022-03-23T11:01:10.776Z"
   },
   {
    "duration": 9,
    "start_time": "2022-03-23T11:01:37.756Z"
   },
   {
    "duration": 4,
    "start_time": "2022-03-23T11:01:39.119Z"
   },
   {
    "duration": 107,
    "start_time": "2022-03-23T11:02:51.316Z"
   },
   {
    "duration": 11,
    "start_time": "2022-03-23T11:03:27.136Z"
   },
   {
    "duration": 11,
    "start_time": "2022-03-23T11:03:35.302Z"
   },
   {
    "duration": 5,
    "start_time": "2022-03-23T11:03:41.775Z"
   },
   {
    "duration": 87,
    "start_time": "2022-03-23T11:03:56.421Z"
   },
   {
    "duration": 12,
    "start_time": "2022-03-23T11:03:59.095Z"
   },
   {
    "duration": 10,
    "start_time": "2022-03-23T11:04:42.163Z"
   },
   {
    "duration": 7,
    "start_time": "2022-03-23T11:04:50.687Z"
   },
   {
    "duration": 7,
    "start_time": "2022-03-23T11:05:01.464Z"
   },
   {
    "duration": 5,
    "start_time": "2022-03-23T11:05:01.864Z"
   },
   {
    "duration": 6,
    "start_time": "2022-03-23T11:05:04.291Z"
   },
   {
    "duration": 5,
    "start_time": "2022-03-23T11:05:04.496Z"
   },
   {
    "duration": 19,
    "start_time": "2022-03-23T11:09:07.218Z"
   },
   {
    "duration": 7,
    "start_time": "2022-03-23T11:09:19.879Z"
   },
   {
    "duration": 6,
    "start_time": "2022-03-23T11:09:48.011Z"
   },
   {
    "duration": 6,
    "start_time": "2022-03-23T11:11:49.681Z"
   },
   {
    "duration": 8,
    "start_time": "2022-03-23T11:12:02.889Z"
   },
   {
    "duration": 6,
    "start_time": "2022-03-23T11:12:09.800Z"
   },
   {
    "duration": 8,
    "start_time": "2022-03-23T11:12:16.064Z"
   },
   {
    "duration": 7,
    "start_time": "2022-03-23T11:12:19.856Z"
   },
   {
    "duration": 9,
    "start_time": "2022-03-23T11:12:23.736Z"
   },
   {
    "duration": 7,
    "start_time": "2022-03-23T11:12:37.332Z"
   },
   {
    "duration": 7,
    "start_time": "2022-03-23T11:12:42.860Z"
   },
   {
    "duration": 7,
    "start_time": "2022-03-23T11:12:46.392Z"
   },
   {
    "duration": 7,
    "start_time": "2022-03-23T11:12:49.741Z"
   },
   {
    "duration": 7,
    "start_time": "2022-03-23T11:12:52.176Z"
   },
   {
    "duration": 7,
    "start_time": "2022-03-23T11:12:57.513Z"
   },
   {
    "duration": 6,
    "start_time": "2022-03-23T11:13:24.645Z"
   },
   {
    "duration": 7,
    "start_time": "2022-03-23T11:13:28.646Z"
   },
   {
    "duration": 7,
    "start_time": "2022-03-23T11:14:00.962Z"
   },
   {
    "duration": 7,
    "start_time": "2022-03-23T11:14:33.986Z"
   },
   {
    "duration": 122,
    "start_time": "2022-03-23T11:14:39.985Z"
   },
   {
    "duration": 6,
    "start_time": "2022-03-23T11:14:43.159Z"
   },
   {
    "duration": 7,
    "start_time": "2022-03-23T11:14:50.356Z"
   },
   {
    "duration": 5,
    "start_time": "2022-03-23T11:15:02.814Z"
   },
   {
    "duration": 7,
    "start_time": "2022-03-23T11:15:13.294Z"
   },
   {
    "duration": 7,
    "start_time": "2022-03-23T11:15:18.034Z"
   },
   {
    "duration": 7,
    "start_time": "2022-03-23T11:15:29.811Z"
   },
   {
    "duration": 102,
    "start_time": "2022-03-23T11:15:47.340Z"
   },
   {
    "duration": 8,
    "start_time": "2022-03-23T11:15:50.884Z"
   },
   {
    "duration": 9,
    "start_time": "2022-03-23T11:16:10.200Z"
   },
   {
    "duration": 8,
    "start_time": "2022-03-23T11:21:11.133Z"
   },
   {
    "duration": 8,
    "start_time": "2022-03-23T11:21:18.035Z"
   },
   {
    "duration": 8,
    "start_time": "2022-03-23T11:21:31.676Z"
   },
   {
    "duration": 8,
    "start_time": "2022-03-23T11:21:39.371Z"
   },
   {
    "duration": 9,
    "start_time": "2022-03-23T11:21:42.854Z"
   },
   {
    "duration": 9,
    "start_time": "2022-03-23T11:21:47.394Z"
   },
   {
    "duration": 8,
    "start_time": "2022-03-23T11:23:30.150Z"
   },
   {
    "duration": 7,
    "start_time": "2022-03-23T11:23:38.257Z"
   },
   {
    "duration": 7,
    "start_time": "2022-03-23T11:23:43.302Z"
   },
   {
    "duration": 7,
    "start_time": "2022-03-23T11:23:49.097Z"
   },
   {
    "duration": 13,
    "start_time": "2022-03-23T11:23:52.767Z"
   },
   {
    "duration": 8,
    "start_time": "2022-03-23T11:23:54.959Z"
   },
   {
    "duration": 7,
    "start_time": "2022-03-23T11:23:56.449Z"
   },
   {
    "duration": 8,
    "start_time": "2022-03-23T11:23:58.542Z"
   },
   {
    "duration": 7,
    "start_time": "2022-03-23T11:23:59.631Z"
   },
   {
    "duration": 7,
    "start_time": "2022-03-23T11:24:04.870Z"
   },
   {
    "duration": 7,
    "start_time": "2022-03-23T11:24:06.271Z"
   },
   {
    "duration": 7,
    "start_time": "2022-03-23T11:24:12.366Z"
   },
   {
    "duration": 9,
    "start_time": "2022-03-23T11:24:13.882Z"
   },
   {
    "duration": 8,
    "start_time": "2022-03-23T11:24:15.063Z"
   },
   {
    "duration": 9,
    "start_time": "2022-03-23T11:24:16.182Z"
   },
   {
    "duration": 117,
    "start_time": "2022-03-23T11:26:57.666Z"
   },
   {
    "duration": 9,
    "start_time": "2022-03-23T11:27:01.768Z"
   },
   {
    "duration": 10,
    "start_time": "2022-03-23T11:27:08.132Z"
   },
   {
    "duration": 9,
    "start_time": "2022-03-23T11:34:00.332Z"
   },
   {
    "duration": 10,
    "start_time": "2022-03-23T11:34:40.754Z"
   },
   {
    "duration": 9,
    "start_time": "2022-03-23T11:35:31.333Z"
   },
   {
    "duration": 9,
    "start_time": "2022-03-23T11:35:42.341Z"
   },
   {
    "duration": 15,
    "start_time": "2022-03-23T11:35:46.063Z"
   },
   {
    "duration": 9,
    "start_time": "2022-03-23T11:35:51.236Z"
   },
   {
    "duration": 13,
    "start_time": "2022-03-23T11:35:56.037Z"
   },
   {
    "duration": 9,
    "start_time": "2022-03-23T11:35:59.245Z"
   },
   {
    "duration": 10,
    "start_time": "2022-03-23T11:36:30.622Z"
   },
   {
    "duration": 5,
    "start_time": "2022-03-23T11:37:58.061Z"
   },
   {
    "duration": 394,
    "start_time": "2022-03-23T11:37:58.586Z"
   },
   {
    "duration": 6,
    "start_time": "2022-03-23T11:39:00.244Z"
   },
   {
    "duration": 75,
    "start_time": "2022-03-23T11:39:02.715Z"
   },
   {
    "duration": 5,
    "start_time": "2022-03-23T11:39:14.293Z"
   },
   {
    "duration": 76,
    "start_time": "2022-03-23T11:39:14.644Z"
   },
   {
    "duration": 5,
    "start_time": "2022-03-23T11:42:35.869Z"
   },
   {
    "duration": 8,
    "start_time": "2022-03-23T11:42:52.459Z"
   },
   {
    "duration": 6,
    "start_time": "2022-03-23T11:42:55.957Z"
   },
   {
    "duration": 4,
    "start_time": "2022-03-23T11:44:25.771Z"
   },
   {
    "duration": 6,
    "start_time": "2022-03-23T11:44:31.650Z"
   },
   {
    "duration": 6,
    "start_time": "2022-03-23T11:47:23.415Z"
   },
   {
    "duration": 5,
    "start_time": "2022-03-23T11:48:11.440Z"
   },
   {
    "duration": 6,
    "start_time": "2022-03-23T11:48:24.776Z"
   },
   {
    "duration": 26,
    "start_time": "2022-03-23T11:49:18.100Z"
   },
   {
    "duration": 25,
    "start_time": "2022-03-23T11:49:36.524Z"
   },
   {
    "duration": 28,
    "start_time": "2022-03-23T11:50:32.658Z"
   },
   {
    "duration": 19,
    "start_time": "2022-03-23T11:50:41.933Z"
   },
   {
    "duration": 30,
    "start_time": "2022-03-23T11:51:29.232Z"
   },
   {
    "duration": 19,
    "start_time": "2022-03-23T11:51:34.006Z"
   },
   {
    "duration": 20,
    "start_time": "2022-03-23T11:52:06.832Z"
   },
   {
    "duration": 9,
    "start_time": "2022-03-23T11:52:28.149Z"
   },
   {
    "duration": 16,
    "start_time": "2022-03-23T11:52:34.026Z"
   },
   {
    "duration": 25,
    "start_time": "2022-03-23T11:53:52.918Z"
   },
   {
    "duration": 20,
    "start_time": "2022-03-23T11:53:59.060Z"
   },
   {
    "duration": 8,
    "start_time": "2022-03-23T11:54:06.536Z"
   },
   {
    "duration": 9,
    "start_time": "2022-03-23T11:54:21.422Z"
   },
   {
    "duration": 8,
    "start_time": "2022-03-23T11:54:31.649Z"
   },
   {
    "duration": 24,
    "start_time": "2022-03-23T11:57:30.796Z"
   },
   {
    "duration": 24,
    "start_time": "2022-03-23T11:58:42.520Z"
   },
   {
    "duration": 15,
    "start_time": "2022-03-23T11:58:42.647Z"
   },
   {
    "duration": 7,
    "start_time": "2022-03-23T11:58:48.094Z"
   },
   {
    "duration": 25,
    "start_time": "2022-03-23T11:58:48.574Z"
   },
   {
    "duration": 7,
    "start_time": "2022-03-23T11:59:29.633Z"
   },
   {
    "duration": 22,
    "start_time": "2022-03-23T11:59:58.983Z"
   },
   {
    "duration": 21,
    "start_time": "2022-03-23T12:00:04.441Z"
   },
   {
    "duration": 8,
    "start_time": "2022-03-23T12:00:12.930Z"
   },
   {
    "duration": 8,
    "start_time": "2022-03-23T12:00:30.780Z"
   },
   {
    "duration": 8,
    "start_time": "2022-03-23T12:01:17.732Z"
   },
   {
    "duration": 8,
    "start_time": "2022-03-23T12:01:20.534Z"
   },
   {
    "duration": 8,
    "start_time": "2022-03-23T12:02:29.462Z"
   },
   {
    "duration": 8,
    "start_time": "2022-03-23T12:02:35.704Z"
   },
   {
    "duration": 7,
    "start_time": "2022-03-23T12:02:38.462Z"
   },
   {
    "duration": 8,
    "start_time": "2022-03-23T12:03:06.807Z"
   },
   {
    "duration": 8,
    "start_time": "2022-03-23T12:04:03.429Z"
   },
   {
    "duration": 8,
    "start_time": "2022-03-23T12:04:05.315Z"
   },
   {
    "duration": 11,
    "start_time": "2022-03-23T12:04:06.845Z"
   },
   {
    "duration": 9,
    "start_time": "2022-03-23T12:12:19.366Z"
   },
   {
    "duration": 1343,
    "start_time": "2022-03-23T12:26:01.077Z"
   },
   {
    "duration": 740,
    "start_time": "2022-03-23T12:26:02.423Z"
   },
   {
    "duration": 5,
    "start_time": "2022-03-23T12:26:03.166Z"
   },
   {
    "duration": 71,
    "start_time": "2022-03-23T12:26:03.173Z"
   },
   {
    "duration": 177,
    "start_time": "2022-03-23T12:26:03.247Z"
   },
   {
    "duration": 97,
    "start_time": "2022-03-23T12:26:03.426Z"
   },
   {
    "duration": 69,
    "start_time": "2022-03-23T12:26:03.526Z"
   },
   {
    "duration": 32,
    "start_time": "2022-03-23T12:26:03.598Z"
   },
   {
    "duration": 59,
    "start_time": "2022-03-23T12:26:03.633Z"
   },
   {
    "duration": 23,
    "start_time": "2022-03-23T12:26:03.694Z"
   },
   {
    "duration": 15,
    "start_time": "2022-03-23T12:26:03.719Z"
   },
   {
    "duration": 51,
    "start_time": "2022-03-23T12:26:03.735Z"
   },
   {
    "duration": 10,
    "start_time": "2022-03-23T12:26:03.788Z"
   },
   {
    "duration": 8,
    "start_time": "2022-03-23T12:26:03.802Z"
   },
   {
    "duration": 2816,
    "start_time": "2022-03-23T12:26:03.812Z"
   },
   {
    "duration": 13,
    "start_time": "2022-03-23T12:26:06.631Z"
   },
   {
    "duration": 99,
    "start_time": "2022-03-23T12:26:06.647Z"
   },
   {
    "duration": 7,
    "start_time": "2022-03-23T12:26:06.768Z"
   },
   {
    "duration": 551,
    "start_time": "2022-03-23T12:26:06.778Z"
   },
   {
    "duration": 8,
    "start_time": "2022-03-23T12:26:07.331Z"
   },
   {
    "duration": 499,
    "start_time": "2022-03-23T12:26:07.341Z"
   },
   {
    "duration": 7,
    "start_time": "2022-03-23T12:26:07.842Z"
   },
   {
    "duration": 488,
    "start_time": "2022-03-23T12:26:07.851Z"
   },
   {
    "duration": 12,
    "start_time": "2022-03-23T12:26:08.342Z"
   },
   {
    "duration": 13,
    "start_time": "2022-03-23T12:26:08.356Z"
   },
   {
    "duration": 66,
    "start_time": "2022-03-23T12:26:08.371Z"
   },
   {
    "duration": 10,
    "start_time": "2022-03-23T12:26:08.467Z"
   },
   {
    "duration": 22,
    "start_time": "2022-03-23T12:26:08.480Z"
   },
   {
    "duration": 10,
    "start_time": "2022-03-23T12:26:08.505Z"
   },
   {
    "duration": 1135,
    "start_time": "2022-04-03T13:04:31.950Z"
   },
   {
    "duration": 500,
    "start_time": "2022-04-03T13:04:33.088Z"
   },
   {
    "duration": 4,
    "start_time": "2022-04-03T13:04:33.590Z"
   },
   {
    "duration": 57,
    "start_time": "2022-04-03T13:04:33.596Z"
   },
   {
    "duration": 77,
    "start_time": "2022-04-03T13:04:33.654Z"
   },
   {
    "duration": 58,
    "start_time": "2022-04-03T13:04:33.733Z"
   },
   {
    "duration": 43,
    "start_time": "2022-04-03T13:04:33.793Z"
   },
   {
    "duration": 42,
    "start_time": "2022-04-03T13:04:33.837Z"
   },
   {
    "duration": 24,
    "start_time": "2022-04-03T13:04:33.881Z"
   },
   {
    "duration": 14,
    "start_time": "2022-04-03T13:04:33.908Z"
   },
   {
    "duration": 8,
    "start_time": "2022-04-03T13:04:33.924Z"
   },
   {
    "duration": 41,
    "start_time": "2022-04-03T13:04:33.934Z"
   },
   {
    "duration": 7,
    "start_time": "2022-04-03T13:04:33.977Z"
   },
   {
    "duration": 6,
    "start_time": "2022-04-03T13:04:33.985Z"
   },
   {
    "duration": 1521,
    "start_time": "2022-04-03T13:04:33.992Z"
   },
   {
    "duration": 8,
    "start_time": "2022-04-03T13:04:35.515Z"
   },
   {
    "duration": 59,
    "start_time": "2022-04-03T13:04:35.524Z"
   },
   {
    "duration": 4,
    "start_time": "2022-04-03T13:04:35.585Z"
   },
   {
    "duration": 377,
    "start_time": "2022-04-03T13:04:35.591Z"
   },
   {
    "duration": 7,
    "start_time": "2022-04-03T13:04:35.969Z"
   },
   {
    "duration": 315,
    "start_time": "2022-04-03T13:04:35.977Z"
   },
   {
    "duration": 5,
    "start_time": "2022-04-03T13:04:36.294Z"
   },
   {
    "duration": 337,
    "start_time": "2022-04-03T13:04:36.301Z"
   },
   {
    "duration": 7,
    "start_time": "2022-04-03T13:04:36.640Z"
   },
   {
    "duration": 15,
    "start_time": "2022-04-03T13:04:36.649Z"
   },
   {
    "duration": 41,
    "start_time": "2022-04-03T13:04:36.666Z"
   },
   {
    "duration": 6,
    "start_time": "2022-04-03T13:04:36.709Z"
   },
   {
    "duration": 14,
    "start_time": "2022-04-03T13:04:36.718Z"
   },
   {
    "duration": 6,
    "start_time": "2022-04-03T13:04:36.733Z"
   },
   {
    "duration": 125,
    "start_time": "2022-04-03T13:09:35.632Z"
   },
   {
    "duration": 86,
    "start_time": "2022-04-03T13:22:17.460Z"
   },
   {
    "duration": 14,
    "start_time": "2022-04-03T13:22:25.794Z"
   },
   {
    "duration": 12,
    "start_time": "2022-04-03T13:22:51.177Z"
   },
   {
    "duration": 5,
    "start_time": "2022-04-03T13:28:33.151Z"
   },
   {
    "duration": 5,
    "start_time": "2022-04-03T13:29:23.339Z"
   },
   {
    "duration": 4,
    "start_time": "2022-04-03T13:29:29.186Z"
   },
   {
    "duration": 4,
    "start_time": "2022-04-03T13:29:39.178Z"
   },
   {
    "duration": 8,
    "start_time": "2022-04-03T13:34:37.912Z"
   },
   {
    "duration": 1293,
    "start_time": "2022-04-03T17:59:21.372Z"
   },
   {
    "duration": 346,
    "start_time": "2022-04-03T17:59:22.667Z"
   },
   {
    "duration": 13,
    "start_time": "2022-04-03T17:59:28.622Z"
   },
   {
    "duration": 13,
    "start_time": "2022-04-03T17:59:45.627Z"
   },
   {
    "duration": 6,
    "start_time": "2022-04-03T17:59:55.843Z"
   },
   {
    "duration": 6,
    "start_time": "2022-04-03T17:59:59.162Z"
   },
   {
    "duration": 8,
    "start_time": "2022-04-03T18:00:31.290Z"
   },
   {
    "duration": 111,
    "start_time": "2022-04-03T18:02:57.824Z"
   },
   {
    "duration": 7,
    "start_time": "2022-04-03T18:03:04.093Z"
   },
   {
    "duration": 6,
    "start_time": "2022-04-03T18:03:08.919Z"
   },
   {
    "duration": 2266,
    "start_time": "2022-04-03T18:03:29.505Z"
   },
   {
    "duration": 7,
    "start_time": "2022-04-03T18:03:42.146Z"
   },
   {
    "duration": 12,
    "start_time": "2022-04-03T18:04:01.050Z"
   },
   {
    "duration": 7,
    "start_time": "2022-04-03T18:04:05.682Z"
   },
   {
    "duration": 2105,
    "start_time": "2022-04-03T18:04:12.309Z"
   },
   {
    "duration": 2135,
    "start_time": "2022-04-03T18:04:19.740Z"
   },
   {
    "duration": 7,
    "start_time": "2022-04-03T18:04:32.977Z"
   },
   {
    "duration": 4,
    "start_time": "2022-04-03T18:06:15.717Z"
   },
   {
    "duration": 381,
    "start_time": "2022-04-03T18:06:15.723Z"
   },
   {
    "duration": 5,
    "start_time": "2022-04-03T18:06:16.106Z"
   },
   {
    "duration": 73,
    "start_time": "2022-04-03T18:06:16.112Z"
   },
   {
    "duration": 77,
    "start_time": "2022-04-03T18:06:16.186Z"
   },
   {
    "duration": 47,
    "start_time": "2022-04-03T18:06:16.264Z"
   },
   {
    "duration": 31,
    "start_time": "2022-04-03T18:06:16.313Z"
   },
   {
    "duration": 35,
    "start_time": "2022-04-03T18:06:16.346Z"
   },
   {
    "duration": 23,
    "start_time": "2022-04-03T18:06:16.384Z"
   },
   {
    "duration": 16,
    "start_time": "2022-04-03T18:06:16.408Z"
   },
   {
    "duration": 38,
    "start_time": "2022-04-03T18:06:16.426Z"
   },
   {
    "duration": 16,
    "start_time": "2022-04-03T18:06:16.465Z"
   },
   {
    "duration": 13,
    "start_time": "2022-04-03T18:06:16.482Z"
   },
   {
    "duration": 18,
    "start_time": "2022-04-03T18:06:16.496Z"
   },
   {
    "duration": 16,
    "start_time": "2022-04-03T18:06:16.516Z"
   },
   {
    "duration": 135,
    "start_time": "2022-04-03T18:06:16.534Z"
   },
   {
    "duration": 3,
    "start_time": "2022-04-03T18:06:29.916Z"
   },
   {
    "duration": 383,
    "start_time": "2022-04-03T18:06:29.920Z"
   },
   {
    "duration": 4,
    "start_time": "2022-04-03T18:06:30.305Z"
   },
   {
    "duration": 60,
    "start_time": "2022-04-03T18:06:30.310Z"
   },
   {
    "duration": 74,
    "start_time": "2022-04-03T18:06:30.372Z"
   },
   {
    "duration": 57,
    "start_time": "2022-04-03T18:06:30.448Z"
   },
   {
    "duration": 32,
    "start_time": "2022-04-03T18:06:30.506Z"
   },
   {
    "duration": 38,
    "start_time": "2022-04-03T18:06:30.539Z"
   },
   {
    "duration": 23,
    "start_time": "2022-04-03T18:06:30.579Z"
   },
   {
    "duration": 13,
    "start_time": "2022-04-03T18:06:30.603Z"
   },
   {
    "duration": 8,
    "start_time": "2022-04-03T18:06:30.619Z"
   },
   {
    "duration": 42,
    "start_time": "2022-04-03T18:06:30.628Z"
   },
   {
    "duration": 7,
    "start_time": "2022-04-03T18:06:30.671Z"
   },
   {
    "duration": 12,
    "start_time": "2022-04-03T18:06:30.679Z"
   },
   {
    "duration": 18,
    "start_time": "2022-04-03T18:06:30.692Z"
   },
   {
    "duration": 6,
    "start_time": "2022-04-03T18:06:33.647Z"
   },
   {
    "duration": 5,
    "start_time": "2022-04-03T18:06:34.649Z"
   },
   {
    "duration": 2237,
    "start_time": "2022-04-03T18:06:37.102Z"
   },
   {
    "duration": 5,
    "start_time": "2022-04-03T18:06:58.161Z"
   },
   {
    "duration": 27,
    "start_time": "2022-04-03T18:06:58.337Z"
   },
   {
    "duration": 5,
    "start_time": "2022-04-03T18:07:54.051Z"
   },
   {
    "duration": 30,
    "start_time": "2022-04-03T18:07:54.466Z"
   },
   {
    "duration": 28,
    "start_time": "2022-04-03T18:08:21.676Z"
   },
   {
    "duration": 6,
    "start_time": "2022-04-03T18:08:39.851Z"
   },
   {
    "duration": 2235,
    "start_time": "2022-04-03T18:08:40.406Z"
   },
   {
    "duration": 5,
    "start_time": "2022-04-03T18:08:57.382Z"
   },
   {
    "duration": 32,
    "start_time": "2022-04-03T18:08:58.309Z"
   },
   {
    "duration": 3,
    "start_time": "2022-04-03T18:09:37.067Z"
   },
   {
    "duration": 5,
    "start_time": "2022-04-03T18:10:06.049Z"
   },
   {
    "duration": 30,
    "start_time": "2022-04-03T18:10:13.296Z"
   },
   {
    "duration": 5,
    "start_time": "2022-04-03T18:12:22.503Z"
   },
   {
    "duration": 5,
    "start_time": "2022-04-03T18:13:06.738Z"
   },
   {
    "duration": 27648,
    "start_time": "2022-04-03T18:13:06.744Z"
   },
   {
    "duration": 4,
    "start_time": "2022-04-03T18:14:24.817Z"
   },
   {
    "duration": 27161,
    "start_time": "2022-04-03T18:14:25.025Z"
   },
   {
    "duration": 11,
    "start_time": "2022-04-03T18:15:27.745Z"
   },
   {
    "duration": 8,
    "start_time": "2022-04-03T18:18:54.652Z"
   },
   {
    "duration": 15,
    "start_time": "2022-04-03T18:18:59.444Z"
   },
   {
    "duration": 7,
    "start_time": "2022-04-03T18:19:10.037Z"
   },
   {
    "duration": 12,
    "start_time": "2022-04-03T18:19:10.210Z"
   },
   {
    "duration": 5,
    "start_time": "2022-04-03T18:20:59.705Z"
   },
   {
    "duration": 5,
    "start_time": "2022-04-03T18:21:10.985Z"
   },
   {
    "duration": 4,
    "start_time": "2022-04-03T18:21:20.120Z"
   },
   {
    "duration": 8,
    "start_time": "2022-04-03T18:21:50.787Z"
   },
   {
    "duration": 7,
    "start_time": "2022-04-03T18:24:26.760Z"
   },
   {
    "duration": 10,
    "start_time": "2022-04-03T18:24:46.960Z"
   },
   {
    "duration": 4,
    "start_time": "2022-04-03T18:24:56.777Z"
   },
   {
    "duration": 9,
    "start_time": "2022-04-03T18:25:00.529Z"
   },
   {
    "duration": 12,
    "start_time": "2022-04-03T18:26:43.868Z"
   },
   {
    "duration": 5,
    "start_time": "2022-04-03T18:27:03.598Z"
   },
   {
    "duration": 5,
    "start_time": "2022-04-03T18:27:35.518Z"
   },
   {
    "duration": 14,
    "start_time": "2022-04-03T18:27:40.367Z"
   },
   {
    "duration": 5,
    "start_time": "2022-04-03T18:32:24.535Z"
   },
   {
    "duration": 2102,
    "start_time": "2022-04-03T18:32:39.016Z"
   },
   {
    "duration": 2238,
    "start_time": "2022-04-03T18:32:41.880Z"
   },
   {
    "duration": 131,
    "start_time": "2022-04-03T18:32:48.249Z"
   },
   {
    "duration": 6,
    "start_time": "2022-04-03T18:32:50.254Z"
   },
   {
    "duration": 6,
    "start_time": "2022-04-03T18:33:30.279Z"
   },
   {
    "duration": 13,
    "start_time": "2022-04-03T18:33:35.991Z"
   },
   {
    "duration": 149,
    "start_time": "2022-04-03T18:41:08.793Z"
   },
   {
    "duration": 3,
    "start_time": "2022-04-03T18:41:43.899Z"
   },
   {
    "duration": 8,
    "start_time": "2022-04-03T18:44:03.755Z"
   },
   {
    "duration": 3,
    "start_time": "2022-04-03T18:44:13.731Z"
   },
   {
    "duration": 8,
    "start_time": "2022-04-03T18:44:33.714Z"
   },
   {
    "duration": 19,
    "start_time": "2022-04-03T18:44:47.458Z"
   },
   {
    "duration": 16,
    "start_time": "2022-04-03T18:45:58.429Z"
   },
   {
    "duration": 13,
    "start_time": "2022-04-03T18:46:11.553Z"
   },
   {
    "duration": 17,
    "start_time": "2022-04-03T18:46:23.798Z"
   },
   {
    "duration": 14,
    "start_time": "2022-04-03T18:46:57.978Z"
   },
   {
    "duration": 12,
    "start_time": "2022-04-03T18:47:07.903Z"
   },
   {
    "duration": 12,
    "start_time": "2022-04-03T18:47:25.715Z"
   },
   {
    "duration": 10,
    "start_time": "2022-04-03T18:47:43.224Z"
   },
   {
    "duration": 8,
    "start_time": "2022-04-03T18:47:47.361Z"
   },
   {
    "duration": 11,
    "start_time": "2022-04-03T18:48:03.610Z"
   },
   {
    "duration": 10,
    "start_time": "2022-04-03T18:48:17.551Z"
   },
   {
    "duration": 18,
    "start_time": "2022-04-03T18:48:27.361Z"
   },
   {
    "duration": 998,
    "start_time": "2022-04-03T18:48:56.693Z"
   },
   {
    "duration": 418,
    "start_time": "2022-04-03T18:48:57.692Z"
   },
   {
    "duration": 4,
    "start_time": "2022-04-03T18:48:58.182Z"
   },
   {
    "duration": 89,
    "start_time": "2022-04-03T18:49:06.461Z"
   },
   {
    "duration": 66,
    "start_time": "2022-04-03T18:49:20.816Z"
   },
   {
    "duration": 65,
    "start_time": "2022-04-03T18:49:53.934Z"
   },
   {
    "duration": 73,
    "start_time": "2022-04-03T18:49:55.230Z"
   },
   {
    "duration": 52,
    "start_time": "2022-04-03T18:49:56.638Z"
   },
   {
    "duration": 40,
    "start_time": "2022-04-03T18:49:58.050Z"
   },
   {
    "duration": 26,
    "start_time": "2022-04-03T18:50:01.662Z"
   },
   {
    "duration": 26,
    "start_time": "2022-04-03T18:50:03.078Z"
   },
   {
    "duration": 15,
    "start_time": "2022-04-03T18:50:04.351Z"
   },
   {
    "duration": 10,
    "start_time": "2022-04-03T18:50:05.240Z"
   },
   {
    "duration": 14,
    "start_time": "2022-04-03T18:50:06.499Z"
   },
   {
    "duration": 7,
    "start_time": "2022-04-03T18:50:41.105Z"
   },
   {
    "duration": 19,
    "start_time": "2022-04-03T18:51:00.580Z"
   },
   {
    "duration": 12,
    "start_time": "2022-04-03T18:51:36.941Z"
   },
   {
    "duration": 5,
    "start_time": "2022-04-03T18:51:41.136Z"
   },
   {
    "duration": 43,
    "start_time": "2022-04-03T18:51:41.309Z"
   },
   {
    "duration": 7,
    "start_time": "2022-04-03T18:52:55.792Z"
   },
   {
    "duration": 123,
    "start_time": "2022-04-03T18:52:55.971Z"
   },
   {
    "duration": 106,
    "start_time": "2022-04-03T18:53:13.151Z"
   },
   {
    "duration": 5,
    "start_time": "2022-04-03T18:53:20.356Z"
   },
   {
    "duration": 111,
    "start_time": "2022-04-03T18:53:20.363Z"
   },
   {
    "duration": 106,
    "start_time": "2022-04-03T18:53:46.917Z"
   },
   {
    "duration": 9,
    "start_time": "2022-04-03T18:54:03.408Z"
   },
   {
    "duration": 47,
    "start_time": "2022-04-03T18:54:03.593Z"
   },
   {
    "duration": 4,
    "start_time": "2022-04-03T18:54:09.330Z"
   },
   {
    "duration": 362,
    "start_time": "2022-04-03T18:54:11.327Z"
   },
   {
    "duration": 8,
    "start_time": "2022-04-03T18:54:17.800Z"
   },
   {
    "duration": 343,
    "start_time": "2022-04-03T18:54:19.937Z"
   },
   {
    "duration": 6,
    "start_time": "2022-04-03T18:54:25.561Z"
   },
   {
    "duration": 421,
    "start_time": "2022-04-03T18:54:26.832Z"
   },
   {
    "duration": 8,
    "start_time": "2022-04-03T18:54:30.928Z"
   },
   {
    "duration": 4,
    "start_time": "2022-04-03T18:54:32.257Z"
   },
   {
    "duration": 43,
    "start_time": "2022-04-03T18:54:33.952Z"
   },
   {
    "duration": 6,
    "start_time": "2022-04-03T18:54:52.793Z"
   },
   {
    "duration": 264,
    "start_time": "2022-04-03T18:55:46.413Z"
   },
   {
    "duration": 6,
    "start_time": "2022-04-03T18:55:47.981Z"
   },
   {
    "duration": 17,
    "start_time": "2022-04-03T18:57:03.653Z"
   },
   {
    "duration": 4,
    "start_time": "2022-04-03T18:57:23.119Z"
   },
   {
    "duration": 43,
    "start_time": "2022-04-03T18:57:23.824Z"
   },
   {
    "duration": 7,
    "start_time": "2022-04-03T18:57:48.893Z"
   },
   {
    "duration": 49,
    "start_time": "2022-04-03T18:57:49.394Z"
   },
   {
    "duration": 4,
    "start_time": "2022-04-03T18:57:56.586Z"
   },
   {
    "duration": 346,
    "start_time": "2022-04-03T18:57:58.240Z"
   },
   {
    "duration": 7,
    "start_time": "2022-04-03T18:58:00.312Z"
   },
   {
    "duration": 350,
    "start_time": "2022-04-03T18:58:01.003Z"
   },
   {
    "duration": 6,
    "start_time": "2022-04-03T18:58:02.448Z"
   },
   {
    "duration": 296,
    "start_time": "2022-04-03T18:58:03.010Z"
   },
   {
    "duration": 8,
    "start_time": "2022-04-03T18:58:05.674Z"
   },
   {
    "duration": 4,
    "start_time": "2022-04-03T18:58:38.271Z"
   },
   {
    "duration": 46,
    "start_time": "2022-04-03T18:58:38.538Z"
   },
   {
    "duration": 7,
    "start_time": "2022-04-03T18:58:41.627Z"
   },
   {
    "duration": 7,
    "start_time": "2022-04-03T18:58:47.281Z"
   },
   {
    "duration": 6,
    "start_time": "2022-04-03T18:58:48.214Z"
   },
   {
    "duration": 6,
    "start_time": "2022-04-03T18:58:49.706Z"
   },
   {
    "duration": 7,
    "start_time": "2022-04-03T18:58:53.922Z"
   },
   {
    "duration": 6,
    "start_time": "2022-04-03T18:58:58.146Z"
   },
   {
    "duration": 6,
    "start_time": "2022-04-03T18:59:02.212Z"
   },
   {
    "duration": 9,
    "start_time": "2022-04-03T18:59:03.190Z"
   },
   {
    "duration": 8,
    "start_time": "2022-04-03T18:59:05.900Z"
   },
   {
    "duration": 6,
    "start_time": "2022-04-03T18:59:23.739Z"
   },
   {
    "duration": 5,
    "start_time": "2022-04-03T18:59:26.933Z"
   },
   {
    "duration": 6,
    "start_time": "2022-04-03T18:59:27.599Z"
   },
   {
    "duration": 5,
    "start_time": "2022-04-03T18:59:28.340Z"
   },
   {
    "duration": 5,
    "start_time": "2022-04-03T18:59:29.031Z"
   },
   {
    "duration": 6,
    "start_time": "2022-04-03T18:59:29.827Z"
   },
   {
    "duration": 5,
    "start_time": "2022-04-03T18:59:30.646Z"
   },
   {
    "duration": 6,
    "start_time": "2022-04-03T18:59:31.214Z"
   },
   {
    "duration": 6,
    "start_time": "2022-04-03T18:59:32.053Z"
   },
   {
    "duration": 6,
    "start_time": "2022-04-03T18:59:32.936Z"
   },
   {
    "duration": 6,
    "start_time": "2022-04-03T18:59:49.546Z"
   },
   {
    "duration": 105,
    "start_time": "2022-04-03T18:59:55.625Z"
   },
   {
    "duration": 109,
    "start_time": "2022-04-03T19:00:08.012Z"
   },
   {
    "duration": 114,
    "start_time": "2022-04-03T19:00:12.951Z"
   },
   {
    "duration": 110,
    "start_time": "2022-04-03T19:00:17.341Z"
   },
   {
    "duration": 7,
    "start_time": "2022-04-03T19:00:48.800Z"
   },
   {
    "duration": 112,
    "start_time": "2022-04-03T19:00:53.752Z"
   },
   {
    "duration": 6,
    "start_time": "2022-04-03T19:01:54.693Z"
   },
   {
    "duration": 103,
    "start_time": "2022-04-03T19:02:56.132Z"
   },
   {
    "duration": 6,
    "start_time": "2022-04-03T19:02:56.698Z"
   },
   {
    "duration": 4,
    "start_time": "2022-04-03T19:02:58.111Z"
   },
   {
    "duration": 8,
    "start_time": "2022-04-03T19:02:59.357Z"
   },
   {
    "duration": 51,
    "start_time": "2022-04-03T19:02:59.767Z"
   },
   {
    "duration": 4,
    "start_time": "2022-04-03T19:03:00.239Z"
   },
   {
    "duration": 305,
    "start_time": "2022-04-03T19:03:00.878Z"
   },
   {
    "duration": 7,
    "start_time": "2022-04-03T19:03:01.685Z"
   },
   {
    "duration": 323,
    "start_time": "2022-04-03T19:03:03.121Z"
   },
   {
    "duration": 6,
    "start_time": "2022-04-03T19:03:03.731Z"
   },
   {
    "duration": 314,
    "start_time": "2022-04-03T19:03:04.931Z"
   },
   {
    "duration": 8,
    "start_time": "2022-04-03T19:03:05.957Z"
   },
   {
    "duration": 4,
    "start_time": "2022-04-03T19:03:08.115Z"
   },
   {
    "duration": 40,
    "start_time": "2022-04-03T19:03:09.284Z"
   },
   {
    "duration": 102,
    "start_time": "2022-04-03T19:03:15.125Z"
   },
   {
    "duration": 116,
    "start_time": "2022-04-03T19:03:33.484Z"
   },
   {
    "duration": 5,
    "start_time": "2022-04-03T19:03:49.246Z"
   },
   {
    "duration": 106,
    "start_time": "2022-04-03T19:03:53.125Z"
   },
   {
    "duration": 6,
    "start_time": "2022-04-03T19:04:15.439Z"
   },
   {
    "duration": 6,
    "start_time": "2022-04-03T19:05:29.777Z"
   },
   {
    "duration": 14,
    "start_time": "2022-04-03T19:05:57.877Z"
   },
   {
    "duration": 6,
    "start_time": "2022-04-03T19:06:00.619Z"
   },
   {
    "duration": 6,
    "start_time": "2022-04-03T19:06:02.190Z"
   },
   {
    "duration": 6,
    "start_time": "2022-04-03T19:06:55.887Z"
   },
   {
    "duration": 3,
    "start_time": "2022-04-03T19:07:22.427Z"
   },
   {
    "duration": 15,
    "start_time": "2022-04-03T19:07:35.896Z"
   },
   {
    "duration": 7,
    "start_time": "2022-04-03T19:07:36.830Z"
   },
   {
    "duration": 16,
    "start_time": "2022-04-03T19:07:42.861Z"
   },
   {
    "duration": 6,
    "start_time": "2022-04-03T19:07:44.511Z"
   },
   {
    "duration": 4,
    "start_time": "2022-04-03T19:08:18.106Z"
   },
   {
    "duration": 2270,
    "start_time": "2022-04-03T19:08:20.632Z"
   },
   {
    "duration": 5,
    "start_time": "2022-04-03T19:08:50.075Z"
   },
   {
    "duration": 107,
    "start_time": "2022-04-03T19:08:50.805Z"
   },
   {
    "duration": 7,
    "start_time": "2022-04-03T19:08:55.563Z"
   },
   {
    "duration": 131,
    "start_time": "2022-04-03T19:09:00.409Z"
   },
   {
    "duration": 3,
    "start_time": "2022-04-03T19:09:05.338Z"
   },
   {
    "duration": 9,
    "start_time": "2022-04-03T19:09:06.765Z"
   },
   {
    "duration": 48,
    "start_time": "2022-04-03T19:09:07.381Z"
   },
   {
    "duration": 4,
    "start_time": "2022-04-03T19:09:08.090Z"
   },
   {
    "duration": 366,
    "start_time": "2022-04-03T19:09:10.115Z"
   },
   {
    "duration": 6,
    "start_time": "2022-04-03T19:09:10.483Z"
   },
   {
    "duration": 346,
    "start_time": "2022-04-03T19:09:11.011Z"
   },
   {
    "duration": 6,
    "start_time": "2022-04-03T19:09:11.403Z"
   },
   {
    "duration": 336,
    "start_time": "2022-04-03T19:09:12.108Z"
   },
   {
    "duration": 7,
    "start_time": "2022-04-03T19:09:12.492Z"
   },
   {
    "duration": 3,
    "start_time": "2022-04-03T19:09:13.723Z"
   },
   {
    "duration": 48,
    "start_time": "2022-04-03T19:09:14.137Z"
   },
   {
    "duration": 6,
    "start_time": "2022-04-03T19:09:15.751Z"
   },
   {
    "duration": 4,
    "start_time": "2022-04-03T19:09:15.912Z"
   },
   {
    "duration": 19,
    "start_time": "2022-04-03T19:09:17.250Z"
   },
   {
    "duration": 7,
    "start_time": "2022-04-03T19:09:17.553Z"
   },
   {
    "duration": 6,
    "start_time": "2022-04-03T19:09:27.284Z"
   },
   {
    "duration": 6,
    "start_time": "2022-04-03T19:09:28.938Z"
   },
   {
    "duration": 7,
    "start_time": "2022-04-03T19:09:30.530Z"
   },
   {
    "duration": 7,
    "start_time": "2022-04-03T19:09:31.375Z"
   },
   {
    "duration": 6,
    "start_time": "2022-04-03T19:09:32.403Z"
   },
   {
    "duration": 3,
    "start_time": "2022-04-03T19:09:34.106Z"
   },
   {
    "duration": 15,
    "start_time": "2022-04-03T19:09:43.643Z"
   },
   {
    "duration": 7,
    "start_time": "2022-04-03T19:09:43.966Z"
   },
   {
    "duration": 46,
    "start_time": "2022-04-03T20:09:00.277Z"
   },
   {
    "duration": 6,
    "start_time": "2022-04-03T20:09:16.984Z"
   },
   {
    "duration": 40,
    "start_time": "2022-04-03T20:09:25.542Z"
   },
   {
    "duration": 26,
    "start_time": "2022-04-03T20:09:27.320Z"
   },
   {
    "duration": 27,
    "start_time": "2022-04-03T20:09:27.718Z"
   },
   {
    "duration": 15,
    "start_time": "2022-04-03T20:09:28.629Z"
   },
   {
    "duration": 9,
    "start_time": "2022-04-03T20:09:29.045Z"
   },
   {
    "duration": 16,
    "start_time": "2022-04-03T20:09:30.772Z"
   },
   {
    "duration": 7,
    "start_time": "2022-04-03T20:09:37.220Z"
   },
   {
    "duration": 5,
    "start_time": "2022-04-03T20:09:59.229Z"
   },
   {
    "duration": 102,
    "start_time": "2022-04-03T20:09:59.855Z"
   },
   {
    "duration": 8,
    "start_time": "2022-04-03T20:10:04.400Z"
   },
   {
    "duration": 51,
    "start_time": "2022-04-03T20:10:05.039Z"
   },
   {
    "duration": 4,
    "start_time": "2022-04-03T20:10:07.407Z"
   },
   {
    "duration": 368,
    "start_time": "2022-04-03T20:11:33.333Z"
   },
   {
    "duration": 338,
    "start_time": "2022-04-03T20:11:50.260Z"
   },
   {
    "duration": 147,
    "start_time": "2022-04-03T20:12:14.308Z"
   },
   {
    "duration": 135,
    "start_time": "2022-04-03T20:12:16.387Z"
   },
   {
    "duration": 310,
    "start_time": "2022-04-03T20:12:18.068Z"
   },
   {
    "duration": 628,
    "start_time": "2022-04-03T20:12:35.910Z"
   },
   {
    "duration": 13,
    "start_time": "2022-04-03T20:12:49.072Z"
   },
   {
    "duration": 12,
    "start_time": "2022-04-03T20:14:23.417Z"
   },
   {
    "duration": 15,
    "start_time": "2022-04-03T20:14:35.657Z"
   },
   {
    "duration": 41,
    "start_time": "2022-04-03T20:14:41.953Z"
   },
   {
    "duration": 38,
    "start_time": "2022-04-03T20:14:56.187Z"
   },
   {
    "duration": 3,
    "start_time": "2022-04-03T20:15:15.607Z"
   },
   {
    "duration": 7,
    "start_time": "2022-04-03T20:15:59.748Z"
   },
   {
    "duration": 16,
    "start_time": "2022-04-03T20:19:21.380Z"
   },
   {
    "duration": 6,
    "start_time": "2022-04-03T20:19:23.784Z"
   },
   {
    "duration": 140,
    "start_time": "2022-04-03T20:31:30.149Z"
   },
   {
    "duration": 1289,
    "start_time": "2022-04-04T08:20:06.322Z"
   },
   {
    "duration": 439,
    "start_time": "2022-04-04T08:20:07.613Z"
   },
   {
    "duration": 69,
    "start_time": "2022-04-04T08:20:08.053Z"
   },
   {
    "duration": 84,
    "start_time": "2022-04-04T08:20:08.124Z"
   },
   {
    "duration": 54,
    "start_time": "2022-04-04T08:20:08.209Z"
   },
   {
    "duration": 42,
    "start_time": "2022-04-04T08:20:08.264Z"
   },
   {
    "duration": 25,
    "start_time": "2022-04-04T08:20:08.307Z"
   },
   {
    "duration": 45,
    "start_time": "2022-04-04T08:20:08.334Z"
   },
   {
    "duration": 16,
    "start_time": "2022-04-04T08:20:08.380Z"
   },
   {
    "duration": 9,
    "start_time": "2022-04-04T08:20:08.398Z"
   },
   {
    "duration": 17,
    "start_time": "2022-04-04T08:20:08.408Z"
   },
   {
    "duration": 12,
    "start_time": "2022-04-04T08:20:08.427Z"
   },
   {
    "duration": 23,
    "start_time": "2022-04-04T08:20:08.440Z"
   },
   {
    "duration": 115,
    "start_time": "2022-04-04T08:20:08.464Z"
   },
   {
    "duration": 4,
    "start_time": "2022-04-04T08:20:08.581Z"
   },
   {
    "duration": 23,
    "start_time": "2022-04-04T08:20:08.587Z"
   },
   {
    "duration": 59,
    "start_time": "2022-04-04T08:20:08.612Z"
   },
   {
    "duration": 4,
    "start_time": "2022-04-04T08:20:08.672Z"
   },
   {
    "duration": 453,
    "start_time": "2022-04-04T08:20:08.677Z"
   },
   {
    "duration": 7,
    "start_time": "2022-04-04T08:20:09.132Z"
   },
   {
    "duration": 330,
    "start_time": "2022-04-04T08:20:09.140Z"
   },
   {
    "duration": 7,
    "start_time": "2022-04-04T08:20:09.472Z"
   },
   {
    "duration": 332,
    "start_time": "2022-04-04T08:20:09.481Z"
   },
   {
    "duration": 8,
    "start_time": "2022-04-04T08:20:09.815Z"
   },
   {
    "duration": 52,
    "start_time": "2022-04-04T08:20:09.825Z"
   },
   {
    "duration": 3,
    "start_time": "2022-04-04T08:20:09.878Z"
   },
   {
    "duration": 106,
    "start_time": "2022-04-04T08:20:09.882Z"
   },
   {
    "duration": 0,
    "start_time": "2022-04-04T08:20:09.989Z"
   },
   {
    "duration": 0,
    "start_time": "2022-04-04T08:20:09.991Z"
   },
   {
    "duration": 6,
    "start_time": "2022-04-04T08:26:00.495Z"
   },
   {
    "duration": 16,
    "start_time": "2022-04-04T08:26:09.633Z"
   },
   {
    "duration": 7,
    "start_time": "2022-04-04T08:26:09.976Z"
   },
   {
    "duration": 5,
    "start_time": "2022-04-04T08:26:46.664Z"
   },
   {
    "duration": 6,
    "start_time": "2022-04-04T08:26:56.437Z"
   },
   {
    "duration": 4,
    "start_time": "2022-04-04T08:27:01.158Z"
   },
   {
    "duration": 5,
    "start_time": "2022-04-04T08:27:10.711Z"
   },
   {
    "duration": 6,
    "start_time": "2022-04-04T08:27:42.276Z"
   }
  ],
  "kernelspec": {
   "display_name": "Python 3 (ipykernel)",
   "language": "python",
   "name": "python3"
  },
  "language_info": {
   "codemirror_mode": {
    "name": "ipython",
    "version": 3
   },
   "file_extension": ".py",
   "mimetype": "text/x-python",
   "name": "python",
   "nbconvert_exporter": "python",
   "pygments_lexer": "ipython3",
   "version": "3.10.9"
  },
  "nbTranslate": {
   "displayLangs": [
    "*"
   ],
   "hotkey": "alt-t",
   "langInMainMenu": true,
   "sourceLang": "en",
   "targetLang": "fr",
   "useGoogleTranslate": true
  },
  "toc": {
   "base_numbering": 1,
   "nav_menu": {},
   "number_sections": true,
   "sideBar": true,
   "skip_h1_title": true,
   "title_cell": "Table of Contents",
   "title_sidebar": "Contents",
   "toc_cell": false,
   "toc_position": {},
   "toc_section_display": true,
   "toc_window_display": false
  },
  "varInspector": {
   "cols": {
    "lenName": 16,
    "lenType": 16,
    "lenVar": 40
   },
   "kernels_config": {
    "python": {
     "delete_cmd_postfix": "",
     "delete_cmd_prefix": "del ",
     "library": "var_list.py",
     "varRefreshCmd": "print(var_dic_list())"
    },
    "r": {
     "delete_cmd_postfix": ") ",
     "delete_cmd_prefix": "rm(",
     "library": "var_list.r",
     "varRefreshCmd": "cat(var_dic_list()) "
    }
   },
   "types_to_exclude": [
    "module",
    "function",
    "builtin_function_or_method",
    "instance",
    "_Feature"
   ],
   "window_display": false
  }
 },
 "nbformat": 4,
 "nbformat_minor": 4
}
