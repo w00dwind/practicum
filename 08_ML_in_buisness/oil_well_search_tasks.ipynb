{
 "cells": [
  {
   "cell_type": "markdown",
   "metadata": {},
   "source": [
    "# Выбор локации для скважины"
   ]
  },
  {
   "cell_type": "markdown",
   "metadata": {},
   "source": [
    "Допустим, вы работаете в добывающей компании «ГлавРосГосНефть». Нужно решить, где бурить новую скважину.\n",
    "\n",
    "Вам предоставлены пробы нефти в трёх регионах: в каждом 10 000 месторождений, где измерили качество нефти и объём её запасов. Постройте модель машинного обучения, которая поможет определить регион, где добыча принесёт наибольшую прибыль. Проанализируйте возможную прибыль и риски техникой *Bootstrap.*\n",
    "\n",
    "Шаги для выбора локации:\n",
    "\n",
    "- В избранном регионе ищут месторождения, для каждого определяют значения признаков;\n",
    "- Строят модель и оценивают объём запасов;\n",
    "- Выбирают месторождения с самым высокими оценками значений. Количество месторождений зависит от бюджета компании и стоимости разработки одной скважины;\n",
    "- Прибыль равна суммарной прибыли отобранных месторождений."
   ]
  },
  {
   "cell_type": "code",
   "execution_count": 1,
   "metadata": {
    "ExecuteTime": {
     "end_time": "2022-05-15T10:04:26.079039Z",
     "start_time": "2022-05-15T10:04:24.254055Z"
    }
   },
   "outputs": [],
   "source": [
    "import pandas as pd\n",
    "import numpy as np\n",
    "from scipy import stats as st\n",
    "\n",
    "from numpy.random import RandomState\n",
    "\n",
    "from sklearn.metrics import mean_squared_error\n",
    "\n",
    "from sklearn.model_selection import train_test_split\n",
    "\n",
    "from sklearn.linear_model import LinearRegression\n",
    "\n",
    "from tqdm.notebook import tqdm\n",
    "\n",
    "\n",
    "SEED = 42"
   ]
  },
  {
   "cell_type": "markdown",
   "metadata": {},
   "source": [
    "## Загрузка и подготовка данных"
   ]
  },
  {
   "cell_type": "code",
   "execution_count": 2,
   "metadata": {
    "ExecuteTime": {
     "end_time": "2022-05-15T10:04:26.696738Z",
     "start_time": "2022-05-15T10:04:26.082191Z"
    }
   },
   "outputs": [
    {
     "data": {
      "text/plain": [
       "((100000, 5), (100000, 5), (100000, 5))"
      ]
     },
     "execution_count": 2,
     "metadata": {},
     "output_type": "execute_result"
    }
   ],
   "source": [
    "try:\n",
    "    df1 = pd.read_csv('../datasets/geo_data_0.csv')\n",
    "    df2 = pd.read_csv('../datasets/geo_data_1.csv')\n",
    "    df3 = pd.read_csv('../datasets/geo_data_2.csv')\n",
    "except: \n",
    "    df1 = pd.read_csv('practicum/module_2/datasets/geo_data_0.csv')\n",
    "    df2 = pd.read_csv('practicum/module_2/datasets/geo_data_1.csv')\n",
    "    df3 = pd.read_csv('practicum/module_2/datasets/geo_data_2.csv')\n",
    "\n",
    "df1.shape, df2.shape, df3.shape"
   ]
  },
  {
   "cell_type": "code",
   "execution_count": 3,
   "metadata": {
    "ExecuteTime": {
     "end_time": "2022-05-15T10:04:26.952257Z",
     "start_time": "2022-05-15T10:04:26.720497Z"
    }
   },
   "outputs": [
    {
     "data": {
      "text/plain": [
       "(10, 4, 4)"
      ]
     },
     "execution_count": 3,
     "metadata": {},
     "output_type": "execute_result"
    }
   ],
   "source": [
    "# Посмотрим на дубликаты в столбце id \n",
    "df1['id'].duplicated().sum(), df2['id'].duplicated().sum(), df3['id'].duplicated().sum()"
   ]
  },
  {
   "cell_type": "markdown",
   "metadata": {},
   "source": [
    "**Видим, что дубликаты есть, но их немного. Можно лишь предположить, что это уточненные данные по скважине. Поскольку установить какие данные более актуальные невозможно, оставим наблюдения, на результаты модели сильно повлиять они не должны. Столбец id из датасета удалим**"
   ]
  },
  {
   "cell_type": "code",
   "execution_count": 4,
   "metadata": {
    "ExecuteTime": {
     "end_time": "2022-05-15T10:04:26.980453Z",
     "start_time": "2022-05-15T10:04:26.959457Z"
    }
   },
   "outputs": [],
   "source": [
    "# Разделение на train и target\n",
    "X_1 = df1.drop(['product', 'id'], axis=1)\n",
    "X_2 = df2.drop(['product', 'id'], axis=1)\n",
    "X_3 = df3.drop(['product', 'id'], axis=1)\n",
    "\n",
    "y_1 = df1['product']\n",
    "y_2 = df2['product']\n",
    "y_3 = df3['product']"
   ]
  },
  {
   "cell_type": "code",
   "execution_count": 5,
   "metadata": {
    "ExecuteTime": {
     "end_time": "2022-05-15T10:04:27.111200Z",
     "start_time": "2022-05-15T10:04:26.989290Z"
    }
   },
   "outputs": [],
   "source": [
    "# Разделение на train и valid\n",
    "\n",
    "X_1_train, X_1_valid, y_1_train, y_1_valid = train_test_split(X_1, y_1,\n",
    "                                                             test_size=.25,\n",
    "                                                             random_state=SEED,\n",
    "                                                             )\n",
    "\n",
    "X_2_train, X_2_valid, y_2_train, y_2_valid = train_test_split(X_2, y_2,\n",
    "                                                             test_size=.25,\n",
    "                                                             random_state=SEED\n",
    "                                                             )\n",
    "\n",
    "X_3_train, X_3_valid, y_3_train, y_3_valid = train_test_split(X_3, y_3,\n",
    "                                                             test_size=.25,\n",
    "                                                             random_state=SEED\n",
    "                                                             )"
   ]
  },
  {
   "cell_type": "markdown",
   "metadata": {},
   "source": [
    "## Обучение и проверка модели"
   ]
  },
  {
   "cell_type": "markdown",
   "metadata": {},
   "source": [
    "### Первый регион"
   ]
  },
  {
   "cell_type": "code",
   "execution_count": 53,
   "metadata": {
    "ExecuteTime": {
     "end_time": "2022-05-15T10:23:27.436822Z",
     "start_time": "2022-05-15T10:23:27.428099Z"
    }
   },
   "outputs": [],
   "source": [
    "def true_pred(model,X_train, y_train, X_valid, y_valid, verbose:bool = False, name:str=None):\n",
    "    model.fit(X_train, y_train)\n",
    "    y_hat = model.predict(X_valid)\n",
    "    true_pred = pd.DataFrame([y_valid.reset_index(drop=True), y_hat]).T\n",
    "    true_pred.columns = ['true', 'predicted']\n",
    "    \n",
    "    mean = true_pred['predicted'].mean()\n",
    "    rmse = mean_squared_error(y_valid, y_hat, squared=False)\n",
    "    if verbose:\n",
    "        print('-'*80)\n",
    "        print(name)\n",
    "        print(f\"Среднее по региону: {mean:.2f}\")\n",
    "        print(f\"RMSE: {rmse:.2f}\")\n",
    "        print('-'*80)\n",
    "    \n",
    "    return true_pred"
   ]
  },
  {
   "cell_type": "code",
   "execution_count": 56,
   "metadata": {
    "ExecuteTime": {
     "end_time": "2022-05-15T10:24:14.944184Z",
     "start_time": "2022-05-15T10:24:13.942961Z"
    }
   },
   "outputs": [
    {
     "name": "stdout",
     "output_type": "stream",
     "text": [
      "--------------------------------------------------------------------------------\n",
      "Регион 1\n",
      "Среднее по региону: 92.40\n",
      "RMSE: 37.76\n",
      "--------------------------------------------------------------------------------\n",
      "--------------------------------------------------------------------------------\n",
      "Регион 2\n",
      "Среднее по региону: 68.71\n",
      "RMSE: 0.89\n",
      "--------------------------------------------------------------------------------\n",
      "--------------------------------------------------------------------------------\n",
      "Регион 3\n",
      "Среднее по региону: 94.77\n",
      "RMSE: 40.15\n",
      "--------------------------------------------------------------------------------\n"
     ]
    }
   ],
   "source": [
    "lr_model = LinearRegression()\n",
    "\n",
    "true_pred_1 = true_pred(lr_model, \n",
    "                        X_1_train, \n",
    "                        y_1_train, \n",
    "                        X_1_valid, \n",
    "                        y_1_valid, \n",
    "                        verbose=True, \n",
    "                        name='Регион 1'\n",
    "                       )\n",
    "\n",
    "true_pred_2 = true_pred(lr_model, \n",
    "                        X_2_train, \n",
    "                        y_2_train, \n",
    "                        X_2_valid, \n",
    "                        y_2_valid, \n",
    "                        verbose=True, \n",
    "                        name='Регион 2'\n",
    "                       )\n",
    "\n",
    "true_pred_3 = true_pred(lr_model, \n",
    "                        X_3_train,\n",
    "                        y_3_train,\n",
    "                        X_3_valid, \n",
    "                        y_3_valid, \n",
    "                        verbose=True, \n",
    "                        name='Регион 3'\n",
    "                       )"
   ]
  },
  {
   "cell_type": "markdown",
   "metadata": {},
   "source": [
    "### Вывод:\n",
    "* Лучше всего себя показала вторая модель. Минимальный уровень ошибки из трех.\n",
    "* Первая и тетья модели имеют схожие показатели, как по среднему запасу так и по средней ошибке."
   ]
  },
  {
   "cell_type": "markdown",
   "metadata": {},
   "source": [
    "## Подготовка к расчёту прибыли"
   ]
  },
  {
   "cell_type": "code",
   "execution_count": 31,
   "metadata": {
    "ExecuteTime": {
     "end_time": "2022-05-15T10:15:15.500438Z",
     "start_time": "2022-05-15T10:15:15.487766Z"
    }
   },
   "outputs": [],
   "source": [
    "REVENUE_PER_BARREL = 450_000\n",
    "INVEST = 10_000_000_000\n",
    "SAMPLE_SIZE = 500\n",
    "SUBSAMPLE_SIZE = 200"
   ]
  },
  {
   "cell_type": "code",
   "execution_count": 33,
   "metadata": {
    "ExecuteTime": {
     "end_time": "2022-05-15T10:17:03.274713Z",
     "start_time": "2022-05-15T10:17:03.179067Z"
    }
   },
   "outputs": [
    {
     "name": "stdout",
     "output_type": "stream",
     "text": [
      "Для безубыточности необходимо иметь запасы не менее 111.11 тыс. баррелей \n"
     ]
    },
    {
     "data": {
      "text/html": [
       "<div>\n",
       "<style scoped>\n",
       "    .dataframe tbody tr th:only-of-type {\n",
       "        vertical-align: middle;\n",
       "    }\n",
       "\n",
       "    .dataframe tbody tr th {\n",
       "        vertical-align: top;\n",
       "    }\n",
       "\n",
       "    .dataframe thead th {\n",
       "        text-align: right;\n",
       "    }\n",
       "</style>\n",
       "<table border=\"1\" class=\"dataframe\">\n",
       "  <thead>\n",
       "    <tr style=\"text-align: right;\">\n",
       "      <th></th>\n",
       "      <th>запасы тыс. баррелей</th>\n",
       "    </tr>\n",
       "  </thead>\n",
       "  <tbody>\n",
       "    <tr>\n",
       "      <th>Порог безубыточности</th>\n",
       "      <td>111.111111</td>\n",
       "    </tr>\n",
       "    <tr>\n",
       "      <th>Первый регион</th>\n",
       "      <td>92.398800</td>\n",
       "    </tr>\n",
       "    <tr>\n",
       "      <th>Второй регион</th>\n",
       "      <td>166.582271</td>\n",
       "    </tr>\n",
       "    <tr>\n",
       "      <th>Третий регион</th>\n",
       "      <td>93.861233</td>\n",
       "    </tr>\n",
       "  </tbody>\n",
       "</table>\n",
       "</div>"
      ],
      "text/plain": [
       "                      запасы тыс. баррелей\n",
       "Порог безубыточности            111.111111\n",
       "Первый регион                    92.398800\n",
       "Второй регион                   166.582271\n",
       "Третий регион                    93.861233"
      ]
     },
     "execution_count": 33,
     "metadata": {},
     "output_type": "execute_result"
    }
   ],
   "source": [
    "# Достаточный объём сырья для безубыточной разработки новой скважины:\n",
    "\n",
    "profit_threshold = INVEST / REVENUE_PER_BARREL / SUBSAMPLE_SIZE\n",
    "print(f\"Для безубыточности необходимо иметь запасы не менее {round(profit_threshold,2)} тыс. баррелей \")\n",
    "\n",
    "compare = pd.DataFrame(data=[profit_threshold,\n",
    "                             true_pred_1['predicted'].mean(), \n",
    "                             true_pred_2['predicted'].mean(), \n",
    "                             true_pred_3['predicted'].mean(), \n",
    "                             ])\n",
    "compare.columns = ['запасы тыс. баррелей']\n",
    "compare.index = ['Порог безубыточности', 'Первый регион', 'Второй регион', 'Третий регион']\n",
    "compare"
   ]
  },
  {
   "cell_type": "markdown",
   "metadata": {},
   "source": [
    "### Выводы:\n",
    "* Средние запасы по всем трем регионам не преодалевают порог безубыточности. "
   ]
  },
  {
   "cell_type": "markdown",
   "metadata": {},
   "source": [
    "## Расчёт прибыли и рисков "
   ]
  },
  {
   "cell_type": "code",
   "execution_count": 57,
   "metadata": {
    "ExecuteTime": {
     "end_time": "2022-05-15T10:24:55.163655Z",
     "start_time": "2022-05-15T10:24:55.149923Z"
    }
   },
   "outputs": [],
   "source": [
    "def profit_calc(pred_true: pd.DataFrame, size: int, price:int = REVENUE_PER_BARREL, invest=INVEST):\n",
    "    pred_true = pred_true.sort_values(by='predicted', ascending=False)[:size] # Сортируем и оставляем только первые n значений\n",
    "    total_reserves = pred_true['true'].sum() # Сумируем целевой признак\n",
    "    region_revenue = total_reserves * price # умножаем на стоимость тысячи баррелей\n",
    "    return region_revenue - INVEST"
   ]
  },
  {
   "cell_type": "code",
   "execution_count": 58,
   "metadata": {
    "ExecuteTime": {
     "end_time": "2022-05-15T10:24:56.185309Z",
     "start_time": "2022-05-15T10:24:56.162528Z"
    }
   },
   "outputs": [
    {
     "data": {
      "text/html": [
       "<div>\n",
       "<style scoped>\n",
       "    .dataframe tbody tr th:only-of-type {\n",
       "        vertical-align: middle;\n",
       "    }\n",
       "\n",
       "    .dataframe tbody tr th {\n",
       "        vertical-align: top;\n",
       "    }\n",
       "\n",
       "    .dataframe thead th {\n",
       "        text-align: right;\n",
       "    }\n",
       "</style>\n",
       "<table border=\"1\" class=\"dataframe\">\n",
       "  <thead>\n",
       "    <tr style=\"text-align: right;\">\n",
       "      <th></th>\n",
       "      <th>млрд. руб.</th>\n",
       "    </tr>\n",
       "  </thead>\n",
       "  <tbody>\n",
       "    <tr>\n",
       "      <th>Первый регион</th>\n",
       "      <td>3.359</td>\n",
       "    </tr>\n",
       "    <tr>\n",
       "      <th>Второй регион</th>\n",
       "      <td>2.415</td>\n",
       "    </tr>\n",
       "    <tr>\n",
       "      <th>Третий регион</th>\n",
       "      <td>2.599</td>\n",
       "    </tr>\n",
       "  </tbody>\n",
       "</table>\n",
       "</div>"
      ],
      "text/plain": [
       "               млрд. руб.\n",
       "Первый регион       3.359\n",
       "Второй регион       2.415\n",
       "Третий регион       2.599"
      ]
     },
     "execution_count": 58,
     "metadata": {},
     "output_type": "execute_result"
    }
   ],
   "source": [
    "region_revenue = pd.DataFrame(\n",
    "    [profit_calc(true_pred_1, SUBSAMPLE_SIZE),\n",
    "    profit_calc(true_pred_2, SUBSAMPLE_SIZE),\n",
    "    profit_calc(true_pred_3, SUBSAMPLE_SIZE)])\n",
    "\n",
    "region_revenue.index = ['Первый регион', 'Второй регион', 'Третий регион']\n",
    "region_revenue /= 1e9\n",
    "region_revenue = region_revenue.round(3)\n",
    "region_revenue.columns = ['млрд. руб.']\n",
    "region_revenue"
   ]
  },
  {
   "cell_type": "code",
   "execution_count": 72,
   "metadata": {
    "ExecuteTime": {
     "end_time": "2022-05-15T10:28:01.442842Z",
     "start_time": "2022-05-15T10:28:01.432831Z"
    }
   },
   "outputs": [],
   "source": [
    "def bootstrap_revenue(sbs, sample_size, subsample_size, state=RandomState(12345), bootstrap_iter:int = 1000, alpha:float = .05, \n",
    "                      name:str = None):\n",
    "    bootstrap_profit = []     # Список для хранения значений\n",
    "    loss_count = 0\n",
    "    for i in tqdm(range(bootstrap_iter)):\n",
    "        sample = sbs.sample(SAMPLE_SIZE, replace=True, random_state=state) # делаем выборку\n",
    "        profit = profit_calc(sample, SUBSAMPLE_SIZE)                          # Считаем прибыль\n",
    "        bootstrap_profit.append(profit)                             # Добавляем в список          \n",
    "        if profit < 0: \n",
    "            loss_count += 1\n",
    "    bootstrap_profit = pd.Series(bootstrap_profit) / 1e9            # Делим значения на 1млрд. для отображения в млрд. руб.\n",
    "    bootstrap_profit = bootstrap_profit.round(3)\n",
    "    print('-'*80)\n",
    "    if name: \n",
    "        print(name)    \n",
    "    print(f\"Средняя прибыль: {bootstrap_profit.mean():.2f} млрд. руб.\")\n",
    "    print(f\"{1 - alpha:.2%} доверительный интервал: \\\n",
    "                {st.t.interval(alpha, bootstrap_iter - 1, bootstrap_profit.mean(), bootstrap_profit.sem())}\")\n",
    "    print(f\"Риск убытка {loss_count / bootstrap_iter:.2%}\")\n",
    "    print('-'*80)"
   ]
  },
  {
   "cell_type": "code",
   "execution_count": 73,
   "metadata": {
    "ExecuteTime": {
     "end_time": "2022-05-15T10:28:06.041951Z",
     "start_time": "2022-05-15T10:28:02.204860Z"
    }
   },
   "outputs": [
    {
     "data": {
      "application/vnd.jupyter.widget-view+json": {
       "model_id": "62d9131e1a8b4dde95cbd3b00f94b9af",
       "version_major": 2,
       "version_minor": 0
      },
      "text/plain": [
       "  0%|          | 0/1000 [00:00<?, ?it/s]"
      ]
     },
     "metadata": {},
     "output_type": "display_data"
    },
    {
     "name": "stdout",
     "output_type": "stream",
     "text": [
      "--------------------------------------------------------------------------------\n",
      "Регион 1\n",
      "Средняя прибыль: 0.41 млрд. руб.\n",
      "95.00% доверительный интервал:                 (0.4057569647337225, 0.40679903526627753)\n",
      "Риск убытка 6.70%\n",
      "--------------------------------------------------------------------------------\n"
     ]
    },
    {
     "data": {
      "application/vnd.jupyter.widget-view+json": {
       "model_id": "2a4435eb81f94380ac49b0b40c3a8fb3",
       "version_major": 2,
       "version_minor": 0
      },
      "text/plain": [
       "  0%|          | 0/1000 [00:00<?, ?it/s]"
      ]
     },
     "metadata": {},
     "output_type": "display_data"
    },
    {
     "name": "stdout",
     "output_type": "stream",
     "text": [
      "--------------------------------------------------------------------------------\n",
      "Регион 2\n",
      "Средняя прибыль: 0.44 млрд. руб.\n",
      "95.00% доверительный интервал:                 (0.4411060577775202, 0.4419139422224798)\n",
      "Риск убытка 1.60%\n",
      "--------------------------------------------------------------------------------\n"
     ]
    },
    {
     "data": {
      "application/vnd.jupyter.widget-view+json": {
       "model_id": "a03c8c4efc294bcaadb6e6896acc0b66",
       "version_major": 2,
       "version_minor": 0
      },
      "text/plain": [
       "  0%|          | 0/1000 [00:00<?, ?it/s]"
      ]
     },
     "metadata": {},
     "output_type": "display_data"
    },
    {
     "name": "stdout",
     "output_type": "stream",
     "text": [
      "--------------------------------------------------------------------------------\n",
      "Регион 3\n",
      "Средняя прибыль: 0.39 млрд. руб.\n",
      "95.00% доверительный интервал:                 (0.3846712878033612, 0.3857527121966388)\n",
      "Риск убытка 7.80%\n",
      "--------------------------------------------------------------------------------\n"
     ]
    }
   ],
   "source": [
    "# Регион 1\n",
    "bootstrap_revenue(true_pred_1, SAMPLE_SIZE, SUBSAMPLE_SIZE, name='Регион 1')\n",
    "# Регион 2\n",
    "bootstrap_revenue(true_pred_2, SAMPLE_SIZE, SUBSAMPLE_SIZE, name='Регион 2')\n",
    "# Регион 3\n",
    "bootstrap_revenue(true_pred_3, SAMPLE_SIZE, SUBSAMPLE_SIZE, name='Регион 3')"
   ]
  },
  {
   "cell_type": "markdown",
   "metadata": {},
   "source": [
    "### Итоговые выводы:\n",
    "\n",
    "* Чтобы разработка была безубыточна, необходимо иметь сумарный запас не менее 111 тысяч баррелей в регионе.\n",
    "* По итогам исследования все три региона преодалевают планку безубыточности но риски убытка различны.\n",
    "* Доверительный интервал довольно узкий, что говорит о высокой надёжности результатов.\n",
    "* По итогам исследования второй регион обладает наибольшим потенциалом, т.к. наиболее прибыльный, а так же имеет наименьший риск убытка. \n"
   ]
  },
  {
   "cell_type": "markdown",
   "metadata": {},
   "source": [
    "## Чек-лист готовности проекта"
   ]
  },
  {
   "cell_type": "markdown",
   "metadata": {},
   "source": [
    "Поставьте 'x' в выполненных пунктах. Далее нажмите Shift+Enter."
   ]
  },
  {
   "cell_type": "markdown",
   "metadata": {},
   "source": [
    "- [x]  Jupyter Notebook открыт\n",
    "- [x]  Весь код выполняется без ошибок\n",
    "- [x]  Ячейки с кодом расположены в порядке исполнения\n",
    "- [x]  Выполнен шаг 1: данные подготовлены\n",
    "- [x]  Выполнен шаг 2: модели обучены и проверены\n",
    "    - [x]  Данные корректно разбиты на обучающую и валидационную выборки\n",
    "    - [x]  Модели обучены, предсказания сделаны\n",
    "    - [x]  Предсказания и правильные ответы на валидационной выборке сохранены\n",
    "    - [x]  На экране напечатаны результаты\n",
    "    - [x]  Сделаны выводы\n",
    "- [x]  Выполнен шаг 3: проведена подготовка к расчёту прибыли\n",
    "    - [x]  Для всех ключевых значений созданы константы Python\n",
    "    - [x]  Посчитано минимальное среднее количество продукта в месторождениях региона, достаточное для разработки\n",
    "    - [x]  По предыдущему пункту сделаны выводы\n",
    "    - [x]  Написана функция расчёта прибыли\n",
    "- [x]  Выполнен шаг 4: посчитаны риски и прибыль\n",
    "    - [x]  Проведена процедура *Bootstrap*\n",
    "    - [x]  Все параметры бутстрепа соответствуют условию\n",
    "    - [x]  Найдены все нужные величины\n",
    "    - [x]  Предложен регион для разработки месторождения\n",
    "    - [x]  Выбор региона обоснован"
   ]
  },
  {
   "cell_type": "code",
   "execution_count": null,
   "metadata": {},
   "outputs": [],
   "source": []
  }
 ],
 "metadata": {
  "ExecuteTimeLog": [
   {
    "duration": 374,
    "start_time": "2022-05-12T08:56:32.076Z"
   },
   {
    "duration": 24,
    "start_time": "2022-05-12T08:56:37.251Z"
   },
   {
    "duration": 348,
    "start_time": "2022-05-12T08:57:09.329Z"
   },
   {
    "duration": 365,
    "start_time": "2022-05-12T08:57:22.781Z"
   },
   {
    "duration": 16,
    "start_time": "2022-05-12T08:57:25.921Z"
   },
   {
    "duration": 13,
    "start_time": "2022-05-12T08:57:43.498Z"
   },
   {
    "duration": 9,
    "start_time": "2022-05-12T08:57:47.222Z"
   },
   {
    "duration": 70,
    "start_time": "2022-05-12T08:57:51.775Z"
   },
   {
    "duration": 76,
    "start_time": "2022-05-12T08:58:02.046Z"
   },
   {
    "duration": 13,
    "start_time": "2022-05-12T08:58:09.326Z"
   },
   {
    "duration": 12,
    "start_time": "2022-05-12T09:02:36.326Z"
   },
   {
    "duration": 10,
    "start_time": "2022-05-12T09:02:56.914Z"
   },
   {
    "duration": 10,
    "start_time": "2022-05-12T09:03:02.122Z"
   },
   {
    "duration": 45,
    "start_time": "2022-05-12T09:03:10.717Z"
   },
   {
    "duration": 44,
    "start_time": "2022-05-12T09:03:15.539Z"
   },
   {
    "duration": 46,
    "start_time": "2022-05-12T09:03:17.931Z"
   },
   {
    "duration": 16,
    "start_time": "2022-05-12T09:03:25.811Z"
   },
   {
    "duration": 16,
    "start_time": "2022-05-12T09:03:29.424Z"
   },
   {
    "duration": 8,
    "start_time": "2022-05-12T09:03:43.310Z"
   },
   {
    "duration": 22,
    "start_time": "2022-05-12T09:03:47.842Z"
   },
   {
    "duration": 29,
    "start_time": "2022-05-12T09:04:28.775Z"
   },
   {
    "duration": 29,
    "start_time": "2022-05-12T09:04:47.085Z"
   },
   {
    "duration": 11,
    "start_time": "2022-05-12T09:09:26.549Z"
   },
   {
    "duration": 15,
    "start_time": "2022-05-12T09:09:48.231Z"
   },
   {
    "duration": 3,
    "start_time": "2022-05-12T09:10:00.697Z"
   },
   {
    "duration": 9,
    "start_time": "2022-05-12T09:10:38.927Z"
   },
   {
    "duration": 38,
    "start_time": "2022-05-12T09:10:43.259Z"
   },
   {
    "duration": 14,
    "start_time": "2022-05-12T09:11:58.907Z"
   },
   {
    "duration": 22,
    "start_time": "2022-05-12T09:17:01.349Z"
   },
   {
    "duration": 19,
    "start_time": "2022-05-12T09:17:04.245Z"
   },
   {
    "duration": 25,
    "start_time": "2022-05-12T09:17:29.373Z"
   },
   {
    "duration": 38,
    "start_time": "2022-05-12T09:17:31.727Z"
   },
   {
    "duration": 45,
    "start_time": "2022-05-12T09:17:36.925Z"
   },
   {
    "duration": 13,
    "start_time": "2022-05-12T09:20:22.609Z"
   },
   {
    "duration": 734,
    "start_time": "2022-05-12T09:20:28.277Z"
   },
   {
    "duration": 124,
    "start_time": "2022-05-12T09:20:36.298Z"
   },
   {
    "duration": 138,
    "start_time": "2022-05-12T09:20:40.187Z"
   },
   {
    "duration": 155,
    "start_time": "2022-05-12T09:20:45.885Z"
   },
   {
    "duration": 21,
    "start_time": "2022-05-12T09:20:51.715Z"
   },
   {
    "duration": 128,
    "start_time": "2022-05-12T09:20:55.345Z"
   },
   {
    "duration": 129,
    "start_time": "2022-05-12T09:20:59.884Z"
   },
   {
    "duration": 11,
    "start_time": "2022-05-12T09:21:45.429Z"
   },
   {
    "duration": 24,
    "start_time": "2022-05-12T09:21:51.354Z"
   },
   {
    "duration": 11,
    "start_time": "2022-05-12T09:22:21.880Z"
   },
   {
    "duration": 9,
    "start_time": "2022-05-12T09:22:30.724Z"
   },
   {
    "duration": 9,
    "start_time": "2022-05-12T09:22:40.335Z"
   },
   {
    "duration": 10,
    "start_time": "2022-05-12T09:22:50.851Z"
   },
   {
    "duration": 10,
    "start_time": "2022-05-12T09:22:58.577Z"
   },
   {
    "duration": 9,
    "start_time": "2022-05-12T09:22:59.906Z"
   },
   {
    "duration": 8,
    "start_time": "2022-05-12T09:23:13.343Z"
   },
   {
    "duration": 8,
    "start_time": "2022-05-12T09:23:36.563Z"
   },
   {
    "duration": 9,
    "start_time": "2022-05-12T09:23:38.028Z"
   },
   {
    "duration": 10,
    "start_time": "2022-05-12T09:23:47.006Z"
   },
   {
    "duration": 376,
    "start_time": "2022-05-12T09:23:51.344Z"
   },
   {
    "duration": 50,
    "start_time": "2022-05-12T09:23:52.757Z"
   },
   {
    "duration": 12,
    "start_time": "2022-05-12T09:24:00.403Z"
   },
   {
    "duration": 6,
    "start_time": "2022-05-12T09:24:06.262Z"
   },
   {
    "duration": 19,
    "start_time": "2022-05-12T09:24:37.800Z"
   },
   {
    "duration": 26,
    "start_time": "2022-05-12T09:27:48.831Z"
   },
   {
    "duration": 9,
    "start_time": "2022-05-12T09:59:29.445Z"
   },
   {
    "duration": 10,
    "start_time": "2022-05-12T10:00:03.533Z"
   },
   {
    "duration": 3,
    "start_time": "2022-05-12T10:00:15.383Z"
   },
   {
    "duration": 11,
    "start_time": "2022-05-12T10:01:11.417Z"
   },
   {
    "duration": 3,
    "start_time": "2022-05-12T10:01:13.819Z"
   },
   {
    "duration": 4,
    "start_time": "2022-05-12T10:01:33.181Z"
   },
   {
    "duration": 99,
    "start_time": "2022-05-12T10:02:08.508Z"
   },
   {
    "duration": 14,
    "start_time": "2022-05-12T10:02:15.744Z"
   },
   {
    "duration": 22,
    "start_time": "2022-05-12T10:03:51.280Z"
   },
   {
    "duration": 19,
    "start_time": "2022-05-12T10:05:48.189Z"
   },
   {
    "duration": 64,
    "start_time": "2022-05-12T10:09:28.626Z"
   },
   {
    "duration": 14,
    "start_time": "2022-05-12T10:40:12.229Z"
   },
   {
    "duration": 3,
    "start_time": "2022-05-12T10:49:56.407Z"
   },
   {
    "duration": 4,
    "start_time": "2022-05-12T10:50:00.087Z"
   },
   {
    "duration": 5,
    "start_time": "2022-05-12T10:53:43.993Z"
   },
   {
    "duration": 4,
    "start_time": "2022-05-12T11:01:03.510Z"
   },
   {
    "duration": 7,
    "start_time": "2022-05-12T11:01:33.555Z"
   },
   {
    "duration": 6,
    "start_time": "2022-05-12T11:01:40.989Z"
   },
   {
    "duration": 5,
    "start_time": "2022-05-12T11:01:43.840Z"
   },
   {
    "duration": 4,
    "start_time": "2022-05-12T11:04:05.609Z"
   },
   {
    "duration": 3,
    "start_time": "2022-05-12T11:04:46.892Z"
   },
   {
    "duration": 3,
    "start_time": "2022-05-12T11:05:04.052Z"
   },
   {
    "duration": 4,
    "start_time": "2022-05-12T11:05:09.976Z"
   },
   {
    "duration": 5,
    "start_time": "2022-05-12T11:05:44.127Z"
   },
   {
    "duration": 5,
    "start_time": "2022-05-12T11:07:28.605Z"
   },
   {
    "duration": 5,
    "start_time": "2022-05-12T11:07:54.992Z"
   },
   {
    "duration": 4,
    "start_time": "2022-05-12T11:08:29.015Z"
   },
   {
    "duration": 4,
    "start_time": "2022-05-12T11:15:11.854Z"
   },
   {
    "duration": 4,
    "start_time": "2022-05-12T11:15:57.246Z"
   },
   {
    "duration": 6,
    "start_time": "2022-05-12T11:15:57.446Z"
   },
   {
    "duration": 4,
    "start_time": "2022-05-12T11:16:21.239Z"
   },
   {
    "duration": 3,
    "start_time": "2022-05-12T11:34:55.317Z"
   },
   {
    "duration": 9,
    "start_time": "2022-05-12T13:21:36.422Z"
   },
   {
    "duration": 5,
    "start_time": "2022-05-12T13:21:41.050Z"
   },
   {
    "duration": 5,
    "start_time": "2022-05-12T13:22:40.563Z"
   },
   {
    "duration": 12,
    "start_time": "2022-05-12T13:22:51.886Z"
   },
   {
    "duration": 18,
    "start_time": "2022-05-12T13:24:44.289Z"
   },
   {
    "duration": 5,
    "start_time": "2022-05-12T13:24:50.051Z"
   },
   {
    "duration": 159,
    "start_time": "2022-05-12T13:25:33.812Z"
   },
   {
    "duration": 18,
    "start_time": "2022-05-12T13:26:05.814Z"
   },
   {
    "duration": 62,
    "start_time": "2022-05-12T13:28:35.878Z"
   },
   {
    "duration": 11,
    "start_time": "2022-05-12T13:30:18.526Z"
   },
   {
    "duration": 13,
    "start_time": "2022-05-12T13:30:43.422Z"
   },
   {
    "duration": 3,
    "start_time": "2022-05-12T13:30:53.768Z"
   },
   {
    "duration": 14,
    "start_time": "2022-05-12T13:30:57.010Z"
   },
   {
    "duration": 9,
    "start_time": "2022-05-12T13:31:07.249Z"
   },
   {
    "duration": 11,
    "start_time": "2022-05-12T13:31:40.757Z"
   },
   {
    "duration": 8,
    "start_time": "2022-05-12T13:31:48.119Z"
   },
   {
    "duration": 9,
    "start_time": "2022-05-12T13:31:51.933Z"
   },
   {
    "duration": 9,
    "start_time": "2022-05-12T13:32:21.130Z"
   },
   {
    "duration": 10,
    "start_time": "2022-05-12T13:32:52.572Z"
   },
   {
    "duration": 148,
    "start_time": "2022-05-12T13:35:23.463Z"
   },
   {
    "duration": 4,
    "start_time": "2022-05-12T13:37:38.566Z"
   },
   {
    "duration": 4,
    "start_time": "2022-05-12T13:38:00.045Z"
   },
   {
    "duration": 648,
    "start_time": "2022-05-12T13:38:00.052Z"
   },
   {
    "duration": 92,
    "start_time": "2022-05-12T13:38:00.704Z"
   },
   {
    "duration": 38,
    "start_time": "2022-05-12T13:38:00.799Z"
   },
   {
    "duration": 45,
    "start_time": "2022-05-12T13:38:00.839Z"
   },
   {
    "duration": 122,
    "start_time": "2022-05-12T13:38:00.886Z"
   },
   {
    "duration": 177,
    "start_time": "2022-05-12T13:38:01.021Z"
   },
   {
    "duration": 117,
    "start_time": "2022-05-12T13:38:01.201Z"
   },
   {
    "duration": 166,
    "start_time": "2022-05-12T13:38:01.327Z"
   },
   {
    "duration": 9,
    "start_time": "2022-05-12T13:38:07.814Z"
   },
   {
    "duration": 13,
    "start_time": "2022-05-12T13:38:38.150Z"
   },
   {
    "duration": 5,
    "start_time": "2022-05-12T13:39:35.715Z"
   },
   {
    "duration": 7,
    "start_time": "2022-05-12T13:39:35.871Z"
   },
   {
    "duration": 3,
    "start_time": "2022-05-12T13:40:45.935Z"
   },
   {
    "duration": 8,
    "start_time": "2022-05-12T13:40:46.815Z"
   },
   {
    "duration": 8,
    "start_time": "2022-05-12T13:41:03.727Z"
   },
   {
    "duration": 10,
    "start_time": "2022-05-12T13:41:04.783Z"
   },
   {
    "duration": 3,
    "start_time": "2022-05-12T13:42:57.151Z"
   },
   {
    "duration": 21,
    "start_time": "2022-05-12T13:42:57.586Z"
   },
   {
    "duration": 3,
    "start_time": "2022-05-12T13:43:33.280Z"
   },
   {
    "duration": 863,
    "start_time": "2022-05-12T13:43:33.862Z"
   },
   {
    "duration": 4,
    "start_time": "2022-05-12T13:43:42.761Z"
   },
   {
    "duration": 1588,
    "start_time": "2022-05-12T13:43:43.427Z"
   },
   {
    "duration": 860,
    "start_time": "2022-05-12T13:44:15.688Z"
   },
   {
    "duration": 883,
    "start_time": "2022-05-12T13:44:30.269Z"
   },
   {
    "duration": 3,
    "start_time": "2022-05-12T13:45:17.076Z"
   },
   {
    "duration": 864,
    "start_time": "2022-05-12T13:45:17.787Z"
   },
   {
    "duration": 1052,
    "start_time": "2022-05-12T13:45:20.858Z"
   },
   {
    "duration": 3,
    "start_time": "2022-05-12T13:45:47.771Z"
   },
   {
    "duration": 865,
    "start_time": "2022-05-12T13:45:48.516Z"
   },
   {
    "duration": 875,
    "start_time": "2022-05-12T13:45:53.378Z"
   },
   {
    "duration": 6,
    "start_time": "2022-05-12T13:46:18.612Z"
   },
   {
    "duration": 880,
    "start_time": "2022-05-12T13:46:19.416Z"
   },
   {
    "duration": 5,
    "start_time": "2022-05-12T13:46:48.799Z"
   },
   {
    "duration": 842,
    "start_time": "2022-05-12T13:46:49.464Z"
   },
   {
    "duration": 4,
    "start_time": "2022-05-12T13:47:02.730Z"
   },
   {
    "duration": 1024,
    "start_time": "2022-05-12T13:47:03.175Z"
   },
   {
    "duration": 3,
    "start_time": "2022-05-12T13:49:12.643Z"
   },
   {
    "duration": 823,
    "start_time": "2022-05-12T13:49:12.820Z"
   },
   {
    "duration": 3,
    "start_time": "2022-05-12T13:51:11.281Z"
   },
   {
    "duration": 811,
    "start_time": "2022-05-12T13:51:11.929Z"
   },
   {
    "duration": 844,
    "start_time": "2022-05-12T13:52:00.808Z"
   },
   {
    "duration": 3081,
    "start_time": "2022-05-12T13:54:51.044Z"
   },
   {
    "duration": 3,
    "start_time": "2022-05-12T13:55:44.544Z"
   },
   {
    "duration": 3037,
    "start_time": "2022-05-12T13:55:44.959Z"
   },
   {
    "duration": 11,
    "start_time": "2022-05-12T13:56:53.432Z"
   },
   {
    "duration": 7,
    "start_time": "2022-05-12T13:56:57.635Z"
   },
   {
    "duration": 9,
    "start_time": "2022-05-12T13:56:59.720Z"
   },
   {
    "duration": 2494,
    "start_time": "2022-05-12T13:57:36.267Z"
   },
   {
    "duration": 2490,
    "start_time": "2022-05-12T14:00:18.646Z"
   },
   {
    "duration": 2244,
    "start_time": "2022-05-12T14:00:34.297Z"
   },
   {
    "duration": 4,
    "start_time": "2022-05-12T14:04:49.056Z"
   },
   {
    "duration": 2432,
    "start_time": "2022-05-12T14:04:49.668Z"
   },
   {
    "duration": 7,
    "start_time": "2022-05-12T14:07:53.312Z"
   },
   {
    "duration": 4,
    "start_time": "2022-05-12T14:07:58.653Z"
   },
   {
    "duration": 5,
    "start_time": "2022-05-12T14:08:12.091Z"
   },
   {
    "duration": 5,
    "start_time": "2022-05-12T14:08:18.262Z"
   },
   {
    "duration": 6,
    "start_time": "2022-05-12T14:08:28.217Z"
   },
   {
    "duration": 7,
    "start_time": "2022-05-12T14:08:36.928Z"
   },
   {
    "duration": 99487,
    "start_time": "2022-05-12T14:10:56.877Z"
   },
   {
    "duration": 44,
    "start_time": "2022-05-12T14:12:42.031Z"
   },
   {
    "duration": 86357,
    "start_time": "2022-05-12T14:12:52.086Z"
   },
   {
    "duration": 59865,
    "start_time": "2022-05-12T14:14:21.063Z"
   },
   {
    "duration": 181,
    "start_time": "2022-05-12T14:15:39.384Z"
   },
   {
    "duration": 8,
    "start_time": "2022-05-12T14:15:49.001Z"
   },
   {
    "duration": 5,
    "start_time": "2022-05-12T14:16:27.550Z"
   },
   {
    "duration": 6,
    "start_time": "2022-05-12T14:16:41.829Z"
   },
   {
    "duration": 7,
    "start_time": "2022-05-12T14:16:58.923Z"
   },
   {
    "duration": 4,
    "start_time": "2022-05-12T14:18:38.722Z"
   },
   {
    "duration": 122,
    "start_time": "2022-05-12T14:18:46.159Z"
   },
   {
    "duration": 6,
    "start_time": "2022-05-12T14:18:53.758Z"
   },
   {
    "duration": 30,
    "start_time": "2022-05-12T14:19:06.447Z"
   },
   {
    "duration": 13,
    "start_time": "2022-05-12T14:19:09.322Z"
   },
   {
    "duration": 3,
    "start_time": "2022-05-12T14:19:17.079Z"
   },
   {
    "duration": 14,
    "start_time": "2022-05-12T14:19:20.483Z"
   },
   {
    "duration": 6,
    "start_time": "2022-05-12T14:19:41.110Z"
   },
   {
    "duration": 14,
    "start_time": "2022-05-12T14:19:41.374Z"
   },
   {
    "duration": 5,
    "start_time": "2022-05-12T14:21:10.881Z"
   },
   {
    "duration": 12,
    "start_time": "2022-05-12T14:21:16.177Z"
   },
   {
    "duration": 4,
    "start_time": "2022-05-12T14:21:26.632Z"
   },
   {
    "duration": 7,
    "start_time": "2022-05-12T14:21:26.946Z"
   },
   {
    "duration": 159,
    "start_time": "2022-05-12T14:21:49.391Z"
   },
   {
    "duration": 204,
    "start_time": "2022-05-12T14:22:44.993Z"
   },
   {
    "duration": 6,
    "start_time": "2022-05-12T14:22:54.162Z"
   },
   {
    "duration": 8,
    "start_time": "2022-05-12T14:23:02.710Z"
   },
   {
    "duration": 5,
    "start_time": "2022-05-12T14:23:12.856Z"
   },
   {
    "duration": 38,
    "start_time": "2022-05-12T14:24:03.334Z"
   },
   {
    "duration": 44,
    "start_time": "2022-05-12T14:24:09.608Z"
   },
   {
    "duration": 226,
    "start_time": "2022-05-12T14:24:23.145Z"
   },
   {
    "duration": 47,
    "start_time": "2022-05-12T14:25:32.639Z"
   },
   {
    "duration": 65,
    "start_time": "2022-05-12T14:25:43.186Z"
   },
   {
    "duration": 8,
    "start_time": "2022-05-12T14:25:56.469Z"
   },
   {
    "duration": 6,
    "start_time": "2022-05-12T14:26:16.253Z"
   },
   {
    "duration": 57,
    "start_time": "2022-05-12T20:36:04.558Z"
   },
   {
    "duration": 1058,
    "start_time": "2022-05-12T20:36:08.224Z"
   },
   {
    "duration": 348,
    "start_time": "2022-05-12T20:36:09.284Z"
   },
   {
    "duration": 50,
    "start_time": "2022-05-12T20:36:09.633Z"
   },
   {
    "duration": 24,
    "start_time": "2022-05-12T20:36:09.684Z"
   },
   {
    "duration": 29,
    "start_time": "2022-05-12T20:36:09.711Z"
   },
   {
    "duration": 50,
    "start_time": "2022-05-12T20:36:09.741Z"
   },
   {
    "duration": 106,
    "start_time": "2022-05-12T20:36:09.793Z"
   },
   {
    "duration": 190,
    "start_time": "2022-05-12T20:36:09.905Z"
   },
   {
    "duration": 75,
    "start_time": "2022-05-12T20:36:10.099Z"
   },
   {
    "duration": 129,
    "start_time": "2022-05-12T20:36:10.176Z"
   },
   {
    "duration": 5,
    "start_time": "2022-05-12T20:36:10.307Z"
   },
   {
    "duration": 10,
    "start_time": "2022-05-12T20:36:10.313Z"
   },
   {
    "duration": 7,
    "start_time": "2022-05-12T20:36:10.325Z"
   },
   {
    "duration": 2184,
    "start_time": "2022-05-12T20:36:10.334Z"
   },
   {
    "duration": 3,
    "start_time": "2022-05-12T20:36:12.519Z"
   },
   {
    "duration": 8,
    "start_time": "2022-05-12T20:36:12.524Z"
   },
   {
    "duration": 7,
    "start_time": "2022-05-12T20:36:12.533Z"
   },
   {
    "duration": 233,
    "start_time": "2022-05-12T20:36:12.541Z"
   },
   {
    "duration": 5,
    "start_time": "2022-05-12T20:36:55.652Z"
   },
   {
    "duration": 5,
    "start_time": "2022-05-12T20:37:53.711Z"
   },
   {
    "duration": 8,
    "start_time": "2022-05-12T20:39:47.517Z"
   },
   {
    "duration": 10,
    "start_time": "2022-05-12T20:40:30.489Z"
   },
   {
    "duration": 4,
    "start_time": "2022-05-12T20:40:34.033Z"
   },
   {
    "duration": 8,
    "start_time": "2022-05-12T20:40:48.998Z"
   },
   {
    "duration": 7,
    "start_time": "2022-05-12T20:40:56.826Z"
   },
   {
    "duration": 7,
    "start_time": "2022-05-12T20:41:21.837Z"
   },
   {
    "duration": 21,
    "start_time": "2022-05-12T20:42:21.298Z"
   },
   {
    "duration": 17,
    "start_time": "2022-05-12T20:42:44.708Z"
   },
   {
    "duration": 16,
    "start_time": "2022-05-12T20:42:51.997Z"
   },
   {
    "duration": 18,
    "start_time": "2022-05-12T20:42:59.096Z"
   },
   {
    "duration": 18,
    "start_time": "2022-05-12T20:43:34.398Z"
   },
   {
    "duration": 43,
    "start_time": "2022-05-12T20:43:54.562Z"
   },
   {
    "duration": 2,
    "start_time": "2022-05-12T20:43:59.841Z"
   },
   {
    "duration": 14,
    "start_time": "2022-05-12T20:44:00.195Z"
   },
   {
    "duration": 12,
    "start_time": "2022-05-12T20:45:06.293Z"
   },
   {
    "duration": 12,
    "start_time": "2022-05-12T20:45:25.440Z"
   },
   {
    "duration": 12,
    "start_time": "2022-05-12T20:46:04.498Z"
   },
   {
    "duration": 13,
    "start_time": "2022-05-12T20:46:07.590Z"
   },
   {
    "duration": 12,
    "start_time": "2022-05-12T20:46:10.297Z"
   },
   {
    "duration": 7,
    "start_time": "2022-05-12T20:46:22.171Z"
   },
   {
    "duration": 3,
    "start_time": "2022-05-12T20:46:28.224Z"
   },
   {
    "duration": 3,
    "start_time": "2022-05-12T20:46:33.539Z"
   },
   {
    "duration": 7,
    "start_time": "2022-05-12T20:46:47.814Z"
   },
   {
    "duration": 8,
    "start_time": "2022-05-12T20:46:52.445Z"
   },
   {
    "duration": 3,
    "start_time": "2022-05-12T20:46:57.695Z"
   },
   {
    "duration": 159,
    "start_time": "2022-05-12T20:47:00.316Z"
   },
   {
    "duration": 9,
    "start_time": "2022-05-12T20:47:10.298Z"
   },
   {
    "duration": 4,
    "start_time": "2022-05-12T20:47:14.843Z"
   },
   {
    "duration": 11,
    "start_time": "2022-05-12T20:47:20.369Z"
   },
   {
    "duration": 5,
    "start_time": "2022-05-12T20:47:32.294Z"
   },
   {
    "duration": 3,
    "start_time": "2022-05-12T20:47:53.457Z"
   },
   {
    "duration": 20,
    "start_time": "2022-05-12T20:47:54.436Z"
   },
   {
    "duration": 9,
    "start_time": "2022-05-12T20:49:23.192Z"
   },
   {
    "duration": 6,
    "start_time": "2022-05-12T20:49:36.341Z"
   },
   {
    "duration": 137,
    "start_time": "2022-05-12T20:53:35.233Z"
   },
   {
    "duration": 6,
    "start_time": "2022-05-12T20:53:50.351Z"
   },
   {
    "duration": 5,
    "start_time": "2022-05-12T20:53:59.117Z"
   },
   {
    "duration": 3,
    "start_time": "2022-05-12T20:54:09.242Z"
   },
   {
    "duration": 10,
    "start_time": "2022-05-12T20:54:13.316Z"
   },
   {
    "duration": 13,
    "start_time": "2022-05-12T20:54:16.786Z"
   },
   {
    "duration": 3,
    "start_time": "2022-05-12T20:54:21.034Z"
   },
   {
    "duration": 8,
    "start_time": "2022-05-12T20:54:25.330Z"
   },
   {
    "duration": 4,
    "start_time": "2022-05-12T20:54:30.530Z"
   },
   {
    "duration": 270,
    "start_time": "2022-05-12T20:55:44.498Z"
   },
   {
    "duration": 11,
    "start_time": "2022-05-12T20:55:57.194Z"
   },
   {
    "duration": 25,
    "start_time": "2022-05-12T20:56:01.351Z"
   },
   {
    "duration": 13,
    "start_time": "2022-05-12T20:56:08.623Z"
   },
   {
    "duration": 5,
    "start_time": "2022-05-12T20:56:13.201Z"
   },
   {
    "duration": 9,
    "start_time": "2022-05-12T20:56:19.472Z"
   },
   {
    "duration": 4,
    "start_time": "2022-05-12T20:56:23.308Z"
   },
   {
    "duration": 4,
    "start_time": "2022-05-12T20:56:27.743Z"
   },
   {
    "duration": 20,
    "start_time": "2022-05-12T20:56:46.661Z"
   },
   {
    "duration": 11,
    "start_time": "2022-05-12T20:56:50.824Z"
   },
   {
    "duration": 672,
    "start_time": "2022-05-12T20:57:15.305Z"
   },
   {
    "duration": 13,
    "start_time": "2022-05-12T20:57:59.116Z"
   },
   {
    "duration": 1099,
    "start_time": "2022-05-12T20:58:22.254Z"
   },
   {
    "duration": 377,
    "start_time": "2022-05-12T20:58:23.355Z"
   },
   {
    "duration": 47,
    "start_time": "2022-05-12T20:58:23.733Z"
   },
   {
    "duration": 11,
    "start_time": "2022-05-12T20:58:23.788Z"
   },
   {
    "duration": 31,
    "start_time": "2022-05-12T20:58:23.802Z"
   },
   {
    "duration": 114,
    "start_time": "2022-05-12T20:58:23.835Z"
   },
   {
    "duration": 24,
    "start_time": "2022-05-12T20:58:34.788Z"
   },
   {
    "duration": 10,
    "start_time": "2022-05-12T20:58:38.796Z"
   },
   {
    "duration": 4,
    "start_time": "2022-05-12T20:59:24.221Z"
   },
   {
    "duration": 17,
    "start_time": "2022-05-12T20:59:47.498Z"
   },
   {
    "duration": 4,
    "start_time": "2022-05-12T20:59:51.821Z"
   },
   {
    "duration": 16,
    "start_time": "2022-05-12T21:00:26.404Z"
   },
   {
    "duration": 5,
    "start_time": "2022-05-12T21:00:29.592Z"
   },
   {
    "duration": 4,
    "start_time": "2022-05-12T21:00:45.107Z"
   },
   {
    "duration": 93,
    "start_time": "2022-05-12T21:02:56.585Z"
   },
   {
    "duration": 17,
    "start_time": "2022-05-12T21:03:33.903Z"
   },
   {
    "duration": 2,
    "start_time": "2022-05-12T21:03:39.440Z"
   },
   {
    "duration": 10,
    "start_time": "2022-05-12T21:03:40.363Z"
   },
   {
    "duration": 30,
    "start_time": "2022-05-12T21:03:54.665Z"
   },
   {
    "duration": 4,
    "start_time": "2022-05-12T21:04:00.492Z"
   },
   {
    "duration": 5,
    "start_time": "2022-05-12T21:04:02.971Z"
   },
   {
    "duration": 4,
    "start_time": "2022-05-12T21:04:28.751Z"
   },
   {
    "duration": 9,
    "start_time": "2022-05-12T21:04:43.321Z"
   },
   {
    "duration": 12,
    "start_time": "2022-05-12T21:05:42.695Z"
   },
   {
    "duration": 3,
    "start_time": "2022-05-12T21:06:04.003Z"
   },
   {
    "duration": 5,
    "start_time": "2022-05-12T21:06:04.464Z"
   },
   {
    "duration": 10,
    "start_time": "2022-05-12T21:06:05.519Z"
   },
   {
    "duration": 10,
    "start_time": "2022-05-12T21:06:57.839Z"
   },
   {
    "duration": 7,
    "start_time": "2022-05-12T21:07:57.794Z"
   },
   {
    "duration": 4,
    "start_time": "2022-05-12T21:08:12.084Z"
   },
   {
    "duration": 4,
    "start_time": "2022-05-12T21:08:35.889Z"
   },
   {
    "duration": 12,
    "start_time": "2022-05-12T21:08:43.369Z"
   },
   {
    "duration": 4,
    "start_time": "2022-05-12T21:09:10.286Z"
   },
   {
    "duration": 8,
    "start_time": "2022-05-12T21:09:38.203Z"
   },
   {
    "duration": 4,
    "start_time": "2022-05-12T21:09:41.953Z"
   },
   {
    "duration": 4,
    "start_time": "2022-05-12T21:10:07.308Z"
   },
   {
    "duration": 8,
    "start_time": "2022-05-12T21:10:17.615Z"
   },
   {
    "duration": 8,
    "start_time": "2022-05-12T21:11:17.014Z"
   },
   {
    "duration": 7,
    "start_time": "2022-05-12T21:11:32.641Z"
   },
   {
    "duration": 24,
    "start_time": "2022-05-12T21:13:18.690Z"
   },
   {
    "duration": 166,
    "start_time": "2022-05-12T21:14:04.105Z"
   },
   {
    "duration": 20,
    "start_time": "2022-05-12T21:18:13.238Z"
   },
   {
    "duration": 692,
    "start_time": "2022-05-12T21:18:19.214Z"
   },
   {
    "duration": 467,
    "start_time": "2022-05-12T21:18:27.472Z"
   },
   {
    "duration": 15,
    "start_time": "2022-05-12T21:18:40.522Z"
   },
   {
    "duration": 497,
    "start_time": "2022-05-12T21:18:43.831Z"
   },
   {
    "duration": 428,
    "start_time": "2022-05-12T21:18:58.689Z"
   },
   {
    "duration": 5,
    "start_time": "2022-05-12T21:19:16.029Z"
   },
   {
    "duration": 10,
    "start_time": "2022-05-12T21:19:39.317Z"
   },
   {
    "duration": 15,
    "start_time": "2022-05-12T21:19:44.736Z"
   },
   {
    "duration": 427,
    "start_time": "2022-05-12T21:19:52.695Z"
   },
   {
    "duration": 1114,
    "start_time": "2022-05-12T21:20:21.550Z"
   },
   {
    "duration": 365,
    "start_time": "2022-05-12T21:20:22.666Z"
   },
   {
    "duration": 56,
    "start_time": "2022-05-12T21:20:23.033Z"
   },
   {
    "duration": 11,
    "start_time": "2022-05-12T21:20:23.091Z"
   },
   {
    "duration": 33,
    "start_time": "2022-05-12T21:20:23.105Z"
   },
   {
    "duration": 6,
    "start_time": "2022-05-12T21:20:27.754Z"
   },
   {
    "duration": 96,
    "start_time": "2022-05-12T21:20:33.236Z"
   },
   {
    "duration": 23,
    "start_time": "2022-05-12T21:20:37.861Z"
   },
   {
    "duration": 8,
    "start_time": "2022-05-12T21:20:42.851Z"
   },
   {
    "duration": 478,
    "start_time": "2022-05-12T21:20:48.668Z"
   },
   {
    "duration": 20,
    "start_time": "2022-05-12T21:20:57.363Z"
   },
   {
    "duration": 405,
    "start_time": "2022-05-12T21:21:02.414Z"
   },
   {
    "duration": 595,
    "start_time": "2022-05-12T21:21:16.715Z"
   },
   {
    "duration": 577,
    "start_time": "2022-05-12T21:21:54.483Z"
   },
   {
    "duration": 630,
    "start_time": "2022-05-12T21:22:22.884Z"
   },
   {
    "duration": 8,
    "start_time": "2022-05-12T21:22:45.495Z"
   },
   {
    "duration": 10,
    "start_time": "2022-05-12T21:22:48.455Z"
   },
   {
    "duration": 585,
    "start_time": "2022-05-12T21:23:15.467Z"
   },
   {
    "duration": 9,
    "start_time": "2022-05-12T21:23:19.991Z"
   },
   {
    "duration": 530,
    "start_time": "2022-05-12T21:23:35.034Z"
   },
   {
    "duration": 632,
    "start_time": "2022-05-12T21:23:44.932Z"
   },
   {
    "duration": 2,
    "start_time": "2022-05-12T21:23:51.901Z"
   },
   {
    "duration": 9,
    "start_time": "2022-05-12T21:23:54.466Z"
   },
   {
    "duration": 133,
    "start_time": "2022-05-12T21:25:03.198Z"
   },
   {
    "duration": 2,
    "start_time": "2022-05-12T21:25:05.718Z"
   },
   {
    "duration": 3,
    "start_time": "2022-05-12T21:25:54.884Z"
   },
   {
    "duration": 9,
    "start_time": "2022-05-12T21:26:16.227Z"
   },
   {
    "duration": 8,
    "start_time": "2022-05-12T21:26:21.101Z"
   },
   {
    "duration": 14,
    "start_time": "2022-05-12T21:26:30.800Z"
   },
   {
    "duration": 9,
    "start_time": "2022-05-12T21:26:49.808Z"
   },
   {
    "duration": 3,
    "start_time": "2022-05-12T21:27:01.272Z"
   },
   {
    "duration": 11,
    "start_time": "2022-05-12T21:27:01.741Z"
   },
   {
    "duration": 14,
    "start_time": "2022-05-12T21:27:41.429Z"
   },
   {
    "duration": 19,
    "start_time": "2022-05-12T21:27:44.909Z"
   },
   {
    "duration": 9,
    "start_time": "2022-05-12T21:28:23.536Z"
   },
   {
    "duration": 10,
    "start_time": "2022-05-12T21:28:26.468Z"
   },
   {
    "duration": 9,
    "start_time": "2022-05-12T21:28:29.888Z"
   },
   {
    "duration": 20,
    "start_time": "2022-05-12T21:28:37.300Z"
   },
   {
    "duration": 9,
    "start_time": "2022-05-12T21:29:31.123Z"
   },
   {
    "duration": 9,
    "start_time": "2022-05-12T21:29:36.705Z"
   },
   {
    "duration": 9,
    "start_time": "2022-05-12T21:29:39.144Z"
   },
   {
    "duration": 10,
    "start_time": "2022-05-12T21:29:51.801Z"
   },
   {
    "duration": 9,
    "start_time": "2022-05-12T21:29:55.384Z"
   },
   {
    "duration": 121,
    "start_time": "2022-05-12T21:30:34.243Z"
   },
   {
    "duration": 3,
    "start_time": "2022-05-12T21:30:43.295Z"
   },
   {
    "duration": 9,
    "start_time": "2022-05-12T21:30:44.427Z"
   },
   {
    "duration": 124,
    "start_time": "2022-05-12T21:30:45.200Z"
   },
   {
    "duration": 120,
    "start_time": "2022-05-12T21:30:54.810Z"
   },
   {
    "duration": 11,
    "start_time": "2022-05-12T21:30:59.794Z"
   },
   {
    "duration": 3,
    "start_time": "2022-05-12T21:31:19.692Z"
   },
   {
    "duration": 8,
    "start_time": "2022-05-12T21:31:23.166Z"
   },
   {
    "duration": 19,
    "start_time": "2022-05-12T21:31:27.803Z"
   },
   {
    "duration": 7,
    "start_time": "2022-05-12T21:31:41.292Z"
   },
   {
    "duration": 7,
    "start_time": "2022-05-12T21:31:43.745Z"
   },
   {
    "duration": 7,
    "start_time": "2022-05-12T21:31:46.997Z"
   },
   {
    "duration": 8,
    "start_time": "2022-05-12T21:31:50.471Z"
   },
   {
    "duration": 7,
    "start_time": "2022-05-12T21:31:52.989Z"
   },
   {
    "duration": 580,
    "start_time": "2022-05-12T21:32:17.008Z"
   },
   {
    "duration": 3,
    "start_time": "2022-05-12T21:32:22.716Z"
   },
   {
    "duration": 8,
    "start_time": "2022-05-12T21:32:23.511Z"
   },
   {
    "duration": 17,
    "start_time": "2022-05-12T21:32:35.119Z"
   },
   {
    "duration": 15,
    "start_time": "2022-05-12T21:33:08.048Z"
   },
   {
    "duration": 18,
    "start_time": "2022-05-12T21:33:12.981Z"
   },
   {
    "duration": 4,
    "start_time": "2022-05-12T21:34:14.097Z"
   },
   {
    "duration": 15,
    "start_time": "2022-05-12T21:34:16.305Z"
   },
   {
    "duration": 20,
    "start_time": "2022-05-12T21:34:19.456Z"
   },
   {
    "duration": 870,
    "start_time": "2022-05-12T21:46:46.222Z"
   },
   {
    "duration": 15,
    "start_time": "2022-05-12T21:46:55.116Z"
   },
   {
    "duration": 9,
    "start_time": "2022-05-12T21:47:02.567Z"
   },
   {
    "duration": 13,
    "start_time": "2022-05-12T21:47:05.884Z"
   },
   {
    "duration": 9,
    "start_time": "2022-05-12T21:47:43.887Z"
   },
   {
    "duration": 9,
    "start_time": "2022-05-12T21:47:57.193Z"
   },
   {
    "duration": 11,
    "start_time": "2022-05-12T21:47:58.964Z"
   },
   {
    "duration": 10,
    "start_time": "2022-05-12T21:47:59.955Z"
   },
   {
    "duration": 9,
    "start_time": "2022-05-12T21:48:01.242Z"
   },
   {
    "duration": 10,
    "start_time": "2022-05-12T21:48:02.680Z"
   },
   {
    "duration": 648,
    "start_time": "2022-05-12T21:48:11.601Z"
   },
   {
    "duration": 14,
    "start_time": "2022-05-12T21:48:13.042Z"
   },
   {
    "duration": 8,
    "start_time": "2022-05-12T21:48:22.984Z"
   },
   {
    "duration": 4,
    "start_time": "2022-05-12T21:48:27.852Z"
   },
   {
    "duration": 685,
    "start_time": "2022-05-12T21:54:30.969Z"
   },
   {
    "duration": 687,
    "start_time": "2022-05-12T21:54:52.666Z"
   },
   {
    "duration": 661,
    "start_time": "2022-05-12T21:55:13.984Z"
   },
   {
    "duration": 665,
    "start_time": "2022-05-12T21:55:26.516Z"
   },
   {
    "duration": 654,
    "start_time": "2022-05-12T21:55:29.832Z"
   },
   {
    "duration": 635,
    "start_time": "2022-05-12T21:57:23.922Z"
   },
   {
    "duration": 658,
    "start_time": "2022-05-12T21:57:36.980Z"
   },
   {
    "duration": 647,
    "start_time": "2022-05-12T21:57:40.198Z"
   },
   {
    "duration": 3,
    "start_time": "2022-05-12T22:00:35.311Z"
   },
   {
    "duration": 4,
    "start_time": "2022-05-12T22:02:47.664Z"
   },
   {
    "duration": 688,
    "start_time": "2022-05-12T22:03:59.999Z"
   },
   {
    "duration": 5,
    "start_time": "2022-05-12T22:05:12.658Z"
   },
   {
    "duration": 10,
    "start_time": "2022-05-12T22:05:36.038Z"
   },
   {
    "duration": 5,
    "start_time": "2022-05-12T22:06:44.684Z"
   },
   {
    "duration": 692,
    "start_time": "2022-05-12T22:07:12.452Z"
   },
   {
    "duration": 676,
    "start_time": "2022-05-12T22:08:38.138Z"
   },
   {
    "duration": 148,
    "start_time": "2022-05-12T22:09:00.737Z"
   },
   {
    "duration": 672,
    "start_time": "2022-05-12T22:09:04.103Z"
   },
   {
    "duration": 683,
    "start_time": "2022-05-12T22:09:18.493Z"
   },
   {
    "duration": 828,
    "start_time": "2022-05-12T22:09:46.253Z"
   },
   {
    "duration": 698,
    "start_time": "2022-05-12T22:10:00.460Z"
   },
   {
    "duration": 748,
    "start_time": "2022-05-12T22:10:14.852Z"
   },
   {
    "duration": 644,
    "start_time": "2022-05-12T22:10:47.117Z"
   },
   {
    "duration": 649,
    "start_time": "2022-05-12T22:12:30.288Z"
   },
   {
    "duration": 650,
    "start_time": "2022-05-12T22:12:55.488Z"
   },
   {
    "duration": 644,
    "start_time": "2022-05-12T22:13:56.493Z"
   },
   {
    "duration": 4,
    "start_time": "2022-05-12T22:17:48.905Z"
   },
   {
    "duration": 713,
    "start_time": "2022-05-12T22:18:07.299Z"
   },
   {
    "duration": 658,
    "start_time": "2022-05-12T22:18:26.055Z"
   },
   {
    "duration": 637,
    "start_time": "2022-05-12T22:18:40.110Z"
   },
   {
    "duration": 668,
    "start_time": "2022-05-12T22:18:49.237Z"
   },
   {
    "duration": 3550,
    "start_time": "2022-05-12T22:20:17.880Z"
   },
   {
    "duration": 3344,
    "start_time": "2022-05-12T22:20:36.399Z"
   },
   {
    "duration": 720,
    "start_time": "2022-05-12T22:21:30.104Z"
   },
   {
    "duration": 679,
    "start_time": "2022-05-12T22:21:46.944Z"
   },
   {
    "duration": 3449,
    "start_time": "2022-05-12T22:21:56.508Z"
   },
   {
    "duration": 3434,
    "start_time": "2022-05-12T22:22:09.359Z"
   },
   {
    "duration": 3408,
    "start_time": "2022-05-12T22:22:31.584Z"
   },
   {
    "duration": 3362,
    "start_time": "2022-05-12T22:22:48.258Z"
   },
   {
    "duration": 3368,
    "start_time": "2022-05-12T22:22:58.884Z"
   },
   {
    "duration": 3446,
    "start_time": "2022-05-12T22:23:07.541Z"
   },
   {
    "duration": 670,
    "start_time": "2022-05-12T22:23:13.031Z"
   },
   {
    "duration": 740,
    "start_time": "2022-05-12T22:23:39.153Z"
   },
   {
    "duration": 3323,
    "start_time": "2022-05-12T22:23:47.727Z"
   },
   {
    "duration": 3304,
    "start_time": "2022-05-12T22:23:52.191Z"
   },
   {
    "duration": 637,
    "start_time": "2022-05-12T22:23:56.406Z"
   },
   {
    "duration": 3438,
    "start_time": "2022-05-12T22:25:26.653Z"
   },
   {
    "duration": 3362,
    "start_time": "2022-05-12T22:25:47.284Z"
   },
   {
    "duration": 724,
    "start_time": "2022-05-12T22:25:54.385Z"
   },
   {
    "duration": 5,
    "start_time": "2022-05-12T22:26:42.995Z"
   },
   {
    "duration": 8,
    "start_time": "2022-05-12T22:27:32.370Z"
   },
   {
    "duration": 132,
    "start_time": "2022-05-12T22:35:51.753Z"
   },
   {
    "duration": 117,
    "start_time": "2022-05-12T22:36:10.640Z"
   },
   {
    "duration": 132,
    "start_time": "2022-05-12T22:36:38.430Z"
   },
   {
    "duration": 134,
    "start_time": "2022-05-12T22:37:17.484Z"
   },
   {
    "duration": 145,
    "start_time": "2022-05-12T22:37:29.315Z"
   },
   {
    "duration": 5,
    "start_time": "2022-05-12T22:37:37.436Z"
   },
   {
    "duration": 129,
    "start_time": "2022-05-12T22:37:47.131Z"
   },
   {
    "duration": 161,
    "start_time": "2022-05-12T22:37:54.726Z"
   },
   {
    "duration": 5,
    "start_time": "2022-05-12T22:37:59.419Z"
   }
  ],
  "kernelspec": {
   "display_name": "Python 3 (ipykernel)",
   "language": "python",
   "name": "python3"
  },
  "language_info": {
   "codemirror_mode": {
    "name": "ipython",
    "version": 3
   },
   "file_extension": ".py",
   "mimetype": "text/x-python",
   "name": "python",
   "nbconvert_exporter": "python",
   "pygments_lexer": "ipython3",
   "version": "3.9.13"
  },
  "nbTranslate": {
   "displayLangs": [
    "*"
   ],
   "hotkey": "alt-t",
   "langInMainMenu": true,
   "sourceLang": "en",
   "targetLang": "fr",
   "useGoogleTranslate": true
  },
  "toc": {
   "base_numbering": 1,
   "nav_menu": {},
   "number_sections": true,
   "sideBar": true,
   "skip_h1_title": true,
   "title_cell": "Table of Contents",
   "title_sidebar": "Contents",
   "toc_cell": false,
   "toc_position": {},
   "toc_section_display": true,
   "toc_window_display": false
  },
  "varInspector": {
   "cols": {
    "lenName": 16,
    "lenType": 16,
    "lenVar": 40
   },
   "kernels_config": {
    "python": {
     "delete_cmd_postfix": "",
     "delete_cmd_prefix": "del ",
     "library": "var_list.py",
     "varRefreshCmd": "print(var_dic_list())"
    },
    "r": {
     "delete_cmd_postfix": ") ",
     "delete_cmd_prefix": "rm(",
     "library": "var_list.r",
     "varRefreshCmd": "cat(var_dic_list()) "
    }
   },
   "types_to_exclude": [
    "module",
    "function",
    "builtin_function_or_method",
    "instance",
    "_Feature"
   ],
   "window_display": false
  }
 },
 "nbformat": 4,
 "nbformat_minor": 2
}
