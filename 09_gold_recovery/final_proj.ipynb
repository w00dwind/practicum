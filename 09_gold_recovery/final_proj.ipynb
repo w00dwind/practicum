{
 "cells": [
  {
   "cell_type": "markdown",
   "metadata": {
    "toc": true
   },
   "source": [
    "<h1>Содержание<span class=\"tocSkip\"></span></h1>\n",
    "<div class=\"toc\"><ul class=\"toc-item\"><li><span><a href=\"#Подготовка-данных\" data-toc-modified-id=\"Подготовка-данных-1\"><span class=\"toc-item-num\">1&nbsp;&nbsp;</span>Подготовка данных</a></span><ul class=\"toc-item\"><li><span><a href=\"#Проверьте,-что-эффективность-обогащения-рассчитана-правильно.\" data-toc-modified-id=\"Проверьте,-что-эффективность-обогащения-рассчитана-правильно.-1.1\"><span class=\"toc-item-num\">1.1&nbsp;&nbsp;</span>Проверьте, что эффективность обогащения рассчитана правильно.</a></span><ul class=\"toc-item\"><li><span><a href=\"#Вывод:\" data-toc-modified-id=\"Вывод:-1.1.1\"><span class=\"toc-item-num\">1.1.1&nbsp;&nbsp;</span>Вывод:</a></span></li></ul></li><li><span><a href=\"#Проанализируйте-признаки,-недоступные-в-тестовой-выборке.-Что-это-за-параметры?-К-какому-типу-относятся?\" data-toc-modified-id=\"Проанализируйте-признаки,-недоступные-в-тестовой-выборке.-Что-это-за-параметры?-К-какому-типу-относятся?-1.2\"><span class=\"toc-item-num\">1.2&nbsp;&nbsp;</span>Проанализируйте признаки, недоступные в тестовой выборке. Что это за параметры? К какому типу относятся?</a></span><ul class=\"toc-item\"><li><span><a href=\"#Вывод:\" data-toc-modified-id=\"Вывод:-1.2.1\"><span class=\"toc-item-num\">1.2.1&nbsp;&nbsp;</span>Вывод:</a></span></li></ul></li><li><span><a href=\"#Проведите-предобработку-данных.\" data-toc-modified-id=\"Проведите-предобработку-данных.-1.3\"><span class=\"toc-item-num\">1.3&nbsp;&nbsp;</span>Проведите предобработку данных.</a></span><ul class=\"toc-item\"><li><span><a href=\"#Пропусков-много,-просто-так-не-удалишь.-Будем-заменять-с-помощью-KNN\" data-toc-modified-id=\"Пропусков-много,-просто-так-не-удалишь.-Будем-заменять-с-помощью-KNN-1.3.1\"><span class=\"toc-item-num\">1.3.1&nbsp;&nbsp;</span>Пропусков много, просто так не удалишь. Будем заменять с помощью KNN</a></span></li></ul></li></ul></li><li><span><a href=\"#Анализ-данных\" data-toc-modified-id=\"Анализ-данных-2\"><span class=\"toc-item-num\">2&nbsp;&nbsp;</span>Анализ данных</a></span><ul class=\"toc-item\"><li><span><a href=\"#Посмотрите,-как-меняется-концентрация-металлов-(Au,-Ag,-Pb)-на-различных-этапах-очистки.-Опишите-выводы.\" data-toc-modified-id=\"Посмотрите,-как-меняется-концентрация-металлов-(Au,-Ag,-Pb)-на-различных-этапах-очистки.-Опишите-выводы.-2.1\"><span class=\"toc-item-num\">2.1&nbsp;&nbsp;</span>Посмотрите, как меняется концентрация металлов (Au, Ag, Pb) на различных этапах очистки. Опишите выводы.</a></span><ul class=\"toc-item\"><li><span><a href=\"#Вывод:\" data-toc-modified-id=\"Вывод:-2.1.1\"><span class=\"toc-item-num\">2.1.1&nbsp;&nbsp;</span>Вывод:</a></span></li></ul></li><li><span><a href=\"#Сравните-распределения-размеров-гранул-сырья-на-обучающей-и-тестовой-выборках.-Если-распределения-сильно-отличаются-друг-от-друга,-оценка-модели-будет-неправильной.\" data-toc-modified-id=\"Сравните-распределения-размеров-гранул-сырья-на-обучающей-и-тестовой-выборках.-Если-распределения-сильно-отличаются-друг-от-друга,-оценка-модели-будет-неправильной.-2.2\"><span class=\"toc-item-num\">2.2&nbsp;&nbsp;</span>Сравните распределения размеров гранул сырья на обучающей и тестовой выборках. Если распределения сильно отличаются друг от друга, оценка модели будет неправильной.</a></span><ul class=\"toc-item\"><li><span><a href=\"#Вывод:\" data-toc-modified-id=\"Вывод:-2.2.1\"><span class=\"toc-item-num\">2.2.1&nbsp;&nbsp;</span>Вывод:</a></span></li></ul></li><li><span><a href=\"#Исследуйте-суммарную-концентрацию-всех-веществ-на-разных-стадиях:-в-сырье,-в-черновом-и-финальном-концентратах.\" data-toc-modified-id=\"Исследуйте-суммарную-концентрацию-всех-веществ-на-разных-стадиях:-в-сырье,-в-черновом-и-финальном-концентратах.-2.3\"><span class=\"toc-item-num\">2.3&nbsp;&nbsp;</span>Исследуйте суммарную концентрацию всех веществ на разных стадиях: в сырье, в черновом и финальном концентратах.</a></span><ul class=\"toc-item\"><li><span><a href=\"#Вывод:\" data-toc-modified-id=\"Вывод:-2.3.1\"><span class=\"toc-item-num\">2.3.1&nbsp;&nbsp;</span>Вывод:</a></span></li></ul></li></ul></li><li><span><a href=\"#Модель\" data-toc-modified-id=\"Модель-3\"><span class=\"toc-item-num\">3&nbsp;&nbsp;</span>Модель</a></span><ul class=\"toc-item\"><li><span><a href=\"#Напишите-функцию-для-вычисления-итоговой-sMAPE.\" data-toc-modified-id=\"Напишите-функцию-для-вычисления-итоговой-sMAPE.-3.1\"><span class=\"toc-item-num\">3.1&nbsp;&nbsp;</span>Напишите функцию для вычисления итоговой sMAPE.</a></span></li><li><span><a href=\"#Обучите-разные-модели-и-оцените-их-качество-кросс-валидацией.-Выберите-лучшую-модель-и-проверьте-её-на-тестовой-выборке.-Опишите-выводы.\" data-toc-modified-id=\"Обучите-разные-модели-и-оцените-их-качество-кросс-валидацией.-Выберите-лучшую-модель-и-проверьте-её-на-тестовой-выборке.-Опишите-выводы.-3.2\"><span class=\"toc-item-num\">3.2&nbsp;&nbsp;</span>Обучите разные модели и оцените их качество кросс-валидацией. Выберите лучшую модель и проверьте её на тестовой выборке. Опишите выводы.</a></span></li></ul></li><li><span><a href=\"#Вывод\" data-toc-modified-id=\"Вывод-4\"><span class=\"toc-item-num\">4&nbsp;&nbsp;</span>Вывод</a></span></li><li><span><a href=\"#Чек-лист-готовности-проекта\" data-toc-modified-id=\"Чек-лист-готовности-проекта-5\"><span class=\"toc-item-num\">5&nbsp;&nbsp;</span>Чек-лист готовности проекта</a></span></li></ul></div>"
   ]
  },
  {
   "cell_type": "markdown",
   "metadata": {},
   "source": [
    "# Восстановление золота из руды"
   ]
  },
  {
   "cell_type": "markdown",
   "metadata": {},
   "source": [
    "Подготовьте прототип модели машинного обучения для «Цифры». Компания разрабатывает решения для эффективной работы промышленных предприятий.\n",
    "\n",
    "Модель должна предсказать коэффициент восстановления золота из золотосодержащей руды. Используйте данные с параметрами добычи и очистки. \n",
    "\n",
    "Модель поможет оптимизировать производство, чтобы не запускать предприятие с убыточными характеристиками.\n",
    "\n",
    "Вам нужно:\n",
    "\n",
    "1. Подготовить данные;\n",
    "2. Провести исследовательский анализ данных;\n",
    "3. Построить и обучить модель.\n",
    "\n",
    "Чтобы выполнить проект, обращайтесь к библиотекам *pandas*, *matplotlib* и *sklearn.* Вам поможет их документация."
   ]
  },
  {
   "cell_type": "code",
   "execution_count": null,
   "metadata": {},
   "outputs": [],
   "source": [
    "!cp /Users/ac1d/Downloads/"
   ]
  },
  {
   "cell_type": "code",
   "execution_count": 37,
   "metadata": {
    "ExecuteTime": {
     "end_time": "2022-05-29T10:23:48.522909Z",
     "start_time": "2022-05-29T10:23:48.491822Z"
    }
   },
   "outputs": [],
   "source": [
    "import pandas as pd\n",
    "import numpy as np\n",
    "\n",
    "import seaborn as sns\n",
    "import matplotlib.pyplot as plt\n",
    "from sklearn.impute import KNNImputer\n",
    "\n",
    "from sklearn.metrics import mean_absolute_error\n",
    "from sklearn.model_selection import cross_val_score, cross_val_predict\n",
    "from sklearn.metrics import make_scorer\n",
    "from sklearn.model_selection import GridSearchCV\n",
    "from sklearn.preprocessing import StandardScaler\n",
    "from sklearn.pipeline import make_pipeline\n",
    "\n",
    "from sklearn.linear_model import LinearRegression\n",
    "from sklearn.ensemble import RandomForestRegressor\n",
    "from catboost import CatBoostRegressor\n",
    "\n",
    "SEED = 41"
   ]
  },
  {
   "cell_type": "markdown",
   "metadata": {},
   "source": [
    "## Подготовка данных"
   ]
  },
  {
   "cell_type": "code",
   "execution_count": 38,
   "metadata": {
    "ExecuteTime": {
     "end_time": "2022-05-29T10:23:50.553467Z",
     "start_time": "2022-05-29T10:23:49.034718Z"
    }
   },
   "outputs": [],
   "source": [
    "try:\n",
    "    train = pd.read_csv('../datasets/gold_recovery_train_new.csv')\n",
    "    test = pd.read_csv('../datasets/gold_recovery_test_new.csv')\n",
    "    raw = pd.read_csv('../datasets/gold_recovery_full_new.csv')\n",
    "except:\n",
    "    train = pd.read_csv('/datasets/gold_recovery_train_new.csv')\n",
    "    test = pd.read_csv('/datasets/gold_recovery_test_new.csv')\n",
    "    raw = pd.read_csv('/datasets/gold_recovery_full_new.csv')"
   ]
  },
  {
   "cell_type": "code",
   "execution_count": 39,
   "metadata": {
    "ExecuteTime": {
     "end_time": "2022-05-29T10:23:50.611702Z",
     "start_time": "2022-05-29T10:23:50.557248Z"
    },
    "scrolled": true
   },
   "outputs": [
    {
     "name": "stdout",
     "output_type": "stream",
     "text": [
      "<class 'pandas.core.frame.DataFrame'>\n",
      "RangeIndex: 14149 entries, 0 to 14148\n",
      "Data columns (total 87 columns):\n",
      " #   Column                                              Non-Null Count  Dtype  \n",
      "---  ------                                              --------------  -----  \n",
      " 0   date                                                14149 non-null  object \n",
      " 1   final.output.concentrate_ag                         14148 non-null  float64\n",
      " 2   final.output.concentrate_pb                         14148 non-null  float64\n",
      " 3   final.output.concentrate_sol                        13938 non-null  float64\n",
      " 4   final.output.concentrate_au                         14149 non-null  float64\n",
      " 5   final.output.recovery                               14149 non-null  float64\n",
      " 6   final.output.tail_ag                                14149 non-null  float64\n",
      " 7   final.output.tail_pb                                14049 non-null  float64\n",
      " 8   final.output.tail_sol                               14144 non-null  float64\n",
      " 9   final.output.tail_au                                14149 non-null  float64\n",
      " 10  primary_cleaner.input.sulfate                       14129 non-null  float64\n",
      " 11  primary_cleaner.input.depressant                    14117 non-null  float64\n",
      " 12  primary_cleaner.input.feed_size                     14149 non-null  float64\n",
      " 13  primary_cleaner.input.xanthate                      14049 non-null  float64\n",
      " 14  primary_cleaner.output.concentrate_ag               14149 non-null  float64\n",
      " 15  primary_cleaner.output.concentrate_pb               14063 non-null  float64\n",
      " 16  primary_cleaner.output.concentrate_sol              13863 non-null  float64\n",
      " 17  primary_cleaner.output.concentrate_au               14149 non-null  float64\n",
      " 18  primary_cleaner.output.tail_ag                      14148 non-null  float64\n",
      " 19  primary_cleaner.output.tail_pb                      14134 non-null  float64\n",
      " 20  primary_cleaner.output.tail_sol                     14103 non-null  float64\n",
      " 21  primary_cleaner.output.tail_au                      14149 non-null  float64\n",
      " 22  primary_cleaner.state.floatbank8_a_air              14145 non-null  float64\n",
      " 23  primary_cleaner.state.floatbank8_a_level            14148 non-null  float64\n",
      " 24  primary_cleaner.state.floatbank8_b_air              14145 non-null  float64\n",
      " 25  primary_cleaner.state.floatbank8_b_level            14148 non-null  float64\n",
      " 26  primary_cleaner.state.floatbank8_c_air              14147 non-null  float64\n",
      " 27  primary_cleaner.state.floatbank8_c_level            14148 non-null  float64\n",
      " 28  primary_cleaner.state.floatbank8_d_air              14146 non-null  float64\n",
      " 29  primary_cleaner.state.floatbank8_d_level            14148 non-null  float64\n",
      " 30  rougher.calculation.sulfate_to_au_concentrate       14148 non-null  float64\n",
      " 31  rougher.calculation.floatbank10_sulfate_to_au_feed  14148 non-null  float64\n",
      " 32  rougher.calculation.floatbank11_sulfate_to_au_feed  14148 non-null  float64\n",
      " 33  rougher.calculation.au_pb_ratio                     14149 non-null  float64\n",
      " 34  rougher.input.feed_ag                               14149 non-null  float64\n",
      " 35  rougher.input.feed_pb                               14049 non-null  float64\n",
      " 36  rougher.input.feed_rate                             14141 non-null  float64\n",
      " 37  rougher.input.feed_size                             14005 non-null  float64\n",
      " 38  rougher.input.feed_sol                              14071 non-null  float64\n",
      " 39  rougher.input.feed_au                               14149 non-null  float64\n",
      " 40  rougher.input.floatbank10_sulfate                   14120 non-null  float64\n",
      " 41  rougher.input.floatbank10_xanthate                  14141 non-null  float64\n",
      " 42  rougher.input.floatbank11_sulfate                   14113 non-null  float64\n",
      " 43  rougher.input.floatbank11_xanthate                  13721 non-null  float64\n",
      " 44  rougher.output.concentrate_ag                       14149 non-null  float64\n",
      " 45  rougher.output.concentrate_pb                       14149 non-null  float64\n",
      " 46  rougher.output.concentrate_sol                      14127 non-null  float64\n",
      " 47  rougher.output.concentrate_au                       14149 non-null  float64\n",
      " 48  rougher.output.recovery                             14149 non-null  float64\n",
      " 49  rougher.output.tail_ag                              14148 non-null  float64\n",
      " 50  rougher.output.tail_pb                              14149 non-null  float64\n",
      " 51  rougher.output.tail_sol                             14149 non-null  float64\n",
      " 52  rougher.output.tail_au                              14149 non-null  float64\n",
      " 53  rougher.state.floatbank10_a_air                     14148 non-null  float64\n",
      " 54  rougher.state.floatbank10_a_level                   14148 non-null  float64\n",
      " 55  rougher.state.floatbank10_b_air                     14148 non-null  float64\n",
      " 56  rougher.state.floatbank10_b_level                   14148 non-null  float64\n",
      " 57  rougher.state.floatbank10_c_air                     14148 non-null  float64\n",
      " 58  rougher.state.floatbank10_c_level                   14148 non-null  float64\n",
      " 59  rougher.state.floatbank10_d_air                     14149 non-null  float64\n",
      " 60  rougher.state.floatbank10_d_level                   14149 non-null  float64\n",
      " 61  rougher.state.floatbank10_e_air                     13713 non-null  float64\n",
      " 62  rougher.state.floatbank10_e_level                   14149 non-null  float64\n",
      " 63  rougher.state.floatbank10_f_air                     14149 non-null  float64\n",
      " 64  rougher.state.floatbank10_f_level                   14149 non-null  float64\n",
      " 65  secondary_cleaner.output.tail_ag                    14147 non-null  float64\n",
      " 66  secondary_cleaner.output.tail_pb                    14139 non-null  float64\n",
      " 67  secondary_cleaner.output.tail_sol                   12544 non-null  float64\n",
      " 68  secondary_cleaner.output.tail_au                    14149 non-null  float64\n",
      " 69  secondary_cleaner.state.floatbank2_a_air            13932 non-null  float64\n",
      " 70  secondary_cleaner.state.floatbank2_a_level          14148 non-null  float64\n",
      " 71  secondary_cleaner.state.floatbank2_b_air            14128 non-null  float64\n",
      " 72  secondary_cleaner.state.floatbank2_b_level          14148 non-null  float64\n",
      " 73  secondary_cleaner.state.floatbank3_a_air            14145 non-null  float64\n",
      " 74  secondary_cleaner.state.floatbank3_a_level          14148 non-null  float64\n",
      " 75  secondary_cleaner.state.floatbank3_b_air            14148 non-null  float64\n",
      " 76  secondary_cleaner.state.floatbank3_b_level          14148 non-null  float64\n",
      " 77  secondary_cleaner.state.floatbank4_a_air            14143 non-null  float64\n",
      " 78  secondary_cleaner.state.floatbank4_a_level          14148 non-null  float64\n",
      " 79  secondary_cleaner.state.floatbank4_b_air            14148 non-null  float64\n",
      " 80  secondary_cleaner.state.floatbank4_b_level          14148 non-null  float64\n",
      " 81  secondary_cleaner.state.floatbank5_a_air            14148 non-null  float64\n",
      " 82  secondary_cleaner.state.floatbank5_a_level          14148 non-null  float64\n",
      " 83  secondary_cleaner.state.floatbank5_b_air            14148 non-null  float64\n",
      " 84  secondary_cleaner.state.floatbank5_b_level          14148 non-null  float64\n",
      " 85  secondary_cleaner.state.floatbank6_a_air            14147 non-null  float64\n",
      " 86  secondary_cleaner.state.floatbank6_a_level          14148 non-null  float64\n",
      "dtypes: float64(86), object(1)\n",
      "memory usage: 9.4+ MB\n"
     ]
    }
   ],
   "source": [
    "train.info()"
   ]
  },
  {
   "cell_type": "markdown",
   "metadata": {},
   "source": [
    "### Проверьте, что эффективность обогащения рассчитана правильно."
   ]
  },
  {
   "cell_type": "code",
   "execution_count": 40,
   "metadata": {
    "ExecuteTime": {
     "end_time": "2022-05-29T10:23:50.621953Z",
     "start_time": "2022-05-29T10:23:50.615367Z"
    }
   },
   "outputs": [],
   "source": [
    "# Функция для расчета эффективности обогащения\n",
    "def recovery(C,F,T):\n",
    "    '''\n",
    "    C — доля золота в концентрате после флотации/очистки\n",
    "    F — доля золота в сырье/концентрате до флотации/очистки;\n",
    "    T — доля золота в отвальных хвостах после флотации/очистки.\n",
    "    '''\n",
    "    rec = (C * (F - T)) / (F * (C - T))\n",
    "    return rec * 100"
   ]
  },
  {
   "cell_type": "code",
   "execution_count": 41,
   "metadata": {
    "ExecuteTime": {
     "end_time": "2022-05-29T10:23:50.643724Z",
     "start_time": "2022-05-29T10:23:50.628486Z"
    }
   },
   "outputs": [
    {
     "data": {
      "text/plain": [
       "0        87.107763\n",
       "1        86.843261\n",
       "2        86.842308\n",
       "3        87.226430\n",
       "4        86.688794\n",
       "           ...    \n",
       "14144    89.574376\n",
       "14145    87.724007\n",
       "14146    88.890579\n",
       "14147    89.858126\n",
       "14148    89.514960\n",
       "Length: 14149, dtype: float64"
      ]
     },
     "execution_count": 41,
     "metadata": {},
     "output_type": "execute_result"
    }
   ],
   "source": [
    "calculated_recovery = recovery(train['rougher.output.concentrate_au'],\n",
    "        train['rougher.input.feed_au'],\n",
    "        train['rougher.output.tail_au'])\n",
    "\n",
    "calculated_recovery"
   ]
  },
  {
   "cell_type": "code",
   "execution_count": 42,
   "metadata": {
    "ExecuteTime": {
     "end_time": "2022-05-29T10:23:50.667651Z",
     "start_time": "2022-05-29T10:23:50.648690Z"
    }
   },
   "outputs": [
    {
     "data": {
      "text/plain": [
       "(9.73512347450521e-15, '0.00000000000000973512')"
      ]
     },
     "execution_count": 42,
     "metadata": {},
     "output_type": "execute_result"
    }
   ],
   "source": [
    "recovery_MAE = mean_absolute_error(train['rougher.output.recovery'], \n",
    "                                   calculated_recovery)\n",
    "recovery_MAE, \"{:.20f}\".format(float(recovery_MAE))"
   ]
  },
  {
   "cell_type": "markdown",
   "metadata": {},
   "source": [
    "#### Вывод: \n",
    "MAE стремиться к нулю, следовательно эффективность обогащения рассчитана правильно."
   ]
  },
  {
   "cell_type": "markdown",
   "metadata": {},
   "source": [
    "### Проанализируйте признаки, недоступные в тестовой выборке. Что это за параметры? К какому типу относятся?"
   ]
  },
  {
   "cell_type": "code",
   "execution_count": 43,
   "metadata": {
    "ExecuteTime": {
     "end_time": "2022-05-29T10:23:50.863882Z",
     "start_time": "2022-05-29T10:23:50.837432Z"
    },
    "scrolled": true
   },
   "outputs": [
    {
     "name": "stdout",
     "output_type": "stream",
     "text": [
      "<class 'pandas.core.frame.DataFrame'>\n",
      "RangeIndex: 14149 entries, 0 to 14148\n",
      "Data columns (total 34 columns):\n",
      " #   Column                                              Non-Null Count  Dtype  \n",
      "---  ------                                              --------------  -----  \n",
      " 0   final.output.concentrate_ag                         14148 non-null  float64\n",
      " 1   final.output.concentrate_pb                         14148 non-null  float64\n",
      " 2   final.output.concentrate_sol                        13938 non-null  float64\n",
      " 3   final.output.concentrate_au                         14149 non-null  float64\n",
      " 4   final.output.recovery                               14149 non-null  float64\n",
      " 5   final.output.tail_ag                                14149 non-null  float64\n",
      " 6   final.output.tail_pb                                14049 non-null  float64\n",
      " 7   final.output.tail_sol                               14144 non-null  float64\n",
      " 8   final.output.tail_au                                14149 non-null  float64\n",
      " 9   primary_cleaner.output.concentrate_ag               14149 non-null  float64\n",
      " 10  primary_cleaner.output.concentrate_pb               14063 non-null  float64\n",
      " 11  primary_cleaner.output.concentrate_sol              13863 non-null  float64\n",
      " 12  primary_cleaner.output.concentrate_au               14149 non-null  float64\n",
      " 13  primary_cleaner.output.tail_ag                      14148 non-null  float64\n",
      " 14  primary_cleaner.output.tail_pb                      14134 non-null  float64\n",
      " 15  primary_cleaner.output.tail_sol                     14103 non-null  float64\n",
      " 16  primary_cleaner.output.tail_au                      14149 non-null  float64\n",
      " 17  rougher.calculation.sulfate_to_au_concentrate       14148 non-null  float64\n",
      " 18  rougher.calculation.floatbank10_sulfate_to_au_feed  14148 non-null  float64\n",
      " 19  rougher.calculation.floatbank11_sulfate_to_au_feed  14148 non-null  float64\n",
      " 20  rougher.calculation.au_pb_ratio                     14149 non-null  float64\n",
      " 21  rougher.output.concentrate_ag                       14149 non-null  float64\n",
      " 22  rougher.output.concentrate_pb                       14149 non-null  float64\n",
      " 23  rougher.output.concentrate_sol                      14127 non-null  float64\n",
      " 24  rougher.output.concentrate_au                       14149 non-null  float64\n",
      " 25  rougher.output.recovery                             14149 non-null  float64\n",
      " 26  rougher.output.tail_ag                              14148 non-null  float64\n",
      " 27  rougher.output.tail_pb                              14149 non-null  float64\n",
      " 28  rougher.output.tail_sol                             14149 non-null  float64\n",
      " 29  rougher.output.tail_au                              14149 non-null  float64\n",
      " 30  secondary_cleaner.output.tail_ag                    14147 non-null  float64\n",
      " 31  secondary_cleaner.output.tail_pb                    14139 non-null  float64\n",
      " 32  secondary_cleaner.output.tail_sol                   12544 non-null  float64\n",
      " 33  secondary_cleaner.output.tail_au                    14149 non-null  float64\n",
      "dtypes: float64(34)\n",
      "memory usage: 3.7 MB\n"
     ]
    }
   ],
   "source": [
    "not_test_columns = train[[col for col in train.columns if col not in test.columns]]\n",
    "not_test_columns.info()"
   ]
  },
  {
   "cell_type": "markdown",
   "metadata": {},
   "source": [
    "#### Вывод:\n",
    "Признаки, отсутствующие в test - это как раз те самые параметры, которые \"рассчитываются позже\". Поскольку мы можем иметь только один целевой признак, нам необходимо оставить в тренировочном датасете только те, которые есть в тестовом, за исключением целевого признака."
   ]
  },
  {
   "cell_type": "markdown",
   "metadata": {},
   "source": [
    "### Проведите предобработку данных."
   ]
  },
  {
   "cell_type": "code",
   "execution_count": 44,
   "metadata": {
    "ExecuteTime": {
     "end_time": "2022-05-29T10:23:51.750630Z",
     "start_time": "2022-05-29T10:23:51.723081Z"
    }
   },
   "outputs": [],
   "source": [
    "# Выделяем целевые признаки для train\n",
    "train_rough_rec = train['rougher.output.recovery']\n",
    "train_out_rec = train['final.output.recovery']"
   ]
  },
  {
   "cell_type": "code",
   "execution_count": 45,
   "metadata": {
    "ExecuteTime": {
     "end_time": "2022-05-29T10:23:51.840795Z",
     "start_time": "2022-05-29T10:23:51.761135Z"
    }
   },
   "outputs": [],
   "source": [
    "# Для предсказаний нам понадабяться признаки rougher.output.recovery и final.output.recovery\n",
    "# В тестовой выборке их нет, но есть полный датасет, откуда их можно извлечь.\n",
    "test.date = pd.to_datetime(test.date)\n",
    "raw.date = pd.to_datetime(raw.date)\n",
    "\n",
    "test_rough_rec = pd.merge(test, raw,  on='date')['rougher.output.recovery']\n",
    "test_out_rec = pd.merge(test, raw, on='date')['final.output.recovery']"
   ]
  },
  {
   "cell_type": "code",
   "execution_count": 46,
   "metadata": {
    "ExecuteTime": {
     "end_time": "2022-05-29T10:23:51.865379Z",
     "start_time": "2022-05-29T10:23:51.844308Z"
    }
   },
   "outputs": [],
   "source": [
    "train_y = train['rougher.output.recovery']\n",
    "# Удаляем признаки, которых нет в test\n",
    "train = train.drop(columns=not_test_columns)\n",
    "\n",
    "\n",
    "# Удаляем дату, в дальнейшем она не понадобиться. \n",
    "train = train.drop('date', axis=1)\n",
    "test = test.drop('date', axis=1)"
   ]
  },
  {
   "cell_type": "code",
   "execution_count": 47,
   "metadata": {
    "ExecuteTime": {
     "end_time": "2022-05-29T10:23:51.893278Z",
     "start_time": "2022-05-29T10:23:51.878672Z"
    },
    "scrolled": true
   },
   "outputs": [
    {
     "data": {
      "text/plain": [
       "(rougher.state.floatbank10_e_air               3.081490\n",
       " rougher.input.floatbank11_xanthate            3.024949\n",
       " secondary_cleaner.state.floatbank2_a_air      1.533677\n",
       " rougher.input.feed_size                       1.017740\n",
       " rougher.input.feed_pb                         0.706764\n",
       " primary_cleaner.input.xanthate                0.706764\n",
       " rougher.input.feed_sol                        0.551276\n",
       " rougher.input.floatbank11_sulfate             0.254435\n",
       " primary_cleaner.input.depressant              0.226164\n",
       " rougher.input.floatbank10_sulfate             0.204961\n",
       " secondary_cleaner.state.floatbank2_b_air      0.148420\n",
       " primary_cleaner.input.sulfate                 0.141353\n",
       " rougher.input.feed_rate                       0.056541\n",
       " rougher.input.floatbank10_xanthate            0.056541\n",
       " secondary_cleaner.state.floatbank4_a_air      0.042406\n",
       " primary_cleaner.state.floatbank8_a_air        0.028271\n",
       " primary_cleaner.state.floatbank8_b_air        0.028271\n",
       " secondary_cleaner.state.floatbank3_a_air      0.028271\n",
       " primary_cleaner.state.floatbank8_d_air        0.021203\n",
       " primary_cleaner.state.floatbank8_c_air        0.014135\n",
       " secondary_cleaner.state.floatbank6_a_air      0.014135\n",
       " secondary_cleaner.state.floatbank5_a_air      0.007068\n",
       " secondary_cleaner.state.floatbank4_b_level    0.007068\n",
       " secondary_cleaner.state.floatbank5_a_level    0.007068\n",
       " secondary_cleaner.state.floatbank5_b_level    0.007068\n",
       " secondary_cleaner.state.floatbank4_a_level    0.007068\n",
       " secondary_cleaner.state.floatbank5_b_air      0.007068\n",
       " secondary_cleaner.state.floatbank3_a_level    0.007068\n",
       " secondary_cleaner.state.floatbank3_b_level    0.007068\n",
       " secondary_cleaner.state.floatbank3_b_air      0.007068\n",
       " dtype: float64,\n",
       " 14149)"
      ]
     },
     "execution_count": 47,
     "metadata": {},
     "output_type": "execute_result"
    }
   ],
   "source": [
    "# Посмотрим на количество пропусков в колонках\n",
    "nan_perc = train.isna().mean() * 100\n",
    "nan_perc = (nan_perc.drop(nan_perc[nan_perc == 0].index)\n",
    "            .sort_values(ascending=False)[:30])\n",
    "\n",
    "nan_perc, train.shape[0]"
   ]
  },
  {
   "cell_type": "code",
   "execution_count": 48,
   "metadata": {
    "ExecuteTime": {
     "end_time": "2022-05-29T10:23:51.937265Z",
     "start_time": "2022-05-29T10:23:51.921098Z"
    }
   },
   "outputs": [
    {
     "data": {
      "text/plain": [
       "12.050321577496643"
      ]
     },
     "metadata": {},
     "output_type": "display_data"
    },
    {
     "data": {
      "text/plain": [
       "1.7013232514177694"
      ]
     },
     "metadata": {},
     "output_type": "display_data"
    }
   ],
   "source": [
    "# Посмотрим на долю пропусков в обоих датасетах\n",
    "display(train.isna().sum().sum() / train.shape[0] * 100)\n",
    "display(test.isna().sum().sum() / test.shape[0] * 100)"
   ]
  },
  {
   "cell_type": "markdown",
   "metadata": {},
   "source": [
    "#### Пропусков много, просто так не удалишь. Будем заменять с помощью KNN"
   ]
  },
  {
   "cell_type": "code",
   "execution_count": 49,
   "metadata": {
    "ExecuteTime": {
     "end_time": "2022-05-29T10:23:57.865875Z",
     "start_time": "2022-05-29T10:23:52.329265Z"
    }
   },
   "outputs": [],
   "source": [
    "imputer = KNNImputer()\n",
    "\n",
    "train_columns = train.columns\n",
    "\n",
    "\n",
    "train = imputer.fit_transform(train)\n",
    "train = pd.DataFrame(train, columns = train_columns)\n",
    "\n",
    "test = imputer.transform(test)\n",
    "test = pd.DataFrame(test, columns = train.columns)\n",
    "\n"
   ]
  },
  {
   "cell_type": "markdown",
   "metadata": {},
   "source": [
    "## Анализ данных"
   ]
  },
  {
   "cell_type": "markdown",
   "metadata": {},
   "source": [
    "###  Посмотрите, как меняется концентрация металлов (Au, Ag, Pb) на различных этапах очистки. Опишите выводы."
   ]
  },
  {
   "cell_type": "code",
   "execution_count": 50,
   "metadata": {
    "ExecuteTime": {
     "end_time": "2022-05-29T10:23:57.882944Z",
     "start_time": "2022-05-29T10:23:57.868807Z"
    }
   },
   "outputs": [],
   "source": [
    "def concentrate(data:pd.DataFrame, name_ch:str, metal_name:str):\n",
    "    sbs = data[[\n",
    "        f'rougher.output.concentrate_{name_ch}',\n",
    "        f'primary_cleaner.output.concentrate_{name_ch}',\n",
    "        f'final.output.concentrate_{name_ch}'\n",
    "        ]]\n",
    "    plt.figure(figsize=(15,8))\n",
    "    sns.boxplot( data=sbs)\n",
    "    plt.title(f'концентрация {metal_name} на различных этапах очистки')\n",
    "    plt.show();"
   ]
  },
  {
   "cell_type": "code",
   "execution_count": 51,
   "metadata": {
    "ExecuteTime": {
     "end_time": "2022-05-29T10:23:58.229014Z",
     "start_time": "2022-05-29T10:23:57.887518Z"
    }
   },
   "outputs": [
    {
     "data": {
      "image/png": "[encoded data removed]",
      "text/plain": [
       "<Figure size 1080x576 with 1 Axes>"
      ]
     },
     "metadata": {},
     "output_type": "display_data"
    }
   ],
   "source": [
    "concentrate(raw, 'au', 'золота')"
   ]
  },
  {
   "cell_type": "code",
   "execution_count": 52,
   "metadata": {
    "ExecuteTime": {
     "end_time": "2022-05-29T10:23:58.504884Z",
     "start_time": "2022-05-29T10:23:58.235205Z"
    }
   },
   "outputs": [
    {
     "data": {
      "image/png": "[encoded data removed]",
      "text/plain": [
       "<Figure size 1080x576 with 1 Axes>"
      ]
     },
     "metadata": {},
     "output_type": "display_data"
    }
   ],
   "source": [
    "concentrate(raw, 'ag', 'серебра')"
   ]
  },
  {
   "cell_type": "code",
   "execution_count": 53,
   "metadata": {
    "ExecuteTime": {
     "end_time": "2022-05-29T10:23:58.794306Z",
     "start_time": "2022-05-29T10:23:58.507850Z"
    }
   },
   "outputs": [
    {
     "data": {
      "image/png": "[encoded data removed]",
      "text/plain": [
       "<Figure size 1080x576 with 1 Axes>"
      ]
     },
     "metadata": {},
     "output_type": "display_data"
    }
   ],
   "source": [
    "concentrate(raw, 'pb', 'свинца')"
   ]
  },
  {
   "cell_type": "markdown",
   "metadata": {},
   "source": [
    "#### Вывод:\n",
    "- Концентрация золота растёт на каждом этапе, что соответствует нашей задаче. Однако есть и выбросы, которые хорошо видны на графике.\n",
    "- Концентрация серебра падает на каждом этапе. \n",
    "- Концентрация свинца возрастает на втором этапе, и далее не меняется. "
   ]
  },
  {
   "cell_type": "markdown",
   "metadata": {},
   "source": [
    "###  Сравните распределения размеров гранул сырья на обучающей и тестовой выборках. Если распределения сильно отличаются друг от друга, оценка модели будет неправильной."
   ]
  },
  {
   "cell_type": "code",
   "execution_count": 54,
   "metadata": {
    "ExecuteTime": {
     "end_time": "2022-05-29T10:23:59.992394Z",
     "start_time": "2022-05-29T10:23:58.797967Z"
    }
   },
   "outputs": [
    {
     "data": {
      "image/png": "[encoded data removed]",
      "text/plain": [
       "<Figure size 1080x576 with 1 Axes>"
      ]
     },
     "metadata": {},
     "output_type": "display_data"
    }
   ],
   "source": [
    "plt.figure(figsize=(15,8))\n",
    "plt.title('Распределение гранул сырья на тренировочной и тестовой выборках')\n",
    "sns.histplot(train['rougher.input.feed_size'], color='green', alpha=.7)\n",
    "sns.histplot(test['rougher.input.feed_size'], color='yellow', alpha=.7);"
   ]
  },
  {
   "cell_type": "markdown",
   "metadata": {},
   "source": [
    "#### Вывод:\n",
    "- Оба распределения стремятся к нормальному, оставляем как етсь"
   ]
  },
  {
   "cell_type": "markdown",
   "metadata": {},
   "source": [
    "### Исследуйте суммарную концентрацию всех веществ на разных стадиях: в сырье, в черновом и финальном концентратах."
   ]
  },
  {
   "cell_type": "code",
   "execution_count": 55,
   "metadata": {
    "ExecuteTime": {
     "end_time": "2022-05-29T10:24:00.005096Z",
     "start_time": "2022-05-29T10:23:59.996396Z"
    }
   },
   "outputs": [],
   "source": [
    "def concentrate_sum(data:pd.DataFrame, stage:str):\n",
    "    return format(data[[\n",
    "    f'{stage}_ag',\n",
    "    f'{stage}_pb',\n",
    "    f'{stage}_sol',\n",
    "    f'{stage}_au' ]].sum(axis=1)))"
   ]
  },
  {
   "cell_type": "code",
   "execution_count": 56,
   "metadata": {
    "ExecuteTime": {
     "end_time": "2022-05-29T10:24:00.122133Z",
     "start_time": "2022-05-29T10:24:00.008633Z"
    }
   },
   "outputs": [
    {
     "ename": "TypeError",
     "evalue": "unsupported format string passed to Series.__format__",
     "output_type": "error",
     "traceback": [
      "\u001b[0;31m---------------------------------------------------------------------------\u001b[0m",
      "\u001b[0;31mTypeError\u001b[0m                                 Traceback (most recent call last)",
      "\u001b[0;32m/var/folders/j2/rv6w5j790dq31zz952rgp0j00000gn/T/ipykernel_49514/3082259476.py\u001b[0m in \u001b[0;36m<module>\u001b[0;34m\u001b[0m\n\u001b[1;32m      1\u001b[0m conc_df = pd.DataFrame(data=[\n\u001b[0;32m----> 2\u001b[0;31m     \u001b[0mconcentrate_sum\u001b[0m\u001b[0;34m(\u001b[0m\u001b[0mraw\u001b[0m\u001b[0;34m,\u001b[0m \u001b[0;34m'rougher.input.feed'\u001b[0m\u001b[0;34m)\u001b[0m\u001b[0;34m,\u001b[0m\u001b[0;34m\u001b[0m\u001b[0;34m\u001b[0m\u001b[0m\n\u001b[0m\u001b[1;32m      3\u001b[0m     \u001b[0mconcentrate_sum\u001b[0m\u001b[0;34m(\u001b[0m\u001b[0mraw\u001b[0m\u001b[0;34m,\u001b[0m \u001b[0;34m'rougher.output.concentrate'\u001b[0m\u001b[0;34m)\u001b[0m\u001b[0;34m,\u001b[0m\u001b[0;34m\u001b[0m\u001b[0;34m\u001b[0m\u001b[0m\n\u001b[1;32m      4\u001b[0m     \u001b[0mconcentrate_sum\u001b[0m\u001b[0;34m(\u001b[0m\u001b[0mraw\u001b[0m\u001b[0;34m,\u001b[0m \u001b[0;34m'final.output.concentrate'\u001b[0m\u001b[0;34m)\u001b[0m\u001b[0;34m\u001b[0m\u001b[0;34m\u001b[0m\u001b[0m\n\u001b[1;32m      5\u001b[0m ])\n",
      "\u001b[0;32m/var/folders/j2/rv6w5j790dq31zz952rgp0j00000gn/T/ipykernel_49514/447624081.py\u001b[0m in \u001b[0;36mconcentrate_sum\u001b[0;34m(data, stage)\u001b[0m\n\u001b[1;32m      1\u001b[0m \u001b[0;32mdef\u001b[0m \u001b[0mconcentrate_sum\u001b[0m\u001b[0;34m(\u001b[0m\u001b[0mdata\u001b[0m\u001b[0;34m:\u001b[0m\u001b[0mpd\u001b[0m\u001b[0;34m.\u001b[0m\u001b[0mDataFrame\u001b[0m\u001b[0;34m,\u001b[0m \u001b[0mstage\u001b[0m\u001b[0;34m:\u001b[0m\u001b[0mstr\u001b[0m\u001b[0;34m)\u001b[0m\u001b[0;34m:\u001b[0m\u001b[0;34m\u001b[0m\u001b[0;34m\u001b[0m\u001b[0m\n\u001b[0;32m----> 2\u001b[0;31m     return float(\"{:.2f}\".format(data[[\n\u001b[0m\u001b[1;32m      3\u001b[0m     \u001b[0;34mf'{stage}_ag'\u001b[0m\u001b[0;34m,\u001b[0m\u001b[0;34m\u001b[0m\u001b[0;34m\u001b[0m\u001b[0m\n\u001b[1;32m      4\u001b[0m     \u001b[0;34mf'{stage}_pb'\u001b[0m\u001b[0;34m,\u001b[0m\u001b[0;34m\u001b[0m\u001b[0;34m\u001b[0m\u001b[0m\n\u001b[1;32m      5\u001b[0m     \u001b[0;34mf'{stage}_sol'\u001b[0m\u001b[0;34m,\u001b[0m\u001b[0;34m\u001b[0m\u001b[0;34m\u001b[0m\u001b[0m\n",
      "\u001b[0;31mTypeError\u001b[0m: unsupported format string passed to Series.__format__"
     ]
    }
   ],
   "source": [
    "conc_df = pd.DataFrame(data=[\n",
    "    concentrate_sum(raw, 'rougher.input.feed'),\n",
    "    concentrate_sum(raw, 'rougher.output.concentrate'),\n",
    "    concentrate_sum(raw, 'final.output.concentrate')\n",
    "])\n",
    "\n",
    "conc_df.columns = ['sum_concentrate']\n",
    "conc_df.index = ['сырьё', 'черновой концентрат', 'финальный концентрат']\n",
    "conc_df\n"
   ]
  },
  {
   "cell_type": "code",
   "execution_count": 21,
   "metadata": {
    "ExecuteTime": {
     "end_time": "2022-05-28T22:22:03.400831Z",
     "start_time": "2022-05-28T22:22:03.088426Z"
    }
   },
   "outputs": [
    {
     "data": {
      "image/png": "[encoded data removed]",
      "text/plain": [
       "<Figure size 1080x576 with 1 Axes>"
      ]
     },
     "metadata": {
      "needs_background": "light"
     },
     "output_type": "display_data"
    }
   ],
   "source": [
    "plt.figure(figsize=(15,8))\n",
    "sns.barplot(data=conc_df.T)\n",
    "plt.title('Суммарная концентрация всех веществ на разных этапах обработки');"
   ]
  },
  {
   "cell_type": "markdown",
   "metadata": {},
   "source": [
    "#### Вывод:\n",
    "- суммарная концентрация всех металлов возрастает на втором этапе, и далее почти не меняется. "
   ]
  },
  {
   "cell_type": "markdown",
   "metadata": {},
   "source": [
    "## Модель"
   ]
  },
  {
   "cell_type": "markdown",
   "metadata": {},
   "source": [
    "### Напишите функцию для вычисления итоговой sMAPE."
   ]
  },
  {
   "cell_type": "code",
   "execution_count": 22,
   "metadata": {
    "ExecuteTime": {
     "end_time": "2022-05-28T22:22:03.425868Z",
     "start_time": "2022-05-28T22:22:03.414847Z"
    }
   },
   "outputs": [],
   "source": [
    "\n",
    "\n",
    "def sMAPE(y_true, y_pred, **kwargs):\n",
    "    res = sum(abs(y_true - y_pred) / (((abs(y_true) + abs(y_pred)) / 2) * 100))\n",
    "    return float(\"{:.2f}\".format(res))\n",
    "\n",
    "def final_sMAPE(rough, out):\n",
    "    return (.25 * rough) + (.75 * out)\n",
    "\n",
    "\n",
    "smape_score = make_scorer(sMAPE, greater_is_better=False)\n",
    "\n",
    "def evaluate_and_report(report_df:pd.DataFrame, \n",
    "                        model, model_name:str, \n",
    "                        X_train=train, \n",
    "                        y_train_rough=train_rough_rec, \n",
    "                        y_train_out=train_out_rec, \n",
    "                        X_test=test, \n",
    "                        y_test_rough=test_rough_rec, \n",
    "                        y_test_out=test_out_rec\n",
    "                       ):\n",
    "    '''\n",
    "    function to convient collection metrics results.\n",
    "    \n",
    "    report_df: pandas DataFrame with metrics values\n",
    "    model: estimator to calc metrics\n",
    "    model_name: name, index in table.\n",
    "    X: features to fit\n",
    "    y: answers to calc metrics\n",
    "    '''\n",
    "\n",
    "    rough_test_preds = cross_val_predict(model.fit(X_train, y_train_rough), X_test, y_test_rough, cv=3) # Fitting on train and make predictions on test for rough stage\n",
    "    out_test_preds = cross_val_predict(model.fit(X_train, y_train_out), X_test, y_test_out, cv=3) # the same, but for out stage\n",
    "    \n",
    "    report = pd.DataFrame()\n",
    "    report.index = [model_name]\n",
    "    \n",
    "    rough_smape = sMAPE(y_test_rough, rough_test_preds)\n",
    "    out_smape = sMAPE(y_test_out, out_test_preds)\n",
    "\n",
    "    report['sMAPE_rough'] = rough_smape\n",
    "    report['sMAPE_out'] = out_smape\n",
    "    report['final_sMAPE'] = final_sMAPE(rough_smape, out_smape)\n",
    "    report_df = report_df.append(report)\n",
    "\n",
    "    return report_df\n",
    "\n"
   ]
  },
  {
   "cell_type": "markdown",
   "metadata": {},
   "source": [
    "###  Обучите разные модели и оцените их качество кросс-валидацией. Выберите лучшую модель и проверьте её на тестовой выборке. Опишите выводы."
   ]
  },
  {
   "cell_type": "code",
   "execution_count": 23,
   "metadata": {
    "ExecuteTime": {
     "end_time": "2022-05-28T22:22:03.861337Z",
     "start_time": "2022-05-28T22:22:03.429194Z"
    }
   },
   "outputs": [
    {
     "data": {
      "text/html": [
       "<div>\n",
       "<style scoped>\n",
       "    .dataframe tbody tr th:only-of-type {\n",
       "        vertical-align: middle;\n",
       "    }\n",
       "\n",
       "    .dataframe tbody tr th {\n",
       "        vertical-align: top;\n",
       "    }\n",
       "\n",
       "    .dataframe thead th {\n",
       "        text-align: right;\n",
       "    }\n",
       "</style>\n",
       "<table border=\"1\" class=\"dataframe\">\n",
       "  <thead>\n",
       "    <tr style=\"text-align: right;\">\n",
       "      <th></th>\n",
       "      <th>sMAPE_rough</th>\n",
       "      <th>sMAPE_out</th>\n",
       "      <th>final_sMAPE</th>\n",
       "    </tr>\n",
       "  </thead>\n",
       "  <tbody>\n",
       "    <tr>\n",
       "      <th>lr_pipe</th>\n",
       "      <td>8.19</td>\n",
       "      <td>6.46</td>\n",
       "      <td>6.8925</td>\n",
       "    </tr>\n",
       "  </tbody>\n",
       "</table>\n",
       "</div>"
      ],
      "text/plain": [
       "         sMAPE_rough  sMAPE_out  final_sMAPE\n",
       "lr_pipe         8.19       6.46       6.8925"
      ]
     },
     "execution_count": 23,
     "metadata": {},
     "output_type": "execute_result"
    }
   ],
   "source": [
    "lr_pipe = make_pipeline(StandardScaler(),\n",
    "                       LinearRegression())\n",
    "\n",
    "report_df = pd.DataFrame()\n",
    "report_df = evaluate_and_report(report_df, \n",
    "                                lr_pipe, \n",
    "                                'lr_pipe', \n",
    "                               )\n",
    "report_df"
   ]
  },
  {
   "cell_type": "code",
   "execution_count": 24,
   "metadata": {
    "ExecuteTime": {
     "end_time": "2022-05-28T22:30:32.490223Z",
     "start_time": "2022-05-28T22:22:03.865434Z"
    },
    "scrolled": true
   },
   "outputs": [
    {
     "name": "stdout",
     "output_type": "stream",
     "text": [
      "Fitting 3 folds for each of 12 candidates, totalling 36 fits\n",
      "[CV 1/3] END ....max_depth=10, n_estimators=40;, score=-5.370 total time=  12.5s\n",
      "[CV 2/3] END ....max_depth=10, n_estimators=40;, score=-5.760 total time=   5.4s\n",
      "[CV 3/3] END ....max_depth=10, n_estimators=40;, score=-6.850 total time=   6.0s\n",
      "[CV 1/3] END ....max_depth=10, n_estimators=50;, score=-5.300 total time=   6.9s\n",
      "[CV 2/3] END ....max_depth=10, n_estimators=50;, score=-5.790 total time=   8.1s\n",
      "[CV 3/3] END ....max_depth=10, n_estimators=50;, score=-6.880 total time=   7.3s\n",
      "[CV 1/3] END ....max_depth=10, n_estimators=60;, score=-5.370 total time=  12.6s\n",
      "[CV 2/3] END ....max_depth=10, n_estimators=60;, score=-5.770 total time=   7.8s\n",
      "[CV 3/3] END ....max_depth=10, n_estimators=60;, score=-6.930 total time=   8.9s\n",
      "[CV 1/3] END ....max_depth=10, n_estimators=70;, score=-5.450 total time=   9.7s\n",
      "[CV 2/3] END ....max_depth=10, n_estimators=70;, score=-5.760 total time=  10.0s\n",
      "[CV 3/3] END ....max_depth=10, n_estimators=70;, score=-7.000 total time=  11.1s\n",
      "[CV 1/3] END ....max_depth=20, n_estimators=40;, score=-6.620 total time=  10.3s\n",
      "[CV 2/3] END ....max_depth=20, n_estimators=40;, score=-5.860 total time=   8.4s\n",
      "[CV 3/3] END ....max_depth=20, n_estimators=40;, score=-8.590 total time=  12.4s\n",
      "[CV 1/3] END ....max_depth=20, n_estimators=50;, score=-6.350 total time=  13.0s\n",
      "[CV 2/3] END ....max_depth=20, n_estimators=50;, score=-5.870 total time=  11.3s\n",
      "[CV 3/3] END ....max_depth=20, n_estimators=50;, score=-8.420 total time=  12.7s\n",
      "[CV 1/3] END ....max_depth=20, n_estimators=60;, score=-6.400 total time=  13.8s\n",
      "[CV 2/3] END ....max_depth=20, n_estimators=60;, score=-5.910 total time=  12.2s\n",
      "[CV 3/3] END ....max_depth=20, n_estimators=60;, score=-8.410 total time=  13.2s\n",
      "[CV 1/3] END ....max_depth=20, n_estimators=70;, score=-6.230 total time=  17.0s\n",
      "[CV 2/3] END ....max_depth=20, n_estimators=70;, score=-5.880 total time=  15.9s\n",
      "[CV 3/3] END ....max_depth=20, n_estimators=70;, score=-8.590 total time=  24.0s\n",
      "[CV 1/3] END ....max_depth=30, n_estimators=40;, score=-6.520 total time=  10.8s\n",
      "[CV 2/3] END ....max_depth=30, n_estimators=40;, score=-5.820 total time=   9.8s\n",
      "[CV 3/3] END ....max_depth=30, n_estimators=40;, score=-8.590 total time=  14.8s\n",
      "[CV 1/3] END ....max_depth=30, n_estimators=50;, score=-6.200 total time=  25.7s\n",
      "[CV 2/3] END ....max_depth=30, n_estimators=50;, score=-5.840 total time=  20.2s\n",
      "[CV 3/3] END ....max_depth=30, n_estimators=50;, score=-8.390 total time=  24.8s\n",
      "[CV 1/3] END ....max_depth=30, n_estimators=60;, score=-6.270 total time=  24.1s\n",
      "[CV 2/3] END ....max_depth=30, n_estimators=60;, score=-5.840 total time=  19.3s\n",
      "[CV 3/3] END ....max_depth=30, n_estimators=60;, score=-8.440 total time=  15.9s\n",
      "[CV 1/3] END ....max_depth=30, n_estimators=70;, score=-6.140 total time=  17.6s\n",
      "[CV 2/3] END ....max_depth=30, n_estimators=70;, score=-5.830 total time=  16.5s\n",
      "[CV 3/3] END ....max_depth=30, n_estimators=70;, score=-8.530 total time=  29.7s\n"
     ]
    },
    {
     "data": {
      "text/plain": [
       "GridSearchCV(cv=3, estimator=RandomForestRegressor(n_jobs=-1, random_state=41),\n",
       "             param_grid={'max_depth': array([10, 20, 30]),\n",
       "                         'n_estimators': array([40, 50, 60, 70])},\n",
       "             scoring=make_scorer(sMAPE, greater_is_better=False), verbose=3)"
      ]
     },
     "execution_count": 24,
     "metadata": {},
     "output_type": "execute_result"
    }
   ],
   "source": [
    "rf_model = RandomForestRegressor(random_state=SEED, n_jobs=-1)\n",
    "\n",
    "rf_params = {\n",
    "    'n_estimators':np.arange(40,71,10),\n",
    "    'max_depth':np.arange(10,31,10),\n",
    "            }\n",
    "\n",
    "rf_search = GridSearchCV(\n",
    "    rf_model, \n",
    "    rf_params,\n",
    "    scoring=smape_score,\n",
    "    cv=3,\n",
    "    verbose=3,\n",
    ")\n",
    "rf_search.fit(train, train_rough_rec)"
   ]
  },
  {
   "cell_type": "code",
   "execution_count": 25,
   "metadata": {
    "ExecuteTime": {
     "end_time": "2022-05-28T22:31:03.194787Z",
     "start_time": "2022-05-28T22:30:32.500468Z"
    }
   },
   "outputs": [
    {
     "data": {
      "text/html": [
       "<div>\n",
       "<style scoped>\n",
       "    .dataframe tbody tr th:only-of-type {\n",
       "        vertical-align: middle;\n",
       "    }\n",
       "\n",
       "    .dataframe tbody tr th {\n",
       "        vertical-align: top;\n",
       "    }\n",
       "\n",
       "    .dataframe thead th {\n",
       "        text-align: right;\n",
       "    }\n",
       "</style>\n",
       "<table border=\"1\" class=\"dataframe\">\n",
       "  <thead>\n",
       "    <tr style=\"text-align: right;\">\n",
       "      <th></th>\n",
       "      <th>sMAPE_rough</th>\n",
       "      <th>sMAPE_out</th>\n",
       "      <th>final_sMAPE</th>\n",
       "    </tr>\n",
       "  </thead>\n",
       "  <tbody>\n",
       "    <tr>\n",
       "      <th>lr_pipe</th>\n",
       "      <td>8.19</td>\n",
       "      <td>6.46</td>\n",
       "      <td>6.8925</td>\n",
       "    </tr>\n",
       "    <tr>\n",
       "      <th>random_forest</th>\n",
       "      <td>7.34</td>\n",
       "      <td>6.77</td>\n",
       "      <td>6.9125</td>\n",
       "    </tr>\n",
       "  </tbody>\n",
       "</table>\n",
       "</div>"
      ],
      "text/plain": [
       "               sMAPE_rough  sMAPE_out  final_sMAPE\n",
       "lr_pipe               8.19       6.46       6.8925\n",
       "random_forest         7.34       6.77       6.9125"
      ]
     },
     "execution_count": 25,
     "metadata": {},
     "output_type": "execute_result"
    }
   ],
   "source": [
    "report_df = evaluate_and_report(report_df, rf_search.best_estimator_, 'random_forest')\n",
    "report_df"
   ]
  },
  {
   "cell_type": "code",
   "execution_count": 26,
   "metadata": {
    "ExecuteTime": {
     "end_time": "2022-05-28T22:31:18.054773Z",
     "start_time": "2022-05-28T22:31:03.198970Z"
    }
   },
   "outputs": [
    {
     "data": {
      "application/vnd.jupyter.widget-view+json": {
       "model_id": "4df1fd91caa94f2c97d32cc3566352d5",
       "version_major": 2,
       "version_minor": 0
      },
      "text/plain": [
       "MetricVisualizer(layout=Layout(align_self='stretch', height='500px'))"
      ]
     },
     "metadata": {},
     "output_type": "display_data"
    },
    {
     "data": {
      "text/plain": [
       "<catboost.core.CatBoostRegressor at 0x11bef4c10>"
      ]
     },
     "execution_count": 26,
     "metadata": {},
     "output_type": "execute_result"
    }
   ],
   "source": [
    "cb_model = CatBoostRegressor(random_state=SEED, eval_metric='SMAPE', verbose=1)\n",
    "cb_model.fit(train, train_rough_rec, plot=True, eval_set=(test, test_rough_rec))\n"
   ]
  },
  {
   "cell_type": "code",
   "execution_count": 28,
   "metadata": {
    "ExecuteTime": {
     "end_time": "2022-05-28T22:33:08.453254Z",
     "start_time": "2022-05-28T22:31:34.334258Z"
    }
   },
   "outputs": [
    {
     "data": {
      "text/html": [
       "<div>\n",
       "<style scoped>\n",
       "    .dataframe tbody tr th:only-of-type {\n",
       "        vertical-align: middle;\n",
       "    }\n",
       "\n",
       "    .dataframe tbody tr th {\n",
       "        vertical-align: top;\n",
       "    }\n",
       "\n",
       "    .dataframe thead th {\n",
       "        text-align: right;\n",
       "    }\n",
       "</style>\n",
       "<table border=\"1\" class=\"dataframe\">\n",
       "  <thead>\n",
       "    <tr style=\"text-align: right;\">\n",
       "      <th></th>\n",
       "      <th>sMAPE_rough</th>\n",
       "      <th>sMAPE_out</th>\n",
       "      <th>final_sMAPE</th>\n",
       "    </tr>\n",
       "  </thead>\n",
       "  <tbody>\n",
       "    <tr>\n",
       "      <th>lr_pipe</th>\n",
       "      <td>8.19</td>\n",
       "      <td>6.46</td>\n",
       "      <td>6.8925</td>\n",
       "    </tr>\n",
       "    <tr>\n",
       "      <th>random_forest</th>\n",
       "      <td>7.34</td>\n",
       "      <td>6.77</td>\n",
       "      <td>6.9125</td>\n",
       "    </tr>\n",
       "    <tr>\n",
       "      <th>catboost</th>\n",
       "      <td>5.90</td>\n",
       "      <td>5.59</td>\n",
       "      <td>5.6675</td>\n",
       "    </tr>\n",
       "  </tbody>\n",
       "</table>\n",
       "</div>"
      ],
      "text/plain": [
       "               sMAPE_rough  sMAPE_out  final_sMAPE\n",
       "lr_pipe               8.19       6.46       6.8925\n",
       "random_forest         7.34       6.77       6.9125\n",
       "catboost              5.90       5.59       5.6675"
      ]
     },
     "execution_count": 28,
     "metadata": {},
     "output_type": "execute_result"
    }
   ],
   "source": [
    "report_df = evaluate_and_report(report_df, cb_model, 'catboost')\n",
    "report_df"
   ]
  },
  {
   "cell_type": "code",
   "execution_count": 29,
   "metadata": {
    "ExecuteTime": {
     "end_time": "2022-05-28T22:33:09.510899Z",
     "start_time": "2022-05-28T22:33:09.494581Z"
    }
   },
   "outputs": [
    {
     "data": {
      "text/html": [
       "<div>\n",
       "<style scoped>\n",
       "    .dataframe tbody tr th:only-of-type {\n",
       "        vertical-align: middle;\n",
       "    }\n",
       "\n",
       "    .dataframe tbody tr th {\n",
       "        vertical-align: top;\n",
       "    }\n",
       "\n",
       "    .dataframe thead th {\n",
       "        text-align: right;\n",
       "    }\n",
       "</style>\n",
       "<table border=\"1\" class=\"dataframe\">\n",
       "  <thead>\n",
       "    <tr style=\"text-align: right;\">\n",
       "      <th></th>\n",
       "      <th>final_sMAPE</th>\n",
       "    </tr>\n",
       "  </thead>\n",
       "  <tbody>\n",
       "    <tr>\n",
       "      <th>catboost</th>\n",
       "      <td>5.6675</td>\n",
       "    </tr>\n",
       "    <tr>\n",
       "      <th>lr_pipe</th>\n",
       "      <td>6.8925</td>\n",
       "    </tr>\n",
       "    <tr>\n",
       "      <th>random_forest</th>\n",
       "      <td>6.9125</td>\n",
       "    </tr>\n",
       "  </tbody>\n",
       "</table>\n",
       "</div>"
      ],
      "text/plain": [
       "               final_sMAPE\n",
       "catboost            5.6675\n",
       "lr_pipe             6.8925\n",
       "random_forest       6.9125"
      ]
     },
     "execution_count": 29,
     "metadata": {},
     "output_type": "execute_result"
    }
   ],
   "source": [
    "report_df = report_df.sort_values(by='final_sMAPE')\n",
    "report_df[['final_sMAPE']]"
   ]
  },
  {
   "cell_type": "code",
   "execution_count": 34,
   "metadata": {
    "ExecuteTime": {
     "end_time": "2022-05-28T22:36:15.447584Z",
     "start_time": "2022-05-28T22:36:14.953388Z"
    }
   },
   "outputs": [
    {
     "data": {
      "image/png": "[encoded data removed]",
      "text/plain": [
       "<Figure size 1224x576 with 1 Axes>"
      ]
     },
     "metadata": {},
     "output_type": "display_data"
    }
   ],
   "source": [
    "sns.set_style(\"whitegrid\", {'grid.linestyle': '--'})\n",
    "plt.figure(figsize=(17,8))\n",
    "sns.barplot( x=report_df.index, y=report_df['final_sMAPE'])\n",
    "plt.title('final sMAPE comparison. less is better');"
   ]
  },
  {
   "cell_type": "markdown",
   "metadata": {},
   "source": [
    "## Вывод"
   ]
  },
  {
   "cell_type": "markdown",
   "metadata": {},
   "source": [
    "- Данные содержат пропуски, в реальной задаче было бы неплохо прояснить с заказчиком по какой причине они оказались в данных и можно ли эти данные всё же выгрузить.\n",
    "- При анализе данных существенных аномалий не обнаружено. С каждым этапом очистки средняя концентрация золота увеличивается.\n",
    "- Наша метрика - sMAPE, это функция ошибки, поэтому мы её минимизируем.\n",
    "- Наилучшим образом показал себя алгоритм CatBoost с метрикой final_sMAPE 5.66 на тестовой выборке после 3 фолдовой кросс-валидации. \n"
   ]
  },
  {
   "cell_type": "markdown",
   "metadata": {},
   "source": [
    "## Чек-лист готовности проекта"
   ]
  },
  {
   "cell_type": "markdown",
   "metadata": {},
   "source": [
    "- [x]  Jupyter Notebook открыт\n",
    "- [x]  Весь код выполняется без ошибок\n",
    "- [x]  Ячейки с кодом расположены в порядке выполнения\n",
    "- [x]  Выполнен шаг 1: данные подготовлены\n",
    "    - [x]  Проверена формула вычисления эффективности обогащения\n",
    "    - [x]  Проанализированы признаки, недоступные в тестовой выборке\n",
    "    - [x]  Проведена предобработка данных\n",
    "- [x]  Выполнен шаг 2: данные проанализированы\n",
    "    - [x]  Исследовано изменение концентрации элементов на каждом этапе\n",
    "    - [x]  Проанализированы распределения размеров гранул на обучающей и тестовой выборках\n",
    "    - [x]  Исследованы суммарные концентрации\n",
    "- [x]  Выполнен шаг 3: построена модель прогнозирования\n",
    "    - [x]  Написана функция для вычисления итогового *sMAPE*\n",
    "    - [x]  Обучено и проверено несколько моделей\n",
    "    - [x]  Выбрана лучшая модель, её качество проверено на тестовой выборке"
   ]
  }
 ],
 "metadata": {
  "ExecuteTimeLog": [
   {
    "duration": 423,
    "start_time": "2022-05-23T16:10:44.884Z"
   },
   {
    "duration": 989,
    "start_time": "2022-05-23T16:11:19.792Z"
   },
   {
    "duration": 1399,
    "start_time": "2022-05-23T16:11:59.349Z"
   },
   {
    "duration": 2800,
    "start_time": "2022-05-23T16:12:12.370Z"
   },
   {
    "duration": 38,
    "start_time": "2022-05-23T16:12:16.178Z"
   },
   {
    "duration": 2,
    "start_time": "2022-05-25T10:42:21.543Z"
   },
   {
    "duration": 731,
    "start_time": "2022-05-25T10:42:22.049Z"
   },
   {
    "duration": 9,
    "start_time": "2022-05-25T10:42:38.488Z"
   },
   {
    "duration": 12,
    "start_time": "2022-05-25T10:42:45.181Z"
   },
   {
    "duration": 8,
    "start_time": "2022-05-25T10:42:49.663Z"
   },
   {
    "duration": 7,
    "start_time": "2022-05-25T10:43:24.013Z"
   },
   {
    "duration": 5,
    "start_time": "2022-05-25T10:45:05.049Z"
   },
   {
    "duration": 15,
    "start_time": "2022-05-25T11:05:16.551Z"
   },
   {
    "duration": 3,
    "start_time": "2022-05-25T11:25:16.056Z"
   },
   {
    "duration": 3,
    "start_time": "2022-05-25T11:27:17.660Z"
   },
   {
    "duration": 156,
    "start_time": "2022-05-25T11:28:58.486Z"
   },
   {
    "duration": 4,
    "start_time": "2022-05-25T11:29:55.115Z"
   },
   {
    "duration": 6,
    "start_time": "2022-05-25T11:29:55.555Z"
   },
   {
    "duration": 50,
    "start_time": "2022-05-25T11:30:19.819Z"
   },
   {
    "duration": 604,
    "start_time": "2022-05-25T11:30:23.913Z"
   },
   {
    "duration": 7,
    "start_time": "2022-05-25T11:30:59.184Z"
   },
   {
    "duration": 7,
    "start_time": "2022-05-25T11:31:07.426Z"
   },
   {
    "duration": 3,
    "start_time": "2022-05-25T11:31:42.041Z"
   },
   {
    "duration": 7,
    "start_time": "2022-05-25T11:31:51.867Z"
   },
   {
    "duration": 5,
    "start_time": "2022-05-25T11:31:57.389Z"
   },
   {
    "duration": 4,
    "start_time": "2022-05-25T11:40:15.559Z"
   },
   {
    "duration": 5,
    "start_time": "2022-05-25T11:40:23.695Z"
   },
   {
    "duration": 4,
    "start_time": "2022-05-25T11:40:27.347Z"
   },
   {
    "duration": 4,
    "start_time": "2022-05-25T11:40:31.666Z"
   },
   {
    "duration": 4,
    "start_time": "2022-05-25T11:40:34.312Z"
   },
   {
    "duration": 3,
    "start_time": "2022-05-25T11:40:39.410Z"
   },
   {
    "duration": 5,
    "start_time": "2022-05-25T11:40:45.864Z"
   },
   {
    "duration": 4,
    "start_time": "2022-05-25T11:40:50.426Z"
   },
   {
    "duration": 10,
    "start_time": "2022-05-25T11:40:52.908Z"
   },
   {
    "duration": 5,
    "start_time": "2022-05-25T11:41:01.371Z"
   },
   {
    "duration": 490,
    "start_time": "2022-05-25T11:41:54.657Z"
   },
   {
    "duration": 82,
    "start_time": "2022-05-25T11:47:49.590Z"
   },
   {
    "duration": 9,
    "start_time": "2022-05-25T11:49:28.127Z"
   },
   {
    "duration": 564,
    "start_time": "2022-05-25T11:49:39.279Z"
   },
   {
    "duration": 4,
    "start_time": "2022-05-25T11:49:53.988Z"
   },
   {
    "duration": 4,
    "start_time": "2022-05-25T11:50:05.800Z"
   },
   {
    "duration": 4,
    "start_time": "2022-05-25T11:50:08.194Z"
   },
   {
    "duration": 4,
    "start_time": "2022-05-25T11:50:58.885Z"
   },
   {
    "duration": 8,
    "start_time": "2022-05-25T11:51:13.949Z"
   },
   {
    "duration": 4,
    "start_time": "2022-05-25T11:51:19.006Z"
   },
   {
    "duration": 3,
    "start_time": "2022-05-25T11:51:24.727Z"
   },
   {
    "duration": 61,
    "start_time": "2022-05-25T11:52:10.252Z"
   },
   {
    "duration": 6,
    "start_time": "2022-05-25T11:53:08.094Z"
   },
   {
    "duration": 29,
    "start_time": "2022-05-25T11:53:17.819Z"
   },
   {
    "duration": 5,
    "start_time": "2022-05-25T11:54:05.453Z"
   },
   {
    "duration": 17,
    "start_time": "2022-05-25T11:54:14.853Z"
   },
   {
    "duration": 191,
    "start_time": "2022-05-25T11:55:25.842Z"
   },
   {
    "duration": 1681,
    "start_time": "2022-05-27T16:26:58.774Z"
   },
   {
    "duration": 2299,
    "start_time": "2022-05-27T16:27:00.457Z"
   },
   {
    "duration": 23,
    "start_time": "2022-05-27T16:27:02.758Z"
   },
   {
    "duration": 4,
    "start_time": "2022-05-27T16:27:06.606Z"
   },
   {
    "duration": 101,
    "start_time": "2022-05-27T16:27:07.617Z"
   },
   {
    "duration": 7,
    "start_time": "2022-05-27T16:27:09.506Z"
   },
   {
    "duration": 15,
    "start_time": "2022-05-27T16:27:16.737Z"
   },
   {
    "duration": 253,
    "start_time": "2022-05-27T16:27:24.767Z"
   },
   {
    "duration": 9,
    "start_time": "2022-05-27T16:31:49.633Z"
   },
   {
    "duration": 9,
    "start_time": "2022-05-27T16:31:54.106Z"
   },
   {
    "duration": 599,
    "start_time": "2022-05-27T16:32:13.512Z"
   },
   {
    "duration": 19,
    "start_time": "2022-05-27T16:32:33.294Z"
   },
   {
    "duration": 10,
    "start_time": "2022-05-27T16:32:41.219Z"
   },
   {
    "duration": 21,
    "start_time": "2022-05-27T16:32:47.008Z"
   },
   {
    "duration": 21,
    "start_time": "2022-05-27T16:33:26.295Z"
   },
   {
    "duration": 9,
    "start_time": "2022-05-27T16:33:30.975Z"
   },
   {
    "duration": 10,
    "start_time": "2022-05-27T16:33:34.610Z"
   },
   {
    "duration": 10,
    "start_time": "2022-05-27T16:33:39.063Z"
   },
   {
    "duration": 10,
    "start_time": "2022-05-27T16:33:41.616Z"
   },
   {
    "duration": 9,
    "start_time": "2022-05-27T16:35:43.080Z"
   },
   {
    "duration": 156,
    "start_time": "2022-05-27T16:35:57.176Z"
   },
   {
    "duration": 9,
    "start_time": "2022-05-27T16:44:02.359Z"
   },
   {
    "duration": 10,
    "start_time": "2022-05-27T16:44:10.431Z"
   },
   {
    "duration": 12,
    "start_time": "2022-05-27T16:49:44.146Z"
   },
   {
    "duration": 10,
    "start_time": "2022-05-27T16:50:11.686Z"
   },
   {
    "duration": 8,
    "start_time": "2022-05-27T16:50:24.534Z"
   },
   {
    "duration": 8,
    "start_time": "2022-05-27T16:50:46.222Z"
   },
   {
    "duration": 5,
    "start_time": "2022-05-27T16:51:06.832Z"
   },
   {
    "duration": 10,
    "start_time": "2022-05-27T16:51:14.374Z"
   },
   {
    "duration": 6,
    "start_time": "2022-05-27T16:51:14.835Z"
   },
   {
    "duration": 12,
    "start_time": "2022-05-27T16:51:31.977Z"
   },
   {
    "duration": 5,
    "start_time": "2022-05-27T16:52:16.475Z"
   },
   {
    "duration": 10,
    "start_time": "2022-05-27T16:52:19.480Z"
   },
   {
    "duration": 11,
    "start_time": "2022-05-27T16:52:40.623Z"
   },
   {
    "duration": 10,
    "start_time": "2022-05-27T16:52:52.116Z"
   },
   {
    "duration": 8,
    "start_time": "2022-05-27T16:53:20.362Z"
   },
   {
    "duration": 8,
    "start_time": "2022-05-27T16:53:42.377Z"
   },
   {
    "duration": 16,
    "start_time": "2022-05-27T16:58:18.430Z"
   },
   {
    "duration": 12,
    "start_time": "2022-05-27T16:58:24.816Z"
   },
   {
    "duration": 16,
    "start_time": "2022-05-27T17:03:27.465Z"
   },
   {
    "duration": 10,
    "start_time": "2022-05-27T17:03:52.913Z"
   },
   {
    "duration": 11,
    "start_time": "2022-05-27T17:04:11.099Z"
   },
   {
    "duration": 141,
    "start_time": "2022-05-27T17:04:50.970Z"
   },
   {
    "duration": 149,
    "start_time": "2022-05-27T17:05:31.276Z"
   },
   {
    "duration": 33,
    "start_time": "2022-05-27T17:05:54.457Z"
   },
   {
    "duration": 203,
    "start_time": "2022-05-27T17:05:56.611Z"
   },
   {
    "duration": 253,
    "start_time": "2022-05-27T17:06:06.687Z"
   },
   {
    "duration": 65,
    "start_time": "2022-05-27T17:11:25.803Z"
   },
   {
    "duration": 10,
    "start_time": "2022-05-27T17:12:25.669Z"
   },
   {
    "duration": 10,
    "start_time": "2022-05-27T17:12:32.892Z"
   },
   {
    "duration": 5,
    "start_time": "2022-05-27T17:12:35.486Z"
   },
   {
    "duration": 6,
    "start_time": "2022-05-27T17:12:43.222Z"
   },
   {
    "duration": 11,
    "start_time": "2022-05-27T17:12:51.217Z"
   },
   {
    "duration": 106,
    "start_time": "2022-05-27T17:12:51.398Z"
   },
   {
    "duration": 38,
    "start_time": "2022-05-27T17:13:21.671Z"
   },
   {
    "duration": 1223,
    "start_time": "2022-05-27T17:16:27.667Z"
   },
   {
    "duration": 1931,
    "start_time": "2022-05-27T17:16:28.892Z"
   },
   {
    "duration": 17,
    "start_time": "2022-05-27T17:16:30.825Z"
   },
   {
    "duration": 76,
    "start_time": "2022-05-27T17:16:30.844Z"
   },
   {
    "duration": 21,
    "start_time": "2022-05-27T17:16:30.923Z"
   },
   {
    "duration": 13,
    "start_time": "2022-05-27T17:16:30.945Z"
   },
   {
    "duration": 32,
    "start_time": "2022-05-27T17:16:30.960Z"
   },
   {
    "duration": 7,
    "start_time": "2022-05-27T17:16:30.994Z"
   },
   {
    "duration": 23,
    "start_time": "2022-05-27T17:16:31.003Z"
   },
   {
    "duration": 14,
    "start_time": "2022-05-27T17:16:31.028Z"
   },
   {
    "duration": 8,
    "start_time": "2022-05-27T17:16:31.043Z"
   },
   {
    "duration": 1193,
    "start_time": "2022-05-27T17:19:05.297Z"
   },
   {
    "duration": 755,
    "start_time": "2022-05-27T17:19:06.492Z"
   },
   {
    "duration": 33,
    "start_time": "2022-05-27T17:19:07.250Z"
   },
   {
    "duration": 100,
    "start_time": "2022-05-27T17:19:07.296Z"
   },
   {
    "duration": 30,
    "start_time": "2022-05-27T17:19:07.399Z"
   },
   {
    "duration": 9,
    "start_time": "2022-05-27T17:19:07.433Z"
   },
   {
    "duration": 23,
    "start_time": "2022-05-27T17:19:07.444Z"
   },
   {
    "duration": 9,
    "start_time": "2022-05-27T17:19:07.469Z"
   },
   {
    "duration": 27,
    "start_time": "2022-05-27T17:19:07.480Z"
   },
   {
    "duration": 22,
    "start_time": "2022-05-27T17:19:07.510Z"
   },
   {
    "duration": 28,
    "start_time": "2022-05-27T17:19:07.534Z"
   },
   {
    "duration": 109,
    "start_time": "2022-05-27T17:19:07.564Z"
   },
   {
    "duration": 162,
    "start_time": "2022-05-27T17:19:35.440Z"
   },
   {
    "duration": 128,
    "start_time": "2022-05-27T17:19:48.885Z"
   },
   {
    "duration": 191,
    "start_time": "2022-05-27T17:20:31.559Z"
   },
   {
    "duration": 102,
    "start_time": "2022-05-27T17:20:40.694Z"
   },
   {
    "duration": 37,
    "start_time": "2022-05-27T17:20:53.093Z"
   },
   {
    "duration": 114,
    "start_time": "2022-05-27T17:20:58.415Z"
   },
   {
    "duration": 98,
    "start_time": "2022-05-27T17:21:04.589Z"
   },
   {
    "duration": 97,
    "start_time": "2022-05-27T17:21:10.357Z"
   },
   {
    "duration": 388,
    "start_time": "2022-05-27T17:22:36.347Z"
   },
   {
    "duration": 13,
    "start_time": "2022-05-27T17:24:58.605Z"
   },
   {
    "duration": 3,
    "start_time": "2022-05-27T17:25:13.153Z"
   },
   {
    "duration": 21,
    "start_time": "2022-05-27T17:25:19.542Z"
   },
   {
    "duration": 21,
    "start_time": "2022-05-27T17:25:31.122Z"
   },
   {
    "duration": 11,
    "start_time": "2022-05-27T17:27:26.360Z"
   },
   {
    "duration": 16,
    "start_time": "2022-05-27T17:27:29.544Z"
   },
   {
    "duration": 1415,
    "start_time": "2022-05-27T17:27:40.843Z"
   },
   {
    "duration": 911,
    "start_time": "2022-05-27T17:28:01.419Z"
   },
   {
    "duration": 1280,
    "start_time": "2022-05-27T17:29:56.352Z"
   },
   {
    "duration": 2693,
    "start_time": "2022-05-27T17:31:35.396Z"
   },
   {
    "duration": 2514,
    "start_time": "2022-05-27T17:32:33.722Z"
   },
   {
    "duration": 2889,
    "start_time": "2022-05-27T17:32:48.205Z"
   },
   {
    "duration": 831,
    "start_time": "2022-05-27T17:33:57.609Z"
   },
   {
    "duration": 821,
    "start_time": "2022-05-27T17:34:04.422Z"
   },
   {
    "duration": 859,
    "start_time": "2022-05-27T17:34:15.789Z"
   },
   {
    "duration": 19,
    "start_time": "2022-05-27T17:39:10.473Z"
   },
   {
    "duration": 189,
    "start_time": "2022-05-27T17:39:25.393Z"
   },
   {
    "duration": 205,
    "start_time": "2022-05-27T17:39:31.453Z"
   },
   {
    "duration": 162,
    "start_time": "2022-05-27T17:39:52.400Z"
   },
   {
    "duration": 168,
    "start_time": "2022-05-27T17:40:08.721Z"
   },
   {
    "duration": 685,
    "start_time": "2022-05-27T17:41:06.049Z"
   },
   {
    "duration": 1196,
    "start_time": "2022-05-27T17:41:13.917Z"
   },
   {
    "duration": 1227,
    "start_time": "2022-05-27T17:41:25.405Z"
   },
   {
    "duration": 1408,
    "start_time": "2022-05-27T17:41:38.007Z"
   },
   {
    "duration": 1464,
    "start_time": "2022-05-27T17:42:03.869Z"
   },
   {
    "duration": 1442,
    "start_time": "2022-05-27T17:42:42.351Z"
   },
   {
    "duration": 1995,
    "start_time": "2022-05-27T17:43:06.626Z"
   },
   {
    "duration": 1503,
    "start_time": "2022-05-27T17:43:27.624Z"
   },
   {
    "duration": 3826,
    "start_time": "2022-05-27T17:43:58.504Z"
   },
   {
    "duration": 4300,
    "start_time": "2022-05-27T17:44:09.962Z"
   },
   {
    "duration": 8242,
    "start_time": "2022-05-27T17:44:30.985Z"
   },
   {
    "duration": 8052,
    "start_time": "2022-05-27T17:45:31.331Z"
   },
   {
    "duration": 8038,
    "start_time": "2022-05-27T17:45:55.215Z"
   },
   {
    "duration": 11,
    "start_time": "2022-05-27T17:50:29.670Z"
   },
   {
    "duration": 506,
    "start_time": "2022-05-27T17:50:31.007Z"
   },
   {
    "duration": 13,
    "start_time": "2022-05-27T17:54:12.266Z"
   },
   {
    "duration": 7288,
    "start_time": "2022-05-27T17:54:25.322Z"
   },
   {
    "duration": 3,
    "start_time": "2022-05-27T17:54:50.791Z"
   },
   {
    "duration": 4,
    "start_time": "2022-05-27T17:54:57.011Z"
   },
   {
    "duration": 8092,
    "start_time": "2022-05-27T17:55:00.027Z"
   },
   {
    "duration": 7662,
    "start_time": "2022-05-27T17:55:27.674Z"
   },
   {
    "duration": 4,
    "start_time": "2022-05-27T17:56:11.514Z"
   },
   {
    "duration": 0,
    "start_time": "2022-05-27T17:56:40.551Z"
   },
   {
    "duration": 7926,
    "start_time": "2022-05-27T17:56:51.370Z"
   },
   {
    "duration": 10,
    "start_time": "2022-05-27T18:06:12.674Z"
   },
   {
    "duration": 42,
    "start_time": "2022-05-27T18:07:30.862Z"
   },
   {
    "duration": 4,
    "start_time": "2022-05-27T18:08:56.903Z"
   },
   {
    "duration": 16,
    "start_time": "2022-05-27T18:09:33.708Z"
   },
   {
    "duration": 4,
    "start_time": "2022-05-27T18:09:37.388Z"
   },
   {
    "duration": 51,
    "start_time": "2022-05-27T18:09:39.254Z"
   },
   {
    "duration": 57,
    "start_time": "2022-05-27T18:11:18.874Z"
   },
   {
    "duration": 21,
    "start_time": "2022-05-27T18:11:30.578Z"
   },
   {
    "duration": 534,
    "start_time": "2022-05-27T18:11:44.999Z"
   },
   {
    "duration": 450,
    "start_time": "2022-05-27T18:12:36.498Z"
   },
   {
    "duration": 4,
    "start_time": "2022-05-27T18:13:18.205Z"
   },
   {
    "duration": 749,
    "start_time": "2022-05-27T18:13:18.211Z"
   },
   {
    "duration": 19,
    "start_time": "2022-05-27T18:13:18.961Z"
   },
   {
    "duration": 4,
    "start_time": "2022-05-27T18:13:18.994Z"
   },
   {
    "duration": 24,
    "start_time": "2022-05-27T18:13:18.999Z"
   },
   {
    "duration": 6,
    "start_time": "2022-05-27T18:13:19.025Z"
   },
   {
    "duration": 28,
    "start_time": "2022-05-27T18:13:19.033Z"
   },
   {
    "duration": 8,
    "start_time": "2022-05-27T18:13:19.063Z"
   },
   {
    "duration": 533,
    "start_time": "2022-05-27T18:14:14.776Z"
   },
   {
    "duration": 49,
    "start_time": "2022-05-27T18:14:42.363Z"
   },
   {
    "duration": 3961,
    "start_time": "2022-05-27T18:14:59.561Z"
   },
   {
    "duration": 3790,
    "start_time": "2022-05-27T18:21:43.955Z"
   },
   {
    "duration": 3810,
    "start_time": "2022-05-27T18:22:20.194Z"
   },
   {
    "duration": 5,
    "start_time": "2022-05-27T18:22:24.009Z"
   },
   {
    "duration": 55,
    "start_time": "2022-05-27T18:22:57.605Z"
   },
   {
    "duration": 33,
    "start_time": "2022-05-27T18:23:02.781Z"
   },
   {
    "duration": 6,
    "start_time": "2022-05-27T18:31:47.648Z"
   },
   {
    "duration": 9,
    "start_time": "2022-05-27T18:31:58.756Z"
   },
   {
    "duration": 9,
    "start_time": "2022-05-27T18:32:13.173Z"
   },
   {
    "duration": 6,
    "start_time": "2022-05-27T18:32:27.663Z"
   },
   {
    "duration": 8,
    "start_time": "2022-05-27T18:33:08.615Z"
   },
   {
    "duration": 12,
    "start_time": "2022-05-27T18:33:08.974Z"
   },
   {
    "duration": 12,
    "start_time": "2022-05-27T18:33:09.476Z"
   },
   {
    "duration": 3915,
    "start_time": "2022-05-27T18:33:13.588Z"
   },
   {
    "duration": 47,
    "start_time": "2022-05-27T18:33:19.464Z"
   },
   {
    "duration": 5,
    "start_time": "2022-05-27T18:37:08.286Z"
   },
   {
    "duration": 5,
    "start_time": "2022-05-27T18:37:14.978Z"
   },
   {
    "duration": 6,
    "start_time": "2022-05-27T18:37:25.763Z"
   },
   {
    "duration": 32,
    "start_time": "2022-05-27T18:37:30.515Z"
   },
   {
    "duration": 6,
    "start_time": "2022-05-27T18:37:33.889Z"
   },
   {
    "duration": 4,
    "start_time": "2022-05-27T18:41:25.423Z"
   },
   {
    "duration": 41,
    "start_time": "2022-05-27T18:41:39.363Z"
   },
   {
    "duration": 42,
    "start_time": "2022-05-27T18:41:47.106Z"
   },
   {
    "duration": 4,
    "start_time": "2022-05-27T18:42:19.176Z"
   },
   {
    "duration": 43,
    "start_time": "2022-05-27T18:42:19.801Z"
   },
   {
    "duration": 4,
    "start_time": "2022-05-27T18:42:51.783Z"
   },
   {
    "duration": 31,
    "start_time": "2022-05-27T18:42:57.283Z"
   },
   {
    "duration": 32,
    "start_time": "2022-05-27T18:43:01.063Z"
   },
   {
    "duration": 31,
    "start_time": "2022-05-27T18:43:54.066Z"
   },
   {
    "duration": 1331,
    "start_time": "2022-05-27T18:44:39.894Z"
   },
   {
    "duration": 731,
    "start_time": "2022-05-27T18:44:41.227Z"
   },
   {
    "duration": 24,
    "start_time": "2022-05-27T18:44:41.960Z"
   },
   {
    "duration": 4,
    "start_time": "2022-05-27T18:44:41.995Z"
   },
   {
    "duration": 16,
    "start_time": "2022-05-27T18:44:42.002Z"
   },
   {
    "duration": 6,
    "start_time": "2022-05-27T18:44:42.020Z"
   },
   {
    "duration": 16,
    "start_time": "2022-05-27T18:44:42.028Z"
   },
   {
    "duration": 5,
    "start_time": "2022-05-27T18:44:42.046Z"
   },
   {
    "duration": 42,
    "start_time": "2022-05-27T18:44:42.053Z"
   },
   {
    "duration": 4,
    "start_time": "2022-05-27T18:44:42.097Z"
   },
   {
    "duration": 30,
    "start_time": "2022-05-27T18:44:42.102Z"
   },
   {
    "duration": 13,
    "start_time": "2022-05-27T18:44:42.134Z"
   },
   {
    "duration": 16,
    "start_time": "2022-05-27T18:44:42.149Z"
   },
   {
    "duration": 116,
    "start_time": "2022-05-27T18:50:06.199Z"
   },
   {
    "duration": 34,
    "start_time": "2022-05-27T18:50:17.308Z"
   },
   {
    "duration": 4,
    "start_time": "2022-05-27T18:50:58.102Z"
   },
   {
    "duration": 4,
    "start_time": "2022-05-27T18:51:41.820Z"
   },
   {
    "duration": 37,
    "start_time": "2022-05-27T18:51:44.028Z"
   },
   {
    "duration": 13,
    "start_time": "2022-05-27T18:51:47.401Z"
   },
   {
    "duration": 11,
    "start_time": "2022-05-27T18:51:53.383Z"
   },
   {
    "duration": 4081,
    "start_time": "2022-05-27T18:51:57.089Z"
   },
   {
    "duration": 32,
    "start_time": "2022-05-27T18:52:09.434Z"
   },
   {
    "duration": 5014,
    "start_time": "2022-05-27T18:53:32.389Z"
   },
   {
    "duration": 29,
    "start_time": "2022-05-27T18:53:37.972Z"
   },
   {
    "duration": 36,
    "start_time": "2022-05-27T18:54:19.177Z"
   },
   {
    "duration": 4,
    "start_time": "2022-05-27T18:55:25.187Z"
   },
   {
    "duration": 3,
    "start_time": "2022-05-27T18:55:36.914Z"
   },
   {
    "duration": 35,
    "start_time": "2022-05-27T18:56:14.602Z"
   },
   {
    "duration": 5,
    "start_time": "2022-05-27T19:01:35.409Z"
   },
   {
    "duration": 21,
    "start_time": "2022-05-27T19:01:41.905Z"
   },
   {
    "duration": 25,
    "start_time": "2022-05-27T19:02:16.203Z"
   },
   {
    "duration": 12,
    "start_time": "2022-05-27T19:03:01.419Z"
   },
   {
    "duration": 22,
    "start_time": "2022-05-27T19:03:22.835Z"
   },
   {
    "duration": 167,
    "start_time": "2022-05-27T19:03:56.808Z"
   },
   {
    "duration": 161,
    "start_time": "2022-05-27T19:05:35.797Z"
   },
   {
    "duration": 33,
    "start_time": "2022-05-27T19:05:55.602Z"
   },
   {
    "duration": 2175,
    "start_time": "2022-05-27T19:05:58.786Z"
   },
   {
    "duration": 157,
    "start_time": "2022-05-27T19:06:08.973Z"
   }
  ],
  "kernelspec": {
   "display_name": "Python 3 (ipykernel)",
   "language": "python",
   "name": "python3"
  },
  "language_info": {
   "codemirror_mode": {
    "name": "ipython",
    "version": 3
   },
   "file_extension": ".py",
   "mimetype": "text/x-python",
   "name": "python",
   "nbconvert_exporter": "python",
   "pygments_lexer": "ipython3",
   "version": "3.9.13"
  },
  "nbTranslate": {
   "displayLangs": [
    "*"
   ],
   "hotkey": "alt-t",
   "langInMainMenu": true,
   "sourceLang": "en",
   "targetLang": "fr",
   "useGoogleTranslate": true
  },
  "toc": {
   "base_numbering": 1,
   "nav_menu": {},
   "number_sections": true,
   "sideBar": true,
   "skip_h1_title": true,
   "title_cell": "Содержание",
   "title_sidebar": "Contents",
   "toc_cell": true,
   "toc_position": {
    "height": "calc(100% - 180px)",
    "left": "10px",
    "top": "150px",
    "width": "165px"
   },
   "toc_section_display": true,
   "toc_window_display": true
  },
  "varInspector": {
   "cols": {
    "lenName": 16,
    "lenType": 16,
    "lenVar": 40
   },
   "kernels_config": {
    "python": {
     "delete_cmd_postfix": "",
     "delete_cmd_prefix": "del ",
     "library": "var_list.py",
     "varRefreshCmd": "print(var_dic_list())"
    },
    "r": {
     "delete_cmd_postfix": ") ",
     "delete_cmd_prefix": "rm(",
     "library": "var_list.r",
     "varRefreshCmd": "cat(var_dic_list()) "
    }
   },
   "types_to_exclude": [
    "module",
    "function",
    "builtin_function_or_method",
    "instance",
    "_Feature"
   ],
   "window_display": false
  }
 },
 "nbformat": 4,
 "nbformat_minor": 2
}
