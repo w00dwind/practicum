{
 "cells": [
  {
   "cell_type": "markdown",
   "metadata": {
    "toc": true
   },
   "source": [
    "<h1>Содержание<span class=\"tocSkip\"></span></h1>\n",
    "<div class=\"toc\"><ul class=\"toc-item\"><li><span><a href=\"#Загрузка-данных\" data-toc-modified-id=\"Загрузка-данных-1\"><span class=\"toc-item-num\">1&nbsp;&nbsp;</span>Загрузка данных</a></span></li><li><span><a href=\"#Умножение-матриц\" data-toc-modified-id=\"Умножение-матриц-2\"><span class=\"toc-item-num\">2&nbsp;&nbsp;</span>Умножение матриц</a></span></li><li><span><a href=\"#Алгоритм-преобразования\" data-toc-modified-id=\"Алгоритм-преобразования-3\"><span class=\"toc-item-num\">3&nbsp;&nbsp;</span>Алгоритм преобразования</a></span><ul class=\"toc-item\"><li><span><a href=\"#Будем-использовать-шифр-Хилла.\" data-toc-modified-id=\"Будем-использовать-шифр-Хилла.-3.1\"><span class=\"toc-item-num\">3.1&nbsp;&nbsp;</span>Будем использовать шифр Хилла.</a></span></li></ul></li><li><span><a href=\"#Проверка-алгоритма\" data-toc-modified-id=\"Проверка-алгоритма-4\"><span class=\"toc-item-num\">4&nbsp;&nbsp;</span>Проверка алгоритма</a></span><ul class=\"toc-item\"><li><span><a href=\"#Признаки-умножают-на-обратимую-матрицу.-Изменится-ли-качество-линейной-регрессии?\" data-toc-modified-id=\"Признаки-умножают-на-обратимую-матрицу.-Изменится-ли-качество-линейной-регрессии?-4.1\"><span class=\"toc-item-num\">4.1&nbsp;&nbsp;</span>Признаки умножают на обратимую матрицу. Изменится ли качество линейной регрессии?</a></span></li></ul></li><li><span><a href=\"#Вывод\" data-toc-modified-id=\"Вывод-5\"><span class=\"toc-item-num\">5&nbsp;&nbsp;</span>Вывод</a></span></li></ul></div>"
   ]
  },
  {
   "cell_type": "markdown",
   "metadata": {},
   "source": [
    "# Защита персональных данных клиентов"
   ]
  },
  {
   "cell_type": "markdown",
   "metadata": {},
   "source": [
    "Вам нужно защитить данные клиентов страховой компании «Хоть потоп». Разработайте такой метод преобразования данных, чтобы по ним было сложно восстановить персональную информацию. Обоснуйте корректность его работы.\n",
    "\n",
    "Нужно защитить данные, чтобы при преобразовании качество моделей машинного обучения не ухудшилось. Подбирать наилучшую модель не требуется."
   ]
  },
  {
   "cell_type": "markdown",
   "metadata": {},
   "source": [
    "## Загрузка данных"
   ]
  },
  {
   "cell_type": "code",
   "execution_count": 1,
   "metadata": {
    "ExecuteTime": {
     "end_time": "2023-02-18T06:27:01.662397Z",
     "start_time": "2023-02-18T06:27:00.970001Z"
    }
   },
   "outputs": [],
   "source": [
    "import pandas as pd\n",
    "import numpy as np\n",
    "from sklearn.model_selection import train_test_split\n",
    "\n",
    "from sklearn.linear_model import LinearRegression\n",
    "\n",
    "from sklearn.metrics import r2_score, mean_squared_error\n",
    "\n",
    "SEED = 41"
   ]
  },
  {
   "cell_type": "code",
   "execution_count": 2,
   "metadata": {
    "ExecuteTime": {
     "end_time": "2023-02-18T06:27:01.675243Z",
     "start_time": "2023-02-18T06:27:01.668651Z"
    }
   },
   "outputs": [],
   "source": [
    "try:\n",
    "    df = pd.read_csv('../datasets/insurance.csv')\n",
    "except:\n",
    "    df = pd.read_csv('/datasets/insurance.csv')"
   ]
  },
  {
   "cell_type": "code",
   "execution_count": 4,
   "metadata": {
    "ExecuteTime": {
     "end_time": "2022-06-13T22:48:53.136359Z",
     "start_time": "2022-06-13T22:48:53.083394Z"
    }
   },
   "outputs": [
    {
     "name": "stdout",
     "output_type": "stream",
     "text": [
      "<class 'pandas.core.frame.DataFrame'>\n",
      "RangeIndex: 5000 entries, 0 to 4999\n",
      "Data columns (total 5 columns):\n",
      " #   Column             Non-Null Count  Dtype  \n",
      "---  ------             --------------  -----  \n",
      " 0   Пол                5000 non-null   int64  \n",
      " 1   Возраст            5000 non-null   float64\n",
      " 2   Зарплата           5000 non-null   float64\n",
      " 3   Члены семьи        5000 non-null   int64  \n",
      " 4   Страховые выплаты  5000 non-null   int64  \n",
      "dtypes: float64(2), int64(3)\n",
      "memory usage: 195.4 KB\n"
     ]
    }
   ],
   "source": [
    "df.info()"
   ]
  },
  {
   "cell_type": "code",
   "execution_count": 5,
   "metadata": {
    "ExecuteTime": {
     "end_time": "2022-06-13T22:48:53.240764Z",
     "start_time": "2022-06-13T22:48:53.143626Z"
    }
   },
   "outputs": [
    {
     "data": {
      "text/html": [
       "<div>\n",
       "<style scoped>\n",
       "    .dataframe tbody tr th:only-of-type {\n",
       "        vertical-align: middle;\n",
       "    }\n",
       "\n",
       "    .dataframe tbody tr th {\n",
       "        vertical-align: top;\n",
       "    }\n",
       "\n",
       "    .dataframe thead th {\n",
       "        text-align: right;\n",
       "    }\n",
       "</style>\n",
       "<table border=\"1\" class=\"dataframe\">\n",
       "  <thead>\n",
       "    <tr style=\"text-align: right;\">\n",
       "      <th></th>\n",
       "      <th>Пол</th>\n",
       "      <th>Возраст</th>\n",
       "      <th>Зарплата</th>\n",
       "      <th>Члены семьи</th>\n",
       "      <th>Страховые выплаты</th>\n",
       "    </tr>\n",
       "  </thead>\n",
       "  <tbody>\n",
       "    <tr>\n",
       "      <th>count</th>\n",
       "      <td>5000.000000</td>\n",
       "      <td>5000.000000</td>\n",
       "      <td>5000.000000</td>\n",
       "      <td>5000.000000</td>\n",
       "      <td>5000.000000</td>\n",
       "    </tr>\n",
       "    <tr>\n",
       "      <th>mean</th>\n",
       "      <td>0.499000</td>\n",
       "      <td>30.952800</td>\n",
       "      <td>39916.360000</td>\n",
       "      <td>1.194200</td>\n",
       "      <td>0.148000</td>\n",
       "    </tr>\n",
       "    <tr>\n",
       "      <th>std</th>\n",
       "      <td>0.500049</td>\n",
       "      <td>8.440807</td>\n",
       "      <td>9900.083569</td>\n",
       "      <td>1.091387</td>\n",
       "      <td>0.463183</td>\n",
       "    </tr>\n",
       "    <tr>\n",
       "      <th>min</th>\n",
       "      <td>0.000000</td>\n",
       "      <td>18.000000</td>\n",
       "      <td>5300.000000</td>\n",
       "      <td>0.000000</td>\n",
       "      <td>0.000000</td>\n",
       "    </tr>\n",
       "    <tr>\n",
       "      <th>25%</th>\n",
       "      <td>0.000000</td>\n",
       "      <td>24.000000</td>\n",
       "      <td>33300.000000</td>\n",
       "      <td>0.000000</td>\n",
       "      <td>0.000000</td>\n",
       "    </tr>\n",
       "    <tr>\n",
       "      <th>50%</th>\n",
       "      <td>0.000000</td>\n",
       "      <td>30.000000</td>\n",
       "      <td>40200.000000</td>\n",
       "      <td>1.000000</td>\n",
       "      <td>0.000000</td>\n",
       "    </tr>\n",
       "    <tr>\n",
       "      <th>75%</th>\n",
       "      <td>1.000000</td>\n",
       "      <td>37.000000</td>\n",
       "      <td>46600.000000</td>\n",
       "      <td>2.000000</td>\n",
       "      <td>0.000000</td>\n",
       "    </tr>\n",
       "    <tr>\n",
       "      <th>max</th>\n",
       "      <td>1.000000</td>\n",
       "      <td>65.000000</td>\n",
       "      <td>79000.000000</td>\n",
       "      <td>6.000000</td>\n",
       "      <td>5.000000</td>\n",
       "    </tr>\n",
       "  </tbody>\n",
       "</table>\n",
       "</div>"
      ],
      "text/plain": [
       "               Пол      Возраст      Зарплата  Члены семьи  Страховые выплаты\n",
       "count  5000.000000  5000.000000   5000.000000  5000.000000        5000.000000\n",
       "mean      0.499000    30.952800  39916.360000     1.194200           0.148000\n",
       "std       0.500049     8.440807   9900.083569     1.091387           0.463183\n",
       "min       0.000000    18.000000   5300.000000     0.000000           0.000000\n",
       "25%       0.000000    24.000000  33300.000000     0.000000           0.000000\n",
       "50%       0.000000    30.000000  40200.000000     1.000000           0.000000\n",
       "75%       1.000000    37.000000  46600.000000     2.000000           0.000000\n",
       "max       1.000000    65.000000  79000.000000     6.000000           5.000000"
      ]
     },
     "execution_count": 5,
     "metadata": {},
     "output_type": "execute_result"
    }
   ],
   "source": [
    "df.describe()"
   ]
  },
  {
   "cell_type": "markdown",
   "metadata": {},
   "source": [
    "## Умножение матриц"
   ]
  },
  {
   "cell_type": "markdown",
   "metadata": {},
   "source": [
    "Обозначения:\n",
    "\n",
    "- $X$ — матрица признаков (нулевой столбец состоит из единиц)\n",
    "\n",
    "- $y$ — вектор целевого признака\n",
    "\n",
    "- $P$ — матрица, на которую умножаются признаки\n",
    "\n",
    "- $w$ — вектор весов линейной регрессии (нулевой элемент равен сдвигу)"
   ]
  },
  {
   "cell_type": "markdown",
   "metadata": {},
   "source": [
    "Предсказания:\n",
    "\n",
    "$$\n",
    "a = Xw\n",
    "$$\n",
    "\n",
    "Задача обучения:\n",
    "\n",
    "$$\n",
    "w = \\arg\\min_w MSE(Xw, y)\n",
    "$$\n",
    "\n",
    "Формула обучения:\n",
    "\n",
    "$$\n",
    "w = (X^T X)^{-1} X^T y\n",
    "$$\n",
    "\n",
    "Умножим матрицу признаков на обратимую матрицу P\n",
    "\n",
    "$$\n",
    "a' = (XP)w'\n",
    "$$\n",
    "\n",
    "Тогда формула обучения:\n",
    "\n",
    "$$\n",
    "w' = ((XP)^T XP)^{-1} (XP)^T y = (P^T X^T X P)^{-1} P^T X^T y = P^{-1} (X^TX)^{-1} (P^T)^{-1} P^T X^T y \n",
    "$$\n",
    "- $(P^T)^{-1}P^T$ - сократятся. \n",
    "\n",
    "$$\n",
    "w' = P^{-1} (X^TX)^{-1} X^Ty\n",
    "$$\n",
    "тогда \n",
    "$$\n",
    "a' = (XP)P^{-1} (X^TX)^{-1} X^Ty = XPP^{-1} (X^TX)^{-1} X^Ty\n",
    "$$\n",
    "- $P P^{-1}$ - сократятся\n",
    "$$\n",
    "a' = X(X^TX)^{-1}X^Ty\n",
    "$$"
   ]
  },
  {
   "cell_type": "markdown",
   "metadata": {},
   "source": [
    "**Ответ:** Качество не изменится\n",
    "\n",
    "**Обоснование:** Мы сгенерировали матрицу из случайного распределения. При умножении признаки изменились, однако линейная взаимосвязь не исчезла, поэтому на качество модели это не повлияло. \n"
   ]
  },
  {
   "cell_type": "markdown",
   "metadata": {},
   "source": [
    "## Алгоритм преобразования"
   ]
  },
  {
   "cell_type": "markdown",
   "metadata": {},
   "source": [
    "###  Будем использовать шифр Хилла.\n",
    "- Создадим матрицу-ключ размера n на n, где n - ширина нашей матрицы признаков X\n",
    "- Проверим матрицу-ключ на обратимость.\n",
    "- Умножим матрицу признаков на матрицу-ключ \n",
    "- Проверим качество метрики R2 на незашифрованных данных\n",
    "- Проверим качество метрики R2 после умножения \n",
    "- Сравним получившиеся результаты."
   ]
  },
  {
   "cell_type": "markdown",
   "metadata": {},
   "source": [
    "**Итог** - данные расшифровываются с помощью обратной матрицы-ключа."
   ]
  },
  {
   "cell_type": "markdown",
   "metadata": {},
   "source": [
    "## Проверка алгоритма"
   ]
  },
  {
   "cell_type": "code",
   "execution_count": 6,
   "metadata": {
    "ExecuteTime": {
     "end_time": "2022-06-13T22:48:56.568541Z",
     "start_time": "2022-06-13T22:48:56.561372Z"
    }
   },
   "outputs": [],
   "source": [
    "# Функция для обучения и оценки.\n",
    "\n",
    "def fit_and_evaluate(features_train, target_train, features_test, target_test, \n",
    "                     multiply:bool=False, matrix_key=None, verbose:bool = False):\n",
    "    \n",
    "    model = LinearRegression() # Объявляем модель\n",
    "    \n",
    "    if multiply: # флаг, он позволит сравить результаты без умножения и с умножением\n",
    "        try:\n",
    "            np.linalg.inv(matrix_key)\n",
    "        except:\n",
    "            return  print(\"Переданная в функцию матрица необратима ! Передайте в функцию обратимую матрицу\")\n",
    "        features_train = features_train.values @ matrix_key # Умножаем признаки тренировочной выборки на созданную матрицу\n",
    "        features_test = features_test.values @ matrix_key # Умножаем признаки тестовой выборки \n",
    "    model.fit(features_train, target_train) # Обучаем модель\n",
    "    predictions = model.predict(features_test) # Делаем предсказания\n",
    "    \n",
    "    r2 = r2_score(target_test, predictions) # считаем  r2\n",
    "    mse = mean_squared_error(target_test, predictions) # считаем MSE\n",
    "    if verbose:\n",
    "        print('-'*80)\n",
    "        print(f'r2 score: {r2:.5}')\n",
    "        print(f'MSE: {mse:.5}')\n",
    "        print('-'*80)\n",
    "        \n",
    "    return features_train, features_test, predictions"
   ]
  },
  {
   "cell_type": "markdown",
   "metadata": {},
   "source": [
    "### Признаки умножают на обратимую матрицу. Изменится ли качество линейной регрессии?"
   ]
  },
  {
   "cell_type": "code",
   "execution_count": 7,
   "metadata": {
    "ExecuteTime": {
     "end_time": "2022-06-13T22:48:57.809676Z",
     "start_time": "2022-06-13T22:48:57.788784Z"
    }
   },
   "outputs": [],
   "source": [
    "# Разбиение данных\n",
    "X_train, X_test, y_train, y_test = train_test_split(\n",
    "    df.drop('Страховые выплаты', axis=1),\n",
    "    df['Страховые выплаты'],\n",
    "    test_size=.25,\n",
    "    random_state=SEED   \n",
    ")"
   ]
  },
  {
   "cell_type": "code",
   "execution_count": 8,
   "metadata": {
    "ExecuteTime": {
     "end_time": "2022-06-13T22:48:57.892768Z",
     "start_time": "2022-06-13T22:48:57.865904Z"
    }
   },
   "outputs": [
    {
     "name": "stdout",
     "output_type": "stream",
     "text": [
      "--------------------------------------------------------------------------------\n",
      "r2 score: 0.42603\n",
      "MSE: 0.11391\n",
      "--------------------------------------------------------------------------------\n"
     ]
    }
   ],
   "source": [
    "# Сначала смотрим на базовые метрики нашей выборки \n",
    "train, test, predictions = fit_and_evaluate(X_train, y_train, X_test, y_test, verbose=1)"
   ]
  },
  {
   "cell_type": "code",
   "execution_count": 9,
   "metadata": {
    "ExecuteTime": {
     "end_time": "2022-06-13T22:48:58.004019Z",
     "start_time": "2022-06-13T22:48:57.918723Z"
    }
   },
   "outputs": [
    {
     "name": "stdout",
     "output_type": "stream",
     "text": [
      "--------------------------------------------------------------------------------\n",
      "r2 score: 0.42603\n",
      "MSE: 0.11391\n",
      "--------------------------------------------------------------------------------\n"
     ]
    }
   ],
   "source": [
    "# Теперь умножаем на матрицу и сравниваем результаты \n",
    "matrix_key = np.random.normal(size=(4,4))\n",
    "train_encrypted, test_encrypted, predictions = fit_and_evaluate(X_train, y_train, X_test, y_test, verbose=True,\n",
    "                multiply=True, matrix_key=matrix_key)\n"
   ]
  },
  {
   "cell_type": "code",
   "execution_count": 10,
   "metadata": {
    "ExecuteTime": {
     "end_time": "2022-06-13T22:48:58.064496Z",
     "start_time": "2022-06-13T22:48:58.025309Z"
    }
   },
   "outputs": [
    {
     "data": {
      "text/html": [
       "<div>\n",
       "<style scoped>\n",
       "    .dataframe tbody tr th:only-of-type {\n",
       "        vertical-align: middle;\n",
       "    }\n",
       "\n",
       "    .dataframe tbody tr th {\n",
       "        vertical-align: top;\n",
       "    }\n",
       "\n",
       "    .dataframe thead th {\n",
       "        text-align: right;\n",
       "    }\n",
       "</style>\n",
       "<table border=\"1\" class=\"dataframe\">\n",
       "  <thead>\n",
       "    <tr style=\"text-align: right;\">\n",
       "      <th></th>\n",
       "      <th>Пол</th>\n",
       "      <th>Возраст</th>\n",
       "      <th>Зарплата</th>\n",
       "      <th>Члены семьи</th>\n",
       "    </tr>\n",
       "  </thead>\n",
       "  <tbody>\n",
       "    <tr>\n",
       "      <th>0</th>\n",
       "      <td>56657.247811</td>\n",
       "      <td>-46634.311210</td>\n",
       "      <td>64199.215341</td>\n",
       "      <td>-2436.465841</td>\n",
       "    </tr>\n",
       "    <tr>\n",
       "      <th>1</th>\n",
       "      <td>35613.509238</td>\n",
       "      <td>-29308.500921</td>\n",
       "      <td>40299.807842</td>\n",
       "      <td>-1510.748238</td>\n",
       "    </tr>\n",
       "    <tr>\n",
       "      <th>2</th>\n",
       "      <td>51534.797770</td>\n",
       "      <td>-42417.413413</td>\n",
       "      <td>58387.045037</td>\n",
       "      <td>-2213.279713</td>\n",
       "    </tr>\n",
       "    <tr>\n",
       "      <th>3</th>\n",
       "      <td>48900.144974</td>\n",
       "      <td>-40249.955877</td>\n",
       "      <td>55413.689535</td>\n",
       "      <td>-2104.763096</td>\n",
       "    </tr>\n",
       "    <tr>\n",
       "      <th>4</th>\n",
       "      <td>76183.667768</td>\n",
       "      <td>-62709.152150</td>\n",
       "      <td>86352.093081</td>\n",
       "      <td>-3287.857052</td>\n",
       "    </tr>\n",
       "  </tbody>\n",
       "</table>\n",
       "</div>"
      ],
      "text/plain": [
       "            Пол       Возраст      Зарплата  Члены семьи\n",
       "0  56657.247811 -46634.311210  64199.215341 -2436.465841\n",
       "1  35613.509238 -29308.500921  40299.807842 -1510.748238\n",
       "2  51534.797770 -42417.413413  58387.045037 -2213.279713\n",
       "3  48900.144974 -40249.955877  55413.689535 -2104.763096\n",
       "4  76183.667768 -62709.152150  86352.093081 -3287.857052"
      ]
     },
     "metadata": {},
     "output_type": "display_data"
    },
    {
     "data": {
      "text/html": [
       "<div>\n",
       "<style scoped>\n",
       "    .dataframe tbody tr th:only-of-type {\n",
       "        vertical-align: middle;\n",
       "    }\n",
       "\n",
       "    .dataframe tbody tr th {\n",
       "        vertical-align: top;\n",
       "    }\n",
       "\n",
       "    .dataframe thead th {\n",
       "        text-align: right;\n",
       "    }\n",
       "</style>\n",
       "<table border=\"1\" class=\"dataframe\">\n",
       "  <thead>\n",
       "    <tr style=\"text-align: right;\">\n",
       "      <th></th>\n",
       "      <th>Пол</th>\n",
       "      <th>Возраст</th>\n",
       "      <th>Зарплата</th>\n",
       "      <th>Члены семьи</th>\n",
       "    </tr>\n",
       "  </thead>\n",
       "  <tbody>\n",
       "    <tr>\n",
       "      <th>0</th>\n",
       "      <td>0</td>\n",
       "      <td>30</td>\n",
       "      <td>40900</td>\n",
       "      <td>0</td>\n",
       "    </tr>\n",
       "    <tr>\n",
       "      <th>1</th>\n",
       "      <td>0</td>\n",
       "      <td>34</td>\n",
       "      <td>25699</td>\n",
       "      <td>0</td>\n",
       "    </tr>\n",
       "    <tr>\n",
       "      <th>2</th>\n",
       "      <td>1</td>\n",
       "      <td>28</td>\n",
       "      <td>37199</td>\n",
       "      <td>0</td>\n",
       "    </tr>\n",
       "    <tr>\n",
       "      <th>3</th>\n",
       "      <td>0</td>\n",
       "      <td>24</td>\n",
       "      <td>35300</td>\n",
       "      <td>1</td>\n",
       "    </tr>\n",
       "    <tr>\n",
       "      <th>4</th>\n",
       "      <td>0</td>\n",
       "      <td>31</td>\n",
       "      <td>55000</td>\n",
       "      <td>2</td>\n",
       "    </tr>\n",
       "  </tbody>\n",
       "</table>\n",
       "</div>"
      ],
      "text/plain": [
       "   Пол  Возраст  Зарплата  Члены семьи\n",
       "0    0       30     40900            0\n",
       "1    0       34     25699            0\n",
       "2    1       28     37199            0\n",
       "3    0       24     35300            1\n",
       "4    0       31     55000            2"
      ]
     },
     "execution_count": 10,
     "metadata": {},
     "output_type": "execute_result"
    }
   ],
   "source": [
    "# Убедимся, что алгоритм дешифровки работает корректно. \n",
    "display(pd.DataFrame(train_encrypted, columns = X_train.columns).head(5))\n",
    "pd.DataFrame(train_encrypted @ np.linalg.inv(matrix_key), \n",
    "             columns = X_train.columns).astype(int).head(5)"
   ]
  },
  {
   "cell_type": "markdown",
   "metadata": {},
   "source": [
    "## Вывод"
   ]
  },
  {
   "cell_type": "markdown",
   "metadata": {},
   "source": [
    "- На вход нам подаются данные клиентов страховой компании. Данные не имеют существенных аномалий и выбросов, не требуют предобработки\n",
    "- Мы доказали математически, что качество линейной регрессии не меняется при умножении признаков на обратимую матрицу. \n",
    "- Далее мы доказали это на примере. \n",
    "- Используя шифр Хилла мы закодировали данные с помощью матрицы-ключа. \n",
    "- В последнем пункте мы расшифровали закодированные данные с помощью обратной матрицы-ключа, убедились в корректной работе алгоритма. \n"
   ]
  },
  {
   "cell_type": "code",
   "execution_count": null,
   "metadata": {},
   "outputs": [],
   "source": []
  }
 ],
 "metadata": {
  "ExecuteTimeLog": [
   {
    "duration": 1128,
    "start_time": "2022-06-12T13:53:15.615Z"
   },
   {
    "duration": 100,
    "start_time": "2022-06-12T13:53:16.745Z"
   },
   {
    "duration": 20,
    "start_time": "2022-06-12T13:53:16.847Z"
   },
   {
    "duration": 5,
    "start_time": "2022-06-12T13:53:16.870Z"
   },
   {
    "duration": 10,
    "start_time": "2022-06-12T13:53:16.877Z"
   },
   {
    "duration": 18,
    "start_time": "2022-06-12T13:53:16.889Z"
   },
   {
    "duration": 11,
    "start_time": "2022-06-12T13:53:16.909Z"
   },
   {
    "duration": 12,
    "start_time": "2022-06-12T13:53:16.922Z"
   },
   {
    "duration": 28,
    "start_time": "2022-06-12T13:53:16.936Z"
   },
   {
    "duration": 68,
    "start_time": "2022-06-12T13:53:16.967Z"
   },
   {
    "duration": 94,
    "start_time": "2022-06-12T13:53:17.038Z"
   },
   {
    "duration": 10,
    "start_time": "2022-06-12T13:53:17.134Z"
   },
   {
    "duration": 11,
    "start_time": "2022-06-12T13:53:17.146Z"
   },
   {
    "duration": 9,
    "start_time": "2022-06-12T13:53:17.159Z"
   },
   {
    "duration": 997,
    "start_time": "2022-06-13T12:59:29.541Z"
   },
   {
    "duration": 92,
    "start_time": "2022-06-13T12:59:30.540Z"
   },
   {
    "duration": 19,
    "start_time": "2022-06-13T12:59:30.633Z"
   },
   {
    "duration": 34,
    "start_time": "2022-06-13T12:59:30.654Z"
   },
   {
    "duration": 34,
    "start_time": "2022-06-13T12:59:30.690Z"
   },
   {
    "duration": 40,
    "start_time": "2022-06-13T12:59:30.725Z"
   },
   {
    "duration": 42,
    "start_time": "2022-06-13T12:59:30.768Z"
   },
   {
    "duration": 73,
    "start_time": "2022-06-13T12:59:30.812Z"
   },
   {
    "duration": 9,
    "start_time": "2022-06-13T12:59:30.887Z"
   },
   {
    "duration": 79,
    "start_time": "2022-06-13T12:59:30.899Z"
   },
   {
    "duration": 7,
    "start_time": "2022-06-13T13:02:19.165Z"
   }
  ],
  "kernelspec": {
   "display_name": "Python 3 (ipykernel)",
   "language": "python",
   "name": "python3"
  },
  "language_info": {
   "codemirror_mode": {
    "name": "ipython",
    "version": 3
   },
   "file_extension": ".py",
   "mimetype": "text/x-python",
   "name": "python",
   "nbconvert_exporter": "python",
   "pygments_lexer": "ipython3",
   "version": "3.9.13"
  },
  "nbTranslate": {
   "displayLangs": [
    "*"
   ],
   "hotkey": "alt-t",
   "langInMainMenu": true,
   "sourceLang": "en",
   "targetLang": "fr",
   "useGoogleTranslate": true
  },
  "toc": {
   "base_numbering": 1,
   "nav_menu": {},
   "number_sections": true,
   "sideBar": true,
   "skip_h1_title": true,
   "title_cell": "Содержание",
   "title_sidebar": "Contents",
   "toc_cell": true,
   "toc_position": {
    "height": "calc(100% - 180px)",
    "left": "10px",
    "top": "150px",
    "width": "165px"
   },
   "toc_section_display": true,
   "toc_window_display": true
  },
  "varInspector": {
   "cols": {
    "lenName": 16,
    "lenType": 16,
    "lenVar": 40
   },
   "kernels_config": {
    "python": {
     "delete_cmd_postfix": "",
     "delete_cmd_prefix": "del ",
     "library": "var_list.py",
     "varRefreshCmd": "print(var_dic_list())"
    },
    "r": {
     "delete_cmd_postfix": ") ",
     "delete_cmd_prefix": "rm(",
     "library": "var_list.r",
     "varRefreshCmd": "cat(var_dic_list()) "
    }
   },
   "types_to_exclude": [
    "module",
    "function",
    "builtin_function_or_method",
    "instance",
    "_Feature"
   ],
   "window_display": false
  }
 },
 "nbformat": 4,
 "nbformat_minor": 2
}
